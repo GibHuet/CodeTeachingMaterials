{
 "cells": [
  {
   "cell_type": "markdown",
   "source": "## Exercises: Using Python as a calculator\n\nUsing the operators in the table below, ask Python to solve these difficult math equations:\n\n|Assign to a Variable, | | Add,  | Subract, | Multiply, | Divide, | Power, | Integer Divide, | Remainder after Division | \n|  :---------------:  | :-: |:---:| :-----: | :------: | :----: | :---: | :------------: | :----------------------: |\n|         =           | | +   |    -    |    *     |   /    |   **  |       //       |           %              |",
   "metadata": {
    "slideshow": {
     "slide_type": "slide"
    },
    "cell_id": "00001-28a130e7-03d1-4df5-aafc-5389add56fb3",
    "deepnote_cell_type": "markdown"
   }
  },
  {
   "cell_type": "markdown",
   "source": "1. What is two plus three?",
   "metadata": {
    "slideshow": {
     "slide_type": "subslide"
    },
    "cell_id": "00002-c9c2e749-28f5-4625-8619-46b9a359ffbe",
    "deepnote_cell_type": "markdown"
   }
  },
  {
   "cell_type": "code",
   "metadata": {
    "cell_id": "00003-0e53eb7a-7ebd-4c2e-893c-8b23a9857a1b",
    "deepnote_to_be_reexecuted": false,
    "source_hash": "619fab48",
    "execution_start": 1628676485443,
    "execution_millis": 5,
    "deepnote_cell_type": "code"
   },
   "source": "2 + 3",
   "execution_count": null,
   "outputs": [
    {
     "output_type": "execute_result",
     "execution_count": 2,
     "data": {
      "text/plain": "5"
     },
     "metadata": {}
    }
   ]
  },
  {
   "cell_type": "markdown",
   "source": "2. What is two times three? Hi!",
   "metadata": {
    "slideshow": {
     "slide_type": "fragment"
    },
    "cell_id": "00004-9ec7ee51-60cf-4628-9b6d-470c372c8d8b",
    "deepnote_cell_type": "markdown"
   }
  },
  {
   "cell_type": "code",
   "metadata": {
    "cell_id": "00005-84ecdc27-da88-47b3-9d92-ba4304899c99",
    "deepnote_to_be_reexecuted": false,
    "source_hash": "3380e881",
    "execution_start": 1628676535816,
    "execution_millis": 8,
    "deepnote_cell_type": "code"
   },
   "source": "2 * 3",
   "execution_count": null,
   "outputs": [
    {
     "output_type": "execute_result",
     "execution_count": 4,
     "data": {
      "text/plain": "6"
     },
     "metadata": {}
    }
   ]
  },
  {
   "cell_type": "markdown",
   "source": "3. What is two to the third power?",
   "metadata": {
    "slideshow": {
     "slide_type": "fragment"
    },
    "cell_id": "00006-2032879a-1cfe-4b45-9aa8-5142eddf6c29",
    "deepnote_cell_type": "markdown"
   }
  },
  {
   "cell_type": "code",
   "metadata": {
    "cell_id": "00007-a424d9fa-c8f8-4e71-b54b-6c19b808c0d4",
    "deepnote_to_be_reexecuted": false,
    "source_hash": "9a930071",
    "execution_start": 1628676549218,
    "execution_millis": 6,
    "deepnote_cell_type": "code"
   },
   "source": "2 ** 3",
   "execution_count": null,
   "outputs": [
    {
     "output_type": "execute_result",
     "execution_count": 5,
     "data": {
      "text/plain": "8"
     },
     "metadata": {}
    }
   ]
  },
  {
   "cell_type": "markdown",
   "source": "3.5 How many (whole) times does 7 go into 100?",
   "metadata": {
    "slideshow": {
     "slide_type": "subslide"
    },
    "cell_id": "00008-2a3f8a83-bd1b-4dac-99e1-1462b4ad495c",
    "deepnote_cell_type": "markdown"
   }
  },
  {
   "cell_type": "code",
   "metadata": {
    "cell_id": "00009-da5e527b-c9d9-4152-9754-9b8e5266aa38",
    "deepnote_to_be_reexecuted": false,
    "source_hash": "fbf46bc3",
    "execution_start": 1628676580555,
    "execution_millis": 7,
    "deepnote_cell_type": "code"
   },
   "source": "100 // 7",
   "execution_count": null,
   "outputs": [
    {
     "output_type": "execute_result",
     "execution_count": 8,
     "data": {
      "text/plain": "14"
     },
     "metadata": {}
    }
   ]
  },
  {
   "cell_type": "markdown",
   "source": "4. What is the remainder after dividing 3 from 2?",
   "metadata": {
    "cell_id": "00010-284670ab-2bfa-486f-b01f-f8c0618137b0",
    "deepnote_cell_type": "markdown"
   }
  },
  {
   "cell_type": "code",
   "metadata": {
    "cell_id": "00011-728d2f0f-c91b-407e-ba7e-c206fb9d1eb2",
    "deepnote_to_be_reexecuted": false,
    "source_hash": "fdb883b5",
    "execution_start": 1628676625295,
    "execution_millis": 2,
    "deepnote_cell_type": "code"
   },
   "source": "100 % 7",
   "execution_count": null,
   "outputs": [
    {
     "output_type": "execute_result",
     "execution_count": 12,
     "data": {
      "text/plain": "2"
     },
     "metadata": {}
    }
   ]
  },
  {
   "cell_type": "markdown",
   "source": "# Testing Your Logic\n## Bools\n\nYou can also ask Python logical questions (questions that have a \"True\" or \"False\" answer). \n\n| \"Is Equal to\" | \"Is Greater than\" | \"Is Greater than or Equal to\"|  \"Is not Equal to\" |\n|  :----------: |  :----------:     |  :----------: |  :----------: |\n| ==            |   >               |   >=          |  !=  |\n\nPython will return \"True\" if the statement is true, \"False\" if False\n\n```python\n>>> 3 > 2\nTrue\n\n>>> 3 < 2\nFalse\n\n>>> 3 == 2\nFalse\n```\n\nUsing logical operators, decide if the following assertions are True or False:",
   "metadata": {
    "slideshow": {
     "slide_type": "slide"
    },
    "cell_id": "00012-d09cf09b-b483-4171-8b15-a7250f17bc0c",
    "deepnote_cell_type": "markdown"
   }
  },
  {
   "cell_type": "markdown",
   "source": "1. One hundred is bigger than ten.",
   "metadata": {
    "slideshow": {
     "slide_type": "subslide"
    },
    "cell_id": "00013-9c8f1603-b872-44f4-8c3e-0a84cf5c33e5",
    "deepnote_cell_type": "markdown"
   }
  },
  {
   "cell_type": "code",
   "metadata": {
    "cell_id": "00014-c1c7ccca-d6f8-4966-a012-474215312418",
    "deepnote_to_be_reexecuted": false,
    "source_hash": "f271e650",
    "execution_start": 1628676648066,
    "execution_millis": 9,
    "deepnote_cell_type": "code"
   },
   "source": "100 > 10",
   "execution_count": null,
   "outputs": [
    {
     "output_type": "execute_result",
     "execution_count": 13,
     "data": {
      "text/plain": "True"
     },
     "metadata": {}
    }
   ]
  },
  {
   "cell_type": "markdown",
   "source": "2. Thirty squared is not equal to nine-hundred.",
   "metadata": {
    "slideshow": {
     "slide_type": "fragment"
    },
    "cell_id": "00015-4ac39b09-79ce-454c-a8be-b9ad3c774659",
    "deepnote_cell_type": "markdown"
   }
  },
  {
   "cell_type": "code",
   "metadata": {
    "cell_id": "00016-4dde3318-22af-4e78-a3f5-0ca5d58c4272",
    "deepnote_to_be_reexecuted": false,
    "source_hash": "cf99265",
    "execution_start": 1628676857783,
    "execution_millis": 9,
    "deepnote_cell_type": "code"
   },
   "source": "30 ** 2 != 900\n30**2!=900\n\n30 ** 2 != 900",
   "execution_count": null,
   "outputs": [
    {
     "output_type": "execute_result",
     "execution_count": 19,
     "data": {
      "text/plain": "False"
     },
     "metadata": {}
    }
   ]
  },
  {
   "cell_type": "code",
   "metadata": {
    "tags": [],
    "cell_id": "00016-05daf028-a30f-4969-8102-7f614bfdf71e",
    "deepnote_to_be_reexecuted": false,
    "source_hash": "c37a12a4",
    "execution_start": 1628676833765,
    "execution_millis": 8,
    "deepnote_cell_type": "code"
   },
   "source": "(3 + 5) * 2",
   "execution_count": null,
   "outputs": [
    {
     "output_type": "execute_result",
     "execution_count": 18,
     "data": {
      "text/plain": "16"
     },
     "metadata": {}
    }
   ]
  },
  {
   "cell_type": "markdown",
   "source": "3. These two equations are equal:  \n  - 30 - 5 * 2\n  - 100 / 5",
   "metadata": {
    "slideshow": {
     "slide_type": "fragment"
    },
    "cell_id": "00017-4fbe8086-3459-4f76-810c-048ca023bb56",
    "deepnote_cell_type": "markdown"
   }
  },
  {
   "cell_type": "code",
   "metadata": {
    "cell_id": "00018-c70f5f0f-dd74-40e2-8b98-df27c94ff0fa",
    "deepnote_to_be_reexecuted": false,
    "source_hash": "39158234",
    "execution_start": 1628676933966,
    "execution_millis": 18,
    "deepnote_cell_type": "code"
   },
   "source": "((30 - 5) * 2) == 100 / 5",
   "execution_count": null,
   "outputs": [
    {
     "output_type": "execute_result",
     "execution_count": 23,
     "data": {
      "text/plain": "False"
     },
     "metadata": {}
    }
   ]
  },
  {
   "cell_type": "markdown",
   "source": "4. The sum of the numbers from 1 to 5 are at least 15.",
   "metadata": {
    "slideshow": {
     "slide_type": "subslide"
    },
    "cell_id": "00019-a653bbe8-c3af-4de3-bea9-d95af7584599",
    "deepnote_cell_type": "markdown"
   }
  },
  {
   "cell_type": "code",
   "metadata": {
    "cell_id": "00020-70b0484e-db88-43f9-99ac-e7083f44c96e",
    "deepnote_to_be_reexecuted": false,
    "source_hash": "f7ebb3c1",
    "execution_start": 1628677067644,
    "execution_millis": 6,
    "deepnote_cell_type": "code"
   },
   "source": "1 + 2 + 3 + 4 + 5 >= 15",
   "execution_count": null,
   "outputs": [
    {
     "output_type": "execute_result",
     "execution_count": 25,
     "data": {
      "text/plain": "True"
     },
     "metadata": {}
    }
   ]
  },
  {
   "cell_type": "code",
   "metadata": {
    "tags": [],
    "cell_id": "00021-631fad0b-83c2-4155-b27b-d2b3d7910e37",
    "deepnote_to_be_reexecuted": false,
    "source_hash": "95f01277",
    "execution_start": 1628677167042,
    "execution_millis": 34,
    "deepnote_cell_type": "code"
   },
   "source": "sum([1, 2, 3, 4, 5])",
   "execution_count": null,
   "outputs": [
    {
     "output_type": "execute_result",
     "execution_count": 30,
     "data": {
      "text/plain": "15"
     },
     "metadata": {}
    }
   ]
  },
  {
   "cell_type": "code",
   "metadata": {
    "tags": [],
    "cell_id": "00022-20a5d6c6-0fcf-4d5c-ac72-4f23ab11259b",
    "deepnote_to_be_reexecuted": false,
    "source_hash": "e81a1307",
    "execution_start": 1628677192087,
    "execution_millis": 9,
    "deepnote_cell_type": "code"
   },
   "source": "sum(range(1, 1000000))",
   "execution_count": null,
   "outputs": [
    {
     "output_type": "execute_result",
     "execution_count": 34,
     "data": {
      "text/plain": "499999500000"
     },
     "metadata": {}
    }
   ]
  },
  {
   "cell_type": "markdown",
   "source": "## Python as an Ecosystem of Functions\n\nThere are millions of functions that can be used in Python.  To access them, you first have to **import** their **packages/modules**.  Then you can specify the functions inside the packages using the following syntax:\n\n```python\nimport package\noutput = package.function(input)\n```\n\nTo get a list of functions in a package, try using the **dir()** function or press the <TAB> key after the dot (autocompletion feature). .  To learn what the function does, try the **help()** function or put a question mark after the function name.\n\n```python\nimport math\ndir(math)\nhelp(math.sqrt)\nmath.sqrt?\n```\n",
   "metadata": {
    "slideshow": {
     "slide_type": "slide"
    },
    "cell_id": "00021-ec33bbc4-4134-46c3-9541-d70fa290a2f4",
    "deepnote_cell_type": "markdown"
   }
  },
  {
   "cell_type": "markdown",
   "source": "Let's try out the built-in **math** package to do some calculating!",
   "metadata": {
    "slideshow": {
     "slide_type": "subslide"
    },
    "cell_id": "00022-81ff59f4-7a41-4d35-a1ea-47e9e16decf4",
    "deepnote_cell_type": "markdown"
   }
  },
  {
   "cell_type": "markdown",
   "source": "What is the square root of 72?",
   "metadata": {
    "slideshow": {
     "slide_type": "subslide"
    },
    "cell_id": "00023-e44ccead-5df4-4dc1-8efc-30260b0a60d1",
    "deepnote_cell_type": "markdown"
   }
  },
  {
   "cell_type": "code",
   "metadata": {
    "tags": [],
    "cell_id": "00026-54b4dbdb-1840-4ccf-adda-0c578f8ac4c6",
    "deepnote_to_be_reexecuted": false,
    "source_hash": "8b4a2089",
    "execution_start": 1635931862414,
    "execution_millis": 214,
    "deepnote_cell_type": "code"
   },
   "source": "\"That is Nick's turtle\"\n'Nick said, \"Python is cool!\"'",
   "execution_count": null,
   "outputs": [
    {
     "output_type": "error",
     "ename": "SyntaxError",
     "evalue": "invalid syntax (<ipython-input-17-a1afdde64a47>, line 1)",
     "traceback": [
      "\u001b[0;36m  File \u001b[0;32m\"<ipython-input-17-a1afdde64a47>\"\u001b[0;36m, line \u001b[0;32m1\u001b[0m\n\u001b[0;31m    'That is Nick's turtle'\u001b[0m\n\u001b[0m                  ^\u001b[0m\n\u001b[0;31mSyntaxError\u001b[0m\u001b[0;31m:\u001b[0m invalid syntax\n"
     ]
    }
   ]
  },
  {
   "cell_type": "code",
   "metadata": {
    "tags": [],
    "cell_id": "00027-f7e10bef-9f53-45d9-b60d-c319006be3fa",
    "deepnote_to_be_reexecuted": false,
    "source_hash": "f87418da",
    "execution_start": 1635932115643,
    "execution_millis": 9,
    "deepnote_cell_type": "code"
   },
   "source": "min((1, 2, 3, 4))",
   "execution_count": null,
   "outputs": [
    {
     "output_type": "execute_result",
     "execution_count": 22,
     "data": {
      "text/plain": "1"
     },
     "metadata": {}
    }
   ]
  },
  {
   "cell_type": "code",
   "metadata": {
    "tags": [],
    "cell_id": "00028-e7967d64-7b9d-424f-ac36-00ee9ff13a83",
    "deepnote_to_be_reexecuted": false,
    "source_hash": "8ab3428f",
    "execution_start": 1635932500749,
    "execution_millis": 11,
    "deepnote_cell_type": "code"
   },
   "source": "type([1, 2, 3]), type((1, 2, 3)), type({1, 2, 3}), type({1:2, 3:3})\n",
   "execution_count": null,
   "outputs": [
    {
     "output_type": "execute_result",
     "execution_count": 35,
     "data": {
      "text/plain": "(list, tuple, set, dict)"
     },
     "metadata": {}
    }
   ]
  },
  {
   "cell_type": "code",
   "metadata": {
    "tags": [],
    "cell_id": "00029-c779c5d1-4d53-45f0-9e3e-e64eea116b90",
    "deepnote_to_be_reexecuted": false,
    "source_hash": "2854890",
    "execution_start": 1635932702481,
    "execution_millis": 3,
    "deepnote_cell_type": "code"
   },
   "source": "{5, 2, 5, 4, 6}",
   "execution_count": null,
   "outputs": [
    {
     "output_type": "execute_result",
     "execution_count": 39,
     "data": {
      "text/plain": "{2, 4, 5, 6}"
     },
     "metadata": {}
    }
   ]
  },
  {
   "cell_type": "code",
   "metadata": {
    "tags": [],
    "cell_id": "00028-906bde80-a227-4396-9b8e-5aec0ccb8035",
    "deepnote_to_be_reexecuted": false,
    "source_hash": "9883dc18",
    "execution_start": 1635932344870,
    "execution_millis": 1,
    "deepnote_cell_type": "code"
   },
   "source": "data = 3\ndata(4)",
   "execution_count": null,
   "outputs": [
    {
     "output_type": "error",
     "ename": "TypeError",
     "evalue": "'int' object is not callable",
     "traceback": [
      "\u001b[0;31m---------------------------------------------------------------------------\u001b[0m",
      "\u001b[0;31mTypeError\u001b[0m                                 Traceback (most recent call last)",
      "\u001b[0;32m<ipython-input-27-878932934587>\u001b[0m in \u001b[0;36m<module>\u001b[0;34m\u001b[0m\n\u001b[1;32m      1\u001b[0m \u001b[0mdata\u001b[0m \u001b[0;34m=\u001b[0m \u001b[0;36m3\u001b[0m\u001b[0;34m\u001b[0m\u001b[0;34m\u001b[0m\u001b[0m\n\u001b[0;32m----> 2\u001b[0;31m \u001b[0mdata\u001b[0m\u001b[0;34m(\u001b[0m\u001b[0;36m4\u001b[0m\u001b[0;34m)\u001b[0m\u001b[0;34m\u001b[0m\u001b[0;34m\u001b[0m\u001b[0m\n\u001b[0m",
      "\u001b[0;31mTypeError\u001b[0m: 'int' object is not callable"
     ]
    }
   ]
  },
  {
   "cell_type": "code",
   "metadata": {
    "tags": [],
    "cell_id": "00029-4252c696-9bde-48c7-a6bc-f074d76b9c4d",
    "deepnote_to_be_reexecuted": false,
    "source_hash": "e4d592fe",
    "execution_start": 1635932361186,
    "execution_millis": 35,
    "deepnote_cell_type": "code"
   },
   "source": "data[4]",
   "execution_count": null,
   "outputs": [
    {
     "output_type": "error",
     "ename": "TypeError",
     "evalue": "'int' object is not subscriptable",
     "traceback": [
      "\u001b[0;31m---------------------------------------------------------------------------\u001b[0m",
      "\u001b[0;31mTypeError\u001b[0m                                 Traceback (most recent call last)",
      "\u001b[0;32m<ipython-input-28-38679d5bb23a>\u001b[0m in \u001b[0;36m<module>\u001b[0;34m\u001b[0m\n\u001b[0;32m----> 1\u001b[0;31m \u001b[0mdata\u001b[0m\u001b[0;34m[\u001b[0m\u001b[0;36m4\u001b[0m\u001b[0;34m]\u001b[0m\u001b[0;34m\u001b[0m\u001b[0;34m\u001b[0m\u001b[0m\n\u001b[0m",
      "\u001b[0;31mTypeError\u001b[0m: 'int' object is not subscriptable"
     ]
    }
   ]
  },
  {
   "cell_type": "code",
   "metadata": {
    "tags": [],
    "cell_id": "00028-452c94af-f416-46ea-a312-b30edd6aa411",
    "deepnote_to_be_reexecuted": false,
    "source_hash": "1f07b936",
    "execution_start": 1635932217910,
    "execution_millis": 11,
    "deepnote_cell_type": "code"
   },
   "source": "min[]",
   "execution_count": null,
   "outputs": [
    {
     "output_type": "error",
     "ename": "SyntaxError",
     "evalue": "invalid syntax (<ipython-input-24-d5b5432675f6>, line 1)",
     "traceback": [
      "\u001b[0;36m  File \u001b[0;32m\"<ipython-input-24-d5b5432675f6>\"\u001b[0;36m, line \u001b[0;32m1\u001b[0m\n\u001b[0;31m    min[]\u001b[0m\n\u001b[0m        ^\u001b[0m\n\u001b[0;31mSyntaxError\u001b[0m\u001b[0;31m:\u001b[0m invalid syntax\n"
     ]
    }
   ]
  },
  {
   "cell_type": "code",
   "metadata": {
    "cell_id": "00024-09b6899e-2d35-4552-a068-ecb36d09c5db",
    "deepnote_to_be_reexecuted": false,
    "source_hash": "b623e53d",
    "execution_start": 1635878484626,
    "execution_millis": 7200121188,
    "deepnote_cell_type": "code"
   },
   "source": "(): \"brackets\", \"parenthases\"\n[]: \"square brackets\"\n{}: \"curly braces\"\n\"\": \"double quotes\"\n'': \"single quotes\"",
   "execution_count": 0,
   "outputs": []
  },
  {
   "cell_type": "markdown",
   "source": "What is the log of 20?",
   "metadata": {
    "cell_id": "00025-1075efa5-3145-4887-82fc-eb1ebb98d12d",
    "deepnote_cell_type": "markdown"
   }
  },
  {
   "cell_type": "code",
   "metadata": {
    "cell_id": "00026-233cd08d-3448-43b7-bbd4-163f3f835b53",
    "deepnote_to_be_reexecuted": false,
    "source_hash": "83e28255",
    "execution_start": 1628677826851,
    "execution_millis": 7,
    "deepnote_cell_type": "code"
   },
   "source": "",
   "execution_count": null,
   "outputs": [
    {
     "output_type": "execute_result",
     "execution_count": 46,
     "data": {
      "text/plain": "2.995732273553991"
     },
     "metadata": {}
    }
   ]
  },
  {
   "cell_type": "markdown",
   "source": "What is pi?",
   "metadata": {
    "slideshow": {
     "slide_type": "fragment"
    },
    "cell_id": "00027-84030e28-f2ee-4fee-9934-4238ae86d600",
    "deepnote_cell_type": "markdown"
   }
  },
  {
   "cell_type": "code",
   "metadata": {
    "cell_id": "00028-d8d0e6ef-394c-4fb2-a125-5a717992b0f8",
    "deepnote_to_be_reexecuted": false,
    "source_hash": "481ebdf8",
    "execution_start": 1628677859761,
    "execution_millis": 9,
    "deepnote_cell_type": "code"
   },
   "source": "",
   "execution_count": null,
   "outputs": [
    {
     "output_type": "execute_result",
     "execution_count": 49,
     "data": {
      "text/plain": "3.141592653589793"
     },
     "metadata": {}
    }
   ]
  },
  {
   "cell_type": "markdown",
   "source": "What how many radians are in 360 degrees?",
   "metadata": {
    "slideshow": {
     "slide_type": "fragment"
    },
    "cell_id": "00029-a29c14dd-4cf6-4c4d-abd9-295302417766",
    "deepnote_cell_type": "markdown"
   }
  },
  {
   "cell_type": "code",
   "metadata": {
    "cell_id": "00030-6bc09dc0-c01f-48a7-a0c2-3accc661139f",
    "deepnote_to_be_reexecuted": false,
    "source_hash": "cd0b159",
    "execution_start": 1628678356879,
    "execution_millis": 83,
    "deepnote_cell_type": "code"
   },
   "source": "",
   "execution_count": null,
   "outputs": [
    {
     "output_type": "error",
     "ename": "NameError",
     "evalue": "name 'math' is not defined",
     "traceback": [
      "\u001b[0;31m---------------------------------------------------------------------------\u001b[0m",
      "\u001b[0;31mNameError\u001b[0m                                 Traceback (most recent call last)",
      "\u001b[0;32m/tmp/ipykernel_718/90029404.py\u001b[0m in \u001b[0;36m<module>\u001b[0;34m\u001b[0m\n\u001b[0;32m----> 1\u001b[0;31m \u001b[0mmath\u001b[0m\u001b[0;34m.\u001b[0m\u001b[0mradians\u001b[0m\u001b[0;34m(\u001b[0m\u001b[0;36m360\u001b[0m\u001b[0;34m)\u001b[0m\u001b[0;34m\u001b[0m\u001b[0;34m\u001b[0m\u001b[0m\n\u001b[0m",
      "\u001b[0;31mNameError\u001b[0m: name 'math' is not defined"
     ]
    }
   ]
  },
  {
   "cell_type": "markdown",
   "source": "What is the cosine of pi?",
   "metadata": {
    "cell_id": "00031-ee66e71a-3c6a-4fd5-8718-51163e0b3bd9",
    "deepnote_cell_type": "markdown"
   }
  },
  {
   "cell_type": "code",
   "metadata": {
    "cell_id": "00032-1e2d86fc-e334-45d2-9dba-8ea9332b9a9a",
    "deepnote_cell_type": "code"
   },
   "source": "",
   "execution_count": null,
   "outputs": []
  },
  {
   "cell_type": "markdown",
   "source": "What is the sine of pi?",
   "metadata": {
    "cell_id": "00033-1b212b8d-f850-4c57-b29b-6073e806e8b1",
    "deepnote_cell_type": "markdown"
   }
  },
  {
   "cell_type": "code",
   "metadata": {
    "tags": [],
    "cell_id": "00036-1cfe901f-5d78-484a-9e96-311616015145",
    "deepnote_to_be_reexecuted": false,
    "source_hash": "318c99db",
    "execution_start": 1628677752873,
    "execution_millis": 13,
    "deepnote_cell_type": "code"
   },
   "source": "",
   "execution_count": null,
   "outputs": [
    {
     "output_type": "error",
     "ename": "ZeroDivisionError",
     "evalue": "division by zero",
     "traceback": [
      "\u001b[0;31m---------------------------------------------------------------------------\u001b[0m",
      "\u001b[0;31mZeroDivisionError\u001b[0m                         Traceback (most recent call last)",
      "\u001b[0;32m/tmp/ipykernel_74/3039867184.py\u001b[0m in \u001b[0;36m<module>\u001b[0;34m\u001b[0m\n\u001b[0;32m----> 1\u001b[0;31m \u001b[0;36m100\u001b[0m \u001b[0;34m/\u001b[0m \u001b[0;36m0\u001b[0m\u001b[0;34m\u001b[0m\u001b[0;34m\u001b[0m\u001b[0m\n\u001b[0m",
      "\u001b[0;31mZeroDivisionError\u001b[0m: division by zero"
     ]
    }
   ]
  },
  {
   "cell_type": "code",
   "metadata": {
    "tags": [],
    "cell_id": "00037-cbfe91a6-af19-441f-8421-3a62625eeae9",
    "deepnote_to_be_reexecuted": false,
    "source_hash": "e084bb5",
    "execution_start": 1628677794018,
    "execution_millis": 8,
    "deepnote_cell_type": "code"
   },
   "source": "",
   "execution_count": null,
   "outputs": [
    {
     "output_type": "execute_result",
     "execution_count": 44,
     "data": {
      "text/plain": "0.30000000000000004"
     },
     "metadata": {}
    }
   ]
  },
  {
   "cell_type": "code",
   "metadata": {
    "cell_id": "00034-56a01d13-eb39-4724-9e73-b575b26076f6",
    "deepnote_to_be_reexecuted": false,
    "source_hash": "71180be0",
    "execution_start": 1628677732559,
    "execution_millis": 5,
    "deepnote_cell_type": "code"
   },
   "source": "",
   "execution_count": null,
   "outputs": [
    {
     "output_type": "execute_result",
     "execution_count": 41,
     "data": {
      "text/plain": "8.165619676597684e+17"
     },
     "metadata": {}
    }
   ]
  },
  {
   "cell_type": "code",
   "metadata": {
    "tags": [],
    "cell_id": "00037-e940038f-2505-4d42-adaf-a2b4377fcd85",
    "deepnote_to_be_reexecuted": false,
    "source_hash": "ef5bf28d",
    "execution_start": 1628677558380,
    "execution_millis": 22,
    "deepnote_cell_type": "code"
   },
   "source": "",
   "execution_count": null,
   "outputs": [
    {
     "output_type": "execute_result",
     "execution_count": 40,
     "data": {
      "text/plain": "18446744073709551616"
     },
     "metadata": {}
    }
   ]
  },
  {
   "cell_type": "markdown",
   "source": "Pyton has a reputation for being \"batteries included\", meaning it has a big standard library.  Look for names of some more built-in packages online! \n\n**Exercise**: Import three different built-in packages that are listed in the documentation for the Python Standard Library: https://docs.python.org/3/library/index.html",
   "metadata": {
    "slideshow": {
     "slide_type": "fragment"
    },
    "cell_id": "00035-5e89f835-3c45-46ed-a591-acd1921040ce",
    "deepnote_cell_type": "markdown"
   }
  },
  {
   "cell_type": "code",
   "metadata": {
    "tags": [],
    "cell_id": "00041-9c82bd76-e63f-4b0b-b7ca-3aafa9afa46f",
    "deepnote_to_be_reexecuted": false,
    "source_hash": "30ce0cc9",
    "execution_start": 1635931042762,
    "execution_millis": 7,
    "deepnote_cell_type": "code"
   },
   "source": "data = 3",
   "execution_count": null,
   "outputs": []
  },
  {
   "cell_type": "code",
   "metadata": {
    "tags": [],
    "cell_id": "00042-ffcb3e88-5be5-41f5-97f0-80fc089f6730",
    "deepnote_to_be_reexecuted": false,
    "source_hash": "b623e53d",
    "execution_start": 1635931332456,
    "execution_millis": 1,
    "deepnote_cell_type": "code"
   },
   "source": "",
   "execution_count": null,
   "outputs": []
  },
  {
   "cell_type": "code",
   "metadata": {
    "cell_id": "00036-ec26cdef-be82-4033-b990-59ded6a41a1c",
    "deepnote_to_be_reexecuted": false,
    "source_hash": "4e8264ae",
    "execution_start": 1635931348056,
    "execution_millis": 2,
    "deepnote_cell_type": "code"
   },
   "source": "import numpy",
   "execution_count": null,
   "outputs": []
  },
  {
   "cell_type": "code",
   "metadata": {
    "cell_id": "00037-e5b0dfc1-a7df-48fd-ae8b-ad74c83a6ae4",
    "deepnote_to_be_reexecuted": false,
    "source_hash": "4c11c44a",
    "execution_start": 1635931367909,
    "execution_millis": 3,
    "deepnote_cell_type": "code"
   },
   "source": "my data is awesome\n  # syntax involves getting information order, symbols, words",
   "execution_count": null,
   "outputs": [
    {
     "output_type": "error",
     "ename": "SyntaxError",
     "evalue": "invalid syntax (<ipython-input-16-30a1c6cfe62c>, line 1)",
     "traceback": [
      "\u001b[0;36m  File \u001b[0;32m\"<ipython-input-16-30a1c6cfe62c>\"\u001b[0;36m, line \u001b[0;32m1\u001b[0m\n\u001b[0;31m    my data is awesome\u001b[0m\n\u001b[0m          ^\u001b[0m\n\u001b[0;31mSyntaxError\u001b[0m\u001b[0;31m:\u001b[0m invalid syntax\n"
     ]
    }
   ]
  },
  {
   "cell_type": "code",
   "metadata": {
    "tags": [],
    "cell_id": "00045-c5e42048-3bb0-4bcd-8e9b-bea55428a6ff",
    "deepnote_cell_type": "code"
   },
   "source": "import class is not or and def for if \n3 3.1 \"hi\" 'hi'",
   "execution_count": null,
   "outputs": []
  },
  {
   "cell_type": "code",
   "metadata": {
    "cell_id": "00038-d724abc2-e04b-4f39-9e70-332d84da164c",
    "deepnote_to_be_reexecuted": false,
    "source_hash": "b623e53d",
    "execution_start": 1635878492148,
    "execution_millis": 1,
    "deepnote_cell_type": "code"
   },
   "source": "",
   "execution_count": null,
   "outputs": []
  },
  {
   "cell_type": "markdown",
   "source": "## Aggregating Your Collections into Single Values (Descriptive Statistics)\n\nPython can use named **functions** that turn data into something else.  By doing this repeatedly, in sequence, we can build data processing pipelines!\n\nFunctions in Python have the following syntax:\n\n```\noutput = function(input)\n```\n\nFirst, let's look at some **built-in** functions to get a sense of how they work:  **min()**, **max()**, **sum()**, and **len()**:\n\n*Note*: You don't type the three arrows at the beginning of the line, they are only to show where people type code in.\n\n```python\n>>> min([1, 2, 3, 2])\n1\n\n>>> max([1, 2, 3, 2])\n3\n\n>>> sum([1, 2, 3, 2])\n8\n\n>>> len([1, 2, 3, 2])\n4\n```",
   "metadata": {
    "slideshow": {
     "slide_type": "slide"
    },
    "cell_id": "00039-3b855857-7bdd-4a2d-ae82-390416fe17bd",
    "deepnote_cell_type": "markdown"
   }
  },
  {
   "cell_type": "markdown",
   "source": "### Exercises: \nEdit the following lines of Python to calculat the answer to the question given, say out loud what you expect Python's answe be, then run the code to see if you were correct!",
   "metadata": {
    "slideshow": {
     "slide_type": "subslide"
    },
    "cell_id": "00040-12287fb2-904e-42e3-9a2a-e9680f1d07ad",
    "deepnote_cell_type": "markdown"
   }
  },
  {
   "cell_type": "markdown",
   "source": "The minimum of this list of numbers:",
   "metadata": {
    "tags": [],
    "cell_id": "00041-1533959b-237b-41b7-bc59-c44fe3fd9003",
    "deepnote_to_be_reexecuted": false,
    "source_hash": "1b63e249",
    "execution_start": 1628634580749,
    "execution_millis": 6,
    "deepnote_cell_type": "markdown"
   }
  },
  {
   "cell_type": "code",
   "metadata": {
    "slideshow": {
     "slide_type": "fragment"
    },
    "cell_id": "00041-3f2ee283-34d1-4550-8977-05021a8340f4",
    "deepnote_cell_type": "code"
   },
   "source": "[3, 6, 5, 2]",
   "execution_count": null,
   "outputs": []
  },
  {
   "cell_type": "markdown",
   "source": "The maximum of this list of numbers:",
   "metadata": {
    "cell_id": "00042-17ae09dd-7130-479d-805a-e67ff1b4c903",
    "deepnote_cell_type": "markdown"
   }
  },
  {
   "cell_type": "code",
   "metadata": {
    "slideshow": {
     "slide_type": "fragment"
    },
    "cell_id": "00043-650b63d0-77de-4645-b4b8-e613d50dde97",
    "deepnote_cell_type": "code"
   },
   "source": "[3, 6, 5, 2]",
   "execution_count": null,
   "outputs": []
  },
  {
   "cell_type": "markdown",
   "source": "The maximum of this list of numbers:",
   "metadata": {
    "cell_id": "00044-afd677dd-d8e4-4996-aecf-c43effcc020b",
    "deepnote_cell_type": "markdown"
   }
  },
  {
   "cell_type": "code",
   "metadata": {
    "slideshow": {
     "slide_type": "fragment"
    },
    "cell_id": "00045-56f488be-58b3-475a-a223-0fe9dce31dc2",
    "deepnote_cell_type": "code"
   },
   "source": "[1, 2, 3, 4, 5, 6]",
   "execution_count": null,
   "outputs": []
  },
  {
   "cell_type": "markdown",
   "source": "The length of this list of numbers:",
   "metadata": {
    "cell_id": "00046-667446a0-6554-4498-bdc9-6fe31e883d66",
    "deepnote_cell_type": "markdown"
   }
  },
  {
   "cell_type": "code",
   "metadata": {
    "slideshow": {
     "slide_type": "subslide"
    },
    "cell_id": "00047-42a04f05-4540-4c6e-a8c9-e3ce92bfc467",
    "deepnote_cell_type": "code"
   },
   "source": "[3, 4, 5, 5, 4]",
   "execution_count": null,
   "outputs": []
  },
  {
   "cell_type": "markdown",
   "source": "The sum of this list of numbers:",
   "metadata": {
    "cell_id": "00048-bb460f0a-b1ba-47d4-b4c0-321d72654e80",
    "deepnote_cell_type": "markdown"
   }
  },
  {
   "cell_type": "code",
   "metadata": {
    "cell_id": "00049-c322d1e1-7268-4624-b6a3-cadc680548f3",
    "deepnote_cell_type": "code"
   },
   "source": "[1, 2, 5, 6]",
   "execution_count": null,
   "outputs": []
  },
  {
   "cell_type": "markdown",
   "source": "**Group Discussion**: What should Python return when the code below is run?",
   "metadata": {
    "cell_id": "00050-bca7fe15-8d47-4942-b6a5-a5d667665638",
    "deepnote_cell_type": "markdown"
   }
  },
  {
   "cell_type": "markdown",
   "source": "```python\nmax([min([1, 2]), max([3, 4, 5])])\n```",
   "metadata": {
    "slideshow": {
     "slide_type": "fragment"
    },
    "cell_id": "00051-ef1c50ff-2fa2-4d8d-ba08-25eb86636708",
    "deepnote_cell_type": "markdown"
   }
  },
  {
   "cell_type": "markdown",
   "source": "```python\nmin([max((2, 4, 1)), len((2, 4, 1)), min(2, 4, 1)])\n```",
   "metadata": {
    "slideshow": {
     "slide_type": "subslide"
    },
    "cell_id": "00053-26cde287-a574-4268-83e3-68234f13b557",
    "deepnote_cell_type": "markdown"
   }
  },
  {
   "cell_type": "markdown",
   "source": "```python\nlen([max((2, 4, 1)), sum((2, 4, 1)), min(2, 4, 1)])\n```",
   "metadata": {
    "cell_id": "00054-c7b60842-f714-4a2f-b58b-4bfcf6cfe333",
    "deepnote_cell_type": "markdown"
   }
  },
  {
   "cell_type": "markdown",
   "source": "```python\nsum([max((2, 4, 1)), len((2, 4, 1)), min(2, 4, 1)])\n```",
   "metadata": {
    "tags": [],
    "cell_id": "00055-b7d851ba-1f6f-47da-b704-cc6c19a61258",
    "deepnote_cell_type": "markdown"
   }
  },
  {
   "cell_type": "markdown",
   "source": "",
   "metadata": {
    "tags": [],
    "cell_id": "00056-53cfc737-632d-4601-9426-35060c0c1329",
    "deepnote_cell_type": "markdown"
   }
  },
  {
   "cell_type": "markdown",
   "source": "Questions we have:\n\n  - Brackets?  ***\n    - What's the difference between (), [], {}?  \n    - Why are there sometimes double brackets?  ([]), (())\n    - Why does it sometimes (not) matter?  What's up with them curly braces?\n  - Importing Packages\n    - Weird, We have to say the name when using them!\n    - pip?  Do I need it, how do I use it?\n    - Weird, Capital letters matter!\n",
   "metadata": {
    "tags": [],
    "cell_id": "00062-d8bf13fb-c754-4a3d-bc7d-bb6db032d267",
    "deepnote_cell_type": "markdown"
   }
  },
  {
   "cell_type": "markdown",
   "source": "<a style='text-decoration:none;line-height:16px;display:flex;color:#5B5B62;padding:10px;justify-content:end;' href='https://deepnote.com?utm_source=created-in-deepnote-cell&projectId=5f82c9ae-724d-4175-af3a-f3de86574cfe' target=\"_blank\">\n<img alt='Created in deepnote.com' style='display:inline;max-height:16px;margin:0px;margin-right:7.5px;' src='data:image/svg+xml;base64,PD94bWwgdmVyc2lvbj0iMS4wIiBlbmNvZGluZz0iVVRGLTgiPz4KPHN2ZyB3aWR0aD0iODBweCIgaGVpZ2h0PSI4MHB4IiB2aWV3Qm94PSIwIDAgODAgODAiIHZlcnNpb249IjEuMSIgeG1sbnM9Imh0dHA6Ly93d3cudzMub3JnLzIwMDAvc3ZnIiB4bWxuczp4bGluaz0iaHR0cDovL3d3dy53My5vcmcvMTk5OS94bGluayI+CiAgICA8IS0tIEdlbmVyYXRvcjogU2tldGNoIDU0LjEgKDc2NDkwKSAtIGh0dHBzOi8vc2tldGNoYXBwLmNvbSAtLT4KICAgIDx0aXRsZT5Hcm91cCAzPC90aXRsZT4KICAgIDxkZXNjPkNyZWF0ZWQgd2l0aCBTa2V0Y2guPC9kZXNjPgogICAgPGcgaWQ9IkxhbmRpbmciIHN0cm9rZT0ibm9uZSIgc3Ryb2tlLXdpZHRoPSIxIiBmaWxsPSJub25lIiBmaWxsLXJ1bGU9ImV2ZW5vZGQiPgogICAgICAgIDxnIGlkPSJBcnRib2FyZCIgdHJhbnNmb3JtPSJ0cmFuc2xhdGUoLTEyMzUuMDAwMDAwLCAtNzkuMDAwMDAwKSI+CiAgICAgICAgICAgIDxnIGlkPSJHcm91cC0zIiB0cmFuc2Zvcm09InRyYW5zbGF0ZSgxMjM1LjAwMDAwMCwgNzkuMDAwMDAwKSI+CiAgICAgICAgICAgICAgICA8cG9seWdvbiBpZD0iUGF0aC0yMCIgZmlsbD0iIzAyNjVCNCIgcG9pbnRzPSIyLjM3NjIzNzYyIDgwIDM4LjA0NzY2NjcgODAgNTcuODIxNzgyMiA3My44MDU3NTkyIDU3LjgyMTc4MjIgMzIuNzU5MjczOSAzOS4xNDAyMjc4IDMxLjY4MzE2ODMiPjwvcG9seWdvbj4KICAgICAgICAgICAgICAgIDxwYXRoIGQ9Ik0zNS4wMDc3MTgsODAgQzQyLjkwNjIwMDcsNzYuNDU0OTM1OCA0Ny41NjQ5MTY3LDcxLjU0MjI2NzEgNDguOTgzODY2LDY1LjI2MTk5MzkgQzUxLjExMjI4OTksNTUuODQxNTg0MiA0MS42NzcxNzk1LDQ5LjIxMjIyODQgMjUuNjIzOTg0Niw0OS4yMTIyMjg0IEMyNS40ODQ5Mjg5LDQ5LjEyNjg0NDggMjkuODI2MTI5Niw0My4yODM4MjQ4IDM4LjY0NzU4NjksMzEuNjgzMTY4MyBMNzIuODcxMjg3MSwzMi41NTQ0MjUgTDY1LjI4MDk3Myw2Ny42NzYzNDIxIEw1MS4xMTIyODk5LDc3LjM3NjE0NCBMMzUuMDA3NzE4LDgwIFoiIGlkPSJQYXRoLTIyIiBmaWxsPSIjMDAyODY4Ij48L3BhdGg+CiAgICAgICAgICAgICAgICA8cGF0aCBkPSJNMCwzNy43MzA0NDA1IEwyNy4xMTQ1MzcsMC4yNTcxMTE0MzYgQzYyLjM3MTUxMjMsLTEuOTkwNzE3MDEgODAsMTAuNTAwMzkyNyA4MCwzNy43MzA0NDA1IEM4MCw2NC45NjA0ODgyIDY0Ljc3NjUwMzgsNzkuMDUwMzQxNCAzNC4zMjk1MTEzLDgwIEM0Ny4wNTUzNDg5LDc3LjU2NzA4MDggNTMuNDE4MjY3Nyw3MC4zMTM2MTAzIDUzLjQxODI2NzcsNTguMjM5NTg4NSBDNTMuNDE4MjY3Nyw0MC4xMjg1NTU3IDM2LjMwMzk1NDQsMzcuNzMwNDQwNSAyNS4yMjc0MTcsMzcuNzMwNDQwNSBDMTcuODQzMDU4NiwzNy43MzA0NDA1IDkuNDMzOTE5NjYsMzcuNzMwNDQwNSAwLDM3LjczMDQ0MDUgWiIgaWQ9IlBhdGgtMTkiIGZpbGw9IiMzNzkzRUYiPjwvcGF0aD4KICAgICAgICAgICAgPC9nPgogICAgICAgIDwvZz4KICAgIDwvZz4KPC9zdmc+' > </img>\nCreated in <span style='font-weight:600;margin-left:4px;'>Deepnote</span></a>",
   "metadata": {
    "tags": [],
    "created_in_deepnote_cell": true,
    "deepnote_cell_type": "markdown"
   }
  }
 ],
 "nbformat": 4,
 "nbformat_minor": 5,
 "metadata": {
  "kernelspec": {
   "display_name": "Python 3",
   "language": "python",
   "name": "python3"
  },
  "language_info": {
   "codemirror_mode": {
    "name": "ipython",
    "version": 3
   },
   "file_extension": ".py",
   "mimetype": "text/x-python",
   "name": "python",
   "nbconvert_exporter": "python",
   "pygments_lexer": "ipython3",
   "version": "3.8.3"
  },
  "deepnote_notebook_id": "0d2bad37-9d08-4356-a38b-52232b275b0f",
  "deepnote": {},
  "deepnote_execution_queue": []
 }
}