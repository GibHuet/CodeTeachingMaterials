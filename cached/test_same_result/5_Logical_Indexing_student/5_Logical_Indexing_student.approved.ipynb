{
    "cells": [
        {
            "cell_type": "code",
            "metadata": {
                "id": "metric-level",
                "cell_id": "00000-d8c9f90f-d649-47b2-a772-a6639c594321",
                "deepnote_cell_type": "code"
            },
            "source": "import numpy as np",
            "outputs": [],
            "execution_count": null
        },
        {
            "cell_type": "markdown",
            "source": "# Filtering Data With Logical Indexing\n\nSometimes you want to remove certain values from your dataset.  In Numpy, this can be done with **Logical Indexing**, and in normal Python this is done with an **If Statement**",
            "metadata": {
                "id": "sorted-signal",
                "cell_id": "00001-08bea5dd-b612-4234-a812-1f203f7df899",
                "deepnote_cell_type": "markdown"
            }
        },
        {
            "cell_type": "markdown",
            "source": "### Step 1: Create a Logical Numpy Array\n\nWe can convert all of the values in an array at once with a single logical expression.  This is broadcasting, the same as is done with the math operations we saw earlier:\n\n```python\n>>> data = np.array([1, 2, 3, 4, 5])\n>>> data < 3\n[True, True, False, False, False]\n```",
            "metadata": {
                "id": "adequate-commercial",
                "cell_id": "00002-9e11b127-b196-47c8-9d0d-2b50736be4b3",
                "deepnote_cell_type": "markdown"
            }
        },
        {
            "cell_type": "markdown",
            "source": "**Exercises**: Make arrays of True/False values that answer the following questions about the dataset below for each element.",
            "metadata": {
                "id": "innovative-robin",
                "cell_id": "00003-fe7303ea-b10c-4a84-9ffc-bc0f035734ec",
                "deepnote_cell_type": "markdown"
            }
        },
        {
            "cell_type": "code",
            "metadata": {
                "id": "stuck-bunny",
                "cell_id": "00004-5c70af26-6004-48a1-bd45-579cd012595a",
                "deepnote_cell_type": "code"
            },
            "source": "",
            "outputs": "",
            "execution_count": null
        },
        {
            "cell_type": "markdown",
            "source": "1. Which values are greater than zero?",
            "metadata": {
                "id": "fluid-workplace",
                "cell_id": "00005-21086fd0-bbeb-464b-a7c3-da5876fc72fe",
                "deepnote_cell_type": "markdown"
            }
        },
        {
            "cell_type": "code",
            "metadata": {
                "id": "rotary-compatibility",
                "cell_id": "00006-ff88d338-0cb3-4cea-ab9c-741d77c33b46",
                "deepnote_cell_type": "code"
            },
            "source": "",
            "outputs": "",
            "execution_count": null
        },
        {
            "cell_type": "markdown",
            "source": "2. Which values are equal to 7?",
            "metadata": {
                "id": "northern-desert",
                "cell_id": "00007-eb53820d-a2e0-482d-8c4a-6f71953fc9a6",
                "deepnote_cell_type": "markdown"
            }
        },
        {
            "cell_type": "code",
            "metadata": {
                "id": "muslim-ultimate",
                "cell_id": "00008-037e480b-3844-4f97-ac74-219010466530",
                "deepnote_cell_type": "code"
            },
            "source": "",
            "outputs": "",
            "execution_count": null
        },
        {
            "cell_type": "markdown",
            "source": "3. Which values are greater or equal to 7?",
            "metadata": {
                "id": "classified-emphasis",
                "cell_id": "00009-40a9d5e7-5885-437d-99e2-e066f9d3f896",
                "deepnote_cell_type": "markdown"
            }
        },
        {
            "cell_type": "code",
            "metadata": {
                "id": "unlimited-initial",
                "cell_id": "00010-eeafa298-689b-4de9-8f85-2bacaa588c93",
                "deepnote_cell_type": "code"
            },
            "source": "",
            "outputs": "",
            "execution_count": null
        },
        {
            "cell_type": "markdown",
            "source": "4. Which values are not equal to 7?",
            "metadata": {
                "id": "industrial-conditioning",
                "cell_id": "00011-fb4e2d78-0147-431c-adde-af364fe33f69",
                "deepnote_cell_type": "markdown"
            }
        },
        {
            "cell_type": "code",
            "metadata": {
                "id": "martial-ultimate",
                "cell_id": "00012-35a8b581-1e3a-4516-884e-0b30ecae8104",
                "deepnote_cell_type": "code"
            },
            "source": "",
            "outputs": "",
            "execution_count": null
        },
        {
            "cell_type": "markdown",
            "source": "## Step 2: Filter with Logical Indexing\n\nIf an array of True/False values is used to *index* another array, and both arrays are the same size, it will return all of the values that correspond to the True values of the indexing array:\n\n```python\n>>> data = np.array([1, 2, 3, 4, 5])\n>>> is_big = data > 3\n>>> is_big\n[False, False, False, True, True]\n\n>>> data[is_big]\n[4, 5]\n```\n",
            "metadata": {
                "id": "light-timber",
                "cell_id": "00013-de3057d0-df97-49b2-a46b-977e9bcca1c7",
                "deepnote_cell_type": "markdown"
            }
        },
        {
            "cell_type": "markdown",
            "source": "**Exercises**:  Using the data below, extract only the values that corresspond to each question",
            "metadata": {
                "id": "parental-economy",
                "cell_id": "00014-2ee1b7ab-4624-461b-bd11-580494260598",
                "deepnote_cell_type": "markdown"
            }
        },
        {
            "cell_type": "code",
            "metadata": {
                "id": "military-shopping",
                "outputId": "14158f33-64a8-437a-ffb0-d5b5a4ba3b73",
                "cell_id": "00015-019cc24c-f22b-4722-80b9-b558a5530631",
                "deepnote_cell_type": "code"
            },
            "source": "",
            "outputs": "",
            "execution_count": null
        },
        {
            "cell_type": "markdown",
            "source": "1. The values that are less than 0",
            "metadata": {
                "id": "opened-progressive",
                "cell_id": "00016-c6167d87-67b5-4d42-9c32-eedf16065ecf",
                "deepnote_cell_type": "markdown"
            }
        },
        {
            "cell_type": "code",
            "metadata": {
                "id": "armed-inside",
                "cell_id": "00017-eec017b4-d07c-4656-b9f9-d6a28338e04a",
                "deepnote_cell_type": "code"
            },
            "source": "",
            "outputs": "",
            "execution_count": null
        },
        {
            "cell_type": "markdown",
            "source": "2. The values that are greater than 3",
            "metadata": {
                "id": "amino-cache",
                "cell_id": "00018-cb8f6705-350b-4e38-afb4-97d081fcda17",
                "deepnote_cell_type": "markdown"
            }
        },
        {
            "cell_type": "code",
            "metadata": {
                "id": "ordinary-reconstruction",
                "cell_id": "00019-2edc492f-b7a7-4cd3-b349-8f869ff91d26",
                "deepnote_cell_type": "code"
            },
            "source": "",
            "outputs": "",
            "execution_count": null
        },
        {
            "cell_type": "markdown",
            "source": "4. The values not equal to 7",
            "metadata": {
                "id": "surgical-inclusion",
                "cell_id": "00020-64061a00-f7a4-4839-ba01-370769d1bd53",
                "deepnote_cell_type": "markdown"
            }
        },
        {
            "cell_type": "code",
            "metadata": {
                "id": "occupied-history",
                "cell_id": "00021-404f3f89-e9cb-450e-8e4e-1ddf8a1c3093",
                "deepnote_cell_type": "code"
            },
            "source": "",
            "outputs": "",
            "execution_count": null
        },
        {
            "cell_type": "markdown",
            "source": "  5. The values equal to 20",
            "metadata": {
                "id": "underlying-awareness",
                "cell_id": "00022-12df6744-eaec-46d4-a2f6-f8338a7afb93",
                "deepnote_cell_type": "markdown"
            }
        },
        {
            "cell_type": "code",
            "metadata": {
                "id": "original-hacker",
                "cell_id": "00023-67128a3b-2509-4591-b5e9-efbeb3293c61",
                "deepnote_cell_type": "code"
            },
            "source": "",
            "outputs": "",
            "execution_count": null
        },
        {
            "cell_type": "markdown",
            "source": "The values that are not missing",
            "metadata": {
                "id": "sought-scanner",
                "cell_id": "00024-e33c0da1-5566-4cf5-b174-c1ac89fe3c67",
                "deepnote_cell_type": "markdown"
            }
        },
        {
            "cell_type": "code",
            "metadata": {
                "id": "colonial-frontier",
                "cell_id": "00025-5827ce1d-f384-4126-b08f-bf277bf919ac",
                "deepnote_cell_type": "code"
            },
            "source": "",
            "outputs": "",
            "execution_count": null
        },
        {
            "cell_type": "markdown",
            "source": "### Step 2.5: Combine Step 1 and Step 2 into a single line\n\nBoth steps can be done in a single expression.  Sometimes this can make things clearer!\n\n\n```python\n>>> data = np.array([1, 2, 3, 4, 5])\n>>> data[data > 3]\n[4, 5]\n```\n\n",
            "metadata": {
                "id": "streaming-rocket",
                "cell_id": "00026-562956cb-2ca6-4420-b369-c4db86b32ea6",
                "deepnote_cell_type": "markdown"
            }
        },
        {
            "cell_type": "markdown",
            "source": "**Exercises**: Do the same as in the previous section, this time in a single line.",
            "metadata": {
                "id": "effective-sphere",
                "cell_id": "00027-f0b27f6f-0d3d-4c17-9c12-eb00ac9d9aa6",
                "deepnote_cell_type": "markdown"
            }
        },
        {
            "cell_type": "code",
            "metadata": {
                "id": "facial-growth",
                "outputId": "ddb4e6bc-5547-4e40-98d3-fce2ab0b32cf",
                "cell_id": "00028-c77007a8-e692-41cd-aa51-8f383d53a046",
                "deepnote_cell_type": "code"
            },
            "source": "",
            "outputs": "",
            "execution_count": null
        },
        {
            "cell_type": "markdown",
            "source": "The values that are less than 0",
            "metadata": {
                "id": "athletic-thomas",
                "cell_id": "00029-cadc89d9-1854-411b-a7fa-081c436bc973",
                "deepnote_cell_type": "markdown"
            }
        },
        {
            "cell_type": "code",
            "metadata": {
                "id": "green-programming",
                "cell_id": "00030-cc32f161-5853-4513-8f18-234f125ea8e7",
                "deepnote_cell_type": "code"
            },
            "source": "",
            "outputs": "",
            "execution_count": null
        },
        {
            "cell_type": "markdown",
            "source": "The values that are greater than 3",
            "metadata": {
                "id": "wrong-chrome",
                "cell_id": "00031-a8eb2b79-0548-41a1-ae49-879c0eebd986",
                "deepnote_cell_type": "markdown"
            }
        },
        {
            "cell_type": "code",
            "metadata": {
                "id": "excess-rochester",
                "cell_id": "00032-91f7bccc-697e-426a-8e6e-221fdbf53b71",
                "deepnote_cell_type": "code"
            },
            "source": "",
            "outputs": "",
            "execution_count": null
        },
        {
            "cell_type": "markdown",
            "source": "The values equal to 7  (will be an array of sevens)",
            "metadata": {
                "id": "controlling-marijuana",
                "cell_id": "00033-4a10f85a-e98d-497c-b822-bdc208c92956",
                "deepnote_cell_type": "markdown"
            }
        },
        {
            "cell_type": "code",
            "metadata": {
                "id": "textile-contents",
                "cell_id": "00034-3eb94fd9-f371-49b0-95c1-86d7d88f3d81",
                "deepnote_cell_type": "code"
            },
            "source": "",
            "outputs": "",
            "execution_count": null
        },
        {
            "cell_type": "markdown",
            "source": "The values not equal to 7",
            "metadata": {
                "id": "sporting-footwear",
                "cell_id": "00035-567b406c-b643-41b9-a77a-d192fd658434",
                "deepnote_cell_type": "markdown"
            }
        },
        {
            "cell_type": "code",
            "metadata": {
                "id": "complicated-labor",
                "cell_id": "00036-c9ba24df-7019-40c3-98a9-deb4cedc5dba",
                "deepnote_cell_type": "code"
            },
            "source": "",
            "outputs": "",
            "execution_count": null
        },
        {
            "cell_type": "markdown",
            "source": "The values equal to 20",
            "metadata": {
                "id": "coordinated-ticket",
                "cell_id": "00037-127b9914-7afa-46ea-90b0-7d0dd03d77be",
                "deepnote_cell_type": "markdown"
            }
        },
        {
            "cell_type": "code",
            "metadata": {
                "id": "adjusted-listening",
                "cell_id": "00038-8959ce22-70c3-47fa-a3df-bf55665a54e0",
                "deepnote_cell_type": "code"
            },
            "source": "",
            "outputs": "",
            "execution_count": null
        },
        {
            "cell_type": "markdown",
            "source": "The values not missing",
            "metadata": {
                "id": "finnish-controversy",
                "cell_id": "00039-77ceaca5-3a77-44bd-8c6c-32a5d82aedcc",
                "deepnote_cell_type": "markdown"
            }
        },
        {
            "cell_type": "code",
            "metadata": {
                "id": "juvenile-comfort",
                "cell_id": "00040-8f32f9ef-4699-491a-ae62-6bb47ce67bb5",
                "deepnote_cell_type": "code"
            },
            "source": "",
            "outputs": "",
            "execution_count": null
        },
        {
            "cell_type": "markdown",
            "source": "### Statistics on Filtered Data",
            "metadata": {
                "id": "celtic-commercial",
                "cell_id": "00041-7774923c-b585-48c4-ac2e-5038dc170f8b",
                "deepnote_cell_type": "markdown"
            }
        },
        {
            "cell_type": "markdown",
            "source": "Using the following dataset, have Python to calculate the answers to the questions below:",
            "metadata": {
                "id": "pretty-philosophy",
                "cell_id": "00042-6cab3612-2b22-4535-aa16-1e3b934130b8",
                "deepnote_cell_type": "markdown"
            }
        },
        {
            "cell_type": "code",
            "metadata": {
                "id": "knowing-pitch",
                "outputId": "16e6aec3-429f-4a58-cef7-c915b5142a3c",
                "cell_id": "00043-a20f0d6d-3f12-4e4f-8bcd-ddc2cc3870cb",
                "deepnote_cell_type": "code"
            },
            "source": "data = np.array([3, 1, -6, 8, 20, 2, 7, 1, 9, 7, 7, -7])\ndata",
            "outputs": [
                {
                    "output_type": "execute_result",
                    "data": {
                        "text/plain": "array([ 3,  1, -6,  8, 20,  2,  7,  1,  9,  7,  7, -7])"
                    },
                    "metadata": {
                        "tags": []
                    },
                    "execution_count": 22
                }
            ],
            "execution_count": null
        },
        {
            "cell_type": "markdown",
            "source": "How many values are greater than 4 in this dataset?  \nUseful function: `len([2, 3, 4])`",
            "metadata": {
                "id": "radio-powell",
                "cell_id": "00044-cfaafc68-bdb1-4b76-8c68-cfaf46dd14ef",
                "deepnote_cell_type": "markdown"
            }
        },
        {
            "cell_type": "code",
            "metadata": {
                "id": "healthy-holmes",
                "cell_id": "00045-dd927e15-b816-4a3d-9a73-2d3b2f075635",
                "deepnote_cell_type": "code"
            },
            "source": "",
            "outputs": [],
            "execution_count": null
        },
        {
            "cell_type": "markdown",
            "source": "How many values are equal to 7 in this dataset?",
            "metadata": {
                "id": "reduced-authorization",
                "cell_id": "00046-0a7545b7-6323-4ea6-b134-6317fb0a2f4e",
                "deepnote_cell_type": "markdown"
            }
        },
        {
            "cell_type": "code",
            "metadata": {
                "id": "pursuant-workplace",
                "cell_id": "00047-ac232071-f181-44bb-ad51-2790fe771775",
                "deepnote_cell_type": "code"
            },
            "source": "",
            "outputs": [],
            "execution_count": null
        },
        {
            "cell_type": "markdown",
            "source": "What is the mean value of the positive numbers in this dataset?",
            "metadata": {
                "id": "artificial-serve",
                "cell_id": "00048-57dbcea0-3f49-426c-92aa-36b09f3ae4b3",
                "deepnote_cell_type": "markdown"
            }
        },
        {
            "cell_type": "code",
            "metadata": {
                "id": "working-madagascar",
                "cell_id": "00049-a06a43e9-7609-4dc6-b9ee-09c75abd98cd",
                "deepnote_cell_type": "code"
            },
            "source": "",
            "outputs": [],
            "execution_count": null
        },
        {
            "cell_type": "markdown",
            "source": "What is the mean value of the negative numbers in this dataset?",
            "metadata": {
                "id": "continuous-workshop",
                "cell_id": "00050-81a40328-7559-42c3-9060-b5b4d450098a",
                "deepnote_cell_type": "markdown"
            }
        },
        {
            "cell_type": "code",
            "metadata": {
                "id": "flush-miami",
                "cell_id": "00051-0bfad543-be10-48ed-b351-5b271dfee20e",
                "deepnote_cell_type": "code"
            },
            "source": "",
            "outputs": [],
            "execution_count": null
        },
        {
            "cell_type": "markdown",
            "source": "What is the median value of the values in this dataset that are greater than 5?",
            "metadata": {
                "id": "visible-journey",
                "cell_id": "00052-ebd153a9-bc27-4c6e-a782-7ca0c2d9b8bd",
                "deepnote_cell_type": "markdown"
            }
        },
        {
            "cell_type": "code",
            "metadata": {
                "id": "residential-decade",
                "cell_id": "00053-be28c851-2869-404a-b8e4-fafcdbc2a807",
                "deepnote_cell_type": "code"
            },
            "source": "",
            "outputs": [],
            "execution_count": null
        },
        {
            "cell_type": "markdown",
            "source": "How many missing values are in this dataset?",
            "metadata": {
                "id": "severe-gamma",
                "cell_id": "00054-d2f92496-8f40-479f-955c-9591d7d4178d",
                "deepnote_cell_type": "markdown"
            }
        },
        {
            "cell_type": "code",
            "metadata": {
                "id": "fourth-annual",
                "cell_id": "00055-bb58f269-4979-42c0-a774-f65874b6f953",
                "deepnote_cell_type": "code"
            },
            "source": "",
            "outputs": [],
            "execution_count": null
        },
        {
            "cell_type": "markdown",
            "source": "What proportion of the values in this dataset are positive?",
            "metadata": {
                "id": "growing-venture",
                "cell_id": "00056-16952307-edfc-4488-bad6-0aff928e6373",
                "deepnote_cell_type": "markdown"
            }
        },
        {
            "cell_type": "code",
            "metadata": {
                "id": "infinite-madison",
                "cell_id": "00057-04e495aa-e221-4a7a-b094-0f767f899650",
                "deepnote_cell_type": "code"
            },
            "source": "",
            "outputs": [],
            "execution_count": null
        },
        {
            "cell_type": "markdown",
            "source": "What proportion of the values in this dataset are less than or equal to 8?",
            "metadata": {
                "id": "breathing-breakdown",
                "cell_id": "00058-0fe905fb-99ea-419c-9d2d-573abc291e93",
                "deepnote_cell_type": "markdown"
            }
        },
        {
            "cell_type": "code",
            "metadata": {
                "id": "quality-bandwidth",
                "cell_id": "00059-b318cc3e-306a-4e8f-9727-fed3269b89d8",
                "deepnote_cell_type": "code"
            },
            "source": "",
            "outputs": [],
            "execution_count": null
        },
        {
            "cell_type": "markdown",
            "source": "",
            "metadata": {
                "id": "distant-cattle",
                "cell_id": "00060-4ee65e8b-f16b-406d-bde8-379d2fbdf8a8",
                "deepnote_cell_type": "markdown"
            }
        },
        {
            "cell_type": "markdown",
            "source": "<a style='text-decoration:none;line-height:16px;display:flex;color:#5B5B62;padding:10px;justify-content:end;' href='https://deepnote.com?utm_source=created-in-deepnote-cell&projectId=d703678d-f12c-4453-a422-685f3ee4b709' target=\"_blank\">\n<img alt='Created in deepnote.com' style='display:inline;max-height:16px;margin:0px;margin-right:7.5px;' src='data:image/svg+xml;base64,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' > </img>\nCreated in <span style='font-weight:600;margin-left:4px;'>Deepnote</span></a>",
            "metadata": {
                "tags": [],
                "created_in_deepnote_cell": true,
                "deepnote_cell_type": "markdown"
            }
        }
    ],
    "nbformat": 4,
    "nbformat_minor": 5,
    "metadata": {
        "kernelspec": {
            "display_name": "Python 3",
            "language": "python",
            "name": "python3"
        },
        "language_info": {
            "codemirror_mode": {
                "name": "ipython",
                "version": 3
            },
            "file_extension": ".py",
            "mimetype": "text/x-python",
            "name": "python",
            "nbconvert_exporter": "python",
            "pygments_lexer": "ipython3",
            "version": "3.8.3"
        },
        "metadata": {
            "interpreter": {
                "hash": "fc0e67284b290651ff490186edfcd112a3a9886d035b0e6d700f36a65c8bc338"
            }
        },
        "colab": {
            "name": "8 LogicalIndexing.ipynb",
            "provenance": []
        },
        "deepnote_notebook_id": "335d2424-d599-47af-9b70-08ab62ee0333",
        "deepnote": {},
        "deepnote_execution_queue": []
    }
}