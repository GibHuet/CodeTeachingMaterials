{
 "cells": [
  {
   "cell_type": "markdown",
   "source": "# Dictionaries \n## (a.k.a. `Dicts`)\n\nPython has a valuable data structure used for  associating pairs of values: the `dict`.\nEach `item` in a `dict` has two parts: the `key` and the `value`.  For example:\n\n```python\nphone_numbers = {'Ben': '+49123343282', 'Julie': '+45328472022'}\n```\n.\n\nIn this example, the names are the keys:\n\n```python\n>>> phone_numbers.keys()\ndict_keys(['Ben', 'Julie'])\n```\n.\n\nThe numbers are the values:\n\n```python\n>>> phone_numbers.values()\ndict_values(['+49123343282', '+45328472022'])\n```\n.\n\nAltogether, the pairs are `items`:\n```python\n>>> phone_numbers.items()\ndict_items([('Ben', '+49123343282'), ('Julie', '+45328472022')])\n```\n. \nkeys, values, and items can be looped through, making them work a lot like a zipped list.\n\n**Tip**: You can change zipped list into a dict with the `dict()` function!  \n\n```python\n>>> dict([('a', 1), ('b', 2)])\n{'a': 1, 'b': 2}\n```\n\n\nLet's explore some dictionaries and get a feel for them.",
   "metadata": {
    "tags": [],
    "cell_id": "00001-c8b7162c-b006-4596-91f9-fa526dd0de54",
    "deepnote_cell_type": "markdown"
   }
  },
  {
   "cell_type": "markdown",
   "source": "**Exercises**",
   "metadata": {
    "tags": [],
    "cell_id": "00001-f79eb6d6-4fc0-4820-9279-06bb64f06729",
    "deepnote_cell_type": "markdown"
   }
  },
  {
   "cell_type": "markdown",
   "source": "Print the `values` of this dict",
   "metadata": {
    "tags": [],
    "cell_id": "00002-daede3e3-f2ff-4f36-a400-8461c8fae4e7",
    "deepnote_cell_type": "markdown"
   }
  },
  {
   "cell_type": "code",
   "metadata": {
    "tags": [],
    "cell_id": "00000-1fe44039-c5e7-4e4d-ba1e-af8ece0c28bb",
    "deepnote_to_be_reexecuted": false,
    "source_hash": "b623e53d",
    "execution_start": 1634211720387,
    "execution_millis": 1,
    "deepnote_cell_type": "code"
   },
   "source": "birthdays = {'John': 'Jan. 4th', 'Bernice': 'May 25th'}",
   "execution_count": 0,
   "outputs": []
  },
  {
   "cell_type": "markdown",
   "source": "Print the `keys` of this dict",
   "metadata": {
    "tags": [],
    "cell_id": "00004-121dd86c-09c5-45c3-8187-5daed60bca2d",
    "deepnote_cell_type": "markdown"
   }
  },
  {
   "cell_type": "code",
   "metadata": {
    "tags": [],
    "cell_id": "00004-e4f95858-9c3d-4865-9fbe-64070fdd0420",
    "deepnote_to_be_reexecuted": false,
    "source_hash": "4c0051d4",
    "execution_start": 1634212157832,
    "execution_millis": 1,
    "deepnote_cell_type": "code"
   },
   "source": "birthdays = {'John': 'Jan. 4th', 'Bernice': 'May 25th'}",
   "execution_count": null,
   "outputs": []
  },
  {
   "cell_type": "markdown",
   "source": "Print the `items` of this dict",
   "metadata": {
    "tags": [],
    "cell_id": "00006-b3a9b407-190b-4475-8a1a-27d23fb3e8c5",
    "deepnote_cell_type": "markdown"
   }
  },
  {
   "cell_type": "code",
   "metadata": {
    "tags": [],
    "cell_id": "00005-8bca3064-8493-4be7-9afa-fc23bf0d6325",
    "deepnote_to_be_reexecuted": false,
    "source_hash": "4c0051d4",
    "execution_start": 1634211977207,
    "execution_millis": 1,
    "deepnote_cell_type": "code"
   },
   "source": "birthdays = {'John': 'Jan. 4th', 'Bernice': 'May 25th'}",
   "execution_count": null,
   "outputs": []
  },
  {
   "cell_type": "markdown",
   "source": "Make a dict from this list of tuples:",
   "metadata": {
    "tags": [],
    "cell_id": "00008-8ce9796a-0269-4b9c-b4f1-f4350733d973",
    "deepnote_cell_type": "markdown"
   }
  },
  {
   "cell_type": "code",
   "metadata": {
    "tags": [],
    "cell_id": "00006-a669e6ee-c488-49d9-ba0a-aa13cc3f2c28",
    "deepnote_to_be_reexecuted": false,
    "source_hash": "8186ff01",
    "execution_start": 1635335328020,
    "execution_millis": 3,
    "deepnote_cell_type": "code"
   },
   "source": "brightnesses = [\n    ('red', 65), \n    ('green', 3), \n    ('blue', 10),\n]",
   "execution_count": null,
   "outputs": []
  },
  {
   "cell_type": "markdown",
   "source": "Make a `list` of this dict's `items`:",
   "metadata": {
    "tags": [],
    "cell_id": "00010-2a87511e-ddae-482c-ad5e-c4a36b8acada",
    "deepnote_cell_type": "markdown"
   }
  },
  {
   "cell_type": "code",
   "metadata": {
    "tags": [],
    "cell_id": "00007-ae974064-af3e-4981-aa85-de4c73f0c7b4",
    "deepnote_to_be_reexecuted": false,
    "source_hash": "888cd7e0",
    "execution_start": 1634212145863,
    "execution_millis": 1,
    "deepnote_cell_type": "code"
   },
   "source": "brightnesses = {'red': 65, 'green': 3, 'blue': 10}",
   "execution_count": null,
   "outputs": []
  },
  {
   "cell_type": "markdown",
   "source": "## Appending and Querying `Dicts`\n\n\nWhat makes `dicts` incredibly useful is that you can use them to ask for specific values without needing to know *when* it was entered into the `dict`; we only need to know the key.  For example, with the phone_numbers dict, we can get Ben's number by indexing his name:\n\n```python\n>>> phone_numbers = {'Ben': '+49123343282', 'Julie': '+45328472022'}\n>>> phone_numbers['Ben']\n'+49123343282'\n```\n\nIf we want to add a number, it can be done using the same syntax:\n\n```python\n>>> phone_numbers = {}\n>>> phone_numbers['Nick'] = '+4917848367'\n>>> phone_numbers\n{'Nick': '+4917848367'}\n```\n\nLet's try it out!\n",
   "metadata": {
    "tags": [],
    "cell_id": "00016-7d394c29-0bb4-461e-b2ed-ca922208e3c4",
    "deepnote_cell_type": "markdown"
   }
  },
  {
   "cell_type": "markdown",
   "source": "**Exercises**",
   "metadata": {
    "tags": [],
    "cell_id": "00017-4bc2281c-bd48-432e-bc43-3394c5b4eaae",
    "deepnote_cell_type": "markdown"
   }
  },
  {
   "cell_type": "markdown",
   "source": "Starting with an empty `dict`, add the rest of the kindergartners' favorite colors:\n\n  - Amy loves yellow\n  - James adores red\n  - Julia worships beige\n  - Johnny likes green",
   "metadata": {
    "tags": [],
    "cell_id": "00017-1e4c4022-9fa0-474d-b89c-ef7ed147cee7",
    "deepnote_cell_type": "markdown"
   }
  },
  {
   "cell_type": "code",
   "metadata": {
    "tags": [],
    "cell_id": "00015-02fdf27b-1810-4bc6-aa7a-ffb831523a5b",
    "deepnote_to_be_reexecuted": false,
    "source_hash": "421fdd79",
    "execution_start": 1636317076732,
    "execution_millis": 10,
    "deepnote_cell_type": "code"
   },
   "source": "favorite_colors = {}\nfavorite_colors['Amy'] = 'yellow'\n\nfavorite_colors",
   "execution_count": null,
   "outputs": [
    {
     "output_type": "execute_result",
     "execution_count": 1,
     "data": {
      "text/plain": "{'Amy': 'yellow'}"
     },
     "metadata": {}
    }
   ]
  },
  {
   "cell_type": "markdown",
   "source": "Use the dict created above to have Python answer the following questions:",
   "metadata": {
    "tags": [],
    "cell_id": "00019-ec2f071e-4535-4080-a313-751ab829720a",
    "deepnote_cell_type": "markdown"
   }
  },
  {
   "cell_type": "markdown",
   "source": "What is James' favorite color?",
   "metadata": {
    "tags": [],
    "cell_id": "00020-8b6ebcba-1b4b-4a39-ba55-e70fd8d0156d",
    "deepnote_cell_type": "markdown"
   }
  },
  {
   "cell_type": "code",
   "metadata": {
    "tags": [],
    "cell_id": "00016-ce176847-ca9e-459c-a326-660146b1f7c9",
    "deepnote_to_be_reexecuted": false,
    "source_hash": "b623e53d",
    "execution_start": 1634216232396,
    "execution_millis": 0,
    "deepnote_cell_type": "code"
   },
   "source": "",
   "execution_count": 0,
   "outputs": []
  },
  {
   "cell_type": "markdown",
   "source": "What is Julia's favorite color?",
   "metadata": {
    "tags": [],
    "cell_id": "00022-ed8b42bc-6551-4945-a991-e68187396f16",
    "deepnote_cell_type": "markdown"
   }
  },
  {
   "cell_type": "code",
   "metadata": {
    "tags": [],
    "cell_id": "00020-4289e405-d366-4782-b953-e2b0f6efc3dd",
    "deepnote_to_be_reexecuted": false,
    "source_hash": "b623e53d",
    "execution_start": 1634216396407,
    "execution_millis": 1,
    "deepnote_cell_type": "code"
   },
   "source": "",
   "execution_count": 0,
   "outputs": []
  },
  {
   "cell_type": "markdown",
   "source": "*Challenge for In-Group Discussion (Max 5 Minutes, then Move On)* Who has \"yellow\" as a favorite color?",
   "metadata": {
    "tags": [],
    "cell_id": "00025-0dd82737-1870-4fa5-800d-845954703388",
    "deepnote_cell_type": "markdown"
   }
  },
  {
   "cell_type": "code",
   "metadata": {
    "tags": [],
    "cell_id": "00021-ecf00d6f-fb9c-4cd4-8890-b00578035a72",
    "deepnote_cell_type": "code"
   },
   "source": "",
   "execution_count": null,
   "outputs": []
  },
  {
   "cell_type": "markdown",
   "source": "## Analysing Data stored in Dicts\n\nThe challenge with analyzing `dict` data is dics are not `sequences`, and neither are `dict_keys()` or `dict_values()`, so before putting them into a statistics function we should first turn `dict_values()` into a `list` using the `list()` function. For example:\n\n```python\n>>> data = {'x': 1, 'y': 2}\n\n>>> data.values()\ndict_values([1, 2])\n\n>>> list(data.values())\n[1, 2]\n\n>>> np.mean(list(data.values()))\n1.5\n```\n\nLet's get some practice querying dicts and calculating some statistics.",
   "metadata": {
    "tags": [],
    "cell_id": "00027-f318248b-8f6e-481f-a283-4593a2172cf5",
    "deepnote_cell_type": "markdown"
   }
  },
  {
   "cell_type": "markdown",
   "source": "**Exercises**",
   "metadata": {
    "tags": [],
    "cell_id": "00023-6798155b-8e03-48b5-a2cd-7946f39d2e57",
    "deepnote_cell_type": "markdown"
   }
  },
  {
   "cell_type": "code",
   "metadata": {
    "tags": [],
    "cell_id": "00024-87cec780-9706-4172-a9c0-823efcd94796",
    "deepnote_to_be_reexecuted": false,
    "source_hash": "c2602aa8",
    "execution_start": 1636319325919,
    "execution_millis": 0,
    "deepnote_cell_type": "code"
   },
   "source": "import numpy as np",
   "execution_count": null,
   "outputs": []
  },
  {
   "cell_type": "markdown",
   "source": "What was the average hours of sleep that our friends got last night?",
   "metadata": {
    "tags": [],
    "cell_id": "00026-13fb674f-bb5e-432d-bfcd-6066805e4070",
    "deepnote_cell_type": "markdown"
   }
  },
  {
   "cell_type": "code",
   "metadata": {
    "tags": [],
    "cell_id": "00024-30849f61-26af-4168-90e1-a07f4a10ad1a",
    "deepnote_to_be_reexecuted": false,
    "source_hash": "bf569e30",
    "execution_start": 1636319330240,
    "execution_millis": 2,
    "deepnote_cell_type": "code"
   },
   "source": "hours_of_sleep = {'Jason': 5, 'Kimberly': 9, 'Billy': 7, 'Trini': 6, 'Zack': 8}",
   "execution_count": null,
   "outputs": []
  },
  {
   "cell_type": "markdown",
   "source": "How many people were in our sleep study?",
   "metadata": {
    "tags": [],
    "cell_id": "00027-e8d9b705-342c-471c-8373-6d0b89a5861e",
    "deepnote_cell_type": "markdown"
   }
  },
  {
   "cell_type": "code",
   "metadata": {
    "tags": [],
    "cell_id": "00027-6aac0e95-30ed-4a20-8e90-bed1829f7627",
    "deepnote_to_be_reexecuted": false,
    "source_hash": "bf569e30",
    "execution_start": 1636319332198,
    "execution_millis": 9,
    "deepnote_cell_type": "code"
   },
   "source": "hours_of_sleep = {'Jason': 5, 'Kimberly': 9, 'Billy': 7, 'Trini': 6, 'Zack': 8}",
   "execution_count": null,
   "outputs": []
  },
  {
   "cell_type": "markdown",
   "source": "Was the average amount of sleep higher on day one or day two?",
   "metadata": {
    "tags": [],
    "cell_id": "00029-b25de3f9-f8d8-49b2-8a95-6179cfaccc51",
    "deepnote_cell_type": "markdown"
   }
  },
  {
   "cell_type": "code",
   "metadata": {
    "tags": [],
    "cell_id": "00030-852c161f-615b-43e1-b00f-0161179d8c39",
    "deepnote_to_be_reexecuted": false,
    "source_hash": "e2797174",
    "execution_start": 1636319347265,
    "execution_millis": 1,
    "deepnote_cell_type": "code"
   },
   "source": "hours_of_sleep = {\n    'Day1': [5, 7, 3, 3, 4, 6, 8, 9],\n    'Day2': [5, 7, 8, 5, 6, 7, 8, 4],\n}",
   "execution_count": null,
   "outputs": []
  },
  {
   "cell_type": "markdown",
   "source": "Was the average amount of sleep higher on day one or day two?\n\n*Tip*: you can index multple times (e.g. `data['Monday']['Morning']` or `data['Monday'].keys()`)",
   "metadata": {
    "tags": [],
    "cell_id": "00031-33eacd9e-1011-4822-8f26-6f8259d783a0",
    "deepnote_cell_type": "markdown"
   }
  },
  {
   "cell_type": "code",
   "metadata": {
    "tags": [],
    "cell_id": "00032-9098bf00-fdff-44db-9fe0-354dc322e214",
    "deepnote_to_be_reexecuted": false,
    "source_hash": "2fd6ccfa",
    "execution_start": 1636319353226,
    "execution_millis": 4,
    "deepnote_cell_type": "code"
   },
   "source": "hours_of_sleep = {\n    'Day1': {'Jason': 5, 'Kimberly': 9, 'Billy': 7, 'Trini': 6, 'Zack': 8},\n    'Day2': {'Billy': 10, 'Kimberly': 7, 'Trini': 7, 'Zack': 9, 'Jason': 4},\n    'Day3': {'Trini': 8, 'Zack': 6, 'Jason': 9, 'Billy': 9, 'Kimberly': 6},\n}",
   "execution_count": null,
   "outputs": []
  },
  {
   "cell_type": "markdown",
   "source": "##### Nested Dicts\n\nIt's sometimes helpful to organize data hiearchically by nesting `dict` objects, but it can add some work to the analysis.  Let's get some practice.\n\nWhat was Kimberly's average amount of sleep on the three days of the study?",
   "metadata": {
    "tags": [],
    "cell_id": "00033-bd042671-4c4a-4adb-9a06-bc232c04b42d",
    "deepnote_cell_type": "markdown"
   }
  },
  {
   "cell_type": "code",
   "metadata": {
    "tags": [],
    "cell_id": "00034-6038d2bd-76f1-4c84-bd57-d5c3f62507ba",
    "deepnote_to_be_reexecuted": false,
    "source_hash": "a11e03d7",
    "execution_start": 1636319367850,
    "execution_millis": 4,
    "deepnote_cell_type": "code"
   },
   "source": "hours_of_sleep = {\n    'Zack': {'Day1': 8, 'Day2': 9, 'Day3': 6},\n    'Jason': {'Day1': 5, 'Day2': 4, 'Day3': 9},\n    'Billy': {'Day1': 7, 'Day2': 10, 'Day3': 9},\n    'Kimberly': {'Day1': 9, 'Day2': 7, 'Day3': 6},\n    'Trini': {'Day1': 6, 'Day2': 7, 'Day3': 8},\n}\n",
   "execution_count": null,
   "outputs": []
  },
  {
   "cell_type": "markdown",
   "source": "What was Jason's average amount of sleep on the three days of the study?",
   "metadata": {
    "tags": [],
    "cell_id": "00035-04bfd468-75f2-48e4-a1cd-0dfdca6206d3",
    "deepnote_cell_type": "markdown"
   }
  },
  {
   "cell_type": "code",
   "metadata": {
    "tags": [],
    "cell_id": "00036-1750fb8c-cb4c-4b4a-949d-60f968f1da1d",
    "deepnote_to_be_reexecuted": false,
    "source_hash": "2fd6ccfa",
    "execution_start": 1635339721887,
    "execution_millis": 1,
    "deepnote_cell_type": "code"
   },
   "source": "hours_of_sleep = {\n    'Day1': {'Jason': 5, 'Kimberly': 9, 'Billy': 7, 'Trini': 6, 'Zack': 8},\n    'Day2': {'Billy': 10, 'Kimberly': 7, 'Trini': 7, 'Zack': 9, 'Jason': 4},\n    'Day3': {'Trini': 8, 'Zack': 6, 'Jason': 9, 'Billy': 9, 'Kimberly': 6},\n}",
   "execution_count": null,
   "outputs": []
  },
  {
   "cell_type": "markdown",
   "source": "**Generating Data**: Use `np.random.uniform` 3 times to create a dict with 3 keys: \"Monday\", \"Tuesday\", and \"Wednesday\", associating each day with an array of 5 random numbers between 10 and 20.  The end should look somehting like:\n\n`{'Monday': array([11, 15, 10, 19, 20]), ...}`",
   "metadata": {
    "tags": [],
    "cell_id": "00038-4339a491-d7c4-46af-b062-bea502ab1915",
    "deepnote_cell_type": "markdown"
   }
  },
  {
   "cell_type": "code",
   "metadata": {
    "tags": [],
    "cell_id": "00039-b7aa0949-fb68-40e0-a5b2-514d338a7e69",
    "deepnote_cell_type": "code"
   },
   "source": "",
   "execution_count": null,
   "outputs": []
  },
  {
   "cell_type": "markdown",
   "source": "",
   "metadata": {
    "tags": [],
    "cell_id": "00040-5b0d008c-97f3-4805-9796-1a80b5cd386b",
    "deepnote_cell_type": "markdown"
   }
  },
  {
   "cell_type": "markdown",
   "source": "# Extra Credit\n\n## JSON: a Wonderful File Format for Storing Dict-Like Data\n\n\n### Writing Dicts and Lists into JSON Files\n\n```python\nimport json\n\nfile = open('sleep.json', 'w')  # Open a new file called 'sleep.json' in 'write' mode.\ntext = json.dumps(hours_of_sleep, indent=4)  # turn our dict into json-formatted text.\nfile.write(text)  # Save the text into a file.\nfile.close()  # close the file\n```\n\n### Reading JSON Files into Dicts and Lists\n\n```python\nimport json\n\nfile = open('sleep.json', 'r')  # open an existing file in 'read' mode.\ntext = file.read()  # read all the text in the file to and assign it to a string.\nhours_of_sleep2 = json.loads(text)  # convert the json-formatted text into a dict\nfile.close()  # close the file.\n```\n\n",
   "metadata": {
    "tags": [],
    "cell_id": "00023-df0832d5-d55b-4336-9039-5525858452cd",
    "deepnote_cell_type": "markdown"
   }
  },
  {
   "cell_type": "markdown",
   "source": "**Exercises**",
   "metadata": {
    "tags": [],
    "cell_id": "00041-6c8f9cb8-c337-4239-a308-e8dc20a249ef",
    "deepnote_cell_type": "markdown"
   }
  },
  {
   "cell_type": "markdown",
   "source": "Save the following dict to `sleep_study.json`",
   "metadata": {
    "tags": [],
    "cell_id": "00023-0005be77-efd0-4329-9231-4a48b35d4d0c",
    "deepnote_cell_type": "markdown"
   }
  },
  {
   "cell_type": "code",
   "metadata": {
    "tags": [],
    "cell_id": "00044-543e2863-21b6-49e4-9804-1c1d1a68ba0b",
    "deepnote_cell_type": "code"
   },
   "source": "hours_of_sleep = {\n    'Day1': {'Jason': 5, 'Kimberly': 9, 'Billy': 7, 'Trini': 6, 'Zack': 8},\n    'Day2': {'Billy': 10, 'Kimberly': 7, 'Trini': 7, 'Zack': 9, 'Jason': 4},\n    'Day3': {'Trini': 8, 'Zack': 6, 'Jason': 9, 'Billy': 9, 'Kimberly': 6},\n}",
   "execution_count": null,
   "outputs": []
  },
  {
   "cell_type": "code",
   "metadata": {
    "tags": [],
    "cell_id": "00045-e3a0f940-3544-4af0-b583-019d42b6f9c8",
    "deepnote_cell_type": "code"
   },
   "source": "",
   "execution_count": null,
   "outputs": []
  },
  {
   "cell_type": "markdown",
   "source": "Read the `sleep_study.json` file to a python variable",
   "metadata": {
    "tags": [],
    "cell_id": "00045-5a1f844c-e5a0-4610-98b8-9a5f6c94763c",
    "deepnote_cell_type": "markdown"
   }
  },
  {
   "cell_type": "code",
   "metadata": {
    "tags": [],
    "cell_id": "00045-41496a89-3d3b-4d49-ab24-aed0fb7d997a",
    "deepnote_cell_type": "code"
   },
   "source": "",
   "execution_count": null,
   "outputs": []
  },
  {
   "cell_type": "markdown",
   "source": "<a style='text-decoration:none;line-height:16px;display:flex;color:#5B5B62;padding:10px;justify-content:end;' href='https://deepnote.com?utm_source=created-in-deepnote-cell&projectId=48227045-6b9e-4724-ab08-5501bac37c06' target=\"_blank\">\n<img alt='Created in deepnote.com' style='display:inline;max-height:16px;margin:0px;margin-right:7.5px;' src='data:image/svg+xml;base64,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' > </img>\nCreated in <span style='font-weight:600;margin-left:4px;'>Deepnote</span></a>",
   "metadata": {
    "tags": [],
    "created_in_deepnote_cell": true,
    "deepnote_cell_type": "markdown"
   }
  }
 ],
 "nbformat": 4,
 "nbformat_minor": 2,
 "metadata": {
  "orig_nbformat": 2,
  "deepnote": {
   "is_reactive": false
  },
  "deepnote_notebook_id": "125ddd91-b676-4a39-9b9c-6a9dbafec010",
  "deepnote_execution_queue": []
 }
}