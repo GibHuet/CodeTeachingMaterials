{
    "cells": [
        {
            "cell_type": "code",
            "metadata": {
                "id": "bottom-declaration",
                "cell_id": "00000-89fff6f0-8997-4f4b-ad02-c07eca537b8c",
                "deepnote_to_be_reexecuted": false,
                "source_hash": "9b82ee11",
                "execution_start": 1628779729427,
                "execution_millis": 0,
                "deepnote_cell_type": "code"
            },
            "source": "import pandas as pd",
            "outputs": [],
            "execution_count": null
        },
        {
            "cell_type": "code",
            "metadata": {
                "tags": [],
                "cell_id": "00001-23aaf420-a333-4905-8cde-1f2c8ce9d40c",
                "deepnote_cell_type": "code"
            },
            "source": "Say Hi!\nHB\nIrmak\nSam\nIgnasi\nAna\nLiza\nMarc",
            "outputs": [],
            "execution_count": null
        },
        {
            "cell_type": "markdown",
            "source": "## GroupBy Operations: Applying Aggregations to Groups of Data\n\nUsually, you don't just want to get a single metric from a dataset--you want to compare that metric between differnt subgroups of your data. For example, you want the mean **monthly** temperature, or the maximum firing rate of **each neuron**, or the total income of **each country**, and so on.\n\nThe **groupby()** method lets you specify that an operation will be done on each *same-valued* row for a given column.  For example, to ask for the mean temperature by month:\n\n```python\n>>> df.groupby('month').temperature.mean()\n```\n\nTo get the maxiumum firing rate of each neuron:\n\n```python\n>>> df.groupby('neuron_id').firing_rate.max()\n```\n\nYou can also group by as many columns as you like, getting as many groups as unique combinations between the columns:\n\n```python\n>>> df.groupby(['year', 'month']).temperature.mean()\n```\n\nGroupby objects are **lazy**, meaning they don't start calculating anything until they know the full pipeline.  This approach is called the **\"Split-Apply-Combine\"** workflow.  You can get more info on it here: https://pandas.pydata.org/pandas-docs/stable/user_guide/groupby.html\n",
            "metadata": {
                "id": "lonely-grounds",
                "cell_id": "00001-67135b01-0908-4314-8790-12bc177ab833",
                "deepnote_cell_type": "markdown"
            }
        },
        {
            "cell_type": "markdown",
            "source": "#### Exercises\n\nLet's try this out on the Titanic Dataset!",
            "metadata": {
                "id": "egyptian-might",
                "cell_id": "00002-bb667ec7-7d98-41ae-b659-d3a840fa47c5",
                "deepnote_cell_type": "markdown"
            }
        },
        {
            "cell_type": "code",
            "metadata": {
                "tags": [],
                "cell_id": "00004-108e40db-fc94-4010-8f5c-ef6aa84b7db7",
                "deepnote_to_be_reexecuted": false,
                "source_hash": "eafaeb76",
                "execution_start": 1628780016775,
                "execution_millis": 332,
                "deepnote_cell_type": "code"
            },
            "source": "",
            "outputs": "",
            "execution_count": null
        },
        {
            "cell_type": "markdown",
            "source": "Example: What was the mean age, grouped by class?",
            "metadata": {
                "id": "exterior-bankruptcy",
                "cell_id": "00004-cae997ee-9bfd-4969-9bf9-9fc7e18fd824",
                "deepnote_cell_type": "markdown"
            }
        },
        {
            "cell_type": "code",
            "metadata": {
                "id": "bound-buyer",
                "outputId": "76cc4311-1146-4f69-9109-6777bc2786e6",
                "cell_id": "00005-893f995b-1408-4d17-ad00-3519ccaf11df",
                "deepnote_to_be_reexecuted": false,
                "source_hash": "b623e53d",
                "execution_start": 1636321029796,
                "execution_millis": 5,
                "deepnote_cell_type": "code"
            },
            "source": "",
            "outputs": [],
            "execution_count": 0
        },
        {
            "cell_type": "markdown",
            "source": "What was the median ticket fare for each class?",
            "metadata": {
                "id": "foster-hudson",
                "cell_id": "00006-8f7cc31c-6150-434a-9c48-d2b2b6f351d7",
                "deepnote_cell_type": "markdown"
            }
        },
        {
            "cell_type": "code",
            "metadata": {
                "id": "nominated-precipitation",
                "cell_id": "00007-2f38ccc7-7465-416a-b919-065fd1b7ad28",
                "deepnote_to_be_reexecuted": false,
                "source_hash": "b623e53d",
                "execution_start": 1636321034088,
                "execution_millis": 9,
                "deepnote_cell_type": "code"
            },
            "source": "",
            "outputs": "",
            "execution_count": 0
        },
        {
            "cell_type": "markdown",
            "source": "What was the survival rate for each class?",
            "metadata": {
                "id": "framed-proposal",
                "cell_id": "00008-7cd35a7a-8538-474f-9b4c-786101854b80",
                "deepnote_cell_type": "markdown"
            }
        },
        {
            "cell_type": "code",
            "metadata": {
                "id": "behind-people",
                "cell_id": "00009-4d461090-5f12-4978-8ac9-5ed2847413c9",
                "deepnote_to_be_reexecuted": false,
                "source_hash": "b623e53d",
                "execution_start": 1636321043050,
                "execution_millis": 4,
                "deepnote_cell_type": "code"
            },
            "source": "",
            "outputs": "",
            "execution_count": 0
        },
        {
            "cell_type": "markdown",
            "source": "What was the survival rate for each sex?",
            "metadata": {
                "id": "eligible-income",
                "cell_id": "00010-65c445aa-f87b-460a-b272-9165563df188",
                "deepnote_cell_type": "markdown"
            }
        },
        {
            "cell_type": "code",
            "metadata": {
                "id": "covered-prisoner",
                "cell_id": "00011-16c87ac8-a3a5-4268-9490-441ba938347d",
                "deepnote_to_be_reexecuted": false,
                "source_hash": "b623e53d",
                "execution_start": 1636321046669,
                "execution_millis": 7,
                "deepnote_cell_type": "code"
            },
            "source": "",
            "outputs": "",
            "execution_count": 0
        },
        {
            "cell_type": "markdown",
            "source": "What was the survival rate, broken down by both sex and class?",
            "metadata": {
                "id": "banner-armor",
                "cell_id": "00012-7986e60b-367b-4225-9745-b264e01f97fb",
                "deepnote_cell_type": "markdown"
            }
        },
        {
            "cell_type": "code",
            "metadata": {
                "id": "utility-cholesterol",
                "cell_id": "00013-5b0c77a8-f432-44bc-9287-f53edfd9354f",
                "deepnote_to_be_reexecuted": false,
                "source_hash": "b623e53d",
                "execution_start": 1636321053521,
                "execution_millis": 4,
                "deepnote_cell_type": "code"
            },
            "source": "",
            "outputs": "",
            "execution_count": 0
        },
        {
            "cell_type": "markdown",
            "source": "Which class tended to travel alone more often?  Did it matter where they were embarking from?",
            "metadata": {
                "id": "extreme-baptist",
                "cell_id": "00014-a7947e5f-17a6-48de-80d7-7a733a79e5eb",
                "deepnote_cell_type": "markdown"
            }
        },
        {
            "cell_type": "code",
            "metadata": {
                "id": "intelligent-withdrawal",
                "cell_id": "00015-29334945-c604-4f2d-95ed-5c64f586407f",
                "deepnote_to_be_reexecuted": false,
                "source_hash": "b623e53d",
                "execution_start": 1636321058910,
                "execution_millis": 2,
                "deepnote_cell_type": "code"
            },
            "source": "",
            "outputs": "",
            "execution_count": 0
        },
        {
            "cell_type": "markdown",
            "source": "What was the ticket fare for each embarking city?",
            "metadata": {
                "id": "unlike-spirit",
                "cell_id": "00016-1ccc8d0a-10ea-40ae-bad2-8718249b53e9",
                "deepnote_cell_type": "markdown"
            }
        },
        {
            "cell_type": "code",
            "metadata": {
                "id": "vocational-ethernet",
                "cell_id": "00017-14abed27-9f4f-4671-9c23-6c552ebf7c98",
                "deepnote_to_be_reexecuted": false,
                "source_hash": "b623e53d",
                "execution_start": 1636321063104,
                "execution_millis": 2,
                "deepnote_cell_type": "code"
            },
            "source": "",
            "outputs": "",
            "execution_count": 0
        },
        {
            "cell_type": "markdown",
            "source": "What was the median age of the survivors vs non-survivors, when sex is considered as a factor?",
            "metadata": {
                "id": "interested-multimedia",
                "cell_id": "00018-8e6c0c91-7c3a-4ce7-9f33-7f0cbdde6ee2",
                "deepnote_cell_type": "markdown"
            }
        },
        {
            "cell_type": "code",
            "metadata": {
                "id": "stylish-trash",
                "cell_id": "00019-bffd7454-823c-433f-bc6a-e9d5eeaae99a",
                "deepnote_to_be_reexecuted": false,
                "source_hash": "b623e53d",
                "execution_start": 1636321068245,
                "execution_millis": 6,
                "deepnote_cell_type": "code"
            },
            "source": "",
            "outputs": "",
            "execution_count": 0
        },
        {
            "cell_type": "markdown",
            "source": "## Plotting with Seaborn\n\nSeaborn is a data visualization library that uses Pandas Dataframes to produce statitistical plots; in other words, it takes Dataframes and does Groupby automatically for you\n\n(https://seaborn.pydata.org/examples/index.html)\n\nMost of its functions have a similar interface:\n\n```python\nimport seaborn as sns\nsns.catplot(data=df, x=\"ColName\", y=\"ColName\", hue=\"ColName\", row=\"ColName\", col=\"ColName\", kind=\"bar\")\n# kind can be \"point\", \"bar\", \"violin\", \"box\", \"boxen\", \"count\", \"strip\", \"swarm\"\n```",
            "metadata": {
                "id": "municipal-convert",
                "cell_id": "00020-f4cf0b48-1292-4c2d-9e6e-83651df6c88f",
                "deepnote_cell_type": "markdown"
            }
        },
        {
            "cell_type": "markdown",
            "source": "### Exercises\n\n(if seaborn isn't install, may need to run `!pip install seaborn`)\n\nLet's try out seaborn's **catplot** function to visualize answers to the following questions.  \n\n(Tip: check out the *kind* optional argument with the following strings: point, bar, violin, box, boxen)",
            "metadata": {
                "id": "surface-radar",
                "cell_id": "00021-4be5f1c9-65c4-4955-be89-66a5bab7b69e",
                "deepnote_cell_type": "markdown"
            }
        },
        {
            "cell_type": "code",
            "metadata": {
                "id": "animated-count",
                "cell_id": "00023-be27a7f9-dd2e-40a8-b2f7-dbc9efb9ef8f",
                "deepnote_to_be_reexecuted": false,
                "source_hash": "74826b86",
                "execution_start": 1636321129300,
                "execution_millis": 8,
                "deepnote_cell_type": "code"
            },
            "source": "import numpy as np\nimport matplotlib.pyplot as plt\nimport seaborn as sns",
            "outputs": [],
            "execution_count": null
        },
        {
            "cell_type": "markdown",
            "source": "What was the average age of the people in each class?",
            "metadata": {
                "id": "armed-quilt",
                "cell_id": "00024-828aca6b-ef67-4ffa-b292-7b190b2f60fa",
                "deepnote_cell_type": "markdown"
            }
        },
        {
            "cell_type": "code",
            "metadata": {
                "id": "executed-wright",
                "outputId": "283e1b15-79e1-4e20-9daf-0cdf65748fbc",
                "cell_id": "00025-67a89be6-2fd6-43a8-badc-80fc41b9ffdd",
                "deepnote_to_be_reexecuted": false,
                "source_hash": "b623e53d",
                "execution_start": 1636321121351,
                "execution_millis": 8,
                "deepnote_cell_type": "code"
            },
            "source": "",
            "outputs": [],
            "execution_count": null
        },
        {
            "cell_type": "markdown",
            "source": "What was the average ticket fare for each class?",
            "metadata": {
                "id": "southwest-falls",
                "cell_id": "00026-07eeca36-7fcc-47dd-8e3f-89b7ee25c1e7",
                "deepnote_cell_type": "markdown"
            }
        },
        {
            "cell_type": "code",
            "metadata": {
                "id": "hydraulic-collaboration",
                "cell_id": "00027-8e2b31b7-518b-401d-9b46-6cc943d0b952",
                "deepnote_to_be_reexecuted": false,
                "source_hash": "b31fd813",
                "execution_start": 1636321133381,
                "execution_millis": 1,
                "deepnote_cell_type": "code"
            },
            "source": "\n",
            "outputs": [],
            "execution_count": null
        },
        {
            "cell_type": "markdown",
            "source": "What was the average survival rate for each class?",
            "metadata": {
                "id": "biblical-translator",
                "cell_id": "00028-07296f52-98ae-4295-a3ec-4c5777926b95",
                "deepnote_cell_type": "markdown"
            }
        },
        {
            "cell_type": "code",
            "metadata": {
                "id": "asian-relevance",
                "cell_id": "00029-c14d954b-c772-465d-b792-0c521168cab4",
                "deepnote_to_be_reexecuted": false,
                "source_hash": "b623e53d",
                "execution_start": 1636321138864,
                "execution_millis": 11,
                "deepnote_cell_type": "code"
            },
            "source": "",
            "outputs": [],
            "execution_count": null
        },
        {
            "cell_type": "markdown",
            "source": "What was the average survival rate for each sex?",
            "metadata": {
                "id": "laden-reason",
                "cell_id": "00030-c33d8433-c2b7-4962-80b0-76a430dd297e",
                "deepnote_cell_type": "markdown"
            }
        },
        {
            "cell_type": "code",
            "metadata": {
                "id": "arctic-granny",
                "cell_id": "00031-5e1371f3-f20c-430e-aacd-13bf02ca797e",
                "deepnote_to_be_reexecuted": false,
                "source_hash": "b623e53d",
                "execution_start": 1636321147142,
                "execution_millis": 17,
                "deepnote_cell_type": "code"
            },
            "source": "",
            "outputs": [],
            "execution_count": null
        },
        {
            "cell_type": "markdown",
            "source": "What was the average survival rate, broken down by both sex and class?",
            "metadata": {
                "id": "defined-commission",
                "cell_id": "00032-d61e5534-dfc8-4f81-a9a5-d27bacd30259",
                "deepnote_cell_type": "markdown"
            }
        },
        {
            "cell_type": "code",
            "metadata": {
                "id": "rational-updating",
                "cell_id": "00033-444e70e0-b3cb-46e0-9396-87664e0de3ab",
                "deepnote_to_be_reexecuted": false,
                "source_hash": "b623e53d",
                "execution_start": 1636321151646,
                "execution_millis": 8,
                "deepnote_cell_type": "code"
            },
            "source": "",
            "outputs": [],
            "execution_count": null
        },
        {
            "cell_type": "markdown",
            "source": "Which class tended to travel alone more often?  Did it matter where they were embarking from?",
            "metadata": {
                "id": "extreme-express",
                "cell_id": "00034-9c113c63-84f7-439d-b65c-dfb788a70f30",
                "deepnote_cell_type": "markdown"
            }
        },
        {
            "cell_type": "code",
            "metadata": {
                "id": "ultimate-romance",
                "cell_id": "00035-e9eee321-a4fd-4009-8dd2-005d1af0676d",
                "deepnote_to_be_reexecuted": false,
                "source_hash": "b31fd813",
                "execution_start": 1636321155152,
                "execution_millis": 16,
                "deepnote_cell_type": "code"
            },
            "source": "\n",
            "outputs": [],
            "execution_count": null
        },
        {
            "cell_type": "markdown",
            "source": "What was the average ticket fare for each class?  Did it depend on the embarking city?",
            "metadata": {
                "id": "viral-drive",
                "cell_id": "00036-e2fcd1cb-3f32-4095-a64d-ae9ea609764c",
                "deepnote_cell_type": "markdown"
            }
        },
        {
            "cell_type": "code",
            "metadata": {
                "id": "earned-attack",
                "cell_id": "00037-c405b952-4f5c-4b62-8850-7f7aec40e5cf",
                "deepnote_to_be_reexecuted": false,
                "source_hash": "b31fd813",
                "execution_start": 1636321159239,
                "execution_millis": 6,
                "deepnote_cell_type": "code"
            },
            "source": "\n",
            "outputs": [],
            "execution_count": null
        },
        {
            "cell_type": "markdown",
            "source": "What was the age of the survivors vs non-survivors, when sex is considered as a factor?",
            "metadata": {
                "id": "harmful-excitement",
                "cell_id": "00038-efc63f4c-e2ed-426b-a440-5ee8cbfd4308",
                "deepnote_cell_type": "markdown"
            }
        },
        {
            "cell_type": "code",
            "metadata": {
                "id": "macro-color",
                "cell_id": "00039-16e161fc-0cc7-4296-84f2-f6151982abf7",
                "deepnote_to_be_reexecuted": false,
                "source_hash": "b623e53d",
                "execution_start": 1636321165638,
                "execution_millis": 0,
                "deepnote_cell_type": "code"
            },
            "source": "",
            "outputs": [],
            "execution_count": null
        },
        {
            "cell_type": "markdown",
            "source": "<a style='text-decoration:none;line-height:16px;display:flex;color:#5B5B62;padding:10px;justify-content:end;' href='https://deepnote.com?utm_source=created-in-deepnote-cell&projectId=61a4b91b-9261-42f0-a4f5-a139c5d33a06' target=\"_blank\">\n<img alt='Created in deepnote.com' style='display:inline;max-height:16px;margin:0px;margin-right:7.5px;' src='data:image/svg+xml;base64,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' > </img>\nCreated in <span style='font-weight:600;margin-left:4px;'>Deepnote</span></a>",
            "metadata": {
                "tags": [],
                "created_in_deepnote_cell": true,
                "deepnote_cell_type": "markdown"
            }
        }
    ],
    "nbformat": 4,
    "nbformat_minor": 5,
    "metadata": {
        "kernelspec": {
            "display_name": "Python 3",
            "language": "python",
            "name": "python3"
        },
        "language_info": {
            "codemirror_mode": {
                "name": "ipython",
                "version": 3
            },
            "file_extension": ".py",
            "mimetype": "text/x-python",
            "name": "python",
            "nbconvert_exporter": "python",
            "pygments_lexer": "ipython3",
            "version": "3.8.3"
        },
        "colab": {
            "name": "14_Groupby_Seaborn.ipynb",
            "provenance": []
        },
        "deepnote_notebook_id": "200028b5-d356-42c7-bd8a-c23539b7340c",
        "deepnote": {},
        "deepnote_execution_queue": []
    }
}