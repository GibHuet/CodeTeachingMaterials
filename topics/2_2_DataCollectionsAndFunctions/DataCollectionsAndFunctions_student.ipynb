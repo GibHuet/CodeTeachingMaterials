{
    "cells": [
        {
            "cell_type": "markdown",
            "metadata": {
                "cell_id": "00000-0d09d641-92a2-4753-b2a8-1effebf00480",
                "deepnote_cell_type": "markdown",
                "id": "opening-gross"
            },
            "source": [
                "## Grouping Together Your Data into a Collection\n",
                "Python also has operators for collecting related data together.  Most of this course will revolve around the pros and cons of different ways of collecting data, but let's take a look at them:\n",
                "\n",
                "| \"tuple\" (fixed sequence) | \"list\" (changeable sequence) | \"str\" (sequence of text characters) |  \"set\" {mathematical set) \n",
                "| :---------:| :----:    | :--------:    | :--------:    |\n",
                "|  (1, 2, 3) | [1, 2, 3] | \"123\" or '123' | {1, 2, 3} |"
            ]
        },
        {
            "cell_type": "markdown",
            "metadata": {
                "cell_id": "00001-126457cc-58dd-438a-9663-a13a66b4d715",
                "deepnote_cell_type": "markdown",
                "id": "precise-language"
            },
            "source": [
                "#### Group Exercises: Making Collections"
            ]
        },
        {
            "cell_type": "markdown",
            "metadata": {
                "cell_id": "00002-1da4deee-0ccd-4b09-a4bb-e969b72cbbbc",
                "deepnote_cell_type": "markdown",
                "tags": []
            },
            "source": [
                "Example: Make a **list** of the first three positive even numbers"
            ]
        },
        {
            "cell_type": "code",
            "execution_count": 1,
            "metadata": {
                "cell_id": "00003-f9c94ddf-acc7-405d-a99f-b10573b74288",
                "deepnote_cell_type": "code",
                "tags": []
            },
            "outputs": [
                {
                    "data": {
                        "text/plain": [
                            "[2, 4, 6]"
                        ]
                    },
                    "execution_count": 1,
                    "metadata": {},
                    "output_type": "execute_result"
                }
            ],
            "source": [
                "[2, 4, 6]"
            ]
        },
        {
            "cell_type": "markdown",
            "id": "503cb671",
            "metadata": {},
            "source": [
                "Make a **tuple** of the first three odd numbers."
            ]
        },
        {
            "cell_type": "code",
            "execution_count": null,
            "id": "ef89ca60",
            "metadata": {},
            "outputs": [],
            "source": []
        },
        {
            "cell_type": "markdown",
            "metadata": {
                "cell_id": "00008-b8e395e4-eecd-4ea9-a0cc-22e3ce0b8c21",
                "deepnote_cell_type": "markdown",
                "id": "transparent-phone"
            },
            "source": [
                "Make a **tuple** containing the names of two countries in Europe."
            ]
        },
        {
            "cell_type": "code",
            "execution_count": null,
            "metadata": {
                "cell_id": "00009-7805e73d-b53a-4fe9-8c19-4cc5120e1945",
                "deepnote_cell_type": "code",
                "id": "chinese-manual"
            },
            "outputs": [],
            "source": []
        },
        {
            "cell_type": "markdown",
            "metadata": {
                "cell_id": "00010-e80f9562-135c-421c-86dd-6edbbf6b8565",
                "deepnote_cell_type": "markdown",
                "id": "facial-triumph"
            },
            "source": [
                "Make a **set** of three animals."
            ]
        },
        {
            "cell_type": "code",
            "execution_count": null,
            "metadata": {
                "cell_id": "00011-c4292922-728b-48e5-b526-f1ca1f7583e8",
                "deepnote_cell_type": "code",
                "id": "according-homework"
            },
            "outputs": [],
            "source": []
        },
        {
            "cell_type": "markdown",
            "metadata": {
                "cell_id": "00012-67d204e4-e78a-4e95-883b-b48f8ba4c787",
                "deepnote_cell_type": "markdown",
                "id": "western-gardening"
            },
            "source": [
                "Collect the set of all letters in your first name."
            ]
        },
        {
            "cell_type": "code",
            "execution_count": null,
            "metadata": {
                "cell_id": "00013-2b5bf28a-d118-4c1b-8d57-c89e942424df",
                "deepnote_cell_type": "code",
                "id": "younger-playlist"
            },
            "outputs": [],
            "source": []
        },
        {
            "cell_type": "markdown",
            "metadata": {
                "cell_id": "00019-05fe77b5-7f9a-4d76-9a0d-331e064bab6c",
                "deepnote_cell_type": "markdown",
                "id": "modern-looking"
            },
            "source": [
                "## Statistics Functions from Numpy\n",
                "\n",
                "**Numpy** is a Python package that, among other things, has many useful statistics **functions**.  These take any array-like object as an input and can be found inside the **np** library.  Sometimes, the same functionality can be found both as a Numpy function  and an array method, giving you the choice of how you'd like to use it.  \n",
                "\n",
                "\n",
                "```python\n",
                ">>> np.mean([1, 2, 3, 4])\n",
                "2.5\n",
                "\n",
                ">>> np.ptp([1, 2, 3, 4])\n",
                "3\n",
                "```\n",
                "\n",
                "A couple lists of functions in Numpy can be found here:\n",
                "  - Math:  https://docs.scipy.org/doc/numpy-1.13.0/reference/routines.math.html\n",
                "  - Statistics: https://docs.scipy.org/doc/numpy-1.13.0/reference/routines.statistics.html\n",
                "\n",
                "\n",
                "Some useful function names: mean, min, sum, max, var, std, p2p, median, nanmedian, nanmax, nanmean, nanmin\n",
                "\n",
                "We'll see more later."
            ]
        },
        {
            "cell_type": "markdown",
            "metadata": {
                "cell_id": "00020-4d7b06d3-6261-4efc-b7fe-b880c8430f68",
                "deepnote_cell_type": "markdown",
                "id": "decent-plaza"
            },
            "source": [
                "**Exercise**: Using only Numpy functions, calculate the statistics on the following numbers:"
            ]
        },
        {
            "cell_type": "code",
            "execution_count": 4,
            "metadata": {
                "cell_id": "00021-a3c4c364-8682-4130-a39c-7db20ef3e27d",
                "colab": {
                    "base_uri": "https://localhost:8080/",
                    "height": 34
                },
                "deepnote_cell_type": "code",
                "id": "associate-banana",
                "outputId": "5298642f-ebaa-49e1-b231-58bd624e5706"
            },
            "outputs": [
                {
                    "data": {
                        "text/plain": [
                            "[2, 8, 5, 9, 2, 4, 6]"
                        ]
                    },
                    "execution_count": 4,
                    "metadata": {},
                    "output_type": "execute_result"
                }
            ],
            "source": [
                "import numpy as np\n",
                "data = [2, 8, 5, 9, 2, 4, 6]\n",
                "data"
            ]
        },
        {
            "cell_type": "markdown",
            "id": "2e57214d",
            "metadata": {},
            "source": [
                "**Example**: What is the maximum of the data?"
            ]
        },
        {
            "cell_type": "code",
            "execution_count": 5,
            "id": "4f115235",
            "metadata": {},
            "outputs": [
                {
                    "data": {
                        "text/plain": [
                            "9"
                        ]
                    },
                    "execution_count": 5,
                    "metadata": {},
                    "output_type": "execute_result"
                }
            ],
            "source": [
                "np.max(data)"
            ]
        },
        {
            "cell_type": "markdown",
            "metadata": {
                "cell_id": "00022-ee7ff207-0545-4eeb-ad5e-db153f7ba426",
                "deepnote_cell_type": "markdown",
                "id": "residential-international"
            },
            "source": [
                "What is the mean of the data?"
            ]
        },
        {
            "cell_type": "code",
            "execution_count": 6,
            "metadata": {
                "cell_id": "00023-ec610c5e-cfe0-4942-a65f-a96ef7f520c6",
                "deepnote_cell_type": "code",
                "id": "running-thought"
            },
            "outputs": "",
            "source": ""
        },
        {
            "cell_type": "markdown",
            "metadata": {
                "cell_id": "00024-8b3f149b-5f05-4e2d-b4cc-d721f7766d0c",
                "deepnote_cell_type": "markdown",
                "id": "wrong-brooklyn"
            },
            "source": [
                "What is the sum of the data?"
            ]
        },
        {
            "cell_type": "code",
            "execution_count": 7,
            "metadata": {
                "cell_id": "00025-f737f1e8-12ad-401d-b38e-93338340dc2f",
                "deepnote_cell_type": "code",
                "id": "impressive-robertson"
            },
            "outputs": "",
            "source": ""
        },
        {
            "cell_type": "markdown",
            "metadata": {
                "cell_id": "00026-7d263187-ae2d-41e8-8f47-bb6f4e8430ec",
                "deepnote_cell_type": "markdown",
                "id": "alternative-consequence"
            },
            "source": [
                "What is the minimum of the data?"
            ]
        },
        {
            "cell_type": "code",
            "execution_count": 8,
            "metadata": {
                "cell_id": "00027-28c338ea-01be-4eba-acd6-ee4697122ba4",
                "deepnote_cell_type": "code",
                "id": "arabic-account"
            },
            "outputs": "",
            "source": ""
        },
        {
            "cell_type": "markdown",
            "metadata": {
                "cell_id": "00028-74e78c20-be93-4831-b35e-d20c36c8a893",
                "deepnote_cell_type": "markdown",
                "id": "laden-congress"
            },
            "source": [
                "The variance?"
            ]
        },
        {
            "cell_type": "code",
            "execution_count": 9,
            "metadata": {
                "cell_id": "00029-59c9a974-ee56-45f2-a22b-3139e3032436",
                "deepnote_cell_type": "code",
                "id": "fossil-repeat"
            },
            "outputs": "",
            "source": ""
        },
        {
            "cell_type": "markdown",
            "metadata": {
                "cell_id": "00030-12cf5b1d-803d-45f1-936c-a99001aa50c5",
                "deepnote_cell_type": "markdown",
                "id": "ruled-electron"
            },
            "source": [
                "The standard deviation?"
            ]
        },
        {
            "cell_type": "code",
            "execution_count": 10,
            "metadata": {
                "cell_id": "00031-05c9ffff-4f32-4157-881d-ca67a4f5505c",
                "deepnote_cell_type": "code",
                "id": "latin-packet"
            },
            "outputs": "",
            "source": ""
        },
        {
            "cell_type": "markdown",
            "metadata": {
                "cell_id": "00034-c66751fc-3473-44c2-94bf-3f82dba35126",
                "deepnote_cell_type": "markdown",
                "id": "smoking-deadline"
            },
            "source": [
                "The data's median?"
            ]
        },
        {
            "cell_type": "code",
            "execution_count": 11,
            "metadata": {
                "cell_id": "00035-182bd439-ff2f-4dec-bee3-1774ac0b8b40",
                "deepnote_cell_type": "code",
                "id": "knowing-polls"
            },
            "outputs": "",
            "source": ""
        },
        {
            "cell_type": "markdown",
            "metadata": {
                "cell_id": "00022-99c77c15-d279-42d7-82b3-eea2f3f34a77",
                "deepnote_cell_type": "markdown"
            },
            "source": [
                "# Arrays in Numpy\n",
                "\n",
                "**Numpy** has a very useful data collection: the **array**.  Arrays are very similar to lists, with one exception:\n",
                "  - **all elements in the array must be of the same data type (e.g. int, float, bool)**\n",
                "  \n",
                "Despite that limitation, arrays are extremely useful for data analysis, and we'll be taking advantage of its many features throughout the course.  So let's start by learning how to easily generate different patterns of data with arrays!"
            ]
        },
        {
            "cell_type": "markdown",
            "metadata": {
                "cell_id": "00023-a285c979-7223-466b-b106-91e62d3c17eb",
                "colab_type": "text",
                "deepnote_cell_type": "markdown",
                "id": "TiadUOo7Z8Y9"
            },
            "source": [
                "### Building Arrays\n",
                "\n",
                "Let's generate some arrays using Numpy functions!  Some commonly-used are examples are **arange()**, **linspace()**, **zeros()**, and the random number generation functions in **random**.\n",
                "\n",
                "| function | Purpose |  Example |\n",
                "| :-----------: | :-------------: | :-------------: |\n",
                "| **np.array()**  | Turns a list into an array |   np.array([2, 5, 3]) |\n",
                "| **np.arange()**                  | Makes an array with all the integers between two values | np.arange(2, 7) |\n",
                "| **np.linspace()**               | Makes a specific-length array |  np.linspace(2, 3, 10) |\n",
                "| **np.zeros()**                    | Makes an array of all zeros | np.zeros(5) |\n",
                "| **np.ones()**                     | Makes an array of all ones | np.ones(3) |\n",
                "| **np.random.random()** | Makes an array of random numbers | np.random.random(100) |\n",
                "| **np.random.randn()**     | Makes an array of normally-distributed random numbers | np.random.randn(100) |\n"
            ]
        },
        {
            "cell_type": "markdown",
            "metadata": {
                "cell_id": "00024-08c4cebc-45c8-46b0-a6a6-92216b98ba66",
                "deepnote_cell_type": "markdown"
            },
            "source": [
                "#### Exercises"
            ]
        },
        {
            "cell_type": "markdown",
            "metadata": {
                "cell_id": "00025-e80cc5a4-30fe-4865-9f2e-a25b5b8f7296",
                "deepnote_cell_type": "markdown"
            },
            "source": [
                "Import the numpy package as `np`:"
            ]
        },
        {
            "cell_type": "code",
            "execution_count": 12,
            "metadata": {
                "cell_id": "00026-293917c4-be75-4b8f-b2ea-3deea85e1513",
                "deepnote_cell_type": "code",
                "deepnote_to_be_reexecuted": false,
                "execution_millis": 3,
                "execution_start": 1635926346808,
                "source_hash": "b623e53d"
            },
            "outputs": [],
            "source": [
                "import numpy as np"
            ]
        },
        {
            "cell_type": "markdown",
            "metadata": {
                "cell_id": "00027-6d422651-6d50-4c05-96a3-0870f9849414",
                "deepnote_cell_type": "markdown"
            },
            "source": [
                "Turn this list into an array:"
            ]
        },
        {
            "cell_type": "code",
            "execution_count": null,
            "metadata": {
                "cell_id": "00028-3be8e884-3465-44fb-8c40-f68b4ad6ec5e",
                "deepnote_cell_type": "code",
                "deepnote_to_be_reexecuted": false,
                "execution_millis": 11,
                "execution_start": 1628638573556,
                "source_hash": "78a15f0d"
            },
            "outputs": [
                {
                    "data": {
                        "text/plain": [
                            "[4, 7, 6, 1]"
                        ]
                    },
                    "execution_count": 3,
                    "metadata": {},
                    "output_type": "execute_result"
                }
            ],
            "source": [
                "[4, 7, 6, 1]"
            ]
        },
        {
            "cell_type": "markdown",
            "metadata": {
                "cell_id": "00029-e5092358-c76e-406d-ad6c-5a431dba0310",
                "colab_type": "text",
                "deepnote_cell_type": "markdown",
                "id": "yhtqOOlKZ8ZC"
            },
            "source": [
                "Make an array containing the integers from 1 to 15."
            ]
        },
        {
            "cell_type": "code",
            "execution_count": 14,
            "metadata": {
                "cell_id": "00030-6c3db986-2958-465d-bdb1-11070acb209b",
                "colab": {},
                "colab_type": "code",
                "deepnote_cell_type": "code",
                "id": "lzwPrnZcZ8ZE"
            },
            "outputs": [
                {
                    "data": {
                        "text/plain": [
                            "array([ 1,  2,  3,  4,  5,  6,  7,  8,  9, 10, 11, 12, 13, 14, 15])"
                        ]
                    },
                    "execution_count": 14,
                    "metadata": {},
                    "output_type": "execute_result"
                }
            ],
            "source": [
                "np.arange(1, 16)"
            ]
        },
        {
            "cell_type": "markdown",
            "id": "8b5e3244",
            "metadata": {
                "cell_id": "00042-21a02a66-5405-41d0-b039-a81e9476392a",
                "deepnote_cell_type": "markdown",
                "tags": []
            },
            "source": [
                "Make an array of the values from 2 and 6, spaced 0.5 from each other."
            ]
        },
        {
            "cell_type": "code",
            "execution_count": 16,
            "id": "e9e9b1d8",
            "metadata": {},
            "outputs": [
                {
                    "data": {
                        "text/plain": [
                            "array([2. , 2.5, 3. , 3.5, 4. , 4.5, 5. , 5.5, 6. ])"
                        ]
                    },
                    "execution_count": 16,
                    "metadata": {},
                    "output_type": "execute_result"
                }
            ],
            "source": [
                "np.arange(2, 6.1, 0.5)"
            ]
        },
        {
            "cell_type": "markdown",
            "metadata": {
                "cell_id": "00031-52ee635f-f1d5-454a-bd28-d7c51053188c",
                "deepnote_cell_type": "markdown"
            },
            "source": [
                "Make an array of only 6 numbers between 1 and 10, evenly-spaced between them."
            ]
        },
        {
            "cell_type": "code",
            "execution_count": 17,
            "id": "3c7738d3",
            "metadata": {
                "cell_id": "00032-b4f8251f-e83d-4a01-b012-735f63123e82",
                "deepnote_cell_type": "markdown"
            },
            "outputs": [
                {
                    "data": {
                        "text/plain": [
                            "array([ 1. ,  2.8,  4.6,  6.4,  8.2, 10. ])"
                        ]
                    },
                    "execution_count": 17,
                    "metadata": {},
                    "output_type": "execute_result"
                }
            ],
            "source": [
                "np.linspace(1, 10, 6)"
            ]
        },
        {
            "cell_type": "markdown",
            "id": "6b5bb672",
            "metadata": {
                "cell_id": "00039-80ae3ba1-ea0a-4811-ad25-3f37c5b5fbcf",
                "deepnote_cell_type": "markdown"
            },
            "source": [
                "How about an array of 10 evenly-spaced values between 100 and 1000?"
            ]
        },
        {
            "cell_type": "code",
            "execution_count": 25,
            "id": "127e1a91",
            "metadata": {},
            "outputs": [
                {
                    "data": {
                        "text/plain": [
                            "array([ 100.,  200.,  300.,  400.,  500.,  600.,  700.,  800.,  900.,\n",
                            "       1000.])"
                        ]
                    },
                    "execution_count": 25,
                    "metadata": {},
                    "output_type": "execute_result"
                }
            ],
            "source": [
                "np.linspace(100, 1000, 10)"
            ]
        },
        {
            "cell_type": "markdown",
            "metadata": {
                "cell_id": "00033-57810e2c-6331-4992-aad5-cc15c9a531fa",
                "deepnote_cell_type": "markdown"
            },
            "source": [
                "Turn this list into a an array..."
            ]
        },
        {
            "cell_type": "code",
            "execution_count": 21,
            "metadata": {
                "cell_id": "00034-1d9926f3-790b-4bf4-bedb-d433a6d96073",
                "deepnote_cell_type": "code"
            },
            "outputs": [
                {
                    "data": {
                        "text/plain": [
                            "[True, False, False, True]"
                        ]
                    },
                    "execution_count": 21,
                    "metadata": {},
                    "output_type": "execute_result"
                }
            ],
            "source": [
                "a = [True, False, False, True]\n",
                "a"
            ]
        },
        {
            "cell_type": "code",
            "execution_count": 20,
            "id": "7faa4541",
            "metadata": {},
            "outputs": [
                {
                    "data": {
                        "text/plain": [
                            "array([ True, False, False,  True])"
                        ]
                    },
                    "execution_count": 20,
                    "metadata": {},
                    "output_type": "execute_result"
                }
            ],
            "source": [
                "np.array(a)"
            ]
        },
        {
            "cell_type": "markdown",
            "metadata": {
                "cell_id": "00035-68363c24-99ad-49c6-ac49-ea0b5cd52222",
                "colab_type": "text",
                "deepnote_cell_type": "markdown",
                "id": "15ZzOLSPZ8ZI"
            },
            "source": [
                "Make an array containing 20 zeros."
            ]
        },
        {
            "cell_type": "code",
            "execution_count": 22,
            "metadata": {
                "cell_id": "00036-eac2d039-e46b-4a8a-8eb6-6936e8e762a3",
                "colab": {},
                "colab_type": "code",
                "deepnote_cell_type": "code",
                "id": "eNGUx1K0Z8ZI"
            },
            "outputs": [
                {
                    "data": {
                        "text/plain": [
                            "array([0., 0., 0., 0., 0., 0., 0., 0., 0., 0., 0., 0., 0., 0., 0., 0., 0.,\n",
                            "       0., 0., 0.])"
                        ]
                    },
                    "execution_count": 22,
                    "metadata": {},
                    "output_type": "execute_result"
                }
            ],
            "source": [
                "np.zeros(20)"
            ]
        },
        {
            "cell_type": "markdown",
            "metadata": {
                "cell_id": "00037-3ddedebe-298f-4305-aed4-c0ba6499cf9d",
                "colab_type": "text",
                "deepnote_cell_type": "markdown",
                "id": "TjRMDeh1Z8ZL"
            },
            "source": [
                "Make an array contain 20 ones!"
            ]
        },
        {
            "cell_type": "code",
            "execution_count": 24,
            "metadata": {
                "cell_id": "00038-8ad22f48-7022-4067-b158-5134164e04aa",
                "colab": {},
                "colab_type": "code",
                "deepnote_cell_type": "code",
                "id": "J3Y7BeuYZ8ZM"
            },
            "outputs": [
                {
                    "data": {
                        "text/plain": [
                            "array([1., 1., 1., 1., 1., 1., 1., 1., 1., 1., 1., 1., 1., 1., 1., 1., 1.,\n",
                            "       1., 1., 1.])"
                        ]
                    },
                    "execution_count": 24,
                    "metadata": {},
                    "output_type": "execute_result"
                }
            ],
            "source": [
                "np.ones(20)"
            ]
        },
        {
            "cell_type": "markdown",
            "metadata": {
                "cell_id": "00041-49edd086-6d0c-4d30-b0f6-8455f08ea0ad",
                "colab_type": "text",
                "deepnote_cell_type": "markdown",
                "id": "dvzWUJS_Z8ZO"
            },
            "source": [
                "Generate an array of 10 random numbers"
            ]
        },
        {
            "cell_type": "code",
            "execution_count": 26,
            "metadata": {
                "cell_id": "00042-7524becf-99c3-4b66-8bbe-e4f81e3aae63",
                "colab": {},
                "colab_type": "code",
                "deepnote_cell_type": "code",
                "id": "_W3Xjv_BZ8ZP"
            },
            "outputs": [
                {
                    "data": {
                        "text/plain": [
                            "array([0.00260908, 0.63026806, 0.21361039, 0.5251968 , 0.13778592,\n",
                            "       0.974034  , 0.44345238, 0.40914629, 0.38656548, 0.27392163])"
                        ]
                    },
                    "execution_count": 26,
                    "metadata": {},
                    "output_type": "execute_result"
                }
            ],
            "source": [
                "np.random.random(10)"
            ]
        },
        {
            "cell_type": "markdown",
            "metadata": {
                "cell_id": "00043-b8b1c62b-86db-44e3-9ebf-4fa8a5b4211a",
                "deepnote_cell_type": "markdown"
            },
            "source": [
                "### Combining array generation with statistics functions\n",
                "\n",
                "These exercises all involve two steps:\n",
                "  1. Make the data\n",
                "  2. Calculate something on the data\n",
                "\n",
                "for example:\n",
                "```python\n",
                "np.mean(np.arange(1, 10))  # the mean of the integers from 1 to 9\n",
                "```"
            ]
        },
        {
            "cell_type": "markdown",
            "metadata": {
                "cell_id": "00044-da49bd14-9918-4879-8201-21fa09190814",
                "deepnote_cell_type": "markdown"
            },
            "source": [
                "#### Exercises"
            ]
        },
        {
            "cell_type": "markdown",
            "metadata": {
                "cell_id": "00045-1de88239-5c67-44ff-a64a-82882d87d6fb",
                "deepnote_cell_type": "markdown"
            },
            "source": [
                "Example: What is the standard deviation of the integers between 2 and 20?"
            ]
        },
        {
            "cell_type": "code",
            "execution_count": 27,
            "metadata": {
                "cell_id": "00046-070a112b-f48a-4afb-ad7c-1dccce3cf66f",
                "deepnote_cell_type": "code"
            },
            "outputs": [
                {
                    "data": {
                        "text/plain": [
                            "5.477225575051661"
                        ]
                    },
                    "execution_count": 27,
                    "metadata": {},
                    "output_type": "execute_result"
                }
            ],
            "source": [
                "np.std(np.arange(2, 21))"
            ]
        },
        {
            "cell_type": "markdown",
            "id": "d1e7b038",
            "metadata": {},
            "source": [
                "Is it the same as the standard deviation of the integers between 1 and 10?"
            ]
        },
        {
            "cell_type": "code",
            "execution_count": 28,
            "id": "bac793f9",
            "metadata": {},
            "outputs": [
                {
                    "data": {
                        "text/plain": [
                            "3.1622776601683795"
                        ]
                    },
                    "execution_count": 28,
                    "metadata": {},
                    "output_type": "execute_result"
                }
            ],
            "source": [
                "np.std(np.arange(11))"
            ]
        },
        {
            "cell_type": "markdown",
            "metadata": {
                "cell_id": "00047-2a8ac491-a0e2-4b2f-adbd-7f1999d7b24b",
                "deepnote_cell_type": "markdown"
            },
            "source": [
                "What is the standard deviation of the numbers generated from the np.random.randn() function?  "
            ]
        },
        {
            "cell_type": "code",
            "execution_count": 29,
            "metadata": {
                "cell_id": "00048-a3dbc532-6bea-4cd7-b75a-a9cc517ba463",
                "deepnote_cell_type": "code"
            },
            "outputs": [
                {
                    "data": {
                        "text/plain": [
                            "1.0204318052571688"
                        ]
                    },
                    "execution_count": 29,
                    "metadata": {},
                    "output_type": "execute_result"
                }
            ],
            "source": [
                "np.std(np.random.randn(100))"
            ]
        },
        {
            "cell_type": "markdown",
            "metadata": {
                "cell_id": "00049-50e9ef97-b422-4c37-ac22-785a1b1f719a",
                "deepnote_cell_type": "markdown"
            },
            "source": [
                "What is the sum of an array of 100 ones?"
            ]
        },
        {
            "cell_type": "code",
            "execution_count": 32,
            "metadata": {
                "cell_id": "00050-6766af38-1c0a-43a2-983c-d420c3eec973",
                "deepnote_cell_type": "code"
            },
            "outputs": [
                {
                    "data": {
                        "text/plain": [
                            "100.0"
                        ]
                    },
                    "execution_count": 32,
                    "metadata": {},
                    "output_type": "execute_result"
                }
            ],
            "source": [
                "np.sum(np.ones(100))"
            ]
        },
        {
            "cell_type": "markdown",
            "metadata": {
                "cell_id": "00051-b10aaab1-79d7-42ce-ac05-3b1a54d11a53",
                "deepnote_cell_type": "markdown"
            },
            "source": [
                "What is the sum of an array of 100 zeros?"
            ]
        },
        {
            "cell_type": "code",
            "execution_count": 34,
            "metadata": {
                "cell_id": "00052-771ec6ac-a47c-41ac-8043-09e0a356228f",
                "deepnote_cell_type": "code"
            },
            "outputs": [
                {
                    "data": {
                        "text/plain": [
                            "0.0"
                        ]
                    },
                    "execution_count": 34,
                    "metadata": {},
                    "output_type": "execute_result"
                }
            ],
            "source": [
                "np.sum(np.zeros(100))"
            ]
        },
        {
            "cell_type": "markdown",
            "metadata": {
                "cell_id": "00064-a115fb36-fc79-434f-973a-ab79438ed4a7",
                "deepnote_cell_type": "markdown",
                "tags": []
            },
            "source": [
                "### Array Broadcasting: Combing Arrays with Operators\n",
                "\n",
                "Remember our math operators?  We can use them on arrays, too!\n",
                "\n",
                "|Assign to a Variable, | | Add,  | Subract, | Multiply, | Divide, | Power, | Integer Divide, | Remainder after Division | \n",
                "|  :---------------:  | :-: |:---:| :-----: | :------: | :----: | :---: | :------------: | :----------------------: |\n",
                "|         =           | | +   |    -    |    *     |   /    |   **  |       //       |           %              |\n",
                "\n",
                "Numpy also has functions that can transform each value in an array using a math operation.  For example: `np.log()`, `np.abs()`, `np.sin()`, `np.cos()`, `np.tan()`, `np.sqrt()`"
            ]
        },
        {
            "cell_type": "markdown",
            "metadata": {
                "cell_id": "00065-d6303712-f2ac-41d9-a170-fccdab1b21ff",
                "deepnote_cell_type": "markdown",
                "tags": []
            },
            "source": [
                "**Exercises**"
            ]
        },
        {
            "cell_type": "markdown",
            "metadata": {
                "cell_id": "00066-19e165c2-ab50-42fc-8c51-0729d3adb3eb",
                "deepnote_cell_type": "markdown",
                "tags": []
            },
            "source": [
                "Example: Add 10 to all of the numbers below"
            ]
        },
        {
            "cell_type": "code",
            "execution_count": 35,
            "metadata": {
                "cell_id": "00067-49e6713b-5151-4335-a485-a810d8e13ec0",
                "deepnote_cell_type": "code",
                "tags": []
            },
            "outputs": [
                {
                    "data": {
                        "text/plain": [
                            "array([11, 13, 16, 18, 20])"
                        ]
                    },
                    "execution_count": 35,
                    "metadata": {},
                    "output_type": "execute_result"
                }
            ],
            "source": [
                "x = np.array([1, 3, 6, 8, 10])\n",
                "x + 10"
            ]
        },
        {
            "cell_type": "markdown",
            "metadata": {
                "cell_id": "00068-a139d719-bc2b-4ddb-bfc3-ca4abee1d21e",
                "deepnote_cell_type": "markdown",
                "tags": []
            },
            "source": [
                "Multiply everything in the array below by 10"
            ]
        },
        {
            "cell_type": "code",
            "execution_count": null,
            "metadata": {
                "cell_id": "00068-768889a0-12a8-4a10-8dac-19fa1cf275a2",
                "deepnote_cell_type": "code",
                "tags": []
            },
            "outputs": [],
            "source": [
                "np.array([1, 3, 6, 8, 10])"
            ]
        },
        {
            "cell_type": "code",
            "execution_count": 36,
            "id": "3f858cf5",
            "metadata": {},
            "outputs": "",
            "source": ""
        },
        {
            "cell_type": "markdown",
            "metadata": {
                "cell_id": "00070-ee856bf5-4c82-476f-af9c-0cd7cf65cdf8",
                "deepnote_cell_type": "markdown",
                "tags": []
            },
            "source": [
                "Multiply all the numbers from 1 to 100 by 1000"
            ]
        },
        {
            "cell_type": "code",
            "execution_count": 38,
            "metadata": {
                "cell_id": "00071-6a611368-9e05-4c38-a0fa-2c529b5d4878",
                "deepnote_cell_type": "code",
                "tags": []
            },
            "outputs": "",
            "source": ""
        },
        {
            "cell_type": "markdown",
            "metadata": {
                "cell_id": "00072-88f9ebdd-537b-4ccf-834e-4112b683c7a7",
                "deepnote_cell_type": "markdown",
                "tags": []
            },
            "source": [
                "**Example**: Calculate the absolute value of the following data"
            ]
        },
        {
            "cell_type": "code",
            "execution_count": 40,
            "id": "71262d3d",
            "metadata": {},
            "outputs": [
                {
                    "data": {
                        "text/plain": [
                            "array([ 5,  7,  2,  4, 10])"
                        ]
                    },
                    "execution_count": 40,
                    "metadata": {},
                    "output_type": "execute_result"
                }
            ],
            "source": [
                "x = np.array([-5, 7, -2, 4, -10])\n",
                "np.abs(x)"
            ]
        },
        {
            "cell_type": "markdown",
            "metadata": {
                "cell_id": "00072-a29d31d8-2e5d-4910-822b-63712254dca5",
                "deepnote_cell_type": "markdown",
                "deepnote_to_be_reexecuted": false,
                "execution_millis": 19,
                "execution_start": 1635926796787,
                "source_hash": "a258c5fb",
                "tags": []
            },
            "source": [
                "Calculate the cosine of all integers between 0 and 6"
            ]
        },
        {
            "cell_type": "code",
            "execution_count": 42,
            "metadata": {
                "cell_id": "00073-420ea26d-8f8e-46a0-8a9d-3860e7281424",
                "deepnote_cell_type": "code",
                "tags": []
            },
            "outputs": "",
            "source": ""
        },
        {
            "cell_type": "markdown",
            "metadata": {
                "cell_id": "00074-44e2f406-b661-4c81-8d0e-f67a08c16de1",
                "deepnote_cell_type": "markdown",
                "tags": []
            },
            "source": [
                "Calculate the square root of 10 uniformly-generated numbers between 1 and 5 (tip: `np.random.uniform`)"
            ]
        },
        {
            "cell_type": "code",
            "execution_count": 45,
            "metadata": {
                "cell_id": "00075-1d931b59-9045-4bbf-b51d-05729b2c2335",
                "deepnote_cell_type": "code",
                "tags": []
            },
            "outputs": "",
            "source": ""
        },
        {
            "cell_type": "markdown",
            "metadata": {
                "created_in_deepnote_cell": true,
                "deepnote_cell_type": "markdown",
                "tags": []
            },
            "source": [
                "<a style='text-decoration:none;line-height:16px;display:flex;color:#5B5B62;padding:10px;justify-content:end;' href='https://deepnote.com?utm_source=created-in-deepnote-cell&projectId=5f82c9ae-724d-4175-af3a-f3de86574cfe' target=\"_blank\">\n",
                "<img alt='Created in deepnote.com' style='display:inline;max-height:16px;margin:0px;margin-right:7.5px;' src='data:image/svg+xml;base64,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' > </img>\n",
                "Created in <span style='font-weight:600;margin-left:4px;'>Deepnote</span></a>"
            ]
        }
    ],
    "metadata": {
        "colab": {
            "name": "2 Numpy Stats.ipynb",
            "provenance": []
        },
        "deepnote": {},
        "deepnote_execution_queue": [],
        "deepnote_notebook_id": "6c2c8942-2c7c-4ec3-8ced-61fa0f3602f8",
        "kernelspec": {
            "display_name": "Python 3.10.4 ('py10')",
            "language": "python",
            "name": "python3"
        },
        "language_info": {
            "codemirror_mode": {
                "name": "ipython",
                "version": 3
            },
            "file_extension": ".py",
            "mimetype": "text/x-python",
            "name": "python",
            "nbconvert_exporter": "python",
            "pygments_lexer": "ipython3",
            "version": "3.10.4"
        },
        "vscode": {
            "interpreter": {
                "hash": "d6852d01271bf8033dbdb7ec364b6f6e89fd52a18c6bf5b4c73e48c86329a8dd"
            }
        }
    },
    "nbformat": 4,
    "nbformat_minor": 5
}