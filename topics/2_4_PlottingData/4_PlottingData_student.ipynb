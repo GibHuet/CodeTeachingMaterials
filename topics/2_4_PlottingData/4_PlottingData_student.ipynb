{
    "cells": [
        {
            "cell_type": "code",
            "metadata": {
                "tags": [],
                "cell_id": "00000-9c6e665a-8b86-48fc-8e14-1f3c3079e8ed",
                "deepnote_to_be_reexecuted": false,
                "source_hash": "eba39436",
                "execution_start": 1635922041996,
                "execution_millis": 5197,
                "deepnote_cell_type": "code"
            },
            "source": "import numpy as np\nimport matplotlib.pyplot as plt",
            "outputs": [],
            "execution_count": null
        },
        {
            "cell_type": "markdown",
            "source": "# Matplotlib 1: Plotting Data",
            "metadata": {
                "tags": [],
                "cell_id": "00001-8ca1848f-4ca9-4960-ad8b-4cf990e117e5",
                "deepnote_to_be_reexecuted": false,
                "source_hash": "65ebe991",
                "execution_start": 1635923219886,
                "execution_millis": 5,
                "deepnote_cell_type": "markdown"
            },
            "outputs": [],
            "execution_count": 11
        },
        {
            "cell_type": "markdown",
            "source": "\n### Thought Experiment\n\nHow you present your data affects how you perceive your data.  For example, compare the list of values and the line plot below.  Are these the same or different data?\n\n##### a Graphical Representation of Data\n\n<img src=\"imgs/example_plot.png\" width=\"300\" height=\"350\">\n\n##### a Textual Representation of Data\n```\n[0.5, 0.9, 1.0, 0.7, 0.2, -0.4, -0.9, -1.0, -0.8, -0.3]\n```\n.\n\n#### Task\n\nNow make a rough estimate of the following statistics:\n\n  1. What is the *median* of this data?\n  2. What is the *max* and *min* of this data?\n  3. Are there any patterns in this data?\n  4. What's your best guess for the next value in this series?\n\n*5-minute Discussion*: Which data representation did you use to intuit these statistics?  Why? ",
            "metadata": {
                "tags": [],
                "cell_id": "00001-a1631ab6-8aff-4727-9fbd-93e102dfd809",
                "deepnote_cell_type": "markdown"
            }
        },
        {
            "cell_type": "markdown",
            "source": "But visual charts are often much more effective at conveying patterns in data! \nMatplotlib can create plots out of collections of data.  For example, a line graph:",
            "metadata": {
                "tags": [],
                "cell_id": "00003-a2e61b63-ca95-432d-a348-c7cff8168048",
                "deepnote_to_be_reexecuted": false,
                "source_hash": "a49d9f93",
                "execution_start": 1628640739145,
                "execution_millis": 1,
                "deepnote_cell_type": "markdown"
            }
        },
        {
            "cell_type": "markdown",
            "source": "## Matplotlib: A Plotting Package in Python\n\nMatplotlib is one of *many* different options for making plots and charts, but its popularity often makes it the default choice, especially when making charts for paper publications.  It's so popular, that many other plotting packages use Matplotlib to make their plots!  Here's an overview of the plotting ecosystem:\n\n<img src=\"imgs/python_plotting_libraries.png\" alternate=\"from https://rougier.github.io/python-visualization-landscape/landscape-colors.png\"></img>\n\nThe Matplotlib ecosystem is the violet part of that graph.  So many options!  In this workshop, we'll take a look at `matplotlib`, `pandas`, and `seaborn`, but if you are interested in other visual styles or aesthetics, or if you want plots that are interactive, it's worth trying out another plotting library (I can recommend `plotly`, `holoviz`, and `altair`).",
            "metadata": {
                "tags": [],
                "cell_id": "00004-492474b3-718d-4ff2-aa75-768efa6b84da",
                "deepnote_cell_type": "markdown"
            },
            "outputs": [],
            "execution_count": null
        },
        {
            "cell_type": "markdown",
            "source": "### Getting Started\n\n##### Special Things to Look Out For\n\n  - **Line Order Matters**: Pay attention to what happens when code is written in a different order (e.g. data creation before plotting, plotting before labeling)\n  - **Functions Have Optional Parameters that Change Their Behavior**: Many of the plotting functions will let you modify them by adding a named parameter (e.g. plt.hist(data, bins=20, density=True, cumulative=False)).  ",
            "metadata": {
                "tags": [],
                "cell_id": "00005-482a2a35-5ef4-4cf2-a16d-1adbdf8e0cf1",
                "deepnote_cell_type": "markdown"
            },
            "outputs": [],
            "execution_count": null
        },
        {
            "cell_type": "markdown",
            "source": "In this notebook, we'll explore a few of the basic plots and how to adjust them to be more informative. ",
            "metadata": {
                "tags": [],
                "cell_id": "00006-b0ad1aa8-b4e6-4552-98f4-379b19b1a90f",
                "deepnote_to_be_reexecuted": false,
                "source_hash": "fa3205b4",
                "execution_start": 1628640605634,
                "execution_millis": 120,
                "deepnote_cell_type": "markdown"
            }
        },
        {
            "cell_type": "markdown",
            "source": "",
            "metadata": {
                "tags": [],
                "cell_id": "00008-c99cdebf-8e31-435e-9cb1-fcde411a764e",
                "deepnote_cell_type": "markdown"
            }
        },
        {
            "cell_type": "markdown",
            "source": "## Sequential Plots with the plt.plot() function\n\nThe `plot()` function in Matplotlib is very unique; it can be used to make both line and scatter plots, and tends to be the first function people learn to use.  So let's try it out!\n\n  - **`plt.plot(data)`**: Makes a line plot, with the y axis being the values in `data`\n  - **`plt.plot(data, '.')`**: Makes a point plot, with the y axis being the values in `data`\n  - **`plt.plot(x, y)`**: Makes a line plot, with the x and y axis matching the values in x and y.  \n  - **`plt.plot(x, y, '.')`**: Makes a point plot, with the y axis being the values in in x and y\n    - *Note*: x and y must have the same length.\n",
            "metadata": {
                "tags": [],
                "cell_id": "00008-576cc53f-c8f7-4264-b953-e660d4c71c02",
                "deepnote_cell_type": "markdown"
            }
        },
        {
            "cell_type": "markdown",
            "source": "**Exercises**",
            "metadata": {
                "tags": [],
                "cell_id": "00010-ed2a0b5a-6a5e-4113-b0b8-ee663e41442b",
                "deepnote_cell_type": "markdown"
            }
        },
        {
            "cell_type": "code",
            "source": "",
            "metadata": {
                "tags": [],
                "cell_id": "00010-af864c47-7e40-4f01-a3f2-a9a051af255c",
                "deepnote_to_be_reexecuted": false,
                "source_hash": "d033dbe5",
                "execution_start": 1635924498264,
                "execution_millis": 16,
                "deepnote_cell_type": "code"
            },
            "outputs": "",
            "execution_count": null
        },
        {
            "cell_type": "markdown",
            "source": "Make a line plot of this list.  What does the data look like?",
            "metadata": {
                "tags": [],
                "cell_id": "00010-9c213016-fb39-44da-89c8-95317892f1a7",
                "deepnote_cell_type": "markdown"
            }
        },
        {
            "cell_type": "code",
            "metadata": {
                "tags": [],
                "cell_id": "00001-008c6eb4-7321-4940-b26c-234600092b96",
                "deepnote_to_be_reexecuted": false,
                "source_hash": "cbd29282",
                "execution_start": 1635924405240,
                "execution_millis": 352,
                "deepnote_cell_type": "code"
            },
            "source": "",
            "outputs": "",
            "execution_count": null
        },
        {
            "cell_type": "markdown",
            "source": "Make a line plot of this data. What does the data look like?",
            "metadata": {
                "tags": [],
                "cell_id": "00012-c8a5857a-0d55-40b1-a2eb-633f4b6c1220",
                "deepnote_cell_type": "markdown"
            }
        },
        {
            "cell_type": "code",
            "metadata": {
                "tags": [],
                "cell_id": "00002-531951d5-ffa5-4b44-922a-8b6ab4100bd4",
                "deepnote_to_be_reexecuted": false,
                "source_hash": "41dc4422",
                "execution_start": 1628641822727,
                "execution_millis": 3,
                "deepnote_cell_type": "code"
            },
            "source": "",
            "execution_count": null,
            "outputs": ""
        },
        {
            "cell_type": "markdown",
            "source": "Make a point plot of the data.  What's different?",
            "metadata": {
                "tags": [],
                "cell_id": "00015-e2595ab7-794d-45db-a522-5609684cd9c6",
                "deepnote_cell_type": "markdown"
            },
            "outputs": [],
            "execution_count": null
        },
        {
            "cell_type": "code",
            "source": "",
            "metadata": {
                "tags": [],
                "cell_id": "00016-8e09a0b2-aa6e-45c2-a183-cb72ea3fd571",
                "deepnote_cell_type": "code"
            },
            "outputs": "",
            "execution_count": null
        },
        {
            "cell_type": "markdown",
            "source": "Now make a line plot of the data, specifying both the x and y axis this time.  What is different about this plot?",
            "metadata": {
                "tags": [],
                "cell_id": "00015-7b482291-75e8-4139-a730-ad48d5a9dad8",
                "deepnote_cell_type": "markdown"
            }
        },
        {
            "cell_type": "code",
            "metadata": {
                "tags": [],
                "cell_id": "00003-f4c17035-97fc-46e3-9a6b-a8fb57698d8f",
                "deepnote_to_be_reexecuted": false,
                "source_hash": "fa3f738",
                "execution_start": 1628641957376,
                "execution_millis": 2,
                "deepnote_cell_type": "code"
            },
            "source": "",
            "execution_count": null,
            "outputs": ""
        },
        {
            "cell_type": "markdown",
            "source": "Multiple datasets can be included in the same plot, simply by calling `plt.plot()` multiple times.  Put both the following datasets in the same plot (line or point, your choice):",
            "metadata": {
                "tags": [],
                "cell_id": "00019-d86207e7-73a0-4953-8e58-a700141709a6",
                "deepnote_cell_type": "markdown"
            },
            "outputs": [],
            "execution_count": null
        },
        {
            "cell_type": "code",
            "source": "",
            "metadata": {
                "tags": [],
                "cell_id": "00020-a08a847a-8314-42c7-8e0f-8fd9c6b78298",
                "deepnote_cell_type": "code"
            },
            "outputs": "",
            "execution_count": null
        },
        {
            "cell_type": "markdown",
            "source": "Also these:",
            "metadata": {
                "tags": [],
                "cell_id": "00021-0d6d8808-ebfe-4ebb-80b1-f3c4dc1d96b4",
                "deepnote_to_be_reexecuted": false,
                "source_hash": "85f7de7f",
                "execution_start": 1635925498984,
                "execution_millis": 32,
                "deepnote_cell_type": "markdown"
            },
            "outputs": [],
            "execution_count": 19
        },
        {
            "cell_type": "code",
            "source": "",
            "metadata": {
                "tags": [],
                "cell_id": "00021-b3ee7cd1-61c8-4cf8-b0fe-f1e2f97538cf",
                "deepnote_to_be_reexecuted": false,
                "source_hash": "b9729f96",
                "execution_start": 1635925532449,
                "execution_millis": 14,
                "deepnote_cell_type": "code"
            },
            "outputs": "",
            "execution_count": null
        },
        {
            "cell_type": "markdown",
            "source": "#### Format strings in `plt.plot()`\n\nThere are actually lots of different marker and line styles that can be used in `plt.plot()` to change how the data looks. Try out these:\n\n  - **(Some) Point Markers**: `'.'`, `'o'`, `'v'`, `'^'`, `'<'`, `'s'`, `'h'`, `'D'`, `'|'`, `'_'`\n\n  - **(Some) Line Styles**: `'-'`, `'--'`, `'-.'`, `':'`\n\n  - **(Some) Colors**: `'b'`, `'g'`, `'c'`, `'r'`, `'m'`, `'y'`, `'k'`, `'w'`\n\nThey can even be combined.  For example: `plt.plot(data, ':or')` makes a red plot with both circle markers and dotted lines.",
            "metadata": {
                "tags": [],
                "cell_id": "00017-a733936a-1946-4e8d-a000-d77b0ded147b",
                "deepnote_cell_type": "markdown"
            },
            "outputs": [],
            "execution_count": null
        },
        {
            "cell_type": "markdown",
            "source": "**Exercises**",
            "metadata": {
                "tags": [],
                "cell_id": "00019-55a1bfea-549e-436e-bc9d-0863636628c1",
                "deepnote_cell_type": "markdown"
            },
            "outputs": [],
            "execution_count": null
        },
        {
            "cell_type": "markdown",
            "source": "Plot this data with a green dashed line",
            "metadata": {
                "tags": [],
                "cell_id": "00020-690449ad-db25-4b74-be6c-a21b461c29f5",
                "deepnote_cell_type": "markdown"
            },
            "outputs": [],
            "execution_count": null
        },
        {
            "cell_type": "code",
            "source": "",
            "metadata": {
                "tags": [],
                "cell_id": "00024-eba2ed75-1dbd-449a-8b31-a8e4b4e44ac6",
                "deepnote_to_be_reexecuted": false,
                "source_hash": "3b3aad76",
                "execution_start": 1635925418496,
                "execution_millis": 12,
                "deepnote_cell_type": "code"
            },
            "outputs": "",
            "execution_count": null
        },
        {
            "cell_type": "markdown",
            "source": "Plot each line with different markers, linestyles, but the same color:",
            "metadata": {
                "tags": [],
                "cell_id": "00025-6b6df921-42bd-4f44-afd9-e246f7a43ffc",
                "deepnote_cell_type": "markdown"
            },
            "outputs": [],
            "execution_count": null
        },
        {
            "cell_type": "code",
            "source": "",
            "metadata": {
                "tags": [],
                "cell_id": "00026-43d30adf-ee06-4cca-9533-0b8e8d6e8a8c",
                "deepnote_to_be_reexecuted": false,
                "source_hash": "b9729f96",
                "execution_start": 1635925562101,
                "execution_millis": 14,
                "deepnote_cell_type": "code"
            },
            "outputs": "",
            "execution_count": null
        },
        {
            "cell_type": "markdown",
            "source": "## Labeling Your Data: Adding Text\n\nLet's add some text to our plots, so people understand what the plots represent!\n\n  - **`plt.title(\"My Title\")`**: Adds a title to the current plot\n  - **`plt.xlabel(\"X\")`**:  Adds a label to the x axis\n  - **`plt.ylabel(\"Y\")`**: Adds a label to the y axis\n  - **`plt.plot(data, label=\"My label\"); plt.legend()`**:  Labels the plotted data and makes a legend with the labels.\n    - *Note*: Normally this is done on seperate lines of code.\n\n\nExample: You can combine them together and label everything!",
            "metadata": {
                "tags": [],
                "cell_id": "00012-af5d9444-a8fa-4529-a0ac-4a28487fb433",
                "deepnote_cell_type": "markdown"
            }
        },
        {
            "cell_type": "code",
            "metadata": {
                "tags": [],
                "cell_id": "00013-9cfe2b4a-1fe7-40e4-999d-85307ffc0bbd",
                "deepnote_to_be_reexecuted": false,
                "source_hash": "2578e329",
                "execution_start": 1628641491707,
                "execution_millis": 187,
                "deepnote_cell_type": "code"
            },
            "source": "plt.plot([1, 2, 4, 8, 16], label=\"Multiples of 2\")\nplt.plot([1, 3, 9, 27], label=\"Multiples of 3\")\nplt.title(\"Comparing Multiples of Integers\")\nplt.xlabel(\"X\")\nplt.ylabel(\"Y\")\nplt.legend();",
            "execution_count": null,
            "outputs": [
                {
                    "data": {
                        "text/plain": "<Figure size 432x288 with 1 Axes>",
                        "image/png": "[encoded data removed]"
                    },
                    "metadata": {
                        "needs_background": "light",
                        "image/png": {
                            "width": 382,
                            "height": 278
                        }
                    },
                    "output_type": "display_data"
                }
            ]
        },
        {
            "cell_type": "markdown",
            "source": "**Exercises**",
            "metadata": {
                "tags": [],
                "cell_id": "00019-69f20208-6a6d-4f78-a6fa-658f3d46dd74",
                "deepnote_cell_type": "markdown"
            }
        },
        {
            "cell_type": "markdown",
            "source": "Make a line plot of the data and add the title \"Sin of X\":",
            "metadata": {
                "tags": [],
                "cell_id": "00020-3576602d-a183-4df0-ac09-0fe9123bf660",
                "deepnote_cell_type": "markdown"
            }
        },
        {
            "cell_type": "code",
            "metadata": {
                "tags": [],
                "cell_id": "00004-b0186e25-e07a-4e53-b501-498c86049656",
                "deepnote_to_be_reexecuted": false,
                "source_hash": "de251caf",
                "execution_start": 1628642138201,
                "execution_millis": 5,
                "deepnote_cell_type": "code"
            },
            "source": "",
            "execution_count": null,
            "outputs": ""
        },
        {
            "cell_type": "markdown",
            "source": "Make a line plot of the data and label the Y axis \"Sin of X\":",
            "metadata": {
                "tags": [],
                "cell_id": "00022-1be01d7b-436f-476c-95e7-68641eb05ec3",
                "deepnote_cell_type": "markdown"
            }
        },
        {
            "cell_type": "code",
            "metadata": {
                "tags": [],
                "cell_id": "00004-eb9379ab-6c79-4e7d-834d-c210c81dec46",
                "deepnote_to_be_reexecuted": false,
                "source_hash": "de251caf",
                "execution_start": 1628642162783,
                "execution_millis": 2,
                "deepnote_cell_type": "code"
            },
            "source": "",
            "execution_count": null,
            "outputs": ""
        },
        {
            "cell_type": "markdown",
            "source": "Make a line plot of the data put the label \"Sin of X\" in a legend:",
            "metadata": {
                "tags": [],
                "cell_id": "00024-e1510497-7c48-4251-be79-6986f1307458",
                "deepnote_cell_type": "markdown"
            }
        },
        {
            "cell_type": "code",
            "metadata": {
                "tags": [],
                "cell_id": "00005-31a23430-0366-4231-a2f0-a7abdc98fe45",
                "deepnote_to_be_reexecuted": false,
                "source_hash": "de251caf",
                "execution_start": 1628642257396,
                "execution_millis": 2,
                "deepnote_cell_type": "code"
            },
            "source": "",
            "execution_count": null,
            "outputs": ""
        },
        {
            "cell_type": "markdown",
            "source": "Make a line plot of each dataset put the labels \"Sin of X\" and \"Cos of X\" in a legend:",
            "metadata": {
                "tags": [],
                "cell_id": "00026-55c82fc2-0451-4fb6-96c7-71844a2efe87",
                "deepnote_cell_type": "markdown"
            }
        },
        {
            "cell_type": "code",
            "metadata": {
                "tags": [],
                "cell_id": "00006-9c04588b-8244-43e7-92d6-8a459829fe5d",
                "deepnote_to_be_reexecuted": false,
                "source_hash": "a98096",
                "execution_start": 1628642259673,
                "execution_millis": 6,
                "deepnote_cell_type": "code"
            },
            "source": "",
            "execution_count": null,
            "outputs": ""
        },
        {
            "cell_type": "markdown",
            "source": "## Histograms\n\nWhen you have a lot of data, often you just want to know how much data you have and around what values your data is clustered (the data's \"distribution\").  This is where histograms come in; on the x axis, they show the values in your data, and on the y axis, how often those values (grouped together in \"bins\") occured in your dataset.\n\n  - **`plt.hist(data)`**: Make a histogram of the data\n  - **`plt.hist(data, bins=20)`**: Make a histogram of the data, specifying the number of bins\n  - **`plt.hist(data, density=True)`**: Make a probability distribution of the data (normalizes the y axis)\n  - **`plt.hist(data, cumulative=True)`**: Make a cumulative histogram of the data\n  - **`plt.hist(data, label=\"My data\"); plt.legend()`**: label the data and put the label in a legend.\n  - **`plt.hist(data, alpha=0.5)`**: Specify how opaque (i.e. how not-transparent) the plot is, from 0-1.\n  ",
            "metadata": {
                "tags": [],
                "cell_id": "00008-2c98d792-5c0d-4cf1-b6e9-b2d60555458d",
                "deepnote_to_be_reexecuted": false,
                "source_hash": "b623e53d",
                "execution_start": 1628642356601,
                "execution_millis": 1,
                "deepnote_cell_type": "markdown"
            }
        },
        {
            "cell_type": "markdown",
            "source": "**Exercises**",
            "metadata": {
                "tags": [],
                "cell_id": "00029-8f014214-88d3-409e-832f-f3f850421a7d",
                "deepnote_cell_type": "markdown"
            }
        },
        {
            "cell_type": "markdown",
            "source": "Make a histogram of this data.  Looking at the plot, how would you describe the data's distribution (min, max, average, shape)?",
            "metadata": {
                "tags": [],
                "cell_id": "00030-98191f8b-e692-4c6f-9e1c-8bab644886f2",
                "deepnote_cell_type": "markdown"
            }
        },
        {
            "cell_type": "code",
            "metadata": {
                "tags": [],
                "cell_id": "00009-260cf856-7ac5-47d1-a97e-7cfb818ceeb8",
                "deepnote_to_be_reexecuted": false,
                "source_hash": "34811bd6",
                "execution_start": 1628643134429,
                "execution_millis": 1,
                "deepnote_cell_type": "code"
            },
            "source": "n_data_points = 20\ndata = np.random.random(size=n_data_points)",
            "execution_count": null,
            "outputs": []
        },
        {
            "cell_type": "markdown",
            "source": "Make a histogram of this data.  Looking at the plot, how would you describe the data's distribution (min, max, average, shape)?",
            "metadata": {
                "tags": [],
                "cell_id": "00032-a16a96fc-b1be-4868-9047-ca9da73ede11",
                "deepnote_cell_type": "markdown"
            }
        },
        {
            "cell_type": "code",
            "metadata": {
                "tags": [],
                "cell_id": "00033-404e0b6b-798b-42a7-97ff-9413204ef76b",
                "deepnote_cell_type": "code"
            },
            "source": "n_data_points = 200\ndata = np.random.random(size=n_data_points)",
            "execution_count": null,
            "outputs": []
        },
        {
            "cell_type": "markdown",
            "source": "Make a histogram of this data. Looking at the plot, how would you describe the data's distribution (min, max, average, shape)?",
            "metadata": {
                "tags": [],
                "cell_id": "00034-b0d79bde-58a4-4337-9b5e-eb1af5ea5f02",
                "deepnote_cell_type": "markdown"
            }
        },
        {
            "cell_type": "code",
            "metadata": {
                "tags": [],
                "cell_id": "00035-840ef369-1966-4f74-aded-91ab5035d7bd",
                "deepnote_cell_type": "code"
            },
            "source": "n_data_points = 2000\ndata = np.random.random(size=n_data_points)",
            "execution_count": null,
            "outputs": []
        },
        {
            "cell_type": "markdown",
            "source": "Make a histogram of this data. Looking at the plot, how would you describe the data's distribution (min, max, average, shape)?",
            "metadata": {
                "tags": [],
                "cell_id": "00036-d08013d0-c23d-40ad-91f0-2bfb655440e4",
                "deepnote_cell_type": "markdown"
            }
        },
        {
            "cell_type": "code",
            "metadata": {
                "tags": [],
                "cell_id": "00010-3ff24bb6-5d9b-4733-9d1b-9c2bdaa47c09",
                "deepnote_to_be_reexecuted": false,
                "source_hash": "3913e196",
                "execution_start": 1628643190537,
                "execution_millis": 1,
                "deepnote_cell_type": "code"
            },
            "source": "n_data_points = 2000\ndata = np.random.normal(size=n_data_points)",
            "execution_count": null,
            "outputs": []
        },
        {
            "cell_type": "markdown",
            "source": "Make a histogram of this data, setting the number of bins to 100, then 20, then 10, then 5 (just change the number and run the code again, looking at the graph).  How does the number of bins affect your interpreation of the data's distribution?",
            "metadata": {
                "tags": [],
                "cell_id": "00038-aff62152-73c7-46a4-baae-0a94c1e184e4",
                "deepnote_cell_type": "markdown"
            }
        },
        {
            "cell_type": "code",
            "metadata": {
                "tags": [],
                "cell_id": "00039-eece4e14-38ec-4fa6-878d-73573f002a21",
                "deepnote_to_be_reexecuted": false,
                "source_hash": "3913e196",
                "execution_start": 1628643363561,
                "execution_millis": 1,
                "deepnote_cell_type": "code"
            },
            "source": "n_data_points = 2000\ndata = np.random.normal(size=n_data_points)",
            "execution_count": null,
            "outputs": []
        },
        {
            "cell_type": "markdown",
            "source": "Make a histogram of this data with normalized Y values (a probability density).  What is different about this, compared to the histogram above?",
            "metadata": {
                "tags": [],
                "cell_id": "00038-6d726b15-d9fe-4088-b353-e56fb6d38ae5",
                "deepnote_cell_type": "markdown"
            }
        },
        {
            "cell_type": "code",
            "metadata": {
                "tags": [],
                "cell_id": "00010-48b00a7e-e26b-4550-8fab-84c4d26cfef7",
                "deepnote_to_be_reexecuted": false,
                "source_hash": "748b0836",
                "execution_start": 1628643228204,
                "execution_millis": 4,
                "deepnote_cell_type": "code"
            },
            "source": "n_data_points = 200\ndata = np.random.normal(size=n_data_points)",
            "execution_count": null,
            "outputs": []
        },
        {
            "cell_type": "markdown",
            "source": "Make a cumulative histogram of this data. What is different about this, compared to the histogram above?",
            "metadata": {
                "tags": [],
                "cell_id": "00040-2d2af260-4ba3-434c-8828-4476f10976e2",
                "deepnote_cell_type": "markdown"
            }
        },
        {
            "cell_type": "code",
            "metadata": {
                "tags": [],
                "cell_id": "00013-6d01110d-902a-4276-9ee7-e7742b78297a",
                "deepnote_to_be_reexecuted": false,
                "source_hash": "748b0836",
                "execution_start": 1635925624234,
                "execution_millis": 0,
                "deepnote_cell_type": "code"
            },
            "source": "n_data_points = 200\ndata = np.random.normal(size=n_data_points)",
            "outputs": [],
            "execution_count": null
        },
        {
            "cell_type": "markdown",
            "source": "Make two histograms, one for each of the two datasets.  Label the data in a legend, and make the data more transparent for easier viewing (e.g. `alpha=0.4`).",
            "metadata": {
                "tags": [],
                "cell_id": "00044-338e89b4-3290-4999-bb64-a451c4f67a53",
                "deepnote_cell_type": "markdown"
            }
        },
        {
            "cell_type": "code",
            "metadata": {
                "tags": [],
                "cell_id": "00014-f4312501-11f8-4fa9-9c11-35911f838534",
                "deepnote_to_be_reexecuted": false,
                "source_hash": "5b298406",
                "execution_start": 1628643429442,
                "execution_millis": 0,
                "deepnote_cell_type": "code"
            },
            "source": "n_data_points = 200\ndata1 = np.random.normal(0, 1, size=n_data_points)\ndata2 = np.random.normal(2, 0.5, size=n_data_points)",
            "execution_count": null,
            "outputs": []
        },
        {
            "cell_type": "markdown",
            "source": "<a style='text-decoration:none;line-height:16px;display:flex;color:#5B5B62;padding:10px;justify-content:end;' href='https://deepnote.com?utm_source=created-in-deepnote-cell&projectId=5f82c9ae-724d-4175-af3a-f3de86574cfe' target=\"_blank\">\n<img alt='Created in deepnote.com' style='display:inline;max-height:16px;margin:0px;margin-right:7.5px;' src='data:image/svg+xml;base64,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' > </img>\nCreated in <span style='font-weight:600;margin-left:4px;'>Deepnote</span></a>",
            "metadata": {
                "tags": [],
                "created_in_deepnote_cell": true,
                "deepnote_cell_type": "markdown"
            }
        }
    ],
    "nbformat": 4,
    "nbformat_minor": 2,
    "metadata": {
        "orig_nbformat": 2,
        "deepnote": {
            "is_reactive": false
        },
        "deepnote_notebook_id": "4415560d-362e-4631-ba6f-42143f731ed3",
        "deepnote_execution_queue": []
    }
}