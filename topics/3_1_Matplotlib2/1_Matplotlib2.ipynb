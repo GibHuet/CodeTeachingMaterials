{
 "cells": [
  {
   "cell_type": "code",
   "metadata": {
    "tags": [],
    "cell_id": "00000-fbc04730-a6fd-453c-92b7-559a6cce35e3",
    "deepnote_to_be_reexecuted": false,
    "source_hash": "eba39436",
    "execution_start": 1636533027769,
    "execution_millis": 1192,
    "deepnote_cell_type": "code"
   },
   "source": "import numpy as np\nimport matplotlib.pyplot as plt",
   "outputs": [],
   "execution_count": null
  },
  {
   "cell_type": "markdown",
   "source": "",
   "metadata": {
    "tags": [],
    "cell_id": "00001-ed24f99a-2cbe-4bf0-912b-a663e80dca31",
    "deepnote_cell_type": "markdown"
   }
  },
  {
   "cell_type": "markdown",
   "source": "### Read in the Files\n\nGet the code below to run without errors.  ",
   "metadata": {
    "tags": [],
    "cell_id": "00004-6d127b90-9732-4540-b3bd-88aabec2c3a6",
    "deepnote_cell_type": "markdown"
   }
  },
  {
   "cell_type": "markdown",
   "source": "#### Model Files",
   "metadata": {
    "tags": [],
    "cell_id": "00005-b1ea3efe-5530-4c04-903f-5cc0c88524f1",
    "deepnote_cell_type": "markdown"
   },
   "outputs": [],
   "execution_count": null
  },
  {
   "cell_type": "markdown",
   "source": "##### Generate Model Data\n\nFor this notebook, we'll be using a simulation of bacterial cultures growing in a petri\ndish.  \n\nThe data is generated with the script `culture_genmodel.py`.  To run a python script from a notebook, use the terminal command that tells python to run the script:\n\n`!python my_script.py`\n",
   "metadata": {
    "tags": [],
    "cell_id": "00005-b9a50206-1bf3-4592-a784-cbb24abc1e2f",
    "deepnote_cell_type": "markdown"
   },
   "outputs": [],
   "execution_count": null
  },
  {
   "cell_type": "code",
   "source": "",
   "metadata": {
    "tags": [],
    "cell_id": "00006-da50a40d-5199-42aa-bf36-d4849f796a31",
    "deepnote_to_be_reexecuted": false,
    "source_hash": "3e5253e6",
    "execution_start": 1636533059987,
    "execution_millis": 591,
    "deepnote_cell_type": "code"
   },
   "outputs": [
    {
     "name": "stdout",
     "text": "Starting to Generate Data...\r\n...Done!\r\n",
     "output_type": "stream"
    }
   ],
   "execution_count": null
  },
  {
   "cell_type": "markdown",
   "source": "##### Confirm that the needed files exist",
   "metadata": {
    "tags": [],
    "cell_id": "00007-e731f256-d081-48b8-9421-1982c8ee5b57",
    "deepnote_cell_type": "markdown"
   },
   "outputs": [],
   "execution_count": null
  },
  {
   "cell_type": "code",
   "source": "import os\nfile_exists = os.path.exists('culture_growth_model.txt')  # either True or False\nassert file_exists, \"The file is not found.\"  # Shows error message if False\n\nfile_exists = os.path.exists('culture_growth_model_names.txt')  # either True or False\nassert file_exists, \"The names file is not found.\"  # Shows error message if False",
   "metadata": {
    "tags": [],
    "cell_id": "00008-cbd392d4-9e07-4434-afde-4f2451084328",
    "deepnote_to_be_reexecuted": false,
    "source_hash": "67d4525",
    "execution_start": 1636533003574,
    "execution_millis": 5,
    "deepnote_cell_type": "code"
   },
   "outputs": [],
   "execution_count": null
  },
  {
   "cell_type": "markdown",
   "source": "##### Read in the files",
   "metadata": {
    "tags": [],
    "cell_id": "00009-6517bc38-7296-43d8-a1cd-e4c2f2c587fa",
    "deepnote_cell_type": "markdown"
   },
   "outputs": [],
   "execution_count": null
  },
  {
   "cell_type": "code",
   "metadata": {
    "tags": [],
    "cell_id": "00001-988fa081-7ae0-4475-9954-73d978d1c5a5",
    "deepnote_to_be_reexecuted": false,
    "source_hash": "1ba8d1a6",
    "execution_start": 1636533034799,
    "execution_millis": 13,
    "deepnote_cell_type": "code"
   },
   "source": "model = np.loadtxt('culture_growth_model.txt')\nnames = open('culture_growth_model_names.txt').read().splitlines()\nprint(names)\nmodel.shape",
   "outputs": [
    {
     "name": "stdout",
     "text": "['time', 'culture_a_model', 'culture_b_model']\n",
     "output_type": "stream"
    },
    {
     "output_type": "execute_result",
     "execution_count": 7,
     "data": {
      "text/plain": "(50, 3)"
     },
     "metadata": {}
    }
   ],
   "execution_count": null
  },
  {
   "cell_type": "code",
   "metadata": {
    "tags": [],
    "cell_id": "00007-b9b22549-c0e4-4d16-a4a2-d7ecc17584a7",
    "deepnote_to_be_reexecuted": false,
    "source_hash": "989fe95c",
    "execution_start": 1636315545749,
    "execution_millis": 10,
    "deepnote_cell_type": "code"
   },
   "source": "model[:3, :]",
   "execution_count": null,
   "outputs": [
    {
     "output_type": "execute_result",
     "execution_count": 6,
     "data": {
      "text/plain": "array([[ 0.        ,  4.73062112,  1.        ,  4.73062112,  1.97225191],\n       [ 0.24489796,  3.82968231,  1.35889924,  3.82968231,  0.18885003],\n       [ 0.48979592,  5.77622327,  1.74734029,  5.77622327, -0.31790882]])"
     },
     "metadata": {}
    }
   ]
  },
  {
   "cell_type": "markdown",
   "source": "#### Data Files\n\nThere is another script that simulates an actual experiment, including the noise inherent in data collection.  Let's get that data, too!",
   "metadata": {
    "tags": [],
    "cell_id": "00011-ca861159-0032-46f3-b47f-18d4fea74f37",
    "deepnote_cell_type": "markdown"
   },
   "outputs": [],
   "execution_count": null
  },
  {
   "cell_type": "markdown",
   "source": "##### Generate the Data\n\nRun the `culture_gendata.py` script.",
   "metadata": {
    "tags": [],
    "cell_id": "00012-6c9f930a-fc6b-4207-b982-81b87f751e5c",
    "deepnote_cell_type": "markdown"
   },
   "outputs": [],
   "execution_count": null
  },
  {
   "cell_type": "code",
   "source": "",
   "metadata": {
    "tags": [],
    "cell_id": "00013-c9d94a72-4fc1-416d-ac7c-bd40e51e136b",
    "deepnote_cell_type": "code"
   },
   "outputs": [],
   "execution_count": null
  },
  {
   "cell_type": "markdown",
   "source": "##### Confirm the needed files exist",
   "metadata": {
    "tags": [],
    "cell_id": "00014-b5e47a7b-110f-4dd5-af2d-0fe3b13e8c62",
    "deepnote_cell_type": "markdown"
   },
   "outputs": [],
   "execution_count": null
  },
  {
   "cell_type": "code",
   "source": "import os\nfile_exists = os.path.exists('culture_growth_data.txt')  # either True or False\nassert file_exists, \"The file is not found.\"  # Shows error message if False\n\nfile_exists = os.path.exists('culture_growth_data_names.txt')  # either True or False\nassert file_exists, \"The names file is not found.\"  # Shows error message if False",
   "metadata": {
    "tags": [],
    "cell_id": "00015-b6aff2a0-af4b-46d8-a63b-d890a70b2b07",
    "deepnote_cell_type": "code"
   },
   "outputs": [],
   "execution_count": null
  },
  {
   "cell_type": "markdown",
   "source": "##### Read in the files",
   "metadata": {
    "tags": [],
    "cell_id": "00016-e66cc925-db86-45ee-beaa-a336ab3990aa",
    "deepnote_cell_type": "markdown"
   },
   "outputs": [],
   "execution_count": null
  },
  {
   "cell_type": "code",
   "source": "",
   "metadata": {
    "tags": [],
    "cell_id": "00017-78daaace-cc94-429d-a576-cb88134565d8",
    "deepnote_cell_type": "code"
   },
   "outputs": [],
   "execution_count": null
  },
  {
   "cell_type": "markdown",
   "source": "## Plotting Exercises\n\nLearn more about Matplotlib plotting functions by doing the exercises below.  After making each plot, save it as a `png` file in the `figs` directory using the `plt.savefig()` function (for example: `plt.savefig('figs/culture_models.png')`)",
   "metadata": {
    "tags": [],
    "cell_id": "00007-d40d2274-21c2-47b9-acfa-bef64c73015e",
    "deepnote_cell_type": "markdown"
   }
  },
  {
   "cell_type": "markdown",
   "source": "#### Compare the Models\n\nCompare the two growth models (time vs culture growth, for culture a and b).\nLabel everything, including 'time' on the x axis, 'population' on the y axis,\nand the two culture names in a legend.\n\nNew Functions: `plt.plot(label='label')`, `plt.xlabel()`, `plt.ylabel()`, `plt.title()`, `plt.legend()`, `plt.savefig()`",
   "metadata": {
    "tags": [],
    "cell_id": "00008-57b6558d-063c-49f1-905d-f693950e7db0",
    "deepnote_cell_type": "markdown"
   }
  },
  {
   "cell_type": "code",
   "metadata": {
    "tags": [],
    "cell_id": "00005-b027dc56-8356-47d0-87d4-e321ccbdeee4",
    "deepnote_to_be_reexecuted": false,
    "source_hash": "b623e53d",
    "execution_start": 1636315569089,
    "execution_millis": 0,
    "deepnote_cell_type": "code"
   },
   "source": "",
   "execution_count": null,
   "outputs": []
  },
  {
   "cell_type": "markdown",
   "source": "#### Analyze the Models\n\nWhere do the two models intersect?  In addition to the lines with the models, Draw a dotted vertical and horizontal line at that point, to make it easier to see the value.\nSpecify the value in the title.\n\n*Tip*: For this exercise, just estimate the intersection by [eyeballing](https://english.stackexchange.com/questions/377445/what-does-by-eyeball-mean) it; don't worry about calculating it.\n\n**New Functions**: `plt.hlines()`, `plt.vlines()`",
   "metadata": {
    "tags": [],
    "cell_id": "00009-c4e9a3bc-8c2a-4ff9-ad2a-ead928ab1b29",
    "deepnote_cell_type": "markdown"
   }
  },
  {
   "cell_type": "code",
   "metadata": {
    "tags": [],
    "cell_id": "00010-1f1a393d-a282-4290-82d1-9414a28c835f",
    "deepnote_cell_type": "code"
   },
   "source": "",
   "execution_count": null,
   "outputs": []
  },
  {
   "cell_type": "markdown",
   "source": "#### Emphasize the Difference Between the Models\n\nHow different are the models from each other at each time point?  Fill in the space between the two models, so it stands out better.\n\n**New Functions**: `plt.fill_between()`",
   "metadata": {
    "tags": [],
    "cell_id": "00011-341de1bf-86bb-4de6-9e42-cf33e80dc6b9",
    "deepnote_cell_type": "markdown"
   }
  },
  {
   "cell_type": "code",
   "metadata": {
    "tags": [],
    "cell_id": "00012-1b572bd7-2ca5-42f1-b46d-025a9ec41dc4",
    "deepnote_cell_type": "code"
   },
   "source": "",
   "execution_count": null,
   "outputs": []
  },
  {
   "cell_type": "markdown",
   "source": "#### Compare the Data\n\nMake a scatterplot comparing the actual data values from the two cultures.  Just as before, label everything!\n\n**New Functions**: `plt.scatter()`",
   "metadata": {
    "tags": [],
    "cell_id": "00009-97b1aeb5-8680-49a8-8f60-16441f1cc1f4",
    "deepnote_cell_type": "markdown"
   }
  },
  {
   "cell_type": "code",
   "metadata": {
    "tags": [],
    "cell_id": "00001-dcd9ce7b-ac1e-4806-8b91-4ac84dc20e27",
    "deepnote_to_be_reexecuted": false,
    "source_hash": "b623e53d",
    "execution_start": 1636315716728,
    "execution_millis": 1,
    "deepnote_cell_type": "code"
   },
   "source": "",
   "execution_count": null,
   "outputs": []
  },
  {
   "cell_type": "markdown",
   "source": "#### Compare the Data and Models\n\nPut the line plots for the models and the scatterplots for the data in the same figure.  Does the data fit each model well? \n\n*Tip*: Make the model pop-out more by making the scatterplot more transparent: `plt.scatter(alpha=0.3)`",
   "metadata": {
    "tags": [],
    "cell_id": "00015-e11e7636-a45e-4abf-8a4e-99cbfb6fe404",
    "deepnote_cell_type": "markdown"
   }
  },
  {
   "cell_type": "code",
   "metadata": {
    "tags": [],
    "cell_id": "00016-f631e68f-c8df-4d22-8d4e-c28bdd26d335",
    "deepnote_cell_type": "code"
   },
   "source": "",
   "execution_count": null,
   "outputs": []
  },
  {
   "cell_type": "markdown",
   "source": "### Put it All Together\n\n  - **Where is the intersection point between the models?**  Put dotted lines at that point. \n  -  **How do the two models compare?** Fill in the space between the two models.\n     - If model A is greater than model B, make the fill color the same as model A.  If the other way, then make it model B's color.  (`plt.fill_between(where=data[:, 0] < 6)`)\n\n  - **How well does the data fit the model?** Plot the data as a scatter plot.\n\nAs always, label the axes, title, legend, and save it as a png to the `figs` directory\n",
   "metadata": {
    "tags": [],
    "cell_id": "00017-7a8a1a6b-dbbf-45c7-8ae1-45af9204dc29",
    "deepnote_cell_type": "markdown"
   }
  },
  {
   "cell_type": "code",
   "metadata": {
    "tags": [],
    "cell_id": "00012-dd07d755-4901-4772-b232-11b19b5f3392",
    "deepnote_to_be_reexecuted": false,
    "source_hash": "b31fd813",
    "execution_start": 1636316521636,
    "execution_millis": 1,
    "deepnote_cell_type": "code"
   },
   "source": "\n",
   "execution_count": null,
   "outputs": []
  },
  {
   "cell_type": "markdown",
   "source": "### Extra: Generate PowerPoint Presentation from Figures\n\nRun the `MakePowerpoint.ipynb` notebook, to turn the directory of figures into a powerpoint presentation.",
   "metadata": {
    "tags": [],
    "cell_id": "00019-860ac8f2-9945-422d-9fba-7eacca386db8",
    "deepnote_cell_type": "markdown"
   }
  },
  {
   "cell_type": "markdown",
   "source": "<a style='text-decoration:none;line-height:16px;display:flex;color:#5B5B62;padding:10px;justify-content:end;' href='https://deepnote.com?utm_source=created-in-deepnote-cell&projectId=48227045-6b9e-4724-ab08-5501bac37c06' target=\"_blank\">\n<img alt='Created in deepnote.com' style='display:inline;max-height:16px;margin:0px;margin-right:7.5px;' src='data:image/svg+xml;base64,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' > </img>\nCreated in <span style='font-weight:600;margin-left:4px;'>Deepnote</span></a>",
   "metadata": {
    "tags": [],
    "created_in_deepnote_cell": true,
    "deepnote_cell_type": "markdown"
   }
  }
 ],
 "nbformat": 4,
 "nbformat_minor": 2,
 "metadata": {
  "orig_nbformat": 2,
  "deepnote": {
   "is_reactive": false
  },
  "deepnote_notebook_id": "c3b7320e-5267-4d50-afca-982c353873a6",
  "deepnote_execution_queue": []
 }
}