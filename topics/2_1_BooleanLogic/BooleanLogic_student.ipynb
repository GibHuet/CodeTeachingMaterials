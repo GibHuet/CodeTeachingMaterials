{
    "cells": [
        {
            "cell_type": "markdown",
            "metadata": {
                "cell_id": "00000-74a52d48-f247-46da-bf63-df2036ac67a1",
                "deepnote_cell_type": "markdown",
                "tags": []
            },
            "source": [
                "## Quick Review: Boolean Logic\n",
                "\n",
                "Boolean logic works with two values: `True` and `False`.  These values are pretty useful!  You can produce these values using logical operators:\n",
                "\n",
                "| Is Greater, | Is Less,  | Is Equal, | Is Not Equal, | And, | Or, | Is Greator or Equal,  | Is Less or Equal |\n",
                "|  :-----:  | :-: |:--: | :----: | :-----: | :--: | :--: | :---: |\n",
                "| `>` |  `<`  | `==` | `!=` | `&` | `\\|` | `>=` | `<=` |\n",
                "\n",
                "For example:\n",
                "\n",
                "```python\n",
                ">>> 3 > 5\n",
                "False\n",
                "\n",
                ">>> 6 == 6\n",
                "True\n",
                "```\n",
                "\n",
                "**Tip**: Keep in mind the difference between the assigment operator `=` and the equality comparison operator `==`, mixing them up sometimes leads to confusing errors."
            ]
        },
        {
            "cell_type": "markdown",
            "metadata": {
                "cell_id": "00001-04d4fd61-8526-4e96-aca1-8270b2a27a94",
                "deepnote_cell_type": "markdown",
                "tags": []
            },
            "source": [
                "**Exercises**: Use logical operators to have Python answer the following questions:"
            ]
        },
        {
            "cell_type": "markdown",
            "metadata": {
                "cell_id": "00002-fe98737b-da24-40f1-bb9e-486d4066365d",
                "deepnote_cell_type": "markdown",
                "tags": []
            },
            "source": [
                "**Example**: Is five greater than six?"
            ]
        },
        {
            "cell_type": "code",
            "execution_count": 1,
            "metadata": {
                "cell_id": "00002-a9fcced9-3ad5-45fd-8dc5-179b18a102df",
                "deepnote_cell_type": "code",
                "deepnote_to_be_reexecuted": false,
                "execution_start": 1636011833907,
                "source_hash": "b623e53d",
                "tags": []
            },
            "outputs": [
                {
                    "data": {
                        "text/plain": [
                            "False"
                        ]
                    },
                    "execution_count": 1,
                    "metadata": {},
                    "output_type": "execute_result"
                }
            ],
            "source": [
                "5 > 6"
            ]
        },
        {
            "cell_type": "markdown",
            "metadata": {
                "cell_id": "00004-65944321-d347-4758-a3ab-410a89959287",
                "deepnote_cell_type": "markdown",
                "tags": []
            },
            "source": [
                "Is 8 x 4 the same as 32?"
            ]
        },
        {
            "cell_type": "code",
            "execution_count": 2,
            "metadata": {
                "cell_id": "00005-746cf8e5-cc39-4aff-89dc-6164ca62dc07",
                "deepnote_cell_type": "code",
                "tags": []
            },
            "outputs": "",
            "source": ""
        },
        {
            "cell_type": "markdown",
            "metadata": {
                "cell_id": "00006-e7c3b9b3-9323-47e7-abc4-f6cc3aefa8a5",
                "deepnote_cell_type": "markdown",
                "tags": []
            },
            "source": [
                "Is the square root of 85 less than or equal to 9?  (Tip: the square root is the same as \"to the power of one-half\")"
            ]
        },
        {
            "cell_type": "code",
            "execution_count": 3,
            "metadata": {
                "cell_id": "00007-1e4d47a3-1e9d-4353-97d9-49faf9ee94bc",
                "deepnote_cell_type": "code",
                "tags": []
            },
            "outputs": "",
            "source": ""
        },
        {
            "cell_type": "markdown",
            "metadata": {
                "cell_id": "00008-a11a79e1-522a-42a9-ba7f-24a50a7a3b19",
                "deepnote_cell_type": "markdown",
                "tags": []
            },
            "source": [
                "Is the sum of 1, 2, 3, 4, and 5 equal to 300 divided by 20?  (Tip: it's okay if it's a lot of code, but also there is a `sum()` function)"
            ]
        },
        {
            "cell_type": "code",
            "execution_count": 4,
            "metadata": {
                "cell_id": "00009-8239bf93-833f-4573-a38c-733e5b988430",
                "deepnote_cell_type": "code",
                "tags": []
            },
            "outputs": "",
            "source": ""
        },
        {
            "cell_type": "markdown",
            "metadata": {
                "cell_id": "00010-d4e4c53f-d669-4f05-ad78-131d71b2a43d",
                "deepnote_cell_type": "markdown",
                "tags": []
            },
            "source": [
                "Is the length of the following list 1 greater than the length of list 2?"
            ]
        },
        {
            "cell_type": "code",
            "execution_count": null,
            "metadata": {
                "cell_id": "00010-316d5097-500b-40ba-9523-a26a7cc85b05",
                "deepnote_cell_type": "code",
                "deepnote_to_be_reexecuted": false,
                "execution_millis": 0,
                "execution_start": 1636012999295,
                "source_hash": "adc89bf",
                "tags": []
            },
            "outputs": [],
            "source": [
                "list1 = ['a', 'c', 'b', 'd']\n",
                "list2 = ['ab', 'cd']\n"
            ]
        },
        {
            "cell_type": "code",
            "execution_count": 5,
            "metadata": {},
            "outputs": "",
            "source": ""
        },
        {
            "cell_type": "markdown",
            "metadata": {
                "cell_id": "00012-4f61ed17-20e7-4018-a4a4-a738345d2b3f",
                "deepnote_cell_type": "markdown",
                "tags": []
            },
            "source": [
                "Is five to the fifth power equal to 5555?"
            ]
        },
        {
            "cell_type": "code",
            "execution_count": 6,
            "metadata": {
                "cell_id": "00013-55031509-7f8b-422c-949e-447b3c49be7c",
                "deepnote_cell_type": "markdown",
                "tags": []
            },
            "outputs": "",
            "source": ""
        },
        {
            "cell_type": "markdown",
            "metadata": {
                "cell_id": "00014-4f9acbd8-8cb9-45b3-a424-2bdd329e5da9",
                "deepnote_cell_type": "markdown",
                "tags": []
            },
            "source": [
                "**Example:** Are both of these statements true?\n",
                "  - 2 + 2 = 4\n",
                "  - 5 - 2 = 3"
            ]
        },
        {
            "cell_type": "code",
            "execution_count": 7,
            "metadata": {
                "cell_id": "00015-d5f50ea2-8ef2-4cda-b15d-c51f5bf73b8b",
                "deepnote_cell_type": "code",
                "tags": []
            },
            "outputs": [
                {
                    "data": {
                        "text/plain": [
                            "True"
                        ]
                    },
                    "execution_count": 7,
                    "metadata": {},
                    "output_type": "execute_result"
                }
            ],
            "source": [
                "(2 + 2 == 4) & (5 - 2 == 3)"
            ]
        },
        {
            "cell_type": "markdown",
            "metadata": {
                "cell_id": "00016-d558bdcc-fd59-48bd-9cf9-bba868a29c1a",
                "deepnote_cell_type": "markdown",
                "tags": []
            },
            "source": [
                "Are both of these statements true?\n",
                "  - 10 x 2 = 20\n",
                "  - 20 x 2 = 200"
            ]
        },
        {
            "cell_type": "code",
            "execution_count": null,
            "metadata": {
                "cell_id": "00017-fa0d2703-47df-4f8e-acce-c723e32e3311",
                "deepnote_cell_type": "code",
                "tags": []
            },
            "outputs": [],
            "source": [
                "(10 * 2 == 20) & (20 * 2 == 400)"
            ]
        },
        {
            "cell_type": "markdown",
            "metadata": {
                "cell_id": "00018-bb63c6fc-7ffc-4f90-b312-acb3b73d088e",
                "deepnote_cell_type": "markdown",
                "tags": []
            },
            "source": [
                "Is at least one of these statements true? (tip: the `|` symbol)\n",
                "  - 1 + 1 = 3\n",
                "  - 0 + 0 = 0"
            ]
        },
        {
            "cell_type": "code",
            "execution_count": 8,
            "metadata": {
                "cell_id": "00019-32c50e90-078e-4779-9906-b6168a0d0ce2",
                "deepnote_cell_type": "code",
                "tags": []
            },
            "outputs": [
                {
                    "data": {
                        "text/plain": [
                            "True"
                        ]
                    },
                    "execution_count": 8,
                    "metadata": {},
                    "output_type": "execute_result"
                }
            ],
            "source": [
                "(1 + 1 == 3) | (0 + 0 == 0)"
            ]
        },
        {
            "cell_type": "markdown",
            "metadata": {
                "cell_id": "00014-730b7843-722b-4450-9802-45a6e520995f",
                "deepnote_cell_type": "markdown",
                "tags": []
            },
            "source": [
                "### Experiment: Mixing Bools and Math Operators\n",
                "\n",
                "We can also write `True` and `False` ourselves.  What happens when we do non-logical calculations on boolean types?"
            ]
        },
        {
            "cell_type": "markdown",
            "metadata": {},
            "source": [
                "**Exercises**:"
            ]
        },
        {
            "cell_type": "markdown",
            "metadata": {
                "cell_id": "00015-68699d30-e791-418c-9dce-23cabae3b8c9",
                "deepnote_cell_type": "markdown",
                "tags": []
            },
            "source": [
                "What is True + False?"
            ]
        },
        {
            "cell_type": "code",
            "execution_count": 10,
            "metadata": {
                "cell_id": "00022-8d36466c-e406-407c-ac66-4279fd243901",
                "deepnote_cell_type": "markdown",
                "tags": []
            },
            "outputs": "",
            "source": ""
        },
        {
            "cell_type": "markdown",
            "metadata": {
                "cell_id": "00023-01634d0d-5e5b-4131-b58a-831dfc2eb5bc",
                "deepnote_cell_type": "markdown",
                "deepnote_to_be_reexecuted": false,
                "execution_millis": 3,
                "execution_start": 1636013303208,
                "source_hash": "5f8ed06",
                "tags": []
            },
            "source": [
                "What is False + False?"
            ]
        },
        {
            "cell_type": "code",
            "execution_count": 11,
            "metadata": {
                "cell_id": "00024-977fe626-c051-45cc-ae6d-2bd45eac5c4b",
                "deepnote_cell_type": "code",
                "tags": []
            },
            "outputs": "",
            "source": ""
        },
        {
            "cell_type": "markdown",
            "metadata": {
                "cell_id": "00025-2708eff9-89a9-4a99-820e-825044129b67",
                "deepnote_cell_type": "markdown",
                "tags": []
            },
            "source": [
                "What is True + True?"
            ]
        },
        {
            "cell_type": "code",
            "execution_count": 12,
            "metadata": {
                "cell_id": "00026-71f0cbb9-506d-4b86-8945-a5fe9afba7c3",
                "deepnote_cell_type": "markdown",
                "tags": []
            },
            "outputs": "",
            "source": ""
        },
        {
            "cell_type": "markdown",
            "metadata": {
                "cell_id": "00027-c199db1a-3044-44f5-8cd3-0532824ed19a",
                "deepnote_cell_type": "markdown",
                "tags": []
            },
            "source": [
                "What is True + 5?"
            ]
        },
        {
            "cell_type": "code",
            "execution_count": 13,
            "metadata": {
                "cell_id": "00028-9d6fb412-c458-44c7-9711-3bef0c20390d",
                "deepnote_cell_type": "markdown",
                "tags": []
            },
            "outputs": "",
            "source": ""
        },
        {
            "cell_type": "markdown",
            "metadata": {
                "cell_id": "00029-867908ee-3934-4a5f-9f57-6234b3cbc314",
                "deepnote_cell_type": "markdown",
                "tags": []
            },
            "source": [
                "Discussion: What is happening here?"
            ]
        },
        {
            "cell_type": "markdown",
            "metadata": {
                "cell_id": "00030-7c45773f-b41b-4b2f-8d55-9832734723ad",
                "deepnote_cell_type": "markdown",
                "tags": []
            },
            "source": [
                "Run the following code.  What does this calculation mean?"
            ]
        },
        {
            "cell_type": "code",
            "execution_count": 14,
            "metadata": {
                "cell_id": "00031-aad33469-88ce-49be-b446-60f72328fbd7",
                "deepnote_cell_type": "code",
                "deepnote_to_be_reexecuted": false,
                "execution_millis": 8,
                "execution_start": 1636013415824,
                "source_hash": "6bd9c700",
                "tags": []
            },
            "outputs": [
                {
                    "data": {
                        "text/plain": [
                            "2"
                        ]
                    },
                    "execution_count": 14,
                    "metadata": {},
                    "output_type": "execute_result"
                }
            ],
            "source": [
                "sum([True, False, True, False, False, False])"
            ]
        },
        {
            "cell_type": "markdown",
            "metadata": {
                "cell_id": "00032-5fc1fc4d-40b8-4c93-acc4-c3820f0913e2",
                "deepnote_cell_type": "markdown",
                "tags": []
            },
            "source": [
                "Run the following code. What does this calculation mean?"
            ]
        },
        {
            "cell_type": "code",
            "execution_count": 15,
            "metadata": {
                "cell_id": "00033-2de1ff64-4898-44c5-b0e3-915a0cadc741",
                "deepnote_cell_type": "code",
                "deepnote_to_be_reexecuted": false,
                "execution_millis": 6,
                "execution_start": 1636013473200,
                "source_hash": "678ff4d4",
                "tags": []
            },
            "outputs": [
                {
                    "data": {
                        "text/plain": [
                            "0.3333333333333333"
                        ]
                    },
                    "execution_count": 15,
                    "metadata": {},
                    "output_type": "execute_result"
                }
            ],
            "source": [
                "are_adults = [True, False, True, False, False, False]\n",
                "sum(are_adults) / len(are_adults)"
            ]
        },
        {
            "cell_type": "markdown",
            "metadata": {
                "cell_id": "00034-2d645aae-d1aa-4c13-bfcf-65799cb9a714",
                "deepnote_cell_type": "markdown",
                "tags": []
            },
            "source": [
                "Run the following code.  Why does this result get the same answer?"
            ]
        },
        {
            "cell_type": "code",
            "execution_count": 16,
            "metadata": {
                "cell_id": "00035-0703fafb-07a0-4299-9d7e-692476546a35",
                "deepnote_cell_type": "code",
                "deepnote_to_be_reexecuted": false,
                "execution_millis": 1,
                "execution_start": 1636013524335,
                "source_hash": "5de13700",
                "tags": []
            },
            "outputs": [
                {
                    "data": {
                        "text/plain": [
                            "0.3333333333333333"
                        ]
                    },
                    "execution_count": 16,
                    "metadata": {},
                    "output_type": "execute_result"
                }
            ],
            "source": [
                "import numpy as np\n",
                "are_adults = [True, False, True, False, False, False]\n",
                "np.mean(are_adults)"
            ]
        },
        {
            "cell_type": "markdown",
            "metadata": {
                "created_in_deepnote_cell": true,
                "deepnote_cell_type": "markdown",
                "tags": []
            },
            "source": [
                "<a style='text-decoration:none;line-height:16px;display:flex;color:#5B5B62;padding:10px;justify-content:end;' href='https://deepnote.com?utm_source=created-in-deepnote-cell&projectId=d703678d-f12c-4453-a422-685f3ee4b709' target=\"_blank\">\n",
                "<img alt='Created in deepnote.com' style='display:inline;max-height:16px;margin:0px;margin-right:7.5px;' src='data:image/svg+xml;base64,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' > </img>\n",
                "Created in <span style='font-weight:600;margin-left:4px;'>Deepnote</span></a>"
            ]
        }
    ],
    "metadata": {
        "deepnote": {
            "is_reactive": false
        },
        "deepnote_execution_queue": [],
        "deepnote_notebook_id": "91ab7fb7-9c6a-46f7-ba56-91ffe69d4c20",
        "kernelspec": {
            "display_name": "Python 3.10.4 ('py10')",
            "language": "python",
            "name": "python3"
        },
        "language_info": {
            "codemirror_mode": {
                "name": "ipython",
                "version": 3
            },
            "file_extension": ".py",
            "mimetype": "text/x-python",
            "name": "python",
            "nbconvert_exporter": "python",
            "pygments_lexer": "ipython3",
            "version": "3.10.4"
        },
        "orig_nbformat": 2,
        "vscode": {
            "interpreter": {
                "hash": "d6852d01271bf8033dbdb7ec364b6f6e89fd52a18c6bf5b4c73e48c86329a8dd"
            }
        }
    },
    "nbformat": 4,
    "nbformat_minor": 2
}