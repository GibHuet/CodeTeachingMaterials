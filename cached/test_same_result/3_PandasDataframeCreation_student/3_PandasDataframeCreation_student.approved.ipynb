{
    "cells": [
        {
            "cell_type": "code",
            "metadata": {
                "id": "exclusive-defeat",
                "cell_id": "00001-ab73f6f2-fbaa-44ba-b772-f759f2690375",
                "deepnote_to_be_reexecuted": false,
                "source_hash": "472fc53",
                "execution_start": 1636318342345,
                "execution_millis": 566,
                "deepnote_cell_type": "code"
            },
            "source": "import numpy as np\nimport matplotlib.pyplot as plt\nimport pandas as pd",
            "outputs": [],
            "execution_count": null
        },
        {
            "cell_type": "markdown",
            "source": "# Pandas DataFrames",
            "metadata": {
                "id": "metropolitan-madagascar",
                "cell_id": "00004-44ac6f6a-3dbe-4ee0-95a1-06033662b76d",
                "deepnote_cell_type": "markdown"
            }
        },
        {
            "cell_type": "markdown",
            "source": "## What is a DataFrame?\n\nA DataFrame, simply put, is a **Table** of data.  It is a structure that contains multiple rows, each row containing the same labelled collection of data types.  A **DataFrame** is a table with named rows (called the \"index\"). For example, a DataFrame might look like this:\n\n| (index) | Name | Age | Height | LikesIceCream |\n| :---: | :--: | :--: | :--: | :--: |\n| 0     | \"Nick\" | 22 | 3.4 | True |\n| 1     | \"Jenn\" | 55 | 1.2 | True |\n| 2     | \"Joe\"  | 25 | 2.2 | True |\n\nBecause each row contains the same data, DataFrames can also be thought of as a collection of same-length columns!\n\n**Pandas** is a Python package that has a DataFrame class.  Using either the **DataFrame** class constructor or one of Pandas' many **read_()** functions, you can make your own DataFrame from a variety of sources.  ",
            "metadata": {
                "id": "legendary-filing",
                "cell_id": "00005-cc1771f3-d987-4ecb-b8af-4f986f49d656",
                "deepnote_cell_type": "markdown"
            }
        },
        {
            "cell_type": "markdown",
            "source": "## Making DataFrames Directly\n\n### Examples of Different Ways\n\n#### From a List of Dicts\n\nDicts are named collections.  If you have many of the same dicts in a list, the DataFrame constructor can convert it to a Dataframe:",
            "metadata": {
                "id": "outstanding-resolution",
                "cell_id": "00006-b30cc3eb-945c-4407-82d7-469b1ef80864",
                "deepnote_cell_type": "markdown"
            }
        },
        {
            "cell_type": "code",
            "metadata": {
                "id": "speaking-beatles",
                "outputId": "efd56fc7-9b41-44fe-a919-1dd9c3f6945c",
                "cell_id": "00007-591c1df5-145e-4f46-bada-1c38ed46ed6d",
                "deepnote_to_be_reexecuted": false,
                "source_hash": "76511c9d",
                "execution_start": 1636318561352,
                "execution_millis": 12,
                "deepnote_cell_type": "code"
            },
            "source": "friends = [\n    {'Name': \"Nick\", \"Age\": 31, \"Height\": 2.9, \"Weight\": 20},\n    {'Name': \"Jenn\", \"Age\": 55, \"Height\": 1.2},\n    {\"Name\": \"Joe\", \"Height\": 1.2, \"Age\": 25, },\n]\npd.DataFrame(friends)",
            "outputs": [
                {
                    "output_type": "execute_result",
                    "execution_count": 4,
                    "data": {
                        "application/vnd.deepnote.dataframe.v2+json": {
                            "row_count": 3,
                            "column_count": 4,
                            "columns": [
                                {
                                    "name": "Name",
                                    "dtype": "object",
                                    "stats": {
                                        "unique_count": 3,
                                        "nan_count": 0,
                                        "categories": [
                                            {
                                                "name": "Nick",
                                                "count": 1
                                            },
                                            {
                                                "name": "Jenn",
                                                "count": 1
                                            },
                                            {
                                                "name": "Joe",
                                                "count": 1
                                            }
                                        ]
                                    }
                                },
                                {
                                    "name": "Age",
                                    "dtype": "int64",
                                    "stats": {
                                        "unique_count": 3,
                                        "nan_count": 0,
                                        "min": "25",
                                        "max": "55",
                                        "histogram": [
                                            {
                                                "bin_start": 25,
                                                "bin_end": 28,
                                                "count": 1
                                            },
                                            {
                                                "bin_start": 28,
                                                "bin_end": 31,
                                                "count": 0
                                            },
                                            {
                                                "bin_start": 31,
                                                "bin_end": 34,
                                                "count": 1
                                            },
                                            {
                                                "bin_start": 34,
                                                "bin_end": 37,
                                                "count": 0
                                            },
                                            {
                                                "bin_start": 37,
                                                "bin_end": 40,
                                                "count": 0
                                            },
                                            {
                                                "bin_start": 40,
                                                "bin_end": 43,
                                                "count": 0
                                            },
                                            {
                                                "bin_start": 43,
                                                "bin_end": 46,
                                                "count": 0
                                            },
                                            {
                                                "bin_start": 46,
                                                "bin_end": 49,
                                                "count": 0
                                            },
                                            {
                                                "bin_start": 49,
                                                "bin_end": 52,
                                                "count": 0
                                            },
                                            {
                                                "bin_start": 52,
                                                "bin_end": 55,
                                                "count": 1
                                            }
                                        ]
                                    }
                                },
                                {
                                    "name": "Height",
                                    "dtype": "float64",
                                    "stats": {
                                        "unique_count": 2,
                                        "nan_count": 0,
                                        "min": "1.2",
                                        "max": "2.9",
                                        "histogram": [
                                            {
                                                "bin_start": 1.2,
                                                "bin_end": 1.3699999999999999,
                                                "count": 2
                                            },
                                            {
                                                "bin_start": 1.3699999999999999,
                                                "bin_end": 1.54,
                                                "count": 0
                                            },
                                            {
                                                "bin_start": 1.54,
                                                "bin_end": 1.71,
                                                "count": 0
                                            },
                                            {
                                                "bin_start": 1.71,
                                                "bin_end": 1.88,
                                                "count": 0
                                            },
                                            {
                                                "bin_start": 1.88,
                                                "bin_end": 2.05,
                                                "count": 0
                                            },
                                            {
                                                "bin_start": 2.05,
                                                "bin_end": 2.2199999999999998,
                                                "count": 0
                                            },
                                            {
                                                "bin_start": 2.2199999999999998,
                                                "bin_end": 2.3899999999999997,
                                                "count": 0
                                            },
                                            {
                                                "bin_start": 2.3899999999999997,
                                                "bin_end": 2.5599999999999996,
                                                "count": 0
                                            },
                                            {
                                                "bin_start": 2.5599999999999996,
                                                "bin_end": 2.7299999999999995,
                                                "count": 0
                                            },
                                            {
                                                "bin_start": 2.7299999999999995,
                                                "bin_end": 2.9,
                                                "count": 1
                                            }
                                        ]
                                    }
                                },
                                {
                                    "name": "Weight",
                                    "dtype": "float64",
                                    "stats": {
                                        "unique_count": 1,
                                        "nan_count": 2,
                                        "min": "20.0",
                                        "max": "20.0",
                                        "histogram": [
                                            {
                                                "bin_start": 19.5,
                                                "bin_end": 19.6,
                                                "count": 0
                                            },
                                            {
                                                "bin_start": 19.6,
                                                "bin_end": 19.7,
                                                "count": 0
                                            },
                                            {
                                                "bin_start": 19.7,
                                                "bin_end": 19.8,
                                                "count": 0
                                            },
                                            {
                                                "bin_start": 19.8,
                                                "bin_end": 19.9,
                                                "count": 0
                                            },
                                            {
                                                "bin_start": 19.9,
                                                "bin_end": 20,
                                                "count": 0
                                            },
                                            {
                                                "bin_start": 20,
                                                "bin_end": 20.1,
                                                "count": 1
                                            },
                                            {
                                                "bin_start": 20.1,
                                                "bin_end": 20.2,
                                                "count": 0
                                            },
                                            {
                                                "bin_start": 20.2,
                                                "bin_end": 20.3,
                                                "count": 0
                                            },
                                            {
                                                "bin_start": 20.3,
                                                "bin_end": 20.4,
                                                "count": 0
                                            },
                                            {
                                                "bin_start": 20.4,
                                                "bin_end": 20.5,
                                                "count": 0
                                            }
                                        ]
                                    }
                                },
                                {
                                    "name": "_deepnote_index_column",
                                    "dtype": "int64"
                                }
                            ],
                            "rows_top": [
                                {
                                    "Name": "Nick",
                                    "Age": 31,
                                    "Height": 2.9,
                                    "Weight": 20,
                                    "_deepnote_index_column": 0
                                },
                                {
                                    "Name": "Jenn",
                                    "Age": 55,
                                    "Height": 1.2,
                                    "Weight": "nan",
                                    "_deepnote_index_column": 1
                                },
                                {
                                    "Name": "Joe",
                                    "Age": 25,
                                    "Height": 1.2,
                                    "Weight": "nan",
                                    "_deepnote_index_column": 2
                                }
                            ],
                            "rows_bottom": null
                        },
                        "text/plain": "   Name  Age  Height  Weight\n0  Nick   31     2.9    20.0\n1  Jenn   55     1.2     NaN\n2   Joe   25     1.2     NaN",
                        "text/html": "<div>\n<style scoped>\n    .dataframe tbody tr th:only-of-type {\n        vertical-align: middle;\n    }\n\n    .dataframe tbody tr th {\n        vertical-align: top;\n    }\n\n    .dataframe thead th {\n        text-align: right;\n    }\n</style>\n<table border=\"1\" class=\"dataframe\">\n  <thead>\n    <tr style=\"text-align: right;\">\n      <th></th>\n      <th>Name</th>\n      <th>Age</th>\n      <th>Height</th>\n      <th>Weight</th>\n    </tr>\n  </thead>\n  <tbody>\n    <tr>\n      <th>0</th>\n      <td>Nick</td>\n      <td>31</td>\n      <td>2.9</td>\n      <td>20.0</td>\n    </tr>\n    <tr>\n      <th>1</th>\n      <td>Jenn</td>\n      <td>55</td>\n      <td>1.2</td>\n      <td>NaN</td>\n    </tr>\n    <tr>\n      <th>2</th>\n      <td>Joe</td>\n      <td>25</td>\n      <td>1.2</td>\n      <td>NaN</td>\n    </tr>\n  </tbody>\n</table>\n</div>"
                    },
                    "metadata": {}
                }
            ],
            "execution_count": null
        },
        {
            "cell_type": "markdown",
            "source": "#### From a Dict of Lists",
            "metadata": {
                "id": "working-night",
                "cell_id": "00008-0aac322b-2e86-43c5-b23e-f9c8c2049411",
                "deepnote_cell_type": "markdown"
            }
        },
        {
            "cell_type": "code",
            "metadata": {
                "id": "unexpected-client",
                "outputId": "b8368c60-bc1a-4073-da77-a7dc57aead08",
                "cell_id": "00009-01094bc3-c18b-4b56-a649-88ba0f2daa50",
                "deepnote_to_be_reexecuted": false,
                "source_hash": "4fd51953",
                "execution_start": 1636318568867,
                "execution_millis": 15,
                "deepnote_cell_type": "code"
            },
            "source": "df = pd.DataFrame({\n    'Name': ['Nick', 'Jenn', 'Joe'], \n    'Age': [31, 55, 25], \n    'Height': [2.9, 1.2, 1.2],\n})\ndf",
            "outputs": [
                {
                    "output_type": "execute_result",
                    "execution_count": 5,
                    "data": {
                        "application/vnd.deepnote.dataframe.v2+json": {
                            "row_count": 3,
                            "column_count": 3,
                            "columns": [
                                {
                                    "name": "Name",
                                    "dtype": "object",
                                    "stats": {
                                        "unique_count": 3,
                                        "nan_count": 0,
                                        "categories": [
                                            {
                                                "name": "Nick",
                                                "count": 1
                                            },
                                            {
                                                "name": "Jenn",
                                                "count": 1
                                            },
                                            {
                                                "name": "Joe",
                                                "count": 1
                                            }
                                        ]
                                    }
                                },
                                {
                                    "name": "Age",
                                    "dtype": "int64",
                                    "stats": {
                                        "unique_count": 3,
                                        "nan_count": 0,
                                        "min": "25",
                                        "max": "55",
                                        "histogram": [
                                            {
                                                "bin_start": 25,
                                                "bin_end": 28,
                                                "count": 1
                                            },
                                            {
                                                "bin_start": 28,
                                                "bin_end": 31,
                                                "count": 0
                                            },
                                            {
                                                "bin_start": 31,
                                                "bin_end": 34,
                                                "count": 1
                                            },
                                            {
                                                "bin_start": 34,
                                                "bin_end": 37,
                                                "count": 0
                                            },
                                            {
                                                "bin_start": 37,
                                                "bin_end": 40,
                                                "count": 0
                                            },
                                            {
                                                "bin_start": 40,
                                                "bin_end": 43,
                                                "count": 0
                                            },
                                            {
                                                "bin_start": 43,
                                                "bin_end": 46,
                                                "count": 0
                                            },
                                            {
                                                "bin_start": 46,
                                                "bin_end": 49,
                                                "count": 0
                                            },
                                            {
                                                "bin_start": 49,
                                                "bin_end": 52,
                                                "count": 0
                                            },
                                            {
                                                "bin_start": 52,
                                                "bin_end": 55,
                                                "count": 1
                                            }
                                        ]
                                    }
                                },
                                {
                                    "name": "Height",
                                    "dtype": "float64",
                                    "stats": {
                                        "unique_count": 2,
                                        "nan_count": 0,
                                        "min": "1.2",
                                        "max": "2.9",
                                        "histogram": [
                                            {
                                                "bin_start": 1.2,
                                                "bin_end": 1.3699999999999999,
                                                "count": 2
                                            },
                                            {
                                                "bin_start": 1.3699999999999999,
                                                "bin_end": 1.54,
                                                "count": 0
                                            },
                                            {
                                                "bin_start": 1.54,
                                                "bin_end": 1.71,
                                                "count": 0
                                            },
                                            {
                                                "bin_start": 1.71,
                                                "bin_end": 1.88,
                                                "count": 0
                                            },
                                            {
                                                "bin_start": 1.88,
                                                "bin_end": 2.05,
                                                "count": 0
                                            },
                                            {
                                                "bin_start": 2.05,
                                                "bin_end": 2.2199999999999998,
                                                "count": 0
                                            },
                                            {
                                                "bin_start": 2.2199999999999998,
                                                "bin_end": 2.3899999999999997,
                                                "count": 0
                                            },
                                            {
                                                "bin_start": 2.3899999999999997,
                                                "bin_end": 2.5599999999999996,
                                                "count": 0
                                            },
                                            {
                                                "bin_start": 2.5599999999999996,
                                                "bin_end": 2.7299999999999995,
                                                "count": 0
                                            },
                                            {
                                                "bin_start": 2.7299999999999995,
                                                "bin_end": 2.9,
                                                "count": 1
                                            }
                                        ]
                                    }
                                },
                                {
                                    "name": "_deepnote_index_column",
                                    "dtype": "int64"
                                }
                            ],
                            "rows_top": [
                                {
                                    "Name": "Nick",
                                    "Age": 31,
                                    "Height": 2.9,
                                    "_deepnote_index_column": 0
                                },
                                {
                                    "Name": "Jenn",
                                    "Age": 55,
                                    "Height": 1.2,
                                    "_deepnote_index_column": 1
                                },
                                {
                                    "Name": "Joe",
                                    "Age": 25,
                                    "Height": 1.2,
                                    "_deepnote_index_column": 2
                                }
                            ],
                            "rows_bottom": null
                        },
                        "text/plain": "   Name  Age  Height\n0  Nick   31     2.9\n1  Jenn   55     1.2\n2   Joe   25     1.2",
                        "text/html": "<div>\n<style scoped>\n    .dataframe tbody tr th:only-of-type {\n        vertical-align: middle;\n    }\n\n    .dataframe tbody tr th {\n        vertical-align: top;\n    }\n\n    .dataframe thead th {\n        text-align: right;\n    }\n</style>\n<table border=\"1\" class=\"dataframe\">\n  <thead>\n    <tr style=\"text-align: right;\">\n      <th></th>\n      <th>Name</th>\n      <th>Age</th>\n      <th>Height</th>\n    </tr>\n  </thead>\n  <tbody>\n    <tr>\n      <th>0</th>\n      <td>Nick</td>\n      <td>31</td>\n      <td>2.9</td>\n    </tr>\n    <tr>\n      <th>1</th>\n      <td>Jenn</td>\n      <td>55</td>\n      <td>1.2</td>\n    </tr>\n    <tr>\n      <th>2</th>\n      <td>Joe</td>\n      <td>25</td>\n      <td>1.2</td>\n    </tr>\n  </tbody>\n</table>\n</div>"
                    },
                    "metadata": {}
                }
            ],
            "execution_count": null
        },
        {
            "cell_type": "markdown",
            "source": "#### From a List of Lists\n\nif you have a collection of same-length sequences, you essentially have a rectangular data structure already!  All that's needed is to add some column labels.",
            "metadata": {
                "id": "tutorial-internship",
                "cell_id": "00010-ec69183b-5ac8-4dd0-a0db-8997e66b8c69",
                "deepnote_cell_type": "markdown"
            }
        },
        {
            "cell_type": "code",
            "metadata": {
                "id": "finished-figure",
                "outputId": "90a107ee-fdcf-4116-d1c0-55f9ce7626ad",
                "cell_id": "00011-e5073bfd-bedb-48d1-8cd0-870b146b932e",
                "deepnote_to_be_reexecuted": false,
                "source_hash": "ba91c925",
                "execution_start": 1636318575992,
                "execution_millis": 1,
                "deepnote_cell_type": "code"
            },
            "source": "friends = [\n    ['Nick', 31, 2.9],\n    ['Jenn', 55, 1.2],\n    ['Joe',  25, 1.2],\n]\npd.DataFrame(friends, columns=[\"Name\", \"Age\", \"Height\"])",
            "outputs": [
                {
                    "output_type": "execute_result",
                    "execution_count": 6,
                    "data": {
                        "application/vnd.deepnote.dataframe.v2+json": {
                            "row_count": 3,
                            "column_count": 3,
                            "columns": [
                                {
                                    "name": "Name",
                                    "dtype": "object",
                                    "stats": {
                                        "unique_count": 3,
                                        "nan_count": 0,
                                        "categories": [
                                            {
                                                "name": "Nick",
                                                "count": 1
                                            },
                                            {
                                                "name": "Jenn",
                                                "count": 1
                                            },
                                            {
                                                "name": "Joe",
                                                "count": 1
                                            }
                                        ]
                                    }
                                },
                                {
                                    "name": "Age",
                                    "dtype": "int64",
                                    "stats": {
                                        "unique_count": 3,
                                        "nan_count": 0,
                                        "min": "25",
                                        "max": "55",
                                        "histogram": [
                                            {
                                                "bin_start": 25,
                                                "bin_end": 28,
                                                "count": 1
                                            },
                                            {
                                                "bin_start": 28,
                                                "bin_end": 31,
                                                "count": 0
                                            },
                                            {
                                                "bin_start": 31,
                                                "bin_end": 34,
                                                "count": 1
                                            },
                                            {
                                                "bin_start": 34,
                                                "bin_end": 37,
                                                "count": 0
                                            },
                                            {
                                                "bin_start": 37,
                                                "bin_end": 40,
                                                "count": 0
                                            },
                                            {
                                                "bin_start": 40,
                                                "bin_end": 43,
                                                "count": 0
                                            },
                                            {
                                                "bin_start": 43,
                                                "bin_end": 46,
                                                "count": 0
                                            },
                                            {
                                                "bin_start": 46,
                                                "bin_end": 49,
                                                "count": 0
                                            },
                                            {
                                                "bin_start": 49,
                                                "bin_end": 52,
                                                "count": 0
                                            },
                                            {
                                                "bin_start": 52,
                                                "bin_end": 55,
                                                "count": 1
                                            }
                                        ]
                                    }
                                },
                                {
                                    "name": "Height",
                                    "dtype": "float64",
                                    "stats": {
                                        "unique_count": 2,
                                        "nan_count": 0,
                                        "min": "1.2",
                                        "max": "2.9",
                                        "histogram": [
                                            {
                                                "bin_start": 1.2,
                                                "bin_end": 1.3699999999999999,
                                                "count": 2
                                            },
                                            {
                                                "bin_start": 1.3699999999999999,
                                                "bin_end": 1.54,
                                                "count": 0
                                            },
                                            {
                                                "bin_start": 1.54,
                                                "bin_end": 1.71,
                                                "count": 0
                                            },
                                            {
                                                "bin_start": 1.71,
                                                "bin_end": 1.88,
                                                "count": 0
                                            },
                                            {
                                                "bin_start": 1.88,
                                                "bin_end": 2.05,
                                                "count": 0
                                            },
                                            {
                                                "bin_start": 2.05,
                                                "bin_end": 2.2199999999999998,
                                                "count": 0
                                            },
                                            {
                                                "bin_start": 2.2199999999999998,
                                                "bin_end": 2.3899999999999997,
                                                "count": 0
                                            },
                                            {
                                                "bin_start": 2.3899999999999997,
                                                "bin_end": 2.5599999999999996,
                                                "count": 0
                                            },
                                            {
                                                "bin_start": 2.5599999999999996,
                                                "bin_end": 2.7299999999999995,
                                                "count": 0
                                            },
                                            {
                                                "bin_start": 2.7299999999999995,
                                                "bin_end": 2.9,
                                                "count": 1
                                            }
                                        ]
                                    }
                                },
                                {
                                    "name": "_deepnote_index_column",
                                    "dtype": "int64"
                                }
                            ],
                            "rows_top": [
                                {
                                    "Name": "Nick",
                                    "Age": 31,
                                    "Height": 2.9,
                                    "_deepnote_index_column": 0
                                },
                                {
                                    "Name": "Jenn",
                                    "Age": 55,
                                    "Height": 1.2,
                                    "_deepnote_index_column": 1
                                },
                                {
                                    "Name": "Joe",
                                    "Age": 25,
                                    "Height": 1.2,
                                    "_deepnote_index_column": 2
                                }
                            ],
                            "rows_bottom": null
                        },
                        "text/plain": "   Name  Age  Height\n0  Nick   31     2.9\n1  Jenn   55     1.2\n2   Joe   25     1.2",
                        "text/html": "<div>\n<style scoped>\n    .dataframe tbody tr th:only-of-type {\n        vertical-align: middle;\n    }\n\n    .dataframe tbody tr th {\n        vertical-align: top;\n    }\n\n    .dataframe thead th {\n        text-align: right;\n    }\n</style>\n<table border=\"1\" class=\"dataframe\">\n  <thead>\n    <tr style=\"text-align: right;\">\n      <th></th>\n      <th>Name</th>\n      <th>Age</th>\n      <th>Height</th>\n    </tr>\n  </thead>\n  <tbody>\n    <tr>\n      <th>0</th>\n      <td>Nick</td>\n      <td>31</td>\n      <td>2.9</td>\n    </tr>\n    <tr>\n      <th>1</th>\n      <td>Jenn</td>\n      <td>55</td>\n      <td>1.2</td>\n    </tr>\n    <tr>\n      <th>2</th>\n      <td>Joe</td>\n      <td>25</td>\n      <td>1.2</td>\n    </tr>\n  </tbody>\n</table>\n</div>"
                    },
                    "metadata": {}
                }
            ],
            "execution_count": null
        },
        {
            "cell_type": "markdown",
            "source": "#### From an empty DataFrame\nIf you prefer, you can also add columns one at a time, starting with an empty DataFrame:",
            "metadata": {
                "id": "incoming-bathroom",
                "cell_id": "00012-3e9a1df7-f070-4c43-8d02-bb6dcda3854a",
                "deepnote_cell_type": "markdown"
            }
        },
        {
            "cell_type": "code",
            "metadata": {
                "id": "beautiful-makeup",
                "outputId": "6e934d88-12b5-40e5-c139-f1d8bf2c05cf",
                "cell_id": "00013-c76cae6a-71b9-4aa2-a258-ec84f448d0d9",
                "deepnote_to_be_reexecuted": false,
                "source_hash": "59a558dd",
                "execution_start": 1636318586715,
                "execution_millis": 4,
                "deepnote_cell_type": "code"
            },
            "source": "df = pd.DataFrame()\ndf['Name'] = ['Nick', 'Jenn', 'Joe']\ndf['Age'] = [31, 55, 25]\ndf['Height'] = [2.9, 1.2, 1.2]\ndf",
            "outputs": [
                {
                    "output_type": "execute_result",
                    "execution_count": 7,
                    "data": {
                        "application/vnd.deepnote.dataframe.v2+json": {
                            "row_count": 3,
                            "column_count": 3,
                            "columns": [
                                {
                                    "name": "Name",
                                    "dtype": "object",
                                    "stats": {
                                        "unique_count": 3,
                                        "nan_count": 0,
                                        "categories": [
                                            {
                                                "name": "Nick",
                                                "count": 1
                                            },
                                            {
                                                "name": "Jenn",
                                                "count": 1
                                            },
                                            {
                                                "name": "Joe",
                                                "count": 1
                                            }
                                        ]
                                    }
                                },
                                {
                                    "name": "Age",
                                    "dtype": "int64",
                                    "stats": {
                                        "unique_count": 3,
                                        "nan_count": 0,
                                        "min": "25",
                                        "max": "55",
                                        "histogram": [
                                            {
                                                "bin_start": 25,
                                                "bin_end": 28,
                                                "count": 1
                                            },
                                            {
                                                "bin_start": 28,
                                                "bin_end": 31,
                                                "count": 0
                                            },
                                            {
                                                "bin_start": 31,
                                                "bin_end": 34,
                                                "count": 1
                                            },
                                            {
                                                "bin_start": 34,
                                                "bin_end": 37,
                                                "count": 0
                                            },
                                            {
                                                "bin_start": 37,
                                                "bin_end": 40,
                                                "count": 0
                                            },
                                            {
                                                "bin_start": 40,
                                                "bin_end": 43,
                                                "count": 0
                                            },
                                            {
                                                "bin_start": 43,
                                                "bin_end": 46,
                                                "count": 0
                                            },
                                            {
                                                "bin_start": 46,
                                                "bin_end": 49,
                                                "count": 0
                                            },
                                            {
                                                "bin_start": 49,
                                                "bin_end": 52,
                                                "count": 0
                                            },
                                            {
                                                "bin_start": 52,
                                                "bin_end": 55,
                                                "count": 1
                                            }
                                        ]
                                    }
                                },
                                {
                                    "name": "Height",
                                    "dtype": "float64",
                                    "stats": {
                                        "unique_count": 2,
                                        "nan_count": 0,
                                        "min": "1.2",
                                        "max": "2.9",
                                        "histogram": [
                                            {
                                                "bin_start": 1.2,
                                                "bin_end": 1.3699999999999999,
                                                "count": 2
                                            },
                                            {
                                                "bin_start": 1.3699999999999999,
                                                "bin_end": 1.54,
                                                "count": 0
                                            },
                                            {
                                                "bin_start": 1.54,
                                                "bin_end": 1.71,
                                                "count": 0
                                            },
                                            {
                                                "bin_start": 1.71,
                                                "bin_end": 1.88,
                                                "count": 0
                                            },
                                            {
                                                "bin_start": 1.88,
                                                "bin_end": 2.05,
                                                "count": 0
                                            },
                                            {
                                                "bin_start": 2.05,
                                                "bin_end": 2.2199999999999998,
                                                "count": 0
                                            },
                                            {
                                                "bin_start": 2.2199999999999998,
                                                "bin_end": 2.3899999999999997,
                                                "count": 0
                                            },
                                            {
                                                "bin_start": 2.3899999999999997,
                                                "bin_end": 2.5599999999999996,
                                                "count": 0
                                            },
                                            {
                                                "bin_start": 2.5599999999999996,
                                                "bin_end": 2.7299999999999995,
                                                "count": 0
                                            },
                                            {
                                                "bin_start": 2.7299999999999995,
                                                "bin_end": 2.9,
                                                "count": 1
                                            }
                                        ]
                                    }
                                },
                                {
                                    "name": "_deepnote_index_column",
                                    "dtype": "int64"
                                }
                            ],
                            "rows_top": [
                                {
                                    "Name": "Nick",
                                    "Age": 31,
                                    "Height": 2.9,
                                    "_deepnote_index_column": 0
                                },
                                {
                                    "Name": "Jenn",
                                    "Age": 55,
                                    "Height": 1.2,
                                    "_deepnote_index_column": 1
                                },
                                {
                                    "Name": "Joe",
                                    "Age": 25,
                                    "Height": 1.2,
                                    "_deepnote_index_column": 2
                                }
                            ],
                            "rows_bottom": null
                        },
                        "text/plain": "   Name  Age  Height\n0  Nick   31     2.9\n1  Jenn   55     1.2\n2   Joe   25     1.2",
                        "text/html": "<div>\n<style scoped>\n    .dataframe tbody tr th:only-of-type {\n        vertical-align: middle;\n    }\n\n    .dataframe tbody tr th {\n        vertical-align: top;\n    }\n\n    .dataframe thead th {\n        text-align: right;\n    }\n</style>\n<table border=\"1\" class=\"dataframe\">\n  <thead>\n    <tr style=\"text-align: right;\">\n      <th></th>\n      <th>Name</th>\n      <th>Age</th>\n      <th>Height</th>\n    </tr>\n  </thead>\n  <tbody>\n    <tr>\n      <th>0</th>\n      <td>Nick</td>\n      <td>31</td>\n      <td>2.9</td>\n    </tr>\n    <tr>\n      <th>1</th>\n      <td>Jenn</td>\n      <td>55</td>\n      <td>1.2</td>\n    </tr>\n    <tr>\n      <th>2</th>\n      <td>Joe</td>\n      <td>25</td>\n      <td>1.2</td>\n    </tr>\n  </tbody>\n</table>\n</div>"
                    },
                    "metadata": {}
                }
            ],
            "execution_count": null
        },
        {
            "cell_type": "markdown",
            "source": "#### Exercise: Make a DataFrame from Scratch\n\nPlease use Pandas to recreate the table below as a Dataframe using one of the approaches detailed above:\n\n| Year | Product | Cost |\n| :--: | :----:  | :--: |\n| 2015 | Apples  | 0.35 |\n| 2016 | Apples  | 0.45 |\n| 2015 | Bananas | 0.75 |\n| 2016 | Bananas | 1.10 |",
            "metadata": {
                "id": "editorial-assumption",
                "cell_id": "00014-8b55fa8f-9ac2-4340-bffc-3b059093469b",
                "deepnote_cell_type": "markdown"
            }
        },
        {
            "cell_type": "code",
            "metadata": {
                "id": "bronze-withdrawal",
                "cell_id": "00015-e31b8bb3-6078-4077-aedd-0992b45ec2fe",
                "deepnote_cell_type": "code"
            },
            "source": "",
            "execution_count": null,
            "outputs": ""
        },
        {
            "cell_type": "markdown",
            "source": "*(3-minute Discussion)*: Which approach did you choose?  What did you like about it?",
            "metadata": {
                "id": "established-identity",
                "cell_id": "00016-e4ac26f0-5973-4f70-8d90-215891749e7f",
                "deepnote_cell_type": "markdown"
            }
        },
        {
            "cell_type": "markdown",
            "source": "### Reading Data from Files into a DataFrame\n\n\n| File Format | File Extension | `read_xxx()` function | Dataframe Write Method | \n| :--:  | :--: | :--: | :--: |\n| Comma-Seperated Values      | .csv           | `pd.read_csv()` | `df.to_csv()` |\n| Tab-seperated Valuess       | .tsv, .tabular, .csv | `pd.read_csv(sep='\\t')`, `pd.read_table()` | `df.to_csv(sep='\\t')` `df.to_table()` |\n| Excel Spreadsheet           |  .xls | `pd.read_excel()`                    | `df.to_excel()`  |\n| Excel Spreadsheet 2010      | .xlsx | `pd.read_excel(engine='openpyxl')`   | `df.to_excel(engine='openpyxl')` |\n| JSON                        | .json | `pd.read_json()`                     | `df.to_json()` |\n| Tables in a Web Page (HTML) | .html | `pd.read_html()[0]`                  | `df.to_html()` |\n| HDF5 | .hdf5, .h5, | `pd.read_hdf5()` |  `df.to_hdf5()` |",
            "metadata": {
                "id": "affected-veteran",
                "cell_id": "00017-4febcbde-dc4f-4ce0-b360-41a1bccaf772",
                "deepnote_cell_type": "markdown"
            }
        },
        {
            "cell_type": "code",
            "metadata": {
                "id": "necessary-converter",
                "cell_id": "00018-38cd54c9-a579-4d0c-9fe1-fbc33f88064f",
                "deepnote_cell_type": "code"
            },
            "source": "import pandas as pd",
            "execution_count": null,
            "outputs": []
        },
        {
            "cell_type": "markdown",
            "source": "### File Format Exercises: \"Roundtripping\" write-read\n\nrun the code below to download the Titanic passengers dataset, and transform it into different file formats\n\n*Note*: Yep, that's right, you can supply a web url and pandas reads it like a normal file!",
            "metadata": {
                "id": "incredible-traveler",
                "cell_id": "00019-df6eb991-fa78-4f34-9a8e-2988fb8b3d33",
                "deepnote_cell_type": "markdown"
            }
        },
        {
            "cell_type": "code",
            "metadata": {
                "id": "collaborative-worcester",
                "outputId": "bf88e3fd-4ea0-481f-d3a9-c3354cc2ac44",
                "cell_id": "00020-3f4a1352-2d01-4b33-971d-48adcced2670",
                "deepnote_to_be_reexecuted": false,
                "source_hash": "cd699004",
                "execution_start": 1636318852820,
                "execution_millis": 47,
                "deepnote_cell_type": "code"
            },
            "source": "",
            "outputs": "",
            "execution_count": null
        },
        {
            "cell_type": "markdown",
            "source": "Now run the code below to save the file to a comma-seperated file using the `DataFrame.to_csv()` method:",
            "metadata": {
                "tags": [],
                "cell_id": "00018-ee68a483-fa8c-427f-b472-78c397c9a4f0",
                "deepnote_cell_type": "markdown"
            },
            "outputs": [],
            "execution_count": null
        },
        {
            "cell_type": "code",
            "metadata": {
                "id": "acute-member",
                "cell_id": "00021-1c9572d8-dddd-4072-85e7-b3bbd9e9d20e",
                "deepnote_cell_type": "code"
            },
            "source": "",
            "execution_count": null,
            "outputs": ""
        },
        {
            "cell_type": "markdown",
            "source": "#### Tab-Seperated Values",
            "metadata": {
                "id": "fiscal-arena",
                "cell_id": "00022-d8bfa25c-b2ca-47b3-8818-9c8d0b460e1f",
                "deepnote_cell_type": "markdown"
            }
        },
        {
            "cell_type": "markdown",
            "source": "Save the dataframe to a tab-seperated file, using the `.tsv` file extension",
            "metadata": {
                "id": "stone-letter",
                "cell_id": "00023-4f9fce09-de32-49c0-a54c-f4a61e90ef4f",
                "deepnote_cell_type": "markdown"
            }
        },
        {
            "cell_type": "code",
            "metadata": {
                "id": "surprising-barcelona",
                "cell_id": "00024-070d24d4-d318-4ec4-8e74-2b777544a2e2",
                "deepnote_cell_type": "code"
            },
            "source": "",
            "execution_count": null,
            "outputs": []
        },
        {
            "cell_type": "markdown",
            "source": "Did it save correctly?  Check by reading the TSV file into Pandas again.  ",
            "metadata": {
                "id": "japanese-turtle",
                "cell_id": "00025-291a3ff4-bb60-4c6e-9788-4cff7311a37d",
                "deepnote_cell_type": "markdown"
            }
        },
        {
            "cell_type": "code",
            "metadata": {
                "id": "floral-spell",
                "cell_id": "00026-ba5ed9e4-90ba-4d28-be1a-d521682308a4",
                "deepnote_cell_type": "code"
            },
            "source": "",
            "execution_count": null,
            "outputs": []
        },
        {
            "cell_type": "markdown",
            "source": "Open the file in a text editor.  What does it look like?",
            "metadata": {
                "tags": [],
                "cell_id": "00025-dca7d97c-f152-4739-972f-86f9b91adcc9",
                "deepnote_cell_type": "markdown"
            },
            "outputs": [],
            "execution_count": null
        },
        {
            "cell_type": "markdown",
            "source": "#### JSON ",
            "metadata": {
                "id": "latest-annotation",
                "cell_id": "00028-0b9d73f6-c77a-4e7b-a52b-5aa41c9bf2b5",
                "deepnote_cell_type": "markdown"
            }
        },
        {
            "cell_type": "markdown",
            "source": "Save the dataframe to a JSON file.",
            "metadata": {
                "id": "silver-secretariat",
                "cell_id": "00029-53d3c2cc-c877-44f3-b53d-ed2426c82f16",
                "deepnote_cell_type": "markdown"
            }
        },
        {
            "cell_type": "code",
            "metadata": {
                "id": "illegal-update",
                "cell_id": "00030-427a4dd0-ba27-4588-9b6f-8717884de822",
                "deepnote_to_be_reexecuted": false,
                "source_hash": "b623e53d",
                "execution_start": 1636319001749,
                "execution_millis": 0,
                "deepnote_cell_type": "code"
            },
            "source": "",
            "outputs": [],
            "execution_count": null
        },
        {
            "cell_type": "markdown",
            "source": "Read the JSON file into Pandas again.  ",
            "metadata": {
                "id": "signed-design",
                "cell_id": "00031-a8694743-4063-47a8-987d-5eae2666a666",
                "deepnote_cell_type": "markdown"
            }
        },
        {
            "cell_type": "code",
            "metadata": {
                "id": "mounted-peoples",
                "cell_id": "00032-a85e45ed-4edc-4058-9b9f-5ed5b618021f",
                "deepnote_cell_type": "code"
            },
            "source": "",
            "execution_count": null,
            "outputs": []
        },
        {
            "cell_type": "markdown",
            "source": "Open the file in a text editor.  What does it look like?",
            "metadata": {
                "id": "global-coalition",
                "cell_id": "00033-c615e5c7-7fe9-49a0-9cf1-bd322c95608b",
                "deepnote_cell_type": "markdown"
            }
        },
        {
            "cell_type": "markdown",
            "source": "#### HTML ",
            "metadata": {
                "id": "varied-liabilities",
                "cell_id": "00034-5519fe28-e4ab-463a-a352-612e07300929",
                "deepnote_cell_type": "markdown"
            }
        },
        {
            "cell_type": "markdown",
            "source": "Save the dataframe to a HTML file.",
            "metadata": {
                "id": "concerned-sheffield",
                "cell_id": "00035-a7a70588-3dce-4398-86bd-59038dabb7df",
                "deepnote_cell_type": "markdown"
            }
        },
        {
            "cell_type": "code",
            "metadata": {
                "id": "known-correction",
                "cell_id": "00036-3defd7db-e0cf-4a36-a39a-a08ac294932c",
                "deepnote_to_be_reexecuted": false,
                "source_hash": "b623e53d",
                "execution_start": 1636319045967,
                "execution_millis": 3,
                "deepnote_cell_type": "code"
            },
            "source": "",
            "outputs": [],
            "execution_count": null
        },
        {
            "cell_type": "markdown",
            "source": "Read the HTML file into Pandas again.  ",
            "metadata": {
                "id": "developed-depth",
                "cell_id": "00037-1820e6ca-4c79-4f97-bcb3-b474cb3f3aef",
                "deepnote_cell_type": "markdown"
            }
        },
        {
            "cell_type": "code",
            "metadata": {
                "id": "early-fusion",
                "outputId": "795f4378-e430-4959-84cf-a168f66d9bd1",
                "cell_id": "00038-2247b564-c971-46b0-8f59-66b107e11a1c",
                "deepnote_to_be_reexecuted": false,
                "source_hash": "b623e53d",
                "execution_start": 1636319052477,
                "execution_millis": 1,
                "deepnote_cell_type": "code"
            },
            "source": "",
            "outputs": [],
            "execution_count": null
        },
        {
            "cell_type": "markdown",
            "source": "Open the file in Jupyter (right-click on it in the file browser, click open with editor).  What does the file it look like?",
            "metadata": {
                "id": "aggregate-questionnaire",
                "cell_id": "00042-eb7569a7-be38-4324-86aa-431880d771ad",
                "deepnote_cell_type": "markdown"
            }
        },
        {
            "cell_type": "markdown",
            "source": "Download the file to your computer, then double-click it to open it in your web. What does it look like in your web browser?",
            "metadata": {
                "id": "frank-letter",
                "cell_id": "00043-7ed27e7b-c186-401f-9867-69fe2c57565c",
                "deepnote_cell_type": "markdown"
            }
        },
        {
            "cell_type": "markdown",
            "source": "#### Excel ",
            "metadata": {
                "id": "lined-trace",
                "cell_id": "00044-a7a1da2f-50fc-4779-8b9c-a07d7c609b15",
                "deepnote_cell_type": "markdown"
            }
        },
        {
            "cell_type": "markdown",
            "source": "Note: Because XLS and XLSX are proprietary formats, you may need to install a couple extra packages for this to work \n\n`!pip install openpyxl`",
            "metadata": {
                "id": "neutral-senator",
                "cell_id": "00045-5097cc33-04c2-4dc8-8d2e-fe365a4cffde",
                "deepnote_cell_type": "markdown"
            }
        },
        {
            "cell_type": "markdown",
            "source": "Save the dataframe to an Excel file.  `DataFrame.to_excel(engine='openpyxl')`",
            "metadata": {
                "id": "negative-input",
                "cell_id": "00047-15c37d8f-65da-413e-a517-f9988e48429a",
                "deepnote_cell_type": "markdown"
            }
        },
        {
            "cell_type": "code",
            "metadata": {
                "id": "municipal-dancing",
                "cell_id": "00048-6cb3709e-9419-4a6a-8f4c-e31bb93f6ccc",
                "deepnote_to_be_reexecuted": false,
                "source_hash": "b623e53d",
                "execution_start": 1636319143192,
                "execution_millis": 1,
                "deepnote_cell_type": "code"
            },
            "source": "",
            "outputs": [],
            "execution_count": null
        },
        {
            "cell_type": "markdown",
            "source": "Read the HTML file into Pandas again.  ",
            "metadata": {
                "id": "talented-letter",
                "cell_id": "00049-f836e579-a00a-4f22-9c59-647719e7bfd7",
                "deepnote_cell_type": "markdown"
            }
        },
        {
            "cell_type": "code",
            "metadata": {
                "id": "essential-diagnosis",
                "cell_id": "00050-aeab11f9-4d97-4e0e-a34c-406707b54695",
                "deepnote_cell_type": "code"
            },
            "source": "",
            "execution_count": null,
            "outputs": []
        },
        {
            "cell_type": "markdown",
            "source": "Open the file in a text editor.  What does the file it look like?  Does it even open?",
            "metadata": {
                "id": "racial-reduction",
                "cell_id": "00051-16a74386-fc71-4287-b53a-05c491bf4f01",
                "deepnote_cell_type": "markdown"
            }
        },
        {
            "cell_type": "markdown",
            "source": "Open it in your spreadsheet program.  What does it look like?",
            "metadata": {
                "id": "cross-frontier",
                "cell_id": "00057-49a6c365-8733-4f18-8d71-ea52ed35f8f1",
                "deepnote_cell_type": "markdown"
            }
        },
        {
            "cell_type": "markdown",
            "source": "<a style='text-decoration:none;line-height:16px;display:flex;color:#5B5B62;padding:10px;justify-content:end;' href='https://deepnote.com?utm_source=created-in-deepnote-cell&projectId=48227045-6b9e-4724-ab08-5501bac37c06' target=\"_blank\">\n<img alt='Created in deepnote.com' style='display:inline;max-height:16px;margin:0px;margin-right:7.5px;' src='data:image/svg+xml;base64,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' > </img>\nCreated in <span style='font-weight:600;margin-left:4px;'>Deepnote</span></a>",
            "metadata": {
                "tags": [],
                "created_in_deepnote_cell": true,
                "deepnote_cell_type": "markdown"
            }
        }
    ],
    "nbformat": 4,
    "nbformat_minor": 5,
    "metadata": {
        "kernelspec": {
            "display_name": "Python 3",
            "language": "python",
            "name": "python3"
        },
        "language_info": {
            "codemirror_mode": {
                "name": "ipython",
                "version": 3
            },
            "file_extension": ".py",
            "mimetype": "text/x-python",
            "name": "python",
            "nbconvert_exporter": "python",
            "pygments_lexer": "ipython3",
            "version": "3.8.3"
        },
        "colab": {
            "name": "12_DataFrame_Creation.ipynb",
            "provenance": []
        },
        "deepnote_notebook_id": "46d4e0e5-b75f-43ef-8b97-cdec857f3c04",
        "deepnote": {},
        "deepnote_execution_queue": []
    }
}