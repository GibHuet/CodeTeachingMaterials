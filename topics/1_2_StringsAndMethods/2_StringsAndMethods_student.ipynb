{
    "cells": [
        {
            "cell_type": "markdown",
            "source": "# Intro to Methods and Polymorphism\n## With Strings and DNA Sequences",
            "metadata": {
                "tags": [],
                "cell_id": "00000-7845d921-1012-45bc-86a2-bda8514e63bb",
                "deepnote_cell_type": "markdown"
            }
        },
        {
            "cell_type": "markdown",
            "source": "`string` objects in Python represent text.  They can be created in several ways:\n\n```python\n>>> 'Hello'  # with apostrophes (\"single-quotes\")\n'Hello'\n\n>>> \"Hello\"  # with quotation marks (\"double-quotes\")\n\"Hello\"\n\n>>> \"\"\"Hello,     \n... my name is\n... Nick\"\"\"   # with triple-double-quotes (a \"docstring\", used for multi-line text)\n'Hello,\\nmy name is\\nNick'  \n\n>>> str(32)  # using the str() function to change into a string\n'32'\n```",
            "metadata": {
                "tags": [],
                "cell_id": "00001-43f8a1d6-e7b8-4171-90f4-92124c8941b3",
                "deepnote_cell_type": "markdown"
            }
        },
        {
            "cell_type": "markdown",
            "source": "Nucleotide sequences are often represented as strings:\n\n```python\n>>> seq = 'GCATTGGCT'\n```",
            "metadata": {
                "tags": [],
                "cell_id": "00002-b250d3c5-ff38-4c46-8e80-8c10d039b870",
                "deepnote_cell_type": "markdown"
            }
        },
        {
            "cell_type": "markdown",
            "source": "## String Operation Exercises\n\nModify the dna sequences below in a single line of code to match what's asked for.  Functions and methods that may be used are:\n\n### Operations\n\nThe same operations we've used on numbers and lists work on strings!\n\n  - `'GTC' * 3`\n  - `'GTC' + 'GTC'`\n  - `'GTC'[0]`\n  - `'GTC'[-1]`\n  - `'GTC'[1:]`\n  - `'GTC'[:-1]`\n  - `'GTC'[::-1]   # Reverses the sequence`\n  - `'GTC' == 'GTC'  # If they are the same, then True`\n  - `'GTC' != 'GTC'  # If they are different, then True`\n\n\n### String Methods\n\nStrings also contain their own functions.  Functions inside types are called **\"Methods\"**, and they are a way to automatically put the string into the function.\n\n  - `'GTC'.count('A')`  is the same as `str.count('GTC', 'A')`\n  - `'GtC'.upper()`  is the same as `str.upper('GtC')`\n  - `'GTc'.lower()`  is the same as `str.lower('GTc')`\n  - `'GTC'.isdigit()` is the same as `str.isdigit('GTC')`\n  - `'GTC'.index('T')` is the same as `str.index('GTC', 'T')`\n  - `'GTC'.replace('G', 'C')`  is the same as `str.index('GTC', 'G', 'C')`\n  - `'GTC-CCA'.split('-')`  is the same as `str.split('GTC-CCA', '-')`\n\n### General Functions\n\nThe `len()` function doesn't work the same way, though, because it was made to work on lots of different types (i.e. not just strings).  So the only way to use it is to call it as a function:\n\n  - `len('GTC')`\n",
            "metadata": {
                "tags": [],
                "cell_id": "00003-08ad4179-02cc-440c-b42a-5679cd9cfe34",
                "deepnote_cell_type": "markdown"
            }
        },
        {
            "cell_type": "markdown",
            "source": "**Exercises**",
            "metadata": {
                "tags": [],
                "cell_id": "00002-fc392076-c4c5-4c65-ace1-951f9ab54146",
                "deepnote_cell_type": "markdown"
            }
        },
        {
            "cell_type": "markdown",
            "source": "Count the Number of \"G\" in the sequence",
            "metadata": {
                "tags": [],
                "cell_id": "00007-4c2309f9-6609-45c5-a89e-9868664b5f69",
                "deepnote_cell_type": "markdown"
            }
        },
        {
            "cell_type": "code",
            "metadata": {
                "tags": [],
                "cell_id": "00003-582507dc-2266-48b1-a446-34c026e4cdee",
                "deepnote_to_be_reexecuted": false,
                "source_hash": "41a532a",
                "execution_start": 1634079040821,
                "execution_millis": 4,
                "deepnote_cell_type": "code"
            },
            "source": "",
            "outputs": "",
            "execution_count": null
        },
        {
            "cell_type": "markdown",
            "source": "Count the number of \"AT\" repeats in the sequence",
            "metadata": {
                "tags": [],
                "cell_id": "00004-d51b6a81-a526-47a6-a3a1-1a373b6ac4a5",
                "deepnote_cell_type": "markdown"
            }
        },
        {
            "cell_type": "code",
            "metadata": {
                "tags": [],
                "cell_id": "00008-077a4e44-89ef-4a27-8034-88626e96f50c",
                "deepnote_to_be_reexecuted": false,
                "source_hash": "41a532a",
                "execution_start": 1634079085991,
                "execution_millis": 1,
                "deepnote_cell_type": "code"
            },
            "source": "",
            "outputs": "",
            "execution_count": null
        },
        {
            "cell_type": "markdown",
            "source": "Concatenate the following two sequences (i.e. combine them into one sequence)",
            "metadata": {
                "tags": [],
                "cell_id": "00008-25413327-f1e9-40f6-939a-0e9d8f1b5e5e",
                "deepnote_cell_type": "markdown"
            }
        },
        {
            "cell_type": "code",
            "metadata": {
                "tags": [],
                "cell_id": "00010-59d740f3-a38c-41da-9611-1d8b768336a4",
                "deepnote_to_be_reexecuted": false,
                "source_hash": "e000e2b3",
                "execution_start": 1634079160102,
                "execution_millis": 2,
                "deepnote_cell_type": "code"
            },
            "source": "",
            "outputs": "",
            "execution_count": null
        },
        {
            "cell_type": "markdown",
            "source": "How long is the following sequence?",
            "metadata": {
                "tags": [],
                "cell_id": "00011-2ab3529f-0ccb-4f66-8bdc-3ea3f6010ccc",
                "deepnote_cell_type": "markdown"
            }
        },
        {
            "cell_type": "code",
            "metadata": {
                "tags": [],
                "cell_id": "00012-e4360748-342a-4d43-880a-e93ed8122d04",
                "deepnote_to_be_reexecuted": false,
                "source_hash": "41a532a",
                "execution_start": 1634080856782,
                "execution_millis": 1,
                "deepnote_cell_type": "code"
            },
            "source": "",
            "outputs": "",
            "execution_count": null
        },
        {
            "cell_type": "markdown",
            "source": "What is the 7th nucleotide in this sequence?",
            "metadata": {
                "tags": [],
                "cell_id": "00013-3eff39fd-3694-4ea8-b469-7338461c05de",
                "deepnote_cell_type": "markdown"
            }
        },
        {
            "cell_type": "code",
            "metadata": {
                "tags": [],
                "cell_id": "00014-d9885058-078e-4316-bc75-a3be08a63e66",
                "deepnote_to_be_reexecuted": false,
                "source_hash": "41a532a",
                "execution_start": 1634081148579,
                "execution_millis": 1,
                "deepnote_cell_type": "code"
            },
            "source": "",
            "outputs": "",
            "execution_count": null
        },
        {
            "cell_type": "markdown",
            "source": "What is the 3rd-from-the-last nucleotide in this sequence?",
            "metadata": {
                "tags": [],
                "cell_id": "00015-762e255a-0236-47f1-8b05-f2f1ff08ecc4",
                "deepnote_cell_type": "markdown"
            }
        },
        {
            "cell_type": "code",
            "metadata": {
                "tags": [],
                "cell_id": "00016-740974fb-b373-443e-9079-25e9a29b1f99",
                "deepnote_to_be_reexecuted": false,
                "source_hash": "41a532a",
                "execution_start": 1634081182699,
                "execution_millis": 1,
                "deepnote_cell_type": "code"
            },
            "source": "",
            "outputs": "",
            "execution_count": null
        },
        {
            "cell_type": "markdown",
            "source": "Repeat the following sequence 13 times",
            "metadata": {
                "tags": [],
                "cell_id": "00010-cba5a2d8-f65c-4394-946c-4a98eefd7630",
                "deepnote_cell_type": "markdown"
            }
        },
        {
            "cell_type": "code",
            "metadata": {
                "tags": [],
                "cell_id": "00013-93c65027-89e2-4a78-a619-dc5b0daf8f83",
                "deepnote_to_be_reexecuted": false,
                "source_hash": "e8325bd0",
                "execution_start": 1634079205489,
                "execution_millis": 0,
                "deepnote_cell_type": "code"
            },
            "source": "",
            "outputs": "",
            "execution_count": null
        },
        {
            "cell_type": "markdown",
            "source": "Replace the incorrect letter with an empty string (i.e. delete the letter)",
            "metadata": {
                "tags": [],
                "cell_id": "00013-0473c5b5-e6a6-4e56-8e4a-54d887bdf5a7",
                "deepnote_cell_type": "markdown"
            }
        },
        {
            "cell_type": "code",
            "metadata": {
                "tags": [],
                "cell_id": "00014-21679293-a7e9-4f78-ab6a-5ed90cec9782",
                "deepnote_to_be_reexecuted": false,
                "source_hash": "4bf1e4b3",
                "execution_start": 1634079290023,
                "execution_millis": 1,
                "deepnote_cell_type": "code"
            },
            "source": "",
            "outputs": "",
            "execution_count": null
        },
        {
            "cell_type": "markdown",
            "source": "Keep only the first six nucleotides in this sequence",
            "metadata": {
                "tags": [],
                "cell_id": "00021-8331d446-a336-4950-ab3e-3584761b9945",
                "deepnote_cell_type": "markdown"
            }
        },
        {
            "cell_type": "code",
            "metadata": {
                "tags": [],
                "cell_id": "00022-3536ebf8-08f8-4e96-9faf-6a8b5a304013",
                "deepnote_to_be_reexecuted": false,
                "source_hash": "41a532a",
                "execution_start": 1634081214827,
                "execution_millis": 5,
                "deepnote_cell_type": "code"
            },
            "source": "",
            "outputs": "",
            "execution_count": null
        },
        {
            "cell_type": "markdown",
            "source": "Standardize the formatting of this sequence",
            "metadata": {
                "tags": [],
                "cell_id": "00014-d7405393-4e09-4348-b3eb-73f3d5c508f4",
                "deepnote_cell_type": "markdown"
            }
        },
        {
            "cell_type": "code",
            "metadata": {
                "tags": [],
                "cell_id": "00017-9265e569-65b1-4e0e-a7f1-03f600501257",
                "deepnote_to_be_reexecuted": false,
                "source_hash": "5ceb027e",
                "execution_start": 1634079427930,
                "execution_millis": 1,
                "deepnote_cell_type": "code"
            },
            "source": "",
            "outputs": "",
            "execution_count": null
        },
        {
            "cell_type": "markdown",
            "source": "Split the following string around the empty space into a list of sequences",
            "metadata": {
                "tags": [],
                "cell_id": "00017-2115d821-3cf9-4b10-9a11-3b91c7d18d06",
                "deepnote_cell_type": "markdown"
            }
        },
        {
            "cell_type": "code",
            "metadata": {
                "tags": [],
                "cell_id": "00017-cd7e0ba1-54d1-4833-a336-5be1d6e9d7ec",
                "deepnote_to_be_reexecuted": false,
                "source_hash": "140b9420",
                "execution_start": 1634079573701,
                "execution_millis": 1,
                "deepnote_cell_type": "code"
            },
            "source": "",
            "outputs": "",
            "execution_count": null
        },
        {
            "cell_type": "markdown",
            "source": "Reverse this sequence",
            "metadata": {
                "tags": [],
                "cell_id": "00027-a018e06b-da15-4a11-9acc-1a09569311bd",
                "deepnote_cell_type": "markdown"
            }
        },
        {
            "cell_type": "code",
            "metadata": {
                "tags": [],
                "cell_id": "00027-44bc90e1-94c1-4dd5-acb0-6eead8708776",
                "deepnote_to_be_reexecuted": false,
                "source_hash": "41a532a",
                "execution_start": 1634082719763,
                "execution_millis": 4,
                "deepnote_cell_type": "code"
            },
            "source": "",
            "outputs": "",
            "execution_count": null
        },
        {
            "cell_type": "markdown",
            "source": "What percentage of strong nucleotides (G and C) are there in this sequence?",
            "metadata": {
                "tags": [],
                "cell_id": "00019-ff7565ff-ad94-4e5c-93da-0cfda3494505",
                "deepnote_cell_type": "markdown"
            }
        },
        {
            "cell_type": "code",
            "metadata": {
                "tags": [],
                "cell_id": "00020-a614801b-0e9e-4aec-899e-371d4dab1e91",
                "deepnote_to_be_reexecuted": false,
                "source_hash": "41a532a",
                "execution_start": 1634082723387,
                "execution_millis": 3,
                "deepnote_cell_type": "code"
            },
            "source": "",
            "outputs": "",
            "execution_count": null
        },
        {
            "cell_type": "markdown",
            "source": "Is this sequence the same forwards and backwards (i.e. a palindrome)?",
            "metadata": {
                "tags": [],
                "cell_id": "00031-9f1903c4-213b-46ae-870b-3b78d6cb6967",
                "deepnote_cell_type": "markdown"
            }
        },
        {
            "cell_type": "code",
            "metadata": {
                "tags": [],
                "cell_id": "00032-e853c1a7-4ed8-4f0a-96f8-01f45a530915",
                "deepnote_to_be_reexecuted": false,
                "source_hash": "e9788ffd",
                "execution_start": 1634083069195,
                "execution_millis": 1,
                "deepnote_cell_type": "code"
            },
            "source": "",
            "outputs": "",
            "execution_count": null
        },
        {
            "cell_type": "markdown",
            "source": "## Text Files\n\n### Writing Strings to Files\n\nStrings can be saved to text files by making a `File` object with the `open()` function and writing the string to it.  Here are two ways to do it:\n\n```python\nmy_file = open('myfile.txt', 'w')  # get a file object open in 'write' mode\nmy_file.write('This is my text')  # call the file.write() method\nmy_file.close()  # call the file.close() method\n```\n\n\n### Reading Strings from Files\n\nReading works in a similar way\n\n```python\nmy_file = open('myfile.txt')\ntext = my_file.read()\nmy_file.close()\n```\n",
            "metadata": {
                "tags": [],
                "cell_id": "00018-839a5e65-599d-476a-ab1c-fe84fc113e9f",
                "deepnote_cell_type": "markdown"
            }
        },
        {
            "cell_type": "markdown",
            "source": "Write the following sequence to a file called \"sequence1.txt\":",
            "metadata": {
                "tags": [],
                "cell_id": "00034-f7dafb88-24f7-4417-97be-30f1d0e06dd3",
                "deepnote_cell_type": "markdown"
            }
        },
        {
            "cell_type": "code",
            "metadata": {
                "tags": [],
                "cell_id": "00035-fdba6b56-4f40-4bb9-9b4d-0431c64ea010",
                "deepnote_cell_type": "code"
            },
            "source": "seq = \"GTGTCAGTCCCCATGAATCGATAG\"",
            "execution_count": null,
            "outputs": []
        },
        {
            "cell_type": "markdown",
            "source": "Read the sequence from the file back into Python",
            "metadata": {
                "tags": [],
                "cell_id": "00036-b63fba54-258e-4382-b6a8-342d4eb8635c",
                "deepnote_cell_type": "markdown"
            }
        },
        {
            "cell_type": "code",
            "metadata": {
                "tags": [],
                "cell_id": "00037-fc9d7632-cbd3-4ebf-8532-0b1e82d4c84f",
                "deepnote_cell_type": "code"
            },
            "source": "",
            "execution_count": null,
            "outputs": []
        },
        {
            "cell_type": "markdown",
            "source": "### Online Text\n\nFor getting text data from the internet, we can use the [requests](https://docs.python-requests.org/en/master/) package, which comes with Anaconda.\n\n```python\nimport requests\nurl = \"https://docs.python-requests.org/en/master/\"\nr = requests.get(url)\ntext = r.text\n```",
            "metadata": {
                "tags": [],
                "cell_id": "00030-84725862-0db5-4314-946d-d1c2e457794c",
                "deepnote_cell_type": "markdown"
            }
        },
        {
            "cell_type": "markdown",
            "source": "**Exercises**",
            "metadata": {
                "tags": [],
                "cell_id": "00032-ca9af187-e068-4870-ba1c-650da235a862",
                "deepnote_cell_type": "markdown"
            }
        },
        {
            "cell_type": "markdown",
            "source": "Roughly how many letters are in William Shakespeare's play \"Romeo and Juliet\"?",
            "metadata": {
                "tags": [],
                "cell_id": "00033-887069d7-4bd8-4a90-ba05-3e389ecf5e1f",
                "deepnote_cell_type": "markdown"
            }
        },
        {
            "cell_type": "code",
            "metadata": {
                "tags": [],
                "cell_id": "00035-8cea9996-e0c1-4e00-9666-8854e88dea7c",
                "deepnote_to_be_reexecuted": false,
                "source_hash": "ba84b533",
                "execution_start": 1634080828800,
                "execution_millis": 142,
                "deepnote_cell_type": "code"
            },
            "source": "url = \"https://raw.githubusercontent.com/cgovella/learning/master/edx-python/case%20studies/gutenverg/Books/English/shakespeare/Romeo%20and%20Juliet.txt\"\nimport requests\nr = requests.get(url)\nlen(r.text)",
            "outputs": [
                {
                    "output_type": "execute_result",
                    "execution_count": 22,
                    "data": {
                        "text/plain": "178981"
                    },
                    "metadata": {}
                }
            ],
            "execution_count": null
        },
        {
            "cell_type": "markdown",
            "source": "Does the word \"Romeo\" or \"Juliet\" appear more often in the text?",
            "metadata": {
                "tags": [],
                "cell_id": "00037-2ec7639b-5370-4f67-829a-0e83f2a092fb",
                "deepnote_cell_type": "markdown"
            }
        },
        {
            "cell_type": "code",
            "metadata": {
                "tags": [],
                "cell_id": "00038-bbb31d33-f40e-46c1-b5b2-633cdc3aab8b",
                "deepnote_cell_type": "code"
            },
            "source": "",
            "execution_count": null,
            "outputs": []
        },
        {
            "cell_type": "markdown",
            "source": "Write the play into a text file called \"romeo_and_juliet.txt\"",
            "metadata": {
                "tags": [],
                "cell_id": "00036-4b7eb191-8d0b-4988-9ffa-f42ff5558292",
                "deepnote_cell_type": "markdown"
            }
        },
        {
            "cell_type": "markdown",
            "source": "",
            "metadata": {
                "tags": [],
                "cell_id": "00045-e6324f51-dede-47bd-90ea-d32fc8271e38",
                "deepnote_cell_type": "markdown"
            }
        },
        {
            "cell_type": "markdown",
            "source": "<a style='text-decoration:none;line-height:16px;display:flex;color:#5B5B62;padding:10px;justify-content:end;' href='https://deepnote.com?utm_source=created-in-deepnote-cell&projectId=d703678d-f12c-4453-a422-685f3ee4b709' target=\"_blank\">\n<img alt='Created in deepnote.com' style='display:inline;max-height:16px;margin:0px;margin-right:7.5px;' src='data:image/svg+xml;base64,PD94bWwgdmVyc2lvbj0iMS4wIiBlbmNvZGluZz0iVVRGLTgiPz4KPHN2ZyB3aWR0aD0iODBweCIgaGVpZ2h0PSI4MHB4IiB2aWV3Qm94PSIwIDAgODAgODAiIHZlcnNpb249IjEuMSIgeG1sbnM9Imh0dHA6Ly93d3cudzMub3JnLzIwMDAvc3ZnIiB4bWxuczp4bGluaz0iaHR0cDovL3d3dy53My5vcmcvMTk5OS94bGluayI+CiAgICA8IS0tIEdlbmVyYXRvcjogU2tldGNoIDU0LjEgKDc2NDkwKSAtIGh0dHBzOi8vc2tldGNoYXBwLmNvbSAtLT4KICAgIDx0aXRsZT5Hcm91cCAzPC90aXRsZT4KICAgIDxkZXNjPkNyZWF0ZWQgd2l0aCBTa2V0Y2guPC9kZXNjPgogICAgPGcgaWQ9IkxhbmRpbmciIHN0cm9rZT0ibm9uZSIgc3Ryb2tlLXdpZHRoPSIxIiBmaWxsPSJub25lIiBmaWxsLXJ1bGU9ImV2ZW5vZGQiPgogICAgICAgIDxnIGlkPSJBcnRib2FyZCIgdHJhbnNmb3JtPSJ0cmFuc2xhdGUoLTEyMzUuMDAwMDAwLCAtNzkuMDAwMDAwKSI+CiAgICAgICAgICAgIDxnIGlkPSJHcm91cC0zIiB0cmFuc2Zvcm09InRyYW5zbGF0ZSgxMjM1LjAwMDAwMCwgNzkuMDAwMDAwKSI+CiAgICAgICAgICAgICAgICA8cG9seWdvbiBpZD0iUGF0aC0yMCIgZmlsbD0iIzAyNjVCNCIgcG9pbnRzPSIyLjM3NjIzNzYyIDgwIDM4LjA0NzY2NjcgODAgNTcuODIxNzgyMiA3My44MDU3NTkyIDU3LjgyMTc4MjIgMzIuNzU5MjczOSAzOS4xNDAyMjc4IDMxLjY4MzE2ODMiPjwvcG9seWdvbj4KICAgICAgICAgICAgICAgIDxwYXRoIGQ9Ik0zNS4wMDc3MTgsODAgQzQyLjkwNjIwMDcsNzYuNDU0OTM1OCA0Ny41NjQ5MTY3LDcxLjU0MjI2NzEgNDguOTgzODY2LDY1LjI2MTk5MzkgQzUxLjExMjI4OTksNTUuODQxNTg0MiA0MS42NzcxNzk1LDQ5LjIxMjIyODQgMjUuNjIzOTg0Niw0OS4yMTIyMjg0IEMyNS40ODQ5Mjg5LDQ5LjEyNjg0NDggMjkuODI2MTI5Niw0My4yODM4MjQ4IDM4LjY0NzU4NjksMzEuNjgzMTY4MyBMNzIuODcxMjg3MSwzMi41NTQ0MjUgTDY1LjI4MDk3Myw2Ny42NzYzNDIxIEw1MS4xMTIyODk5LDc3LjM3NjE0NCBMMzUuMDA3NzE4LDgwIFoiIGlkPSJQYXRoLTIyIiBmaWxsPSIjMDAyODY4Ij48L3BhdGg+CiAgICAgICAgICAgICAgICA8cGF0aCBkPSJNMCwzNy43MzA0NDA1IEwyNy4xMTQ1MzcsMC4yNTcxMTE0MzYgQzYyLjM3MTUxMjMsLTEuOTkwNzE3MDEgODAsMTAuNTAwMzkyNyA4MCwzNy43MzA0NDA1IEM4MCw2NC45NjA0ODgyIDY0Ljc3NjUwMzgsNzkuMDUwMzQxNCAzNC4zMjk1MTEzLDgwIEM0Ny4wNTUzNDg5LDc3LjU2NzA4MDggNTMuNDE4MjY3Nyw3MC4zMTM2MTAzIDUzLjQxODI2NzcsNTguMjM5NTg4NSBDNTMuNDE4MjY3Nyw0MC4xMjg1NTU3IDM2LjMwMzk1NDQsMzcuNzMwNDQwNSAyNS4yMjc0MTcsMzcuNzMwNDQwNSBDMTcuODQzMDU4NiwzNy43MzA0NDA1IDkuNDMzOTE5NjYsMzcuNzMwNDQwNSAwLDM3LjczMDQ0MDUgWiIgaWQ9IlBhdGgtMTkiIGZpbGw9IiMzNzkzRUYiPjwvcGF0aD4KICAgICAgICAgICAgPC9nPgogICAgICAgIDwvZz4KICAgIDwvZz4KPC9zdmc+' > </img>\nCreated in <span style='font-weight:600;margin-left:4px;'>Deepnote</span></a>",
            "metadata": {
                "tags": [],
                "created_in_deepnote_cell": true,
                "deepnote_cell_type": "markdown"
            }
        }
    ],
    "nbformat": 4,
    "nbformat_minor": 2,
    "metadata": {
        "orig_nbformat": 2,
        "deepnote": {
            "is_reactive": false
        },
        "deepnote_notebook_id": "e2c9dcf3-b782-4bae-addb-408b3fecdde6",
        "deepnote_execution_queue": []
    }
}