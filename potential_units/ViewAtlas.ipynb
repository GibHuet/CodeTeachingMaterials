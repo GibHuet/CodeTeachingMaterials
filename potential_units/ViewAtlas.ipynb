{
 "cells": [
  {
   "cell_type": "code",
   "execution_count": null,
   "metadata": {},
   "outputs": [],
   "source": [
    "%gui qt"
   ]
  },
  {
   "cell_type": "code",
   "execution_count": null,
   "metadata": {},
   "outputs": [],
   "source": [
    "import numpy as np\n",
    "import napari\n",
    "from bg_atlasapi import BrainGlobeAtlas\n",
    "import matplotlib.pyplot as plt"
   ]
  },
  {
   "cell_type": "code",
   "execution_count": null,
   "metadata": {},
   "outputs": [],
   "source": [
    "viewer = napari.Viewer(title='Brain Atlas')"
   ]
  },
  {
   "cell_type": "code",
   "execution_count": null,
   "metadata": {},
   "outputs": [],
   "source": [
    "atlas = BrainGlobeAtlas(\"allen_mouse_25um\")\n",
    "atlas"
   ]
  },
  {
   "cell_type": "markdown",
   "metadata": {},
   "source": [
    "## Render Mesh Structure to Napari"
   ]
  },
  {
   "cell_type": "code",
   "execution_count": null,
   "metadata": {},
   "outputs": [],
   "source": [
    "mesh = atlas.mesh_from_structure(\"CH\")\n",
    "mesh"
   ]
  },
  {
   "cell_type": "code",
   "execution_count": null,
   "metadata": {},
   "outputs": [],
   "source": [
    "verts = (mesh.points - mesh.points.mean(axis=0)) / 100\n",
    "faces = mesh.cells[0].data\n",
    "values = np.ones(len(mesh.points))"
   ]
  },
  {
   "cell_type": "code",
   "execution_count": null,
   "metadata": {},
   "outputs": [],
   "source": [
    "normals = mesh.point_data['obj:vn']\n",
    "plt.hist(normals[:,2]);"
   ]
  },
  {
   "cell_type": "code",
   "execution_count": null,
   "metadata": {},
   "outputs": [],
   "source": [
    "faces.shape"
   ]
  },
  {
   "cell_type": "code",
   "execution_count": null,
   "metadata": {},
   "outputs": [],
   "source": [
    "verts"
   ]
  },
  {
   "cell_type": "code",
   "execution_count": null,
   "metadata": {},
   "outputs": [],
   "source": [
    "faces2 = faces.copy()\n",
    "for idx, (n, (p0, p1, p2)) in enumerate(zip(normals, verts[faces])):\n",
    "#     if np.dot(n, np.cross(p1 - p0, p2 - p0)) < 0:\n",
    "#         faces2[idx] = faces2[idx, ::-1]\n",
    "    pass"
   ]
  },
  {
   "cell_type": "code",
   "execution_count": null,
   "metadata": {},
   "outputs": [],
   "source": [
    "surface = viewer.add_surface(name=\"CH4\", data=(verts, faces, values), opacity=0.3)\n",
    "surface"
   ]
  },
  {
   "cell_type": "markdown",
   "metadata": {},
   "source": [
    "It kind of works, but there is severe artifacting at certain rotations.  Whether this is a face culling problem (probably not, given that the ambient light value is always present), an issue with napari (doesn't leem like it, too artifacty, and blender is producing the same issue), or the mesh itself..."
   ]
  },
  {
   "cell_type": "markdown",
   "metadata": {},
   "source": [
    "**The face triangles are all set with a rotation that creates the same normal direction!**  Running \"calculate normals\" in blender solves the problem (well, the normals are not totally correct since it's a complex object). This is either a problem with the way I'm gettin gthe face data from atlas, or a problem with the atlas api itself."
   ]
  },
  {
   "cell_type": "code",
   "execution_count": null,
   "metadata": {},
   "outputs": [],
   "source": []
  }
 ],
 "metadata": {
  "kernelspec": {
   "display_name": "napari-bg",
   "language": "python",
   "name": "napari-bg"
  },
  "language_info": {
   "codemirror_mode": {
    "name": "ipython",
    "version": 3
   },
   "file_extension": ".py",
   "mimetype": "text/x-python",
   "name": "python",
   "nbconvert_exporter": "python",
   "pygments_lexer": "ipython3",
   "version": "3.8.5"
  }
 },
 "nbformat": 4,
 "nbformat_minor": 4
}
