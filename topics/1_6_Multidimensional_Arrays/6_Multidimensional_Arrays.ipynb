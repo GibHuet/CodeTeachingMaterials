{
 "cells": [
  {
   "cell_type": "code",
   "metadata": {
    "deepnote_to_be_reexecuted": false,
    "execution_millis": 0,
    "execution_start": 1628757011735,
    "id": "apparent-optimum",
    "source_hash": "c2602aa8",
    "cell_id": "00000-6f12dfe2-3197-47ff-b294-649882e3441a",
    "deepnote_cell_type": "code"
   },
   "source": "import numpy as np",
   "outputs": [],
   "execution_count": null
  },
  {
   "cell_type": "markdown",
   "source": "## Multidimensional Arrays with Numpy\n\n\nNumpy arrays can be multidimensional: they can be squares, cubes, hypercubes, etc!  When choosing datastructures, Arrays are best chosen when all of the values in the structure represent the same variable.\n\nWith multidimensional arrays, everything is pretty much the same as the 1-dimensional case, with the addition of a few options for specifiying which order the dimensions should be in, and which dimension an operation should operate on.",
   "metadata": {
    "id": "promotional-inside",
    "cell_id": "00001-28755d24-92e9-4fa8-82a5-c28490f21d2f",
    "deepnote_cell_type": "markdown"
   }
  },
  {
   "cell_type": "code",
   "metadata": {
    "tags": [],
    "cell_id": "00002-819a3aed-f9bc-43ef-8c79-b79d768dd59d",
    "deepnote_to_be_reexecuted": false,
    "source_hash": "d8b92cae",
    "execution_start": 1628757185650,
    "execution_millis": 9,
    "deepnote_cell_type": "code"
   },
   "source": "\nx = np.random.randint(1, 10, size=(2, 3, 4))\nx.size\nx.dtype",
   "outputs": [
    {
     "output_type": "execute_result",
     "execution_count": 12,
     "data": {
      "text/plain": "dtype('int64')"
     },
     "metadata": {}
    }
   ],
   "execution_count": null
  },
  {
   "cell_type": "code",
   "metadata": {
    "tags": [],
    "cell_id": "00003-e2d664e2-6acb-4d07-a001-fc2aaa9a2a0d",
    "deepnote_to_be_reexecuted": false,
    "source_hash": "c884cea1",
    "execution_start": 1628757708643,
    "execution_millis": 8,
    "deepnote_cell_type": "code"
   },
   "source": "x = np.arange(12).reshape(3, -1)\nx[:2, 2:4]\n\n",
   "outputs": [
    {
     "output_type": "execute_result",
     "execution_count": 32,
     "data": {
      "text/plain": "array([[2, 3],\n       [6, 7]])"
     },
     "metadata": {}
    }
   ],
   "execution_count": null
  },
  {
   "cell_type": "markdown",
   "source": "### Creating Multidimensional Arrays\n\nMost of the array-generation functions have a **shape** or **size** optional argument in them.  If you provide a tuple with a new shape specifying the number of elements along each dimension (e.g. (5, 3) will produce a matrix with 5 rows and 3 columns), it will give you something multidimensional!\n\n```python\n>>> data = np.random.randint(1, 10, size=(4, 5))\n>>> data\narray([[9, 7, 4, 2, 3],\n       [3, 6, 7, 4, 8],\n       [3, 6, 8, 7, 3],\n       [6, 9, 4, 2, 2]])\n```\n\nFor cases where there is no such option, all arrays have a **reshape()** method that lets you take an existing array and make it more-dimensional.  To simply **flatten** the matrix to a single dimension, you can use the **flatten()** method.\n\n```python\n>>> data.reshape(2, 10)\narray([[9, 7, 4, 2, 3, 3, 6, 7, 4, 8],\n       [3, 6, 8, 7, 3, 6, 9, 4, 2, 2]])\n\n>>> data.flatten()\narray([9, 7, 4, 2, 3, 3, 6, 7, 4, 8, 3, 6, 8, 7, 3, 6, 9, 4, 2, 2])\n```\n\nNumpy also has some auto-calculation features to make it a bit easier to get the shape you need:\n\n```python\n>>> data.reshape(-1, 5)  # -1 tells the reshape() method to calculate the value in that spot\narray([[9, 7, 4, 2, 3],\n       [3, 6, 7, 4, 8],\n       [3, 6, 8, 7, 3],\n       [6, 9, 4, 2, 2]])\n\n>>> data.flatten()[np.newaxis, :]  # Makes a 1xN array\n>>> data.flatten()[None, :]  # Also Makes a 1xN array\n>>> data.flatten()[:, None]  # Makes an Nx1 array\n```\n\nAnd if an array has some extra dimensions you don't care about (like a 32x1x1 array, and you just want a 32 array), you can use the **squeeze()** method to squeeze out those extra dimensions!\n\nFinally, you can find out the shape of a matrix by getting its **shape** attribute.  And to get the total number of elements, check its **size** attribute.\n\n```python\n>>> data.shape\n(4, 5)\n\n>>> data.size\n20\n```",
   "metadata": {
    "id": "little-bunch",
    "cell_id": "00002-3eefc9f1-4fcc-4ac6-ad7c-4e67d4cd90e1",
    "deepnote_cell_type": "markdown"
   }
  },
  {
   "cell_type": "markdown",
   "source": "#### Exercises",
   "metadata": {
    "id": "designing-flexibility",
    "cell_id": "00003-67600b12-32a6-452e-9db9-ec5d88033c3b",
    "deepnote_cell_type": "markdown"
   }
  },
  {
   "cell_type": "markdown",
   "source": "Generate a 3 x 10 array of random integers between 1 and 4 using **`np.random.randint`**",
   "metadata": {
    "id": "outstanding-thumbnail",
    "cell_id": "00004-fc37327d-39b5-47d2-9212-4b49c19493ad",
    "deepnote_cell_type": "markdown"
   }
  },
  {
   "cell_type": "code",
   "metadata": {
    "id": "interior-broadcast",
    "outputId": "b4066b75-590e-4c17-e916-7a2769c75e4b",
    "cell_id": "00005-7d7981d4-4b4a-42f2-8a4c-bcba1f9b0aa9",
    "deepnote_to_be_reexecuted": false,
    "source_hash": "b623e53d",
    "execution_start": 1628718090740,
    "execution_millis": 0,
    "deepnote_cell_type": "code"
   },
   "source": "",
   "outputs": [],
   "execution_count": 0
  },
  {
   "cell_type": "markdown",
   "source": "Make a flat array with all the values between 0 and 11, and then reshape it into a 3 x 4 matrix using **`array.reshape()`**",
   "metadata": {
    "id": "external-sixth",
    "cell_id": "00006-5acc74e9-7bbe-4c18-a69c-23a6b2e8ce9c",
    "deepnote_cell_type": "markdown"
   }
  },
  {
   "cell_type": "code",
   "metadata": {
    "id": "induced-calibration",
    "outputId": "ac8537aa-21bb-4691-ca5c-a9856a3cb234",
    "cell_id": "00007-9b856015-d6c5-49a6-8925-0c62934a26c9",
    "deepnote_to_be_reexecuted": false,
    "source_hash": "aa76e70b",
    "execution_start": 1628718194089,
    "execution_millis": 1,
    "deepnote_cell_type": "code"
   },
   "source": " ",
   "outputs": [],
   "execution_count": 0
  },
  {
   "cell_type": "markdown",
   "source": "...Reshape the previous array into a 4 x 3 matrix...",
   "metadata": {
    "id": "fifth-integrity",
    "cell_id": "00008-79a902e0-dd64-4386-87d4-9e8bb8f37b0c",
    "deepnote_cell_type": "markdown"
   }
  },
  {
   "cell_type": "code",
   "metadata": {
    "id": "radio-concentrate",
    "cell_id": "00009-babeeeb7-9957-4218-9cc4-8d86ac683723",
    "deepnote_cell_type": "code"
   },
   "source": "",
   "outputs": [],
   "execution_count": null
  },
  {
   "cell_type": "markdown",
   "source": "...Reshape that array into a 2 x 6 matrix...",
   "metadata": {
    "id": "protective-person",
    "cell_id": "00010-783bfd53-791c-431b-89f8-6f1904e62725",
    "deepnote_cell_type": "markdown"
   }
  },
  {
   "cell_type": "code",
   "metadata": {
    "id": "necessary-collect",
    "cell_id": "00011-01313b81-dd1a-4e26-b433-9b5c2b959dc8",
    "deepnote_cell_type": "code"
   },
   "source": "",
   "outputs": [],
   "execution_count": null
  },
  {
   "cell_type": "markdown",
   "source": "...Then flatten it.",
   "metadata": {
    "id": "going-flexibility",
    "cell_id": "00012-26f00f3d-85f3-4a6a-8431-d827f6239dd1",
    "deepnote_cell_type": "markdown"
   }
  },
  {
   "cell_type": "code",
   "metadata": {
    "id": "loaded-husband",
    "cell_id": "00013-5b6288ec-d09b-4f23-9117-7354dca1f1bc",
    "deepnote_cell_type": "code"
   },
   "source": "",
   "outputs": [],
   "execution_count": null
  },
  {
   "cell_type": "markdown",
   "source": "Confirm its shape.  Is it the same as its size?",
   "metadata": {
    "id": "standing-council",
    "cell_id": "00014-bfb8ff03-2a05-4ce8-be63-cc05381e12c6",
    "deepnote_cell_type": "markdown"
   }
  },
  {
   "cell_type": "code",
   "metadata": {
    "id": "educated-arrest",
    "cell_id": "00015-616815e1-7b14-42a8-8b75-a200686b2252",
    "deepnote_cell_type": "code"
   },
   "source": "",
   "outputs": [],
   "execution_count": null
  },
  {
   "cell_type": "markdown",
   "source": "### Reordering Dimensions\n\nThere are many ways to transpose matrices:\n  - array.T\n  - array.transpose()\n  - np.transpose(array)\n  - array.swapaxes()\n\nTry using each of them on the array **x**.",
   "metadata": {
    "id": "consolidated-ridge",
    "cell_id": "00016-00e5f4f0-17c9-43cf-b7c4-0fe2177c2680",
    "deepnote_cell_type": "markdown"
   }
  },
  {
   "cell_type": "code",
   "metadata": {
    "id": "standard-standard",
    "outputId": "dd386ae6-8878-433e-d607-a9a54841c828",
    "cell_id": "00017-2dc43469-9101-4971-bd7b-885d7b736e33",
    "deepnote_to_be_reexecuted": false,
    "source_hash": "65ca1984",
    "execution_start": 1628718272428,
    "execution_millis": 6,
    "deepnote_cell_type": "code"
   },
   "source": "x = np.arange(6).reshape(2, 3)\nx",
   "outputs": [
    {
     "output_type": "execute_result",
     "execution_count": 3,
     "data": {
      "text/plain": "array([[0, 1, 2],\n       [3, 4, 5]])"
     },
     "metadata": {}
    }
   ],
   "execution_count": null
  },
  {
   "cell_type": "code",
   "metadata": {
    "tags": [],
    "cell_id": "00018-893d0bd0-8593-4cd3-9cf5-ce52ebdd6593",
    "deepnote_cell_type": "code"
   },
   "source": "",
   "outputs": [],
   "execution_count": null
  },
  {
   "cell_type": "code",
   "metadata": {
    "tags": [],
    "cell_id": "00019-d534e0cf-18cb-4e7c-8e8f-1452c05d1904",
    "deepnote_cell_type": "code"
   },
   "source": "",
   "outputs": [],
   "execution_count": null
  },
  {
   "cell_type": "code",
   "metadata": {
    "tags": [],
    "cell_id": "00020-4d1a13c9-284a-48e9-a1e1-d8cf446b8c6d",
    "deepnote_cell_type": "code"
   },
   "source": "",
   "outputs": [],
   "execution_count": null
  },
  {
   "cell_type": "code",
   "metadata": {
    "tags": [],
    "cell_id": "00021-f160e147-ced7-4d8a-9ed0-c12b9620a1fa",
    "deepnote_cell_type": "code"
   },
   "source": "",
   "outputs": [],
   "execution_count": null
  },
  {
   "cell_type": "markdown",
   "source": "**Discussion**: Why might Numpy have so many options for the same transformation?  What's the benefit?",
   "metadata": {
    "id": "expensive-petersburg",
    "cell_id": "00020-e3ed408a-76f4-449b-bf18-4382066044e5",
    "deepnote_cell_type": "markdown"
   }
  },
  {
   "cell_type": "markdown",
   "source": "### Aggregating Across Axes\n\nAlmost all of the Numpy functions have an **axis** option, which lets you limit the operation to just that axis.  \n\nFor example, to get the mean of all columns:\n\n```python\n>>> array = np.arange(12).reshape(3, 4)\n>>> array.mean(axis=0)\narray([4., 5., 6., 7.])\n```\n\nAnd the mean of the rows:\n\n```python\n>>> array.mean(axis=1)\narray([1.5, 5.5, 9.5])\n```\n\nNotice that the number of dimensions goes down by default whenever you aggregate across the axis.  If you'd like to keep the dimensions the same, you can also use the **keepdims=True** option:\n\n```python\n>>> array.mean(axis=1, keepdims=True)\narray([[1.5],\n       [5.5],\n       [9.5]])\n```",
   "metadata": {
    "id": "enormous-chinese",
    "cell_id": "00025-9dba183e-462b-4d8f-9d27-8405dd02b4d9",
    "deepnote_cell_type": "markdown"
   }
  },
  {
   "cell_type": "markdown",
   "source": "**Exercises**: Try it out for yourself, with the provided array \"data\":",
   "metadata": {
    "id": "natural-necklace",
    "cell_id": "00026-f7371ded-9660-4dfb-8245-c98c5c9e94b0",
    "deepnote_cell_type": "markdown"
   }
  },
  {
   "cell_type": "code",
   "metadata": {
    "id": "employed-satellite",
    "outputId": "e1c7a15b-c658-4236-abf3-3dd04634d161",
    "cell_id": "00027-f2b70d99-58bc-4c49-bc8f-a2c942da5935",
    "deepnote_cell_type": "code"
   },
   "source": "np.random.seed(42)\ndata = np.random.randint(0, 10, size=(5, 3)) * [1, 10, 100]\ndata",
   "outputs": [
    {
     "data": {
      "text/plain": "array([[  6,  30, 700],\n       [  4,  60, 900],\n       [  2,  60, 700],\n       [  4,  30, 700],\n       [  7,  20, 500]])"
     },
     "execution_count": 8,
     "metadata": {
      "tags": []
     },
     "output_type": "execute_result"
    }
   ],
   "execution_count": null
  },
  {
   "cell_type": "markdown",
   "source": "What is the mean of each column?",
   "metadata": {
    "id": "ceramic-romania",
    "cell_id": "00028-76fa3abe-6c04-4b21-a51c-ef063f39c0b2",
    "deepnote_cell_type": "markdown"
   }
  },
  {
   "cell_type": "code",
   "metadata": {
    "id": "japanese-desperate",
    "cell_id": "00029-e13e9ca0-4f3d-483f-92ce-66ca3943369a",
    "deepnote_cell_type": "code"
   },
   "source": "",
   "outputs": [],
   "execution_count": null
  },
  {
   "cell_type": "markdown",
   "source": "What is the standard deviation of each row?",
   "metadata": {
    "id": "systematic-italic",
    "cell_id": "00030-41ea0348-2969-41ca-a660-8d679481d007",
    "deepnote_cell_type": "markdown"
   }
  },
  {
   "cell_type": "code",
   "metadata": {
    "tags": [],
    "cell_id": "00029-5365bea6-c6f6-4840-9e86-9c6543ca11a5",
    "deepnote_cell_type": "code"
   },
   "source": "",
   "outputs": [],
   "execution_count": null
  },
  {
   "cell_type": "markdown",
   "source": "What is the maximum of each column?",
   "metadata": {
    "tags": [],
    "cell_id": "00030-8782b592-3000-40ee-afad-9e06542ea77a",
    "deepnote_cell_type": "markdown"
   }
  },
  {
   "cell_type": "code",
   "metadata": {
    "tags": [],
    "cell_id": "00031-1ae7e746-89e8-42e0-aa0f-732adb82d1f8",
    "deepnote_cell_type": "code"
   },
   "source": "",
   "outputs": [],
   "execution_count": null
  },
  {
   "cell_type": "markdown",
   "source": "What is the mean of each column's median?",
   "metadata": {
    "id": "brief-recruitment",
    "cell_id": "00032-a16c3ae8-2c98-46ef-aab7-86fa2cf46302",
    "deepnote_cell_type": "markdown"
   }
  },
  {
   "cell_type": "code",
   "metadata": {
    "id": "institutional-advertising",
    "cell_id": "00033-a9650749-b9bd-4cac-a033-c0dfb05377cf",
    "deepnote_cell_type": "code"
   },
   "source": "",
   "outputs": [],
   "execution_count": null
  },
  {
   "cell_type": "markdown",
   "source": "## Indexing Exercises",
   "metadata": {
    "id": "strong-fields",
    "cell_id": "00034-6529e5b2-eab3-442a-86a7-583634af666e",
    "deepnote_cell_type": "markdown"
   }
  },
  {
   "cell_type": "markdown",
   "source": "Numpy arrays work the same way as other sequences, but they can have multiple dimensions (rows, columns, etc) over which to index/slice the array.\n\n```python\ndata = np.array([[0, 1, 2,  3],\n                 [4, 5, 6,  7],\n                 [8, 9, 10, 11]]\n               )\nsecond_row = data[1, :]\nthird_column = data[:, 2]\n```",
   "metadata": {
    "id": "continued-enough",
    "cell_id": "00035-edc86f41-aa6e-4ad2-b34c-e54afaff6521",
    "deepnote_cell_type": "markdown"
   }
  },
  {
   "cell_type": "markdown",
   "source": "Using the example dataset *scores*, select only the described elements from each list:",
   "metadata": {
    "id": "thorough-rally",
    "cell_id": "00036-bc50b355-ba1d-464f-9046-1582cb06af2f",
    "deepnote_cell_type": "markdown"
   }
  },
  {
   "cell_type": "code",
   "metadata": {
    "id": "sonic-gathering",
    "outputId": "e53d26db-f0a6-4de5-cca5-a85ee05b0eda",
    "cell_id": "00037-4955c9d5-2a85-463d-a928-e680c6b358d4",
    "deepnote_cell_type": "code"
   },
   "source": "scores = np.arange(1, 49).reshape(6, 8)\nscores",
   "outputs": [
    {
     "data": {
      "text/plain": "array([[ 1,  2,  3,  4,  5,  6,  7,  8],\n       [ 9, 10, 11, 12, 13, 14, 15, 16],\n       [17, 18, 19, 20, 21, 22, 23, 24],\n       [25, 26, 27, 28, 29, 30, 31, 32],\n       [33, 34, 35, 36, 37, 38, 39, 40],\n       [41, 42, 43, 44, 45, 46, 47, 48]])"
     },
     "execution_count": 49,
     "metadata": {
      "tags": []
     },
     "output_type": "execute_result"
    }
   ],
   "execution_count": null
  },
  {
   "cell_type": "markdown",
   "source": "The first score in the 2nd row:",
   "metadata": {
    "id": "automated-hollywood",
    "cell_id": "00038-1caf2a05-4812-42d3-88ff-0fe5725c3a1e",
    "deepnote_cell_type": "markdown"
   }
  },
  {
   "cell_type": "code",
   "metadata": {
    "id": "korean-indonesian",
    "cell_id": "00039-82209c52-4056-4f52-a54a-ef024f2c83d4",
    "deepnote_cell_type": "code"
   },
   "source": "",
   "outputs": [],
   "execution_count": null
  },
  {
   "cell_type": "markdown",
   "source": "The third-through-fifth columns:",
   "metadata": {
    "id": "variable-organizer",
    "cell_id": "00040-a1b0e6a3-f4dc-4eeb-8566-7a08356d9adb",
    "deepnote_cell_type": "markdown"
   }
  },
  {
   "cell_type": "code",
   "metadata": {
    "id": "surprising-gardening",
    "cell_id": "00041-52f527cb-bcb5-4733-9619-0ea4df302ccd",
    "deepnote_cell_type": "code"
   },
   "source": "",
   "outputs": [],
   "execution_count": null
  },
  {
   "cell_type": "markdown",
   "source": "The last score:",
   "metadata": {
    "id": "historic-torture",
    "cell_id": "00042-c01d7f75-e576-4904-83d9-2ba9310682ca",
    "deepnote_cell_type": "markdown"
   }
  },
  {
   "cell_type": "code",
   "metadata": {
    "id": "alpha-gauge",
    "cell_id": "00043-45e708b3-d726-4e9a-8a76-c9d85a240337",
    "deepnote_cell_type": "code"
   },
   "source": "",
   "outputs": [],
   "execution_count": null
  },
  {
   "cell_type": "markdown",
   "source": "The 2nd through 5th score, in the 6th column:",
   "metadata": {
    "id": "medical-placement",
    "cell_id": "00044-be719ee9-1229-43f4-983e-2150b02104d3",
    "deepnote_cell_type": "markdown"
   }
  },
  {
   "cell_type": "code",
   "metadata": {
    "id": "quarterly-bikini",
    "cell_id": "00045-66ff92af-738f-4434-a0bb-9b4b67494851",
    "deepnote_cell_type": "code"
   },
   "source": "",
   "outputs": [],
   "execution_count": null
  },
  {
   "cell_type": "markdown",
   "source": "The rectangle inscribed by scores 19, 22, 35, and 38:",
   "metadata": {
    "id": "danish-dream",
    "cell_id": "00048-e9bb4bc0-efe3-4701-a13c-0d4a19f091a1",
    "deepnote_cell_type": "markdown"
   }
  },
  {
   "cell_type": "code",
   "metadata": {
    "id": "dried-romance",
    "cell_id": "00049-189e89fb-051f-425a-b846-471a400a96c8",
    "deepnote_cell_type": "code"
   },
   "source": "",
   "outputs": [],
   "execution_count": null
  },
  {
   "cell_type": "markdown",
   "source": "The rectangle inscribed by scores 42, 44, 12, and 10:",
   "metadata": {
    "id": "timely-medication",
    "cell_id": "00050-fe9df914-593e-4f8b-8407-43f9d8f4fae5",
    "deepnote_cell_type": "markdown"
   }
  },
  {
   "cell_type": "code",
   "metadata": {
    "id": "destroyed-missile",
    "cell_id": "00051-52c4fb5f-e941-49f4-bf46-2ded54db5780",
    "deepnote_cell_type": "code"
   },
   "source": "",
   "outputs": [],
   "execution_count": null
  },
  {
   "cell_type": "markdown",
   "source": "##### Setting New Values\n\nFor arrays, indexing can also be used to assign a new value.  Let's try it out, using the following pattern:\n\n```python\ndata[0, :] = 10  # changes all values in the first row to 10\ndata\n```",
   "metadata": {
    "id": "toxic-plain",
    "cell_id": "00052-c06138dd-6f48-4234-b2ff-59ed740de2fc",
    "deepnote_cell_type": "markdown"
   }
  },
  {
   "cell_type": "code",
   "metadata": {
    "id": "alternative-ethics",
    "outputId": "d3aeb102-c602-4fd1-a146-55e8f9dc1b5d",
    "cell_id": "00053-8dc3f6ba-f055-4cd5-a5d7-1c382982ff21",
    "deepnote_cell_type": "code"
   },
   "source": "scores = np.arange(1, 49).reshape(6, 8)\nscores",
   "outputs": [
    {
     "data": {
      "text/plain": "array([[ 1,  2,  3,  4,  5,  6,  7,  8],\n       [ 9, 10, 11, 12, 13, 14, 15, 16],\n       [17, 18, 19, 20, 21, 22, 23, 24],\n       [25, 26, 27, 28, 29, 30, 31, 32],\n       [33, 34, 35, 36, 37, 38, 39, 40],\n       [41, 42, 43, 44, 45, 46, 47, 48]])"
     },
     "execution_count": 11,
     "metadata": {
      "tags": []
     },
     "output_type": "execute_result"
    }
   ],
   "execution_count": null
  },
  {
   "cell_type": "markdown",
   "source": "Change the 3rd column to all 10s:",
   "metadata": {
    "id": "general-checkout",
    "cell_id": "00054-4b766054-f130-411d-84eb-7457529bd3f7",
    "deepnote_cell_type": "markdown"
   }
  },
  {
   "cell_type": "code",
   "metadata": {
    "id": "controlled-persian",
    "cell_id": "00055-1334880d-ac6d-4e89-8b91-fd7edf8f7982",
    "deepnote_cell_type": "code"
   },
   "source": "",
   "outputs": [],
   "execution_count": null
  },
  {
   "cell_type": "markdown",
   "source": "Change the last score to 999:",
   "metadata": {
    "id": "efficient-display",
    "cell_id": "00056-d8174f13-f6ab-4420-8a96-d5d96a1e2537",
    "deepnote_cell_type": "markdown"
   }
  },
  {
   "cell_type": "code",
   "metadata": {
    "id": "spectacular-nature",
    "cell_id": "00057-e42f7529-8804-4231-abcb-d35a9656ea7b",
    "deepnote_cell_type": "code"
   },
   "source": "",
   "outputs": [],
   "execution_count": null
  },
  {
   "cell_type": "markdown",
   "source": "Change the 4th row to 0:",
   "metadata": {
    "id": "british-bankruptcy",
    "cell_id": "00058-0e792f1e-a624-4d34-8ba9-95533be36410",
    "deepnote_cell_type": "markdown"
   }
  },
  {
   "cell_type": "code",
   "metadata": {
    "id": "cultural-console",
    "cell_id": "00059-ac0a6e02-50be-4e84-803c-69353ec75485",
    "deepnote_to_be_reexecuted": false,
    "source_hash": "b623e53d",
    "execution_start": 1628718639264,
    "execution_millis": 2,
    "deepnote_cell_type": "code"
   },
   "source": "",
   "outputs": [],
   "execution_count": null
  },
  {
   "cell_type": "markdown",
   "source": "\n## Working with Images\n\nImage data is stored as a 3D matrix, storing the brightness of each pixel along 3 coordinates:\n\n  0. Which row the pixel is in  (between 0 and the height of the image)\n  1. Which column the pixel is in (betweeen 0 and the width of the image)\n  2. What color channel the pixel is in (red, green, blue, and sometimes alpha)\n\nWhite pixels usually have the highest brightness values, and black pixels the darkest.\n\nIf you zoom in enough, you can see the square grid.  For example:\n\n![Pixelated image](https://www.pinclipart.com/picdir/middle/531-5317564_heart-pixel-art-8-bit-heart-png-clipart.png)\n\n\nThis means that visualizing any image in Python can be done by \"plotting\" a matrix!  \nLet's load an image and visualize it onscreen using Matplotlib, a plotting library.  Working with images generally uses these 3 functions:\n\n| Function | Purpose  | Example |\n| :----:   | :----:   | :---:   |\n| **`plt.imread()`** | Loads a image from a filename  | plt.imread(\"brian.png\" |\n| **`plt.imshow()`** | Plots a multidimensional array as an image | plt.imshow(my_image_array) |\n| **`plt.imsave()`** | Saves an array as an image on the computer | plt.imsave(\"new_image.jpg\", my_array) |\n\n",
   "metadata": {
    "tags": [],
    "cell_id": "00060-b2e1aa00-484d-4600-8d55-9c9386d9c0bc",
    "deepnote_cell_type": "markdown"
   }
  },
  {
   "cell_type": "markdown",
   "source": "Let's try it out!",
   "metadata": {
    "tags": [],
    "cell_id": "00061-5f22233f-df61-4efe-b6e4-781da207f4ea",
    "deepnote_cell_type": "markdown"
   }
  },
  {
   "cell_type": "markdown",
   "source": "**Example**:",
   "metadata": {
    "tags": [],
    "cell_id": "00061-b414e00e-6d48-408d-8303-835c67122c73",
    "deepnote_cell_type": "markdown"
   }
  },
  {
   "cell_type": "code",
   "metadata": {
    "tags": [],
    "cell_id": "00063-fc4964ee-679d-4015-b99a-3e70616e01ba",
    "deepnote_to_be_reexecuted": false,
    "source_hash": "eba39436",
    "execution_start": 1636014540498,
    "execution_millis": 751,
    "deepnote_cell_type": "code"
   },
   "source": "import numpy as np\nimport matplotlib.pyplot as plt",
   "outputs": [],
   "execution_count": null
  },
  {
   "cell_type": "markdown",
   "source": "**Exercises**",
   "metadata": {
    "tags": [],
    "cell_id": "00064-98d02b6f-34e2-481b-ab96-7fae70d9a30a",
    "deepnote_cell_type": "markdown"
   }
  },
  {
   "cell_type": "markdown",
   "source": "Plot the following matrix.  What does it look like?",
   "metadata": {
    "tags": [],
    "cell_id": "00065-21149e86-7c3b-46e9-93c0-8b1d965c379b",
    "deepnote_to_be_reexecuted": false,
    "source_hash": "ffb9a342",
    "execution_start": 1636014559928,
    "execution_millis": 2,
    "deepnote_cell_type": "markdown"
   },
   "outputs": [],
   "execution_count": 2
  },
  {
   "cell_type": "code",
   "source": "data = np.arange(100).reshape(10, 10)\ndata",
   "metadata": {
    "tags": [],
    "cell_id": "00065-0fd1a918-8970-4199-99fa-e87ba3984172",
    "deepnote_to_be_reexecuted": false,
    "source_hash": "d072df9e",
    "execution_start": 1636014605650,
    "execution_millis": 8,
    "deepnote_cell_type": "code"
   },
   "outputs": [
    {
     "output_type": "execute_result",
     "execution_count": 3,
     "data": {
      "text/plain": "array([[ 0,  1,  2,  3,  4,  5,  6,  7,  8,  9],\n       [10, 11, 12, 13, 14, 15, 16, 17, 18, 19],\n       [20, 21, 22, 23, 24, 25, 26, 27, 28, 29],\n       [30, 31, 32, 33, 34, 35, 36, 37, 38, 39],\n       [40, 41, 42, 43, 44, 45, 46, 47, 48, 49],\n       [50, 51, 52, 53, 54, 55, 56, 57, 58, 59],\n       [60, 61, 62, 63, 64, 65, 66, 67, 68, 69],\n       [70, 71, 72, 73, 74, 75, 76, 77, 78, 79],\n       [80, 81, 82, 83, 84, 85, 86, 87, 88, 89],\n       [90, 91, 92, 93, 94, 95, 96, 97, 98, 99]])"
     },
     "metadata": {}
    }
   ],
   "execution_count": null
  },
  {
   "cell_type": "markdown",
   "source": "Plot the following matrix.  What does it look like?\n\n*Tip*: After plotting, try adding the following to the `plt.imshow()` function: `cmap='gray'`",
   "metadata": {
    "tags": [],
    "cell_id": "00067-7a06b2e0-8373-416f-90cf-729ad141c388",
    "deepnote_cell_type": "markdown"
   },
   "outputs": [],
   "execution_count": null
  },
  {
   "cell_type": "code",
   "source": "data = np.tile(np.sin(np.linspace(0, 6 * np.pi, 300)), (300, 1))\ndata.shape",
   "metadata": {
    "tags": [],
    "cell_id": "00068-1d5c4a05-1165-460f-b6af-f7ceff3ecfc5",
    "deepnote_to_be_reexecuted": false,
    "source_hash": "8950080d",
    "execution_start": 1636014737930,
    "execution_millis": 7,
    "deepnote_cell_type": "code"
   },
   "outputs": [
    {
     "output_type": "execute_result",
     "execution_count": 7,
     "data": {
      "text/plain": "(300, 300)"
     },
     "metadata": {}
    }
   ],
   "execution_count": null
  },
  {
   "cell_type": "markdown",
   "source": "Read and Plot the Brain image in the images folder.",
   "metadata": {
    "tags": [],
    "cell_id": "00067-8efd3075-de11-43b6-9b5f-5b59b528e99b",
    "deepnote_cell_type": "markdown"
   },
   "outputs": [],
   "execution_count": null
  },
  {
   "cell_type": "code",
   "source": "",
   "metadata": {
    "tags": [],
    "cell_id": "00068-205ddbc3-15ab-470b-baf6-cc464b90aa3f",
    "deepnote_cell_type": "code"
   },
   "outputs": [],
   "execution_count": null
  },
  {
   "cell_type": "markdown",
   "source": "Read and plot the \"Monty Python\" image in the images folder.",
   "metadata": {
    "tags": [],
    "cell_id": "00067-20fe1acb-6e65-469f-9fa4-9da6a0e844b7",
    "deepnote_cell_type": "markdown"
   }
  },
  {
   "cell_type": "code",
   "metadata": {
    "tags": [],
    "cell_id": "00066-53709273-3c7c-4db7-a6d7-21cedfe21e9a",
    "deepnote_to_be_reexecuted": false,
    "source_hash": "b623e53d",
    "execution_start": 1628719914809,
    "execution_millis": 1,
    "deepnote_cell_type": "code"
   },
   "source": "",
   "outputs": [],
   "execution_count": null
  },
  {
   "cell_type": "markdown",
   "source": "Read and plot the \"Cells\" image in the images folder.",
   "metadata": {
    "tags": [],
    "cell_id": "00069-5caea9b1-d576-4751-95a9-3360c285550d",
    "deepnote_cell_type": "markdown"
   }
  },
  {
   "cell_type": "code",
   "metadata": {
    "tags": [],
    "cell_id": "00070-8197737b-2998-456e-99c1-dd8e5cc139fa",
    "deepnote_to_be_reexecuted": false,
    "source_hash": "b623e53d",
    "execution_start": 1636014765254,
    "execution_millis": 4,
    "deepnote_cell_type": "code"
   },
   "source": "",
   "outputs": [],
   "execution_count": null
  },
  {
   "cell_type": "markdown",
   "source": "Using the Cells image, index only the first 50 rows of the image and plot it.  (This is called \"cropping\" an image)",
   "metadata": {
    "tags": [],
    "cell_id": "00071-1ed57b1b-5078-46a9-a130-2bd9247a62bc",
    "deepnote_cell_type": "markdown"
   }
  },
  {
   "cell_type": "code",
   "metadata": {
    "tags": [],
    "cell_id": "00072-b2fdb746-531a-41a7-9d41-20adda91f5df",
    "deepnote_to_be_reexecuted": false,
    "source_hash": "b623e53d",
    "execution_start": 1628720191657,
    "execution_millis": 1,
    "deepnote_cell_type": "code"
   },
   "source": "",
   "outputs": [],
   "execution_count": null
  },
  {
   "cell_type": "markdown",
   "source": "Crop and Plot only the left cluster of cells.",
   "metadata": {
    "tags": [],
    "cell_id": "00073-2abc106b-5f71-4980-b35b-d7f48fd47f1d",
    "deepnote_cell_type": "markdown"
   }
  },
  {
   "cell_type": "code",
   "metadata": {
    "tags": [],
    "cell_id": "00074-63bb3ffe-3268-49fe-9933-2aa97bbdddce",
    "deepnote_to_be_reexecuted": false,
    "source_hash": "b623e53d",
    "execution_start": 1628720220600,
    "execution_millis": 5,
    "deepnote_cell_type": "code"
   },
   "source": "",
   "outputs": [],
   "execution_count": null
  },
  {
   "cell_type": "markdown",
   "source": "Crop and Plot only the right cluster of cells.",
   "metadata": {
    "tags": [],
    "cell_id": "00075-f504c8bc-e971-4ed6-9063-487ba9cef820",
    "deepnote_cell_type": "markdown"
   }
  },
  {
   "cell_type": "code",
   "metadata": {
    "tags": [],
    "cell_id": "00076-0dd5e95c-28aa-44c1-979c-b84e748ea038",
    "deepnote_to_be_reexecuted": false,
    "source_hash": "b623e53d",
    "execution_start": 1628763720711,
    "execution_millis": 2,
    "deepnote_cell_type": "code"
   },
   "source": "",
   "outputs": [],
   "execution_count": null
  },
  {
   "cell_type": "markdown",
   "source": "Crop and Plot only the tiny bright spot in the right cluster.",
   "metadata": {
    "tags": [],
    "cell_id": "00077-7ea44e5d-194d-4526-8c74-ddfa64f62fee",
    "deepnote_cell_type": "markdown"
   }
  },
  {
   "outputs": [],
   "execution_count": null,
   "cell_type": "code",
   "source": "",
   "metadata": {
    "tags": [],
    "cell_id": "00078-a4fbd0fa-cc12-42c5-9188-7024feb23ced",
    "deepnote_cell_type": "code"
   }
  },
  {
   "cell_type": "markdown",
   "source": "Change that bright spot's brightness to white (255), and plot the whole image again.",
   "metadata": {
    "tags": [],
    "cell_id": "00079-8faea0b0-94c3-4865-bf5b-ff43644b4b32",
    "deepnote_cell_type": "markdown"
   }
  },
  {
   "cell_type": "code",
   "source": "",
   "metadata": {
    "tags": [],
    "cell_id": "00084-b3cea5bc-b791-4322-a4da-c716c76c978b",
    "deepnote_cell_type": "code"
   },
   "outputs": [],
   "execution_count": null
  },
  {
   "cell_type": "markdown",
   "source": "<a style='text-decoration:none;line-height:16px;display:flex;color:#5B5B62;padding:10px;justify-content:end;' href='https://deepnote.com?utm_source=created-in-deepnote-cell&projectId=d703678d-f12c-4453-a422-685f3ee4b709' target=\"_blank\">\n<img alt='Created in deepnote.com' style='display:inline;max-height:16px;margin:0px;margin-right:7.5px;' src='data:image/svg+xml;base64,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' > </img>\nCreated in <span style='font-weight:600;margin-left:4px;'>Deepnote</span></a>",
   "metadata": {
    "tags": [],
    "created_in_deepnote_cell": true,
    "deepnote_cell_type": "markdown"
   }
  }
 ],
 "nbformat": 4,
 "nbformat_minor": 5,
 "metadata": {
  "colab": {
   "name": "7 Matrices.ipynb",
   "provenance": []
  },
  "deepnote": {},
  "deepnote_execution_queue": [],
  "deepnote_notebook_id": "776c1343-7289-4e1f-b01e-69594abe4d98",
  "kernelspec": {
   "display_name": "Python 3",
   "language": "python",
   "name": "python3"
  },
  "language_info": {
   "codemirror_mode": {
    "name": "ipython",
    "version": 3
   },
   "file_extension": ".py",
   "mimetype": "text/x-python",
   "name": "python",
   "nbconvert_exporter": "python",
   "pygments_lexer": "ipython3",
   "version": "3.8.8"
  }
 }
}