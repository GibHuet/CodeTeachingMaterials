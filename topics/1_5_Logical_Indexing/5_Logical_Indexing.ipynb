{
 "cells": [
  {
   "cell_type": "code",
   "execution_count": 1,
   "metadata": {
    "cell_id": "00000-d8c9f90f-d649-47b2-a772-a6639c594321",
    "deepnote_cell_type": "code",
    "id": "metric-level"
   },
   "outputs": [
    {
     "ename": "ModuleNotFoundError",
     "evalue": "No module named 'numpy'",
     "output_type": "error",
     "traceback": [
      "\u001b[0;31m---------------------------------------------------------------------------\u001b[0m",
      "\u001b[0;31mModuleNotFoundError\u001b[0m                       Traceback (most recent call last)",
      "Cell \u001b[0;32mIn [1], line 1\u001b[0m\n\u001b[0;32m----> 1\u001b[0m \u001b[38;5;28;01mimport\u001b[39;00m \u001b[38;5;21;01mnumpy\u001b[39;00m \u001b[38;5;28;01mas\u001b[39;00m \u001b[38;5;21;01mnp\u001b[39;00m\n",
      "\u001b[0;31mModuleNotFoundError\u001b[0m: No module named 'numpy'"
     ]
    }
   ],
   "source": [
    "import numpy as np"
   ]
  },
  {
   "cell_type": "markdown",
   "metadata": {
    "cell_id": "00001-08bea5dd-b612-4234-a812-1f203f7df899",
    "deepnote_cell_type": "markdown",
    "id": "sorted-signal"
   },
   "source": [
    "# Filtering Data With Logical Indexing\n",
    "\n",
    "Sometimes you want to remove certain values from your dataset.  In Numpy, this can be done with **Logical Indexing**, and in normal Python this is done with an **If Statement**"
   ]
  },
  {
   "cell_type": "markdown",
   "metadata": {
    "cell_id": "00002-9e11b127-b196-47c8-9d0d-2b50736be4b3",
    "deepnote_cell_type": "markdown",
    "id": "adequate-commercial"
   },
   "source": [
    "### Step 1: Create a Logical Numpy Array\n",
    "\n",
    "We can convert all of the values in an array at once with a single logical expression.  This is broadcasting, the same as is done with the math operations we saw earlier:\n",
    "\n",
    "```python\n",
    ">>> data = np.array([1, 2, 3, 4, 5])\n",
    ">>> data < 3\n",
    "[True, True, False, False, False]\n",
    "```"
   ]
  },
  {
   "cell_type": "markdown",
   "metadata": {
    "cell_id": "00003-fe7303ea-b10c-4a84-9ffc-bc0f035734ec",
    "deepnote_cell_type": "markdown",
    "id": "innovative-robin"
   },
   "source": [
    "**Exercises**: Make arrays of True/False values that answer the following questions about the dataset below for each element."
   ]
  },
  {
   "cell_type": "code",
   "execution_count": 3,
   "metadata": {
    "cell_id": "00004-5c70af26-6004-48a1-bd45-579cd012595a",
    "deepnote_cell_type": "code",
    "id": "stuck-bunny"
   },
   "outputs": [],
   "source": [
    "import numpy as np\n",
    "\n",
    "list_of_values = [3, 7, 10, 2, 1, 7, np.nan, 20, -5]\n",
    "data = np.array(list_of_values)"
   ]
  },
  {
   "cell_type": "markdown",
   "metadata": {
    "cell_id": "00005-21086fd0-bbeb-464b-a7c3-da5876fc72fe",
    "deepnote_cell_type": "markdown",
    "id": "fluid-workplace"
   },
   "source": [
    "1. Which values are greater than zero?"
   ]
  },
  {
   "cell_type": "code",
   "execution_count": null,
   "metadata": {
    "cell_id": "00006-ff88d338-0cb3-4cea-ab9c-741d77c33b46",
    "deepnote_cell_type": "code",
    "id": "rotary-compatibility"
   },
   "outputs": [],
   "source": []
  },
  {
   "cell_type": "markdown",
   "metadata": {
    "cell_id": "00007-eb53820d-a2e0-482d-8c4a-6f71953fc9a6",
    "deepnote_cell_type": "markdown",
    "id": "northern-desert"
   },
   "source": [
    "2. Which values are equal to 7?"
   ]
  },
  {
   "cell_type": "code",
   "execution_count": null,
   "metadata": {
    "cell_id": "00008-037e480b-3844-4f97-ac74-219010466530",
    "deepnote_cell_type": "code",
    "id": "muslim-ultimate"
   },
   "outputs": [],
   "source": []
  },
  {
   "cell_type": "markdown",
   "metadata": {
    "cell_id": "00009-40a9d5e7-5885-437d-99e2-e066f9d3f896",
    "deepnote_cell_type": "markdown",
    "id": "classified-emphasis"
   },
   "source": [
    "3. Which values are greater or equal to 7?"
   ]
  },
  {
   "cell_type": "code",
   "execution_count": null,
   "metadata": {
    "cell_id": "00010-eeafa298-689b-4de9-8f85-2bacaa588c93",
    "deepnote_cell_type": "code",
    "id": "unlimited-initial"
   },
   "outputs": [],
   "source": []
  },
  {
   "cell_type": "markdown",
   "metadata": {
    "cell_id": "00011-fb4e2d78-0147-431c-adde-af364fe33f69",
    "deepnote_cell_type": "markdown",
    "id": "industrial-conditioning"
   },
   "source": [
    "4. Which values are not equal to 7?"
   ]
  },
  {
   "cell_type": "code",
   "execution_count": null,
   "metadata": {
    "cell_id": "00012-35a8b581-1e3a-4516-884e-0b30ecae8104",
    "deepnote_cell_type": "code",
    "id": "martial-ultimate"
   },
   "outputs": [],
   "source": []
  },
  {
   "cell_type": "markdown",
   "metadata": {
    "cell_id": "00013-de3057d0-df97-49b2-a46b-977e9bcca1c7",
    "deepnote_cell_type": "markdown",
    "id": "light-timber"
   },
   "source": [
    "## Step 2: Filter with Logical Indexing\n",
    "\n",
    "If an array of True/False values is used to *index* another array, and both arrays are the same size, it will return all of the values that correspond to the True values of the indexing array:\n",
    "\n",
    "```python\n",
    ">>> data = np.array([1, 2, 3, 4, 5])\n",
    ">>> is_big = data > 3\n",
    ">>> is_big\n",
    "[False, False, False, True, True]\n",
    "\n",
    ">>> data[is_big]\n",
    "[4, 5]\n",
    "```\n"
   ]
  },
  {
   "cell_type": "markdown",
   "metadata": {
    "cell_id": "00014-2ee1b7ab-4624-461b-bd11-580494260598",
    "deepnote_cell_type": "markdown",
    "id": "parental-economy"
   },
   "source": [
    "**Exercises**:  Using the data below, extract only the values that corresspond to each question"
   ]
  },
  {
   "cell_type": "code",
   "execution_count": null,
   "metadata": {
    "cell_id": "00015-019cc24c-f22b-4722-80b9-b558a5530631",
    "deepnote_cell_type": "code",
    "id": "military-shopping",
    "outputId": "14158f33-64a8-437a-ffb0-d5b5a4ba3b73"
   },
   "outputs": [
    {
     "data": {
      "text/plain": [
       "array([ 3.,  1., -6.,  8., 20.,  2., nan,  7.,  1., nan,  9.,  7.,  7.,\n",
       "       -7.])"
      ]
     },
     "execution_count": 2,
     "metadata": {
      "tags": []
     },
     "output_type": "execute_result"
    }
   ],
   "source": [
    "data = np.array([3, 1, -6, 8, 20, 2, np.nan, 7, 1, np.nan, 9, 7, 7, -7])\n",
    "data"
   ]
  },
  {
   "cell_type": "markdown",
   "metadata": {
    "cell_id": "00016-c6167d87-67b5-4d42-9c32-eedf16065ecf",
    "deepnote_cell_type": "markdown",
    "id": "opened-progressive"
   },
   "source": [
    "1. The values that are less than 0"
   ]
  },
  {
   "cell_type": "code",
   "execution_count": null,
   "metadata": {
    "cell_id": "00017-eec017b4-d07c-4656-b9f9-d6a28338e04a",
    "deepnote_cell_type": "code",
    "id": "armed-inside"
   },
   "outputs": [],
   "source": []
  },
  {
   "cell_type": "markdown",
   "metadata": {
    "cell_id": "00018-cb8f6705-350b-4e38-afb4-97d081fcda17",
    "deepnote_cell_type": "markdown",
    "id": "amino-cache"
   },
   "source": [
    "2. The values that are greater than 3"
   ]
  },
  {
   "cell_type": "code",
   "execution_count": null,
   "metadata": {
    "cell_id": "00019-2edc492f-b7a7-4cd3-b349-8f869ff91d26",
    "deepnote_cell_type": "code",
    "id": "ordinary-reconstruction"
   },
   "outputs": [],
   "source": []
  },
  {
   "cell_type": "markdown",
   "metadata": {
    "cell_id": "00020-64061a00-f7a4-4839-ba01-370769d1bd53",
    "deepnote_cell_type": "markdown",
    "id": "surgical-inclusion"
   },
   "source": [
    "4. The values not equal to 7"
   ]
  },
  {
   "cell_type": "code",
   "execution_count": null,
   "metadata": {
    "cell_id": "00021-404f3f89-e9cb-450e-8e4e-1ddf8a1c3093",
    "deepnote_cell_type": "code",
    "id": "occupied-history"
   },
   "outputs": [],
   "source": []
  },
  {
   "cell_type": "markdown",
   "metadata": {
    "cell_id": "00022-12df6744-eaec-46d4-a2f6-f8338a7afb93",
    "deepnote_cell_type": "markdown",
    "id": "underlying-awareness"
   },
   "source": [
    "  5. The values equal to 20"
   ]
  },
  {
   "cell_type": "code",
   "execution_count": null,
   "metadata": {
    "cell_id": "00023-67128a3b-2509-4591-b5e9-efbeb3293c61",
    "deepnote_cell_type": "code",
    "id": "original-hacker"
   },
   "outputs": [],
   "source": []
  },
  {
   "cell_type": "markdown",
   "metadata": {
    "cell_id": "00024-e33c0da1-5566-4cf5-b174-c1ac89fe3c67",
    "deepnote_cell_type": "markdown",
    "id": "sought-scanner"
   },
   "source": [
    "The values that are not missing"
   ]
  },
  {
   "cell_type": "code",
   "execution_count": null,
   "metadata": {
    "cell_id": "00025-5827ce1d-f384-4126-b08f-bf277bf919ac",
    "deepnote_cell_type": "code",
    "id": "colonial-frontier"
   },
   "outputs": [],
   "source": []
  },
  {
   "cell_type": "markdown",
   "metadata": {
    "cell_id": "00026-562956cb-2ca6-4420-b369-c4db86b32ea6",
    "deepnote_cell_type": "markdown",
    "id": "streaming-rocket"
   },
   "source": [
    "### Step 2.5: Combine Step 1 and Step 2 into a single line\n",
    "\n",
    "Both steps can be done in a single expression.  Sometimes this can make things clearer!\n",
    "\n",
    "\n",
    "```python\n",
    ">>> data = np.array([1, 2, 3, 4, 5])\n",
    ">>> data[data > 3]\n",
    "[4, 5]\n",
    "```\n",
    "\n"
   ]
  },
  {
   "cell_type": "markdown",
   "metadata": {
    "cell_id": "00027-f0b27f6f-0d3d-4c17-9c12-eb00ac9d9aa6",
    "deepnote_cell_type": "markdown",
    "id": "effective-sphere"
   },
   "source": [
    "**Exercises**: Do the same as in the previous section, this time in a single line."
   ]
  },
  {
   "cell_type": "code",
   "execution_count": null,
   "metadata": {
    "cell_id": "00028-c77007a8-e692-41cd-aa51-8f383d53a046",
    "deepnote_cell_type": "code",
    "id": "facial-growth",
    "outputId": "ddb4e6bc-5547-4e40-98d3-fce2ab0b32cf"
   },
   "outputs": [
    {
     "data": {
      "text/plain": [
       "array([ 3.,  1., -6., nan,  8., 20.,  2.,  7., nan,  1.,  9.,  7.,  7.,\n",
       "       -7.])"
      ]
     },
     "execution_count": 3,
     "metadata": {
      "tags": []
     },
     "output_type": "execute_result"
    }
   ],
   "source": [
    "data = np.array([3, 1, -6, np.nan, 8, 20, 2, 7, np.nan, 1, 9, 7, 7, -7])\n",
    "data"
   ]
  },
  {
   "cell_type": "markdown",
   "metadata": {
    "cell_id": "00029-cadc89d9-1854-411b-a7fa-081c436bc973",
    "deepnote_cell_type": "markdown",
    "id": "athletic-thomas"
   },
   "source": [
    "The values that are less than 0"
   ]
  },
  {
   "cell_type": "code",
   "execution_count": null,
   "metadata": {
    "cell_id": "00030-cc32f161-5853-4513-8f18-234f125ea8e7",
    "deepnote_cell_type": "code",
    "id": "green-programming"
   },
   "outputs": [],
   "source": []
  },
  {
   "cell_type": "markdown",
   "metadata": {
    "cell_id": "00031-a8eb2b79-0548-41a1-ae49-879c0eebd986",
    "deepnote_cell_type": "markdown",
    "id": "wrong-chrome"
   },
   "source": [
    "The values that are greater than 3"
   ]
  },
  {
   "cell_type": "code",
   "execution_count": null,
   "metadata": {
    "cell_id": "00032-91f7bccc-697e-426a-8e6e-221fdbf53b71",
    "deepnote_cell_type": "code",
    "id": "excess-rochester"
   },
   "outputs": [],
   "source": []
  },
  {
   "cell_type": "markdown",
   "metadata": {
    "cell_id": "00033-4a10f85a-e98d-497c-b822-bdc208c92956",
    "deepnote_cell_type": "markdown",
    "id": "controlling-marijuana"
   },
   "source": [
    "The values equal to 7  (will be an array of sevens)"
   ]
  },
  {
   "cell_type": "code",
   "execution_count": null,
   "metadata": {
    "cell_id": "00034-3eb94fd9-f371-49b0-95c1-86d7d88f3d81",
    "deepnote_cell_type": "code",
    "id": "textile-contents"
   },
   "outputs": [],
   "source": []
  },
  {
   "cell_type": "markdown",
   "metadata": {
    "cell_id": "00035-567b406c-b643-41b9-a77a-d192fd658434",
    "deepnote_cell_type": "markdown",
    "id": "sporting-footwear"
   },
   "source": [
    "The values not equal to 7"
   ]
  },
  {
   "cell_type": "code",
   "execution_count": null,
   "metadata": {
    "cell_id": "00036-c9ba24df-7019-40c3-98a9-deb4cedc5dba",
    "deepnote_cell_type": "code",
    "id": "complicated-labor"
   },
   "outputs": [],
   "source": []
  },
  {
   "cell_type": "markdown",
   "metadata": {
    "cell_id": "00037-127b9914-7afa-46ea-90b0-7d0dd03d77be",
    "deepnote_cell_type": "markdown",
    "id": "coordinated-ticket"
   },
   "source": [
    "The values equal to 20"
   ]
  },
  {
   "cell_type": "code",
   "execution_count": null,
   "metadata": {
    "cell_id": "00038-8959ce22-70c3-47fa-a3df-bf55665a54e0",
    "deepnote_cell_type": "code",
    "id": "adjusted-listening"
   },
   "outputs": [],
   "source": []
  },
  {
   "cell_type": "markdown",
   "metadata": {
    "cell_id": "00039-77ceaca5-3a77-44bd-8c6c-32a5d82aedcc",
    "deepnote_cell_type": "markdown",
    "id": "finnish-controversy"
   },
   "source": [
    "The values not missing"
   ]
  },
  {
   "cell_type": "code",
   "execution_count": null,
   "metadata": {
    "cell_id": "00040-8f32f9ef-4699-491a-ae62-6bb47ce67bb5",
    "deepnote_cell_type": "code",
    "id": "juvenile-comfort"
   },
   "outputs": [],
   "source": []
  },
  {
   "cell_type": "markdown",
   "metadata": {
    "cell_id": "00041-7774923c-b585-48c4-ac2e-5038dc170f8b",
    "deepnote_cell_type": "markdown",
    "id": "celtic-commercial"
   },
   "source": [
    "### Statistics on Filtered Data"
   ]
  },
  {
   "cell_type": "markdown",
   "metadata": {
    "cell_id": "00042-6cab3612-2b22-4535-aa16-1e3b934130b8",
    "deepnote_cell_type": "markdown",
    "id": "pretty-philosophy"
   },
   "source": [
    "Using the following dataset, have Python to calculate the answers to the questions below:"
   ]
  },
  {
   "cell_type": "code",
   "execution_count": null,
   "metadata": {
    "cell_id": "00043-a20f0d6d-3f12-4e4f-8bcd-ddc2cc3870cb",
    "deepnote_cell_type": "code",
    "id": "knowing-pitch",
    "outputId": "16e6aec3-429f-4a58-cef7-c915b5142a3c"
   },
   "outputs": [
    {
     "data": {
      "text/plain": [
       "array([ 3,  1, -6,  8, 20,  2,  7,  1,  9,  7,  7, -7])"
      ]
     },
     "execution_count": 22,
     "metadata": {
      "tags": []
     },
     "output_type": "execute_result"
    }
   ],
   "source": [
    "data = np.array([3, 1, -6, 8, 20, 2, 7, 1, 9, 7, 7, -7])\n",
    "data"
   ]
  },
  {
   "cell_type": "markdown",
   "metadata": {
    "cell_id": "00044-cfaafc68-bdb1-4b76-8c68-cfaf46dd14ef",
    "deepnote_cell_type": "markdown",
    "id": "radio-powell"
   },
   "source": [
    "How many values are greater than 4 in this dataset?  \n",
    "Useful function: `len([2, 3, 4])`"
   ]
  },
  {
   "cell_type": "code",
   "execution_count": null,
   "metadata": {
    "cell_id": "00045-dd927e15-b816-4a3d-9a73-2d3b2f075635",
    "deepnote_cell_type": "code",
    "id": "healthy-holmes"
   },
   "outputs": [],
   "source": []
  },
  {
   "cell_type": "markdown",
   "metadata": {
    "cell_id": "00046-0a7545b7-6323-4ea6-b134-6317fb0a2f4e",
    "deepnote_cell_type": "markdown",
    "id": "reduced-authorization"
   },
   "source": [
    "How many values are equal to 7 in this dataset?"
   ]
  },
  {
   "cell_type": "code",
   "execution_count": null,
   "metadata": {
    "cell_id": "00047-ac232071-f181-44bb-ad51-2790fe771775",
    "deepnote_cell_type": "code",
    "id": "pursuant-workplace"
   },
   "outputs": [],
   "source": []
  },
  {
   "cell_type": "markdown",
   "metadata": {
    "cell_id": "00048-57dbcea0-3f49-426c-92aa-36b09f3ae4b3",
    "deepnote_cell_type": "markdown",
    "id": "artificial-serve"
   },
   "source": [
    "What is the mean value of the positive numbers in this dataset?"
   ]
  },
  {
   "cell_type": "code",
   "execution_count": null,
   "metadata": {
    "cell_id": "00049-a06a43e9-7609-4dc6-b9ee-09c75abd98cd",
    "deepnote_cell_type": "code",
    "id": "working-madagascar"
   },
   "outputs": [],
   "source": []
  },
  {
   "cell_type": "markdown",
   "metadata": {
    "cell_id": "00050-81a40328-7559-42c3-9060-b5b4d450098a",
    "deepnote_cell_type": "markdown",
    "id": "continuous-workshop"
   },
   "source": [
    "What is the mean value of the negative numbers in this dataset?"
   ]
  },
  {
   "cell_type": "code",
   "execution_count": null,
   "metadata": {
    "cell_id": "00051-0bfad543-be10-48ed-b351-5b271dfee20e",
    "deepnote_cell_type": "code",
    "id": "flush-miami"
   },
   "outputs": [],
   "source": []
  },
  {
   "cell_type": "markdown",
   "metadata": {
    "cell_id": "00052-ebd153a9-bc27-4c6e-a782-7ca0c2d9b8bd",
    "deepnote_cell_type": "markdown",
    "id": "visible-journey"
   },
   "source": [
    "What is the median value of the values in this dataset that are greater than 5?"
   ]
  },
  {
   "cell_type": "code",
   "execution_count": null,
   "metadata": {
    "cell_id": "00053-be28c851-2869-404a-b8e4-fafcdbc2a807",
    "deepnote_cell_type": "code",
    "id": "residential-decade"
   },
   "outputs": [],
   "source": []
  },
  {
   "cell_type": "markdown",
   "metadata": {
    "cell_id": "00054-d2f92496-8f40-479f-955c-9591d7d4178d",
    "deepnote_cell_type": "markdown",
    "id": "severe-gamma"
   },
   "source": [
    "How many missing values are in this dataset?"
   ]
  },
  {
   "cell_type": "code",
   "execution_count": null,
   "metadata": {
    "cell_id": "00055-bb58f269-4979-42c0-a774-f65874b6f953",
    "deepnote_cell_type": "code",
    "id": "fourth-annual"
   },
   "outputs": [],
   "source": []
  },
  {
   "cell_type": "markdown",
   "metadata": {
    "cell_id": "00056-16952307-edfc-4488-bad6-0aff928e6373",
    "deepnote_cell_type": "markdown",
    "id": "growing-venture"
   },
   "source": [
    "What proportion of the values in this dataset are positive?"
   ]
  },
  {
   "cell_type": "code",
   "execution_count": null,
   "metadata": {
    "cell_id": "00057-04e495aa-e221-4a7a-b094-0f767f899650",
    "deepnote_cell_type": "code",
    "id": "infinite-madison"
   },
   "outputs": [],
   "source": []
  },
  {
   "cell_type": "markdown",
   "metadata": {
    "cell_id": "00058-0fe905fb-99ea-419c-9d2d-573abc291e93",
    "deepnote_cell_type": "markdown",
    "id": "breathing-breakdown"
   },
   "source": [
    "What proportion of the values in this dataset are less than or equal to 8?"
   ]
  },
  {
   "cell_type": "code",
   "execution_count": null,
   "metadata": {
    "cell_id": "00059-b318cc3e-306a-4e8f-9727-fed3269b89d8",
    "deepnote_cell_type": "code",
    "id": "quality-bandwidth"
   },
   "outputs": [],
   "source": []
  },
  {
   "cell_type": "markdown",
   "metadata": {
    "cell_id": "00060-4ee65e8b-f16b-406d-bde8-379d2fbdf8a8",
    "deepnote_cell_type": "markdown",
    "id": "distant-cattle"
   },
   "source": []
  },
  {
   "cell_type": "markdown",
   "metadata": {
    "created_in_deepnote_cell": true,
    "deepnote_cell_type": "markdown",
    "tags": []
   },
   "source": [
    "<a style='text-decoration:none;line-height:16px;display:flex;color:#5B5B62;padding:10px;justify-content:end;' href='https://deepnote.com?utm_source=created-in-deepnote-cell&projectId=d703678d-f12c-4453-a422-685f3ee4b709' target=\"_blank\">\n",
    "<img alt='Created in deepnote.com' style='display:inline;max-height:16px;margin:0px;margin-right:7.5px;' src='data:image/svg+xml;base64,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' > </img>\n",
    "Created in <span style='font-weight:600;margin-left:4px;'>Deepnote</span></a>"
   ]
  }
 ],
 "metadata": {
  "colab": {
   "name": "8 LogicalIndexing.ipynb",
   "provenance": []
  },
  "deepnote": {},
  "deepnote_execution_queue": [],
  "deepnote_notebook_id": "335d2424-d599-47af-9b70-08ab62ee0333",
  "kernelspec": {
   "display_name": "Python 3.10.4 ('py10')",
   "language": "python",
   "name": "python3"
  },
  "language_info": {
   "codemirror_mode": {
    "name": "ipython",
    "version": 3
   },
   "file_extension": ".py",
   "mimetype": "text/x-python",
   "name": "python",
   "nbconvert_exporter": "python",
   "pygments_lexer": "ipython3",
   "version": "3.10.4"
  },
  "metadata": {
   "interpreter": {
    "hash": "fc0e67284b290651ff490186edfcd112a3a9886d035b0e6d700f36a65c8bc338"
   }
  },
  "vscode": {
   "interpreter": {
    "hash": "d6852d01271bf8033dbdb7ec364b6f6e89fd52a18c6bf5b4c73e48c86329a8dd"
   }
  }
 },
 "nbformat": 4,
 "nbformat_minor": 5
}
