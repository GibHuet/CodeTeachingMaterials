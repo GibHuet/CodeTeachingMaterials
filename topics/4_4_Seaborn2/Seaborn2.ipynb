{
 "cells": [
  {
   "cell_type": "code",
   "execution_count": 1,
   "id": "a94be637",
   "metadata": {},
   "outputs": [
    {
     "name": "stdout",
     "output_type": "stream",
     "text": [
      "Requirement already satisfied: seaborn in /home/nickdg/miniconda3/envs/py10/lib/python3.10/site-packages (0.12.0)\n",
      "Requirement already satisfied: matplotlib>=3.1 in /home/nickdg/miniconda3/envs/py10/lib/python3.10/site-packages (from seaborn) (3.6.0)\n",
      "Requirement already satisfied: numpy>=1.17 in /home/nickdg/miniconda3/envs/py10/lib/python3.10/site-packages (from seaborn) (1.23.3)\n",
      "Requirement already satisfied: pandas>=0.25 in /home/nickdg/miniconda3/envs/py10/lib/python3.10/site-packages (from seaborn) (1.5.0)\n",
      "Requirement already satisfied: python-dateutil>=2.7 in /home/nickdg/miniconda3/envs/py10/lib/python3.10/site-packages (from matplotlib>=3.1->seaborn) (2.8.2)\n",
      "Requirement already satisfied: contourpy>=1.0.1 in /home/nickdg/miniconda3/envs/py10/lib/python3.10/site-packages (from matplotlib>=3.1->seaborn) (1.0.5)\n",
      "Requirement already satisfied: fonttools>=4.22.0 in /home/nickdg/miniconda3/envs/py10/lib/python3.10/site-packages (from matplotlib>=3.1->seaborn) (4.37.4)\n",
      "Requirement already satisfied: packaging>=20.0 in /home/nickdg/miniconda3/envs/py10/lib/python3.10/site-packages (from matplotlib>=3.1->seaborn) (21.3)\n",
      "Requirement already satisfied: pillow>=6.2.0 in /home/nickdg/miniconda3/envs/py10/lib/python3.10/site-packages (from matplotlib>=3.1->seaborn) (9.2.0)\n",
      "Requirement already satisfied: pyparsing>=2.2.1 in /home/nickdg/miniconda3/envs/py10/lib/python3.10/site-packages (from matplotlib>=3.1->seaborn) (3.0.9)\n",
      "Requirement already satisfied: kiwisolver>=1.0.1 in /home/nickdg/miniconda3/envs/py10/lib/python3.10/site-packages (from matplotlib>=3.1->seaborn) (1.4.4)\n",
      "Requirement already satisfied: cycler>=0.10 in /home/nickdg/miniconda3/envs/py10/lib/python3.10/site-packages (from matplotlib>=3.1->seaborn) (0.11.0)\n",
      "Requirement already satisfied: pytz>=2020.1 in /home/nickdg/miniconda3/envs/py10/lib/python3.10/site-packages (from pandas>=0.25->seaborn) (2022.4)\n",
      "Requirement already satisfied: six>=1.5 in /home/nickdg/miniconda3/envs/py10/lib/python3.10/site-packages (from python-dateutil>=2.7->matplotlib>=3.1->seaborn) (1.16.0)\n"
     ]
    }
   ],
   "source": [
    "!pip install seaborn"
   ]
  },
  {
   "cell_type": "code",
   "execution_count": 1,
   "id": "a6f77ff9",
   "metadata": {
    "cell_id": "00000-a2ba6cfc-d92b-4d4e-94e6-ddee968f0209",
    "deepnote_cell_type": "code"
   },
   "outputs": [],
   "source": [
    "import seaborn as sns\n",
    "import matplotlib.pyplot as plt"
   ]
  },
  {
   "cell_type": "markdown",
   "id": "3bb0a244",
   "metadata": {
    "cell_id": "00001-2782cb5f-dd7d-457d-b615-8b728084b40f",
    "deepnote_cell_type": "markdown"
   },
   "source": [
    "# Exploring Matplotlib: Using Seaborn to Teach us how to build practical matplotlib functions\n",
    "\n",
    "Matplotlib's Figures are made up of nested parts:\n",
    "\n",
    "  - **Figure**: The whole window  (`plt.Figure()` or `plt.figure()`)\n",
    "    - **Super Title**: The figure's title (`Figure.suptitle()`)\n",
    "    - **Size**: The figure's width and height ('Figure(figsize=(8, 5))` or `Figure.set_figwidth()` or `Figure.set_figheight()`)\n",
    "    - **Resolution in Dots per Inch**: The figure's print resolution (`Figure(dpi=200)`)\n",
    "    - **Axes**: The subplots in the window.  (`Figure.add_axes([left, bottom, widght, height])` or `Figure.add_subplot(rows, cols, index)`\n",
    "      - **Title**: Title (`Axes.set_title()`)\n",
    "      - **X Limits**: The range of data shown in the x axis (`Axes.set_xlim()`)\n",
    "      - **Y Limits**: The range of data shown in the y axis (`Axes.set_ylim()`)\n",
    "      - **Legend**: A legend (`Axes.legend()`)\n",
    "      - **Artist Data**: When plots are added, various containers of lines, patches, markers, text, etc are added to the Axes, depending on the type of plot.  The best way to access this data is to get the output of the original plotting function.\n",
    "      - **Plot Methods**: Commands to plot some data! This list is best found at https://matplotlib.org/stable/api/axes_api.html#plotting\n",
    "      \n",
    "In this notebook, we'll examine how Seaborn organizes its functions, with the goal of replicating its functions in order to build custom matplotlib figures ourselves.\n",
    "\n",
    "![](https://matplotlib.org/2.0.2/_images/anatomy1.png)"
   ]
  },
  {
   "cell_type": "markdown",
   "id": "ae4d1866",
   "metadata": {
    "cell_id": "00002-4bcbf939-5b1e-488f-961c-edab7ed51f4d",
    "deepnote_cell_type": "markdown"
   },
   "source": [
    "## Load Penguins Dataset\n",
    "\n",
    "For this set of exercises, we'll be working with seaborn's `penguins` dataset, supplied as a `pandas.DataFrame` object.  \n",
    "\n",
    "**Note**: If this is your first time working with an Pandas DataFrame, no worries!  All you need to know to work with this notebook is:\n",
    "  - `DataFrame.head()`: returns a preview of the first 5 rows of the dataset\n",
    "  - `DataFrame.columns`: returns a list of the names of the columns in the dataset\n",
    "  - `df['column_name']`: returns the data from the column as a Pandas Series\n",
    "  - `df['column_name'].values`: returns the data from the column as a Numpy Array\n",
    "  - `DataFrame.info()`: returns a summary of information about each column"
   ]
  },
  {
   "cell_type": "code",
   "execution_count": 2,
   "id": "b2d38bdf",
   "metadata": {
    "cell_id": "00003-c7b971db-a9a6-43c1-949a-cbda8514dd8e",
    "deepnote_cell_type": "code"
   },
   "outputs": [
    {
     "data": {
      "text/html": [
       "<div>\n",
       "<style scoped>\n",
       "    .dataframe tbody tr th:only-of-type {\n",
       "        vertical-align: middle;\n",
       "    }\n",
       "\n",
       "    .dataframe tbody tr th {\n",
       "        vertical-align: top;\n",
       "    }\n",
       "\n",
       "    .dataframe thead th {\n",
       "        text-align: right;\n",
       "    }\n",
       "</style>\n",
       "<table border=\"1\" class=\"dataframe\">\n",
       "  <thead>\n",
       "    <tr style=\"text-align: right;\">\n",
       "      <th></th>\n",
       "      <th>species</th>\n",
       "      <th>island</th>\n",
       "      <th>bill_length_mm</th>\n",
       "      <th>bill_depth_mm</th>\n",
       "      <th>flipper_length_mm</th>\n",
       "      <th>body_mass_g</th>\n",
       "      <th>sex</th>\n",
       "    </tr>\n",
       "  </thead>\n",
       "  <tbody>\n",
       "    <tr>\n",
       "      <th>0</th>\n",
       "      <td>Adelie</td>\n",
       "      <td>Torgersen</td>\n",
       "      <td>39.1</td>\n",
       "      <td>18.7</td>\n",
       "      <td>181.0</td>\n",
       "      <td>3750.0</td>\n",
       "      <td>Male</td>\n",
       "    </tr>\n",
       "    <tr>\n",
       "      <th>1</th>\n",
       "      <td>Adelie</td>\n",
       "      <td>Torgersen</td>\n",
       "      <td>39.5</td>\n",
       "      <td>17.4</td>\n",
       "      <td>186.0</td>\n",
       "      <td>3800.0</td>\n",
       "      <td>Female</td>\n",
       "    </tr>\n",
       "    <tr>\n",
       "      <th>2</th>\n",
       "      <td>Adelie</td>\n",
       "      <td>Torgersen</td>\n",
       "      <td>40.3</td>\n",
       "      <td>18.0</td>\n",
       "      <td>195.0</td>\n",
       "      <td>3250.0</td>\n",
       "      <td>Female</td>\n",
       "    </tr>\n",
       "    <tr>\n",
       "      <th>3</th>\n",
       "      <td>Adelie</td>\n",
       "      <td>Torgersen</td>\n",
       "      <td>NaN</td>\n",
       "      <td>NaN</td>\n",
       "      <td>NaN</td>\n",
       "      <td>NaN</td>\n",
       "      <td>NaN</td>\n",
       "    </tr>\n",
       "    <tr>\n",
       "      <th>4</th>\n",
       "      <td>Adelie</td>\n",
       "      <td>Torgersen</td>\n",
       "      <td>36.7</td>\n",
       "      <td>19.3</td>\n",
       "      <td>193.0</td>\n",
       "      <td>3450.0</td>\n",
       "      <td>Female</td>\n",
       "    </tr>\n",
       "  </tbody>\n",
       "</table>\n",
       "</div>"
      ],
      "text/plain": [
       "  species     island  bill_length_mm  bill_depth_mm  flipper_length_mm  \\\n",
       "0  Adelie  Torgersen            39.1           18.7              181.0   \n",
       "1  Adelie  Torgersen            39.5           17.4              186.0   \n",
       "2  Adelie  Torgersen            40.3           18.0              195.0   \n",
       "3  Adelie  Torgersen             NaN            NaN                NaN   \n",
       "4  Adelie  Torgersen            36.7           19.3              193.0   \n",
       "\n",
       "   body_mass_g     sex  \n",
       "0       3750.0    Male  \n",
       "1       3800.0  Female  \n",
       "2       3250.0  Female  \n",
       "3          NaN     NaN  \n",
       "4       3450.0  Female  "
      ]
     },
     "execution_count": 2,
     "metadata": {},
     "output_type": "execute_result"
    }
   ],
   "source": [
    "df = sns.load_dataset('penguins')\n",
    "df.head()"
   ]
  },
  {
   "cell_type": "markdown",
   "id": "d132de8a",
   "metadata": {
    "cell_id": "00004-ab24dccc-cb40-43e1-98d8-1b6fbcb17fce",
    "deepnote_cell_type": "markdown"
   },
   "source": [
    "## Dividing Plotting Functions into \"Figure-Level\" and \"Axis-Level\" Units"
   ]
  },
  {
   "cell_type": "markdown",
   "id": "71cb1dac",
   "metadata": {
    "cell_id": "00005-3f46f5b1-b34c-4d40-953d-f83b3e12455e",
    "deepnote_cell_type": "markdown"
   },
   "source": [
    "Like Matplotlib, Seaborn has two main kinds of functions:  \n",
    "\n",
    "  - **Figure-Level** Functions (makes a `Figure` and all the `Axes` inside it) \n",
    "  - **Axes-Level** Functions (makes an `Axes`)\n",
    "  \n",
    "Figure-level functions are useful if you want Seaborn to make subplots; they tell Seaborn which Axes-level function to call under the hood.  If you want to manage subplots seperately, then Axes-level functions may be a better way to go. \n",
    "\n",
    "If you look on Seaborn's documentation, you'll see that within each type of plot, there is one Figure-level function that can call one of several Axes-level functions: https://seaborn.pydata.org/api.html"
   ]
  },
  {
   "cell_type": "markdown",
   "id": "f5a3ff37",
   "metadata": {
    "cell_id": "00006-13d98888-79a1-4444-b555-792f8837131b",
    "deepnote_cell_type": "markdown"
   },
   "source": [
    "### Figure-Level Functions: `relplot()`, `displot()`, and `catplot()`\n",
    "\n",
    "Seaborn's plotting functions have a consistent syntax:\n",
    "\n",
    "`plot_fun(data=pd.DataFrame, **property:column_name)`, with `property` being any of several properties of a graph:\n",
    "\n",
    "  - `x`: the column plotted on the x axis\n",
    "  - `y`: the column plotted on the y axis\n",
    "  - `hue`: the column whose values are represented by the **color** of the data plotted\n",
    "  - `style`: if markers are used, the column whose values are represented by the style of the marker\n",
    "  - `row`: the column whose values determine which subplot row the data is plotted\n",
    "  - `col`: the column whose values determine which subplot column the data is plotted\n",
    "  \n",
    "For example: `sns.relplot(data=df, x='bill_length_mm', y='bill_depth_mm)`\n",
    "\n",
    "**Important**: Which plot function you use depends on whether the variables are continuous or categorical, and whether you want to emphasize their means or their distributions."
   ]
  },
  {
   "cell_type": "markdown",
   "id": "0c3e03ce",
   "metadata": {
    "cell_id": "00007-cc441daa-7b5c-4806-ac01-20fe5153df78",
    "deepnote_cell_type": "markdown"
   },
   "source": [
    "**Exercises**\n",
    "\n",
    "Using only Figure-level plotting functions `relplot()`, `displot()`, and `catplot()`, answer the following questions:"
   ]
  },
  {
   "cell_type": "markdown",
   "id": "d20b7c2e",
   "metadata": {
    "cell_id": "00008-38f8bbb6-9664-4fd4-a01c-84b90eaa1592",
    "deepnote_cell_type": "markdown"
   },
   "source": [
    "Does the length of the bill differ between penguin species?"
   ]
  },
  {
   "cell_type": "code",
   "execution_count": null,
   "id": "68771b46",
   "metadata": {
    "cell_id": "00009-e8094ec3-6093-4e97-ac37-242b07d6193b",
    "deepnote_cell_type": "code",
    "deepnote_to_be_reexecuted": false,
    "execution_millis": 0,
    "execution_start": 1636619473826,
    "source_hash": "b623e53d"
   },
   "outputs": [],
   "source": []
  },
  {
   "cell_type": "markdown",
   "id": "6838db0d",
   "metadata": {
    "cell_id": "00012-eb0e74eb-00f9-42bd-9455-fb1af4c8a881",
    "deepnote_cell_type": "markdown"
   },
   "source": [
    "Does the length of the bill differ between penguin sexes?"
   ]
  },
  {
   "cell_type": "code",
   "execution_count": null,
   "id": "8721dbdd",
   "metadata": {
    "cell_id": "00011-2dff5b69-7d09-4d7d-a1ac-c3748a444670",
    "deepnote_cell_type": "code",
    "tags": []
   },
   "outputs": [],
   "source": []
  },
  {
   "cell_type": "markdown",
   "id": "35d4b3c2",
   "metadata": {
    "cell_id": "00014-4e7cf432-02e1-466c-a75e-526a5ae9cfe8",
    "deepnote_cell_type": "markdown"
   },
   "source": [
    "Does the overall shape of the bill (length and depth, together) differ between penguin species?"
   ]
  },
  {
   "cell_type": "code",
   "execution_count": null,
   "id": "0eef25cc",
   "metadata": {
    "cell_id": "00013-3ceb5069-57f6-446c-8ce2-a7ed829ff3a4",
    "deepnote_cell_type": "code",
    "tags": []
   },
   "outputs": [],
   "source": []
  },
  {
   "cell_type": "markdown",
   "id": "f908c908",
   "metadata": {
    "cell_id": "00016-3f3657be-4795-436a-8243-396d9eac0220",
    "deepnote_cell_type": "markdown"
   },
   "source": [
    "Does the flipper length vary with body mass?"
   ]
  },
  {
   "cell_type": "code",
   "execution_count": null,
   "id": "775fdac6",
   "metadata": {
    "cell_id": "00017-b6f18fd3-7a71-4252-99b3-7cf21574aa9f",
    "deepnote_cell_type": "code",
    "deepnote_to_be_reexecuted": false,
    "execution_millis": 0,
    "execution_start": 1636619492995,
    "source_hash": "b623e53d"
   },
   "outputs": [],
   "source": []
  },
  {
   "cell_type": "markdown",
   "id": "64efd745",
   "metadata": {
    "cell_id": "00020-594725b5-824d-4075-954d-2d5b26bd6385",
    "deepnote_cell_type": "markdown"
   },
   "source": [
    "Does the flipper length vary with body mass, when species and sex are taken into account (i.e. if I feed my pet penguin more, will its flippers get longer)?"
   ]
  },
  {
   "cell_type": "code",
   "execution_count": null,
   "id": "1d9692b1",
   "metadata": {
    "cell_id": "00021-5328113c-7972-48d5-b924-7dc6f2139ac7",
    "deepnote_cell_type": "code"
   },
   "outputs": [],
   "source": []
  },
  {
   "cell_type": "markdown",
   "id": "c5743cf8",
   "metadata": {
    "cell_id": "00022-f84de979-5aed-4ec0-93dc-46c6dd9ad70d",
    "deepnote_cell_type": "markdown"
   },
   "source": [
    "Does the flipper length vary with body mass, when species and sex are taken into account (i.e. if I feed my pet penguin more, will its flippers get longer)?"
   ]
  },
  {
   "cell_type": "code",
   "execution_count": null,
   "id": "2f455544",
   "metadata": {
    "cell_id": "00023-65e680d5-a7a8-4cea-b851-f83397cd3393",
    "deepnote_cell_type": "code",
    "deepnote_to_be_reexecuted": false,
    "execution_millis": 9,
    "execution_start": 1636619500342,
    "source_hash": "b623e53d"
   },
   "outputs": [],
   "source": []
  },
  {
   "cell_type": "markdown",
   "id": "dadc4714",
   "metadata": {
    "cell_id": "00026-604c2690-1b12-4c61-b3cb-0c3c009e085d",
    "deepnote_cell_type": "markdown"
   },
   "source": [
    "## Replicate Figures, only Using Seaborn's Axis-Level Plotting Functions and Using Matplotlib to manage the subplots\n",
    "\n",
    "Make sure that:\n",
    "  - Each subplot has a title\n",
    "  - The axes on each subplot are aligned\n",
    "  - The colors on each subplot represent the same thing"
   ]
  },
  {
   "cell_type": "markdown",
   "id": "78256cab",
   "metadata": {
    "cell_id": "00027-9819e336-4fdc-421c-86a1-4e7d8bbf88fd",
    "deepnote_cell_type": "markdown"
   },
   "source": [
    "**Exercises**\n",
    "\n",
    "Using only Figure-level plotting functions, answer the following questions:"
   ]
  },
  {
   "cell_type": "code",
   "execution_count": null,
   "id": "25a7219c",
   "metadata": {
    "cell_id": "00022-6fb8aa8c-430e-4f52-a948-728e17ad4c53",
    "deepnote_cell_type": "code",
    "tags": []
   },
   "outputs": [],
   "source": []
  },
  {
   "cell_type": "markdown",
   "id": "8d3a5c00",
   "metadata": {
    "cell_id": "00030-22919299-d44b-4a12-ac8c-d9bbd7a693ac",
    "deepnote_cell_type": "markdown"
   },
   "source": [
    "Does the length of the bill differ between penguin species?"
   ]
  },
  {
   "cell_type": "code",
   "execution_count": null,
   "id": "a6ec99c6",
   "metadata": {
    "cell_id": "00031-c325573f-594e-4d3f-a01a-efaa51105cf3",
    "deepnote_cell_type": "code"
   },
   "outputs": [],
   "source": []
  },
  {
   "cell_type": "markdown",
   "id": "7ecfb83b",
   "metadata": {
    "cell_id": "00032-1a8e7bf2-b31d-44e1-9710-2fb57b598b7d",
    "deepnote_cell_type": "markdown"
   },
   "source": [
    "Does the length of the bill differ between penguin sexes?"
   ]
  },
  {
   "cell_type": "code",
   "execution_count": null,
   "id": "78a927f8",
   "metadata": {
    "cell_id": "00033-3111492d-04ce-439d-9c16-68e925bbc6c3",
    "deepnote_cell_type": "code"
   },
   "outputs": [],
   "source": []
  },
  {
   "cell_type": "markdown",
   "id": "d6ed15de",
   "metadata": {
    "cell_id": "00034-24ca92ea-aec7-4abe-9d45-0d191b9371e6",
    "deepnote_cell_type": "markdown"
   },
   "source": [
    "Does the overall shape of the bill (length and depth, together) differ between penguin species?"
   ]
  },
  {
   "cell_type": "code",
   "execution_count": null,
   "id": "7fa6aded",
   "metadata": {
    "cell_id": "00035-875b9893-801b-4b0f-96a4-1de939b64f13",
    "deepnote_cell_type": "code"
   },
   "outputs": [],
   "source": []
  },
  {
   "cell_type": "markdown",
   "id": "8485740b",
   "metadata": {
    "cell_id": "00036-c36d288e-17cf-46e9-bc02-71c8aa238049",
    "deepnote_cell_type": "markdown"
   },
   "source": [
    "Does the flipper length vary with body mass?"
   ]
  },
  {
   "cell_type": "code",
   "execution_count": null,
   "id": "1c459a93",
   "metadata": {
    "cell_id": "00037-dac60635-9453-4731-8282-c9fee85d1048",
    "deepnote_cell_type": "code"
   },
   "outputs": [],
   "source": []
  },
  {
   "cell_type": "markdown",
   "id": "298c8654",
   "metadata": {
    "cell_id": "00038-df6c5a1b-cbfe-4e77-bdab-1ae3ae3686aa",
    "deepnote_cell_type": "markdown"
   },
   "source": [
    "Does the flipper length vary with body mass, when species and sex are taken into account (i.e. if I feed my pet penguin more, will its flippers get longer)?"
   ]
  },
  {
   "cell_type": "code",
   "execution_count": null,
   "id": "4518ea1d",
   "metadata": {
    "cell_id": "00039-0633ac78-900d-4fe4-aa5b-fc10ba0d7112",
    "deepnote_cell_type": "code"
   },
   "outputs": [],
   "source": []
  },
  {
   "cell_type": "markdown",
   "id": "281d6317",
   "metadata": {
    "cell_id": "00040-86c5cef7-cbdd-4c4b-a281-8c76349e5337",
    "deepnote_cell_type": "markdown"
   },
   "source": [
    "Does the flipper length vary with body mass, when species and sex are taken into account (i.e. if I feed my pet penguin more, will its flippers get longer)?"
   ]
  },
  {
   "cell_type": "code",
   "execution_count": null,
   "id": "83878e32",
   "metadata": {
    "cell_id": "00046-0659bce4-05d3-40fa-9aa9-dcfc4972a488",
    "deepnote_cell_type": "code",
    "deepnote_to_be_reexecuted": false,
    "execution_millis": 0,
    "execution_start": 1636619564502,
    "source_hash": "b623e53d"
   },
   "outputs": [],
   "source": []
  },
  {
   "cell_type": "markdown",
   "id": "399a9115",
   "metadata": {
    "cell_id": "00050-5cf7f8dd-63cb-4f99-ab7e-20daf5d359ff",
    "deepnote_cell_type": "markdown"
   },
   "source": [
    "## Replicate Figures, only Using Matplotlib's Plotting Functions and Using Matplotlib to manage the subplots\n",
    "\n",
    "Matplotlib doesn't automatically translate Pandas dataframes, and its plot functions are often a bit different from each other in interface, but that doesn't need to stop us!\n",
    "\n",
    "Use these docs for a helpful reference to Axes-level plotting functions: https://matplotlib.org/stable/api/axes_api.html#plotting\n",
    "\n",
    "As before, make sure that:\n",
    "  - Each subplot has a title\n",
    "  - The axes on each subplot are aligned\n",
    "  - The colors on each subplot represent the same thing"
   ]
  },
  {
   "cell_type": "markdown",
   "id": "29169f17",
   "metadata": {
    "cell_id": "00051-e468cd8b-ec60-42d1-858d-6545d56f6259",
    "deepnote_cell_type": "markdown"
   },
   "source": [
    "**Exercises**\n",
    "\n",
    "Using only Figure-level plotting functions, answer the following questions:"
   ]
  },
  {
   "cell_type": "markdown",
   "id": "60427145",
   "metadata": {
    "cell_id": "00052-8f22b790-115f-4a5a-9235-6527235f9378",
    "deepnote_cell_type": "markdown"
   },
   "source": [
    "Does the length of the bill differ between penguin species?"
   ]
  },
  {
   "cell_type": "code",
   "execution_count": null,
   "id": "ad03f2b0",
   "metadata": {
    "cell_id": "00053-a451af63-961f-4985-b9fa-83250e0f7aa5",
    "deepnote_cell_type": "code"
   },
   "outputs": [],
   "source": []
  },
  {
   "cell_type": "markdown",
   "id": "3294c122",
   "metadata": {
    "cell_id": "00054-9530631c-11b5-4e90-8d76-5d66244de53c",
    "deepnote_cell_type": "markdown"
   },
   "source": [
    "Does the length of the bill differ between penguin sexes?"
   ]
  },
  {
   "cell_type": "code",
   "execution_count": null,
   "id": "a8279149",
   "metadata": {
    "cell_id": "00055-163d6b3f-04d0-4634-8ab4-0bca18908513",
    "deepnote_cell_type": "code"
   },
   "outputs": [],
   "source": []
  },
  {
   "cell_type": "markdown",
   "id": "66334c96",
   "metadata": {
    "cell_id": "00056-eaded689-3d94-4d1f-a7df-af2c9b0cf919",
    "deepnote_cell_type": "markdown"
   },
   "source": [
    "Does the overall shape of the bill (length and depth, together) differ between penguin species?"
   ]
  },
  {
   "cell_type": "code",
   "execution_count": null,
   "id": "89674922",
   "metadata": {
    "cell_id": "00057-19005c35-3e11-44bd-a1af-2f5271dda5bc",
    "deepnote_cell_type": "code"
   },
   "outputs": [],
   "source": []
  },
  {
   "cell_type": "markdown",
   "id": "a16505c2",
   "metadata": {
    "cell_id": "00058-23d476f8-dcab-401f-a17f-cfef3263e529",
    "deepnote_cell_type": "markdown"
   },
   "source": [
    "Does the flipper length vary with body mass?"
   ]
  },
  {
   "cell_type": "code",
   "execution_count": null,
   "id": "701bb8b8",
   "metadata": {
    "cell_id": "00059-d742e4b4-ce63-4b91-a1e0-23e24259ab5d",
    "deepnote_cell_type": "code"
   },
   "outputs": [],
   "source": []
  },
  {
   "cell_type": "markdown",
   "id": "e50c17fb",
   "metadata": {
    "cell_id": "00060-6a90703c-0d42-40e7-b0e3-9f0ee50ce2c1",
    "deepnote_cell_type": "markdown"
   },
   "source": [
    "Does the flipper length vary with body mass, when species and sex are taken into account (i.e. if I feed my pet penguin more, will its flippers get longer)?"
   ]
  },
  {
   "cell_type": "code",
   "execution_count": null,
   "id": "a153bc2b",
   "metadata": {
    "cell_id": "00061-27fb1148-c895-4186-baee-8c72ac6656bc",
    "deepnote_cell_type": "code"
   },
   "outputs": [],
   "source": []
  },
  {
   "cell_type": "markdown",
   "id": "ce5d8d78",
   "metadata": {
    "cell_id": "00062-db10a9da-978f-4eb3-96a4-16114c8b8747",
    "deepnote_cell_type": "markdown"
   },
   "source": [
    "Does the flipper length vary with body mass, when species and sex are taken into account (i.e. if I feed my pet penguin more, will its flippers get longer)?"
   ]
  },
  {
   "cell_type": "code",
   "execution_count": null,
   "id": "458062fd",
   "metadata": {
    "cell_id": "00063-cff874ba-1e24-4e3c-a3f3-5bdcd502a956",
    "deepnote_cell_type": "code"
   },
   "outputs": [],
   "source": []
  },
  {
   "cell_type": "markdown",
   "id": "f8ff665c",
   "metadata": {
    "created_in_deepnote_cell": true,
    "deepnote_cell_type": "markdown",
    "tags": []
   },
   "source": [
    "<a style='text-decoration:none;line-height:16px;display:flex;color:#5B5B62;padding:10px;justify-content:end;' href='https://deepnote.com?utm_source=created-in-deepnote-cell&projectId=61a4b91b-9261-42f0-a4f5-a139c5d33a06' target=\"_blank\">\n",
    "<img alt='Created in deepnote.com' style='display:inline;max-height:16px;margin:0px;margin-right:7.5px;' src='data:image/svg+xml;base64,PD94bWwgdmVyc2lvbj0iMS4wIiBlbmNvZGluZz0iVVRGLTgiPz4KPHN2ZyB3aWR0aD0iODBweCIgaGVpZ2h0PSI4MHB4IiB2aWV3Qm94PSIwIDAgODAgODAiIHZlcnNpb249IjEuMSIgeG1sbnM9Imh0dHA6Ly93d3cudzMub3JnLzIwMDAvc3ZnIiB4bWxuczp4bGluaz0iaHR0cDovL3d3dy53My5vcmcvMTk5OS94bGluayI+CiAgICA8IS0tIEdlbmVyYXRvcjogU2tldGNoIDU0LjEgKDc2NDkwKSAtIGh0dHBzOi8vc2tldGNoYXBwLmNvbSAtLT4KICAgIDx0aXRsZT5Hcm91cCAzPC90aXRsZT4KICAgIDxkZXNjPkNyZWF0ZWQgd2l0aCBTa2V0Y2guPC9kZXNjPgogICAgPGcgaWQ9IkxhbmRpbmciIHN0cm9rZT0ibm9uZSIgc3Ryb2tlLXdpZHRoPSIxIiBmaWxsPSJub25lIiBmaWxsLXJ1bGU9ImV2ZW5vZGQiPgogICAgICAgIDxnIGlkPSJBcnRib2FyZCIgdHJhbnNmb3JtPSJ0cmFuc2xhdGUoLTEyMzUuMDAwMDAwLCAtNzkuMDAwMDAwKSI+CiAgICAgICAgICAgIDxnIGlkPSJHcm91cC0zIiB0cmFuc2Zvcm09InRyYW5zbGF0ZSgxMjM1LjAwMDAwMCwgNzkuMDAwMDAwKSI+CiAgICAgICAgICAgICAgICA8cG9seWdvbiBpZD0iUGF0aC0yMCIgZmlsbD0iIzAyNjVCNCIgcG9pbnRzPSIyLjM3NjIzNzYyIDgwIDM4LjA0NzY2NjcgODAgNTcuODIxNzgyMiA3My44MDU3NTkyIDU3LjgyMTc4MjIgMzIuNzU5MjczOSAzOS4xNDAyMjc4IDMxLjY4MzE2ODMiPjwvcG9seWdvbj4KICAgICAgICAgICAgICAgIDxwYXRoIGQ9Ik0zNS4wMDc3MTgsODAgQzQyLjkwNjIwMDcsNzYuNDU0OTM1OCA0Ny41NjQ5MTY3LDcxLjU0MjI2NzEgNDguOTgzODY2LDY1LjI2MTk5MzkgQzUxLjExMjI4OTksNTUuODQxNTg0MiA0MS42NzcxNzk1LDQ5LjIxMjIyODQgMjUuNjIzOTg0Niw0OS4yMTIyMjg0IEMyNS40ODQ5Mjg5LDQ5LjEyNjg0NDggMjkuODI2MTI5Niw0My4yODM4MjQ4IDM4LjY0NzU4NjksMzEuNjgzMTY4MyBMNzIuODcxMjg3MSwzMi41NTQ0MjUgTDY1LjI4MDk3Myw2Ny42NzYzNDIxIEw1MS4xMTIyODk5LDc3LjM3NjE0NCBMMzUuMDA3NzE4LDgwIFoiIGlkPSJQYXRoLTIyIiBmaWxsPSIjMDAyODY4Ij48L3BhdGg+CiAgICAgICAgICAgICAgICA8cGF0aCBkPSJNMCwzNy43MzA0NDA1IEwyNy4xMTQ1MzcsMC4yNTcxMTE0MzYgQzYyLjM3MTUxMjMsLTEuOTkwNzE3MDEgODAsMTAuNTAwMzkyNyA4MCwzNy43MzA0NDA1IEM4MCw2NC45NjA0ODgyIDY0Ljc3NjUwMzgsNzkuMDUwMzQxNCAzNC4zMjk1MTEzLDgwIEM0Ny4wNTUzNDg5LDc3LjU2NzA4MDggNTMuNDE4MjY3Nyw3MC4zMTM2MTAzIDUzLjQxODI2NzcsNTguMjM5NTg4NSBDNTMuNDE4MjY3Nyw0MC4xMjg1NTU3IDM2LjMwMzk1NDQsMzcuNzMwNDQwNSAyNS4yMjc0MTcsMzcuNzMwNDQwNSBDMTcuODQzMDU4NiwzNy43MzA0NDA1IDkuNDMzOTE5NjYsMzcuNzMwNDQwNSAwLDM3LjczMDQ0MDUgWiIgaWQ9IlBhdGgtMTkiIGZpbGw9IiMzNzkzRUYiPjwvcGF0aD4KICAgICAgICAgICAgPC9nPgogICAgICAgIDwvZz4KICAgIDwvZz4KPC9zdmc+' > </img>\n",
    "Created in <span style='font-weight:600;margin-left:4px;'>Deepnote</span></a>"
   ]
  }
 ],
 "metadata": {
  "deepnote": {},
  "deepnote_execution_queue": [],
  "deepnote_notebook_id": "d6b1d0ce-c1c2-4c21-a846-90ec3f67ae0b",
  "kernelspec": {
   "display_name": "Python 3.10.4 ('py10')",
   "language": "python",
   "name": "python3"
  },
  "language_info": {
   "codemirror_mode": {
    "name": "ipython",
    "version": 3
   },
   "file_extension": ".py",
   "mimetype": "text/x-python",
   "name": "python",
   "nbconvert_exporter": "python",
   "pygments_lexer": "ipython3",
   "version": "3.10.4"
  },
  "vscode": {
   "interpreter": {
    "hash": "d6852d01271bf8033dbdb7ec364b6f6e89fd52a18c6bf5b4c73e48c86329a8dd"
   }
  }
 },
 "nbformat": 4,
 "nbformat_minor": 5
}
