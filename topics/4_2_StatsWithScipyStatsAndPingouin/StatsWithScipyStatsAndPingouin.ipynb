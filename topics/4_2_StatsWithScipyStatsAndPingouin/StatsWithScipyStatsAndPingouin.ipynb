{
 "cells": [
  {
   "cell_type": "markdown",
   "metadata": {
    "cell_id": "00003-44f1e943-1946-4d75-ad48-00950d13809a",
    "deepnote_cell_type": "markdown",
    "id": "athletic-conditioning"
   },
   "source": [
    "# Doing Statistics on Data with the Scipy.Stats and Pingouin Packages\n",
    "\n",
    "**Scipy.Stats** has all the stats functions you know and love from stats class!\n",
    "\n",
    "**Pingouin** is a new statistics package in Python that uses pandas, seaborn, and scipy-stats!  It's main benefit? It's really easy to use and it works great with DataFrames!\n",
    "\n",
    "https://pingouin-stats.org/index.html\n",
    "\n"
   ]
  },
  {
   "cell_type": "markdown",
   "metadata": {
    "cell_id": "00005-d692b372-f777-4813-9513-6dacdf9d09fc",
    "deepnote_cell_type": "markdown",
    "tags": []
   },
   "source": [
    "## Basic Stats with Pengouin and Scipy-Stats"
   ]
  },
  {
   "cell_type": "markdown",
   "metadata": {
    "cell_id": "00006-7ecfd47a-9742-49cd-ab32-67732ccc818b",
    "deepnote_cell_type": "markdown",
    "tags": []
   },
   "source": [
    "### T-Tests\n",
    "\n",
    "T-tests compare the means of two samples of data generated from a normally-distributed population and compute the probability that they have the same mean. Both packages have functions for t-tests! \n",
    "\n",
    "\n",
    "| Test, | `scipy.stats` Function, | `pengouin` Function |\n",
    "| :---: | :---: | :---: |\n",
    "| One-Sampled T-Test | `stats.ttest_1samp(x, 0)` | `pg.ttest(x, 0)` |\n",
    "| Independent T-Test | `stats.ttest_ind(x, y)` | `pg.ttest(x,y)` |\n",
    "| Paired T-test | `stats.ttest_rel(x, y)` | `pg.ttest(x, y, paired=True)`\n",
    "| Pairwise T-tests |   | `pg.pairwise_ttests(padjust='fdr_bh')`\n"
   ]
  },
  {
   "cell_type": "code",
   "execution_count": 35,
   "metadata": {
    "cell_id": "00007-c41041df-aa03-4b5f-808e-68b79b41952b",
    "deepnote_cell_type": "code",
    "deepnote_to_be_reexecuted": false,
    "execution_millis": 4,
    "execution_start": 1636618509664,
    "source_hash": "fb7cc69d",
    "tags": []
   },
   "outputs": [],
   "source": [
    "import numpy as np\n",
    "import pandas as pd\n",
    "from scipy import stats\n",
    "import pingouin as pg"
   ]
  },
  {
   "cell_type": "markdown",
   "metadata": {
    "cell_id": "00007-cd4f75ec-03f0-4143-a914-e14ba3feff58",
    "deepnote_cell_type": "markdown",
    "tags": []
   },
   "source": [
    "**Exercises** Using **both* packages, let's do some analysis on some fake data"
   ]
  },
  {
   "cell_type": "markdown",
   "metadata": {
    "cell_id": "00005-d9203f16-7bbf-45ba-88e1-ad09099e7f62",
    "deepnote_cell_type": "markdown",
    "deepnote_to_be_reexecuted": false,
    "execution_millis": 42,
    "execution_start": 1636618898586,
    "source_hash": "8ddf4792",
    "tags": []
   },
   "source": [
    "Generate the Data: Run the code below to create the dataset `df`."
   ]
  },
  {
   "cell_type": "code",
   "execution_count": 10,
   "metadata": {
    "cell_id": "00005-3bfe7d22-ac1b-4281-8239-9840b84be665",
    "deepnote_cell_type": "code",
    "deepnote_to_be_reexecuted": false,
    "execution_millis": 157,
    "execution_start": 1636618872868,
    "source_hash": "30d6b9bd",
    "tags": []
   },
   "outputs": [
    {
     "data": {
      "text/html": [
       "<div>\n",
       "<style scoped>\n",
       "    .dataframe tbody tr th:only-of-type {\n",
       "        vertical-align: middle;\n",
       "    }\n",
       "\n",
       "    .dataframe tbody tr th {\n",
       "        vertical-align: top;\n",
       "    }\n",
       "\n",
       "    .dataframe thead th {\n",
       "        text-align: right;\n",
       "    }\n",
       "</style>\n",
       "<table border=\"1\" class=\"dataframe\">\n",
       "  <thead>\n",
       "    <tr style=\"text-align: right;\">\n",
       "      <th></th>\n",
       "      <th>A</th>\n",
       "      <th>B</th>\n",
       "      <th>C</th>\n",
       "      <th>D</th>\n",
       "    </tr>\n",
       "  </thead>\n",
       "  <tbody>\n",
       "    <tr>\n",
       "      <th>0</th>\n",
       "      <td>0.496714</td>\n",
       "      <td>1.465649</td>\n",
       "      <td>1.238467</td>\n",
       "      <td>-0.090573</td>\n",
       "    </tr>\n",
       "    <tr>\n",
       "      <th>1</th>\n",
       "      <td>-0.138264</td>\n",
       "      <td>-0.225776</td>\n",
       "      <td>0.671368</td>\n",
       "      <td>-0.134309</td>\n",
       "    </tr>\n",
       "    <tr>\n",
       "      <th>2</th>\n",
       "      <td>0.647689</td>\n",
       "      <td>0.067528</td>\n",
       "      <td>0.384352</td>\n",
       "      <td>-0.358861</td>\n",
       "    </tr>\n",
       "    <tr>\n",
       "      <th>3</th>\n",
       "      <td>1.523030</td>\n",
       "      <td>-1.424748</td>\n",
       "      <td>0.198896</td>\n",
       "      <td>-0.141194</td>\n",
       "    </tr>\n",
       "    <tr>\n",
       "      <th>4</th>\n",
       "      <td>-0.234153</td>\n",
       "      <td>-0.544383</td>\n",
       "      <td>-0.978522</td>\n",
       "      <td>0.336017</td>\n",
       "    </tr>\n",
       "  </tbody>\n",
       "</table>\n",
       "</div>"
      ],
      "text/plain": [
       "          A         B         C         D\n",
       "0  0.496714  1.465649  1.238467 -0.090573\n",
       "1 -0.138264 -0.225776  0.671368 -0.134309\n",
       "2  0.647689  0.067528  0.384352 -0.358861\n",
       "3  1.523030 -1.424748  0.198896 -0.141194\n",
       "4 -0.234153 -0.544383 -0.978522  0.336017"
      ]
     },
     "execution_count": 10,
     "metadata": {},
     "output_type": "execute_result"
    }
   ],
   "source": [
    "np.random.seed(42)  # Makes sure we all have the same random numbers\n",
    "df = pd.DataFrame()\n",
    "df['A'] = np.random.normal(0, 1, size=20)\n",
    "df['B'] = np.random.normal(0, 1, size=20)\n",
    "df['C'] = np.random.normal(0.5, 1, size=20)\n",
    "df['D'] = df['A'] * 0.3 + np.random.normal(0, 0.5, size=20)\n",
    "df.head()"
   ]
  },
  {
   "cell_type": "markdown",
   "metadata": {
    "cell_id": "00008-9788637e-733d-47af-ade1-6b7d088bfd5c",
    "deepnote_cell_type": "markdown",
    "tags": []
   },
   "source": [
    "Analyze the Data with Pairwise Tests\n",
    "\n",
    "**(first do the questions in a section with scipy stats, then do the section with penguoin before moving on to the next section)**. "
   ]
  },
  {
   "cell_type": "markdown",
   "id": "2818f8db",
   "metadata": {},
   "source": [
    "**A vs 0, One-Sampled T-Test**: Is the mean of the normally-distributed population that the the dataset A is generated from unlikely to be zero?"
   ]
  },
  {
   "cell_type": "markdown",
   "id": "32ba344d",
   "metadata": {},
   "source": [
    "**Example**: with `scipy.stats`:"
   ]
  },
  {
   "cell_type": "code",
   "execution_count": 14,
   "id": "38d8a523",
   "metadata": {},
   "outputs": [
    {
     "data": {
      "text/plain": [
       "Ttest_1sampResult(statistic=-0.797966433655592, pvalue=0.43475058842710046)"
      ]
     },
     "execution_count": 14,
     "metadata": {},
     "output_type": "execute_result"
    }
   ],
   "source": [
    "stats.ttest_1samp(df['A'], 0)"
   ]
  },
  {
   "cell_type": "markdown",
   "id": "b0d1ea57",
   "metadata": {},
   "source": [
    "**Example:** with `pingouin`:"
   ]
  },
  {
   "cell_type": "code",
   "execution_count": 15,
   "id": "da2e7630",
   "metadata": {},
   "outputs": [
    {
     "data": {
      "text/html": [
       "<div>\n",
       "<style scoped>\n",
       "    .dataframe tbody tr th:only-of-type {\n",
       "        vertical-align: middle;\n",
       "    }\n",
       "\n",
       "    .dataframe tbody tr th {\n",
       "        vertical-align: top;\n",
       "    }\n",
       "\n",
       "    .dataframe thead th {\n",
       "        text-align: right;\n",
       "    }\n",
       "</style>\n",
       "<table border=\"1\" class=\"dataframe\">\n",
       "  <thead>\n",
       "    <tr style=\"text-align: right;\">\n",
       "      <th></th>\n",
       "      <th>T</th>\n",
       "      <th>dof</th>\n",
       "      <th>alternative</th>\n",
       "      <th>p-val</th>\n",
       "      <th>CI95%</th>\n",
       "      <th>cohen-d</th>\n",
       "      <th>BF10</th>\n",
       "      <th>power</th>\n",
       "    </tr>\n",
       "  </thead>\n",
       "  <tbody>\n",
       "    <tr>\n",
       "      <th>T-test</th>\n",
       "      <td>-0.797966</td>\n",
       "      <td>19</td>\n",
       "      <td>two-sided</td>\n",
       "      <td>0.434751</td>\n",
       "      <td>[-0.62, 0.28]</td>\n",
       "      <td>0.178431</td>\n",
       "      <td>0.309</td>\n",
       "      <td>0.118021</td>\n",
       "    </tr>\n",
       "  </tbody>\n",
       "</table>\n",
       "</div>"
      ],
      "text/plain": [
       "               T  dof alternative     p-val          CI95%   cohen-d   BF10  \\\n",
       "T-test -0.797966   19   two-sided  0.434751  [-0.62, 0.28]  0.178431  0.309   \n",
       "\n",
       "           power  \n",
       "T-test  0.118021  "
      ]
     },
     "execution_count": 15,
     "metadata": {},
     "output_type": "execute_result"
    }
   ],
   "source": [
    "pg.ttest(df['A'], 0)"
   ]
  },
  {
   "cell_type": "markdown",
   "id": "1834ea70",
   "metadata": {},
   "source": [
    "**B vs 1, One-Sampled T-Test**: Is the mean of the normally-distributed population that the the dataset B is generated from unlikely to be one?"
   ]
  },
  {
   "cell_type": "markdown",
   "id": "ccf720b7",
   "metadata": {},
   "source": [
    "with `scipy.stats`:"
   ]
  },
  {
   "cell_type": "code",
   "execution_count": 16,
   "id": "dba8de00",
   "metadata": {},
   "outputs": [
    {
     "data": {
      "text/plain": [
       "Ttest_1sampResult(statistic=-5.848539710012047, pvalue=1.2401934925939586e-05)"
      ]
     },
     "execution_count": 16,
     "metadata": {},
     "output_type": "execute_result"
    }
   ],
   "source": [
    "stats.ttest_1samp(df['B'], 1)"
   ]
  },
  {
   "cell_type": "markdown",
   "id": "61ef0570",
   "metadata": {},
   "source": [
    "with `pingouin`:"
   ]
  },
  {
   "cell_type": "code",
   "execution_count": 17,
   "id": "4eb87cc8",
   "metadata": {},
   "outputs": [
    {
     "data": {
      "text/html": [
       "<div>\n",
       "<style scoped>\n",
       "    .dataframe tbody tr th:only-of-type {\n",
       "        vertical-align: middle;\n",
       "    }\n",
       "\n",
       "    .dataframe tbody tr th {\n",
       "        vertical-align: top;\n",
       "    }\n",
       "\n",
       "    .dataframe thead th {\n",
       "        text-align: right;\n",
       "    }\n",
       "</style>\n",
       "<table border=\"1\" class=\"dataframe\">\n",
       "  <thead>\n",
       "    <tr style=\"text-align: right;\">\n",
       "      <th></th>\n",
       "      <th>T</th>\n",
       "      <th>dof</th>\n",
       "      <th>alternative</th>\n",
       "      <th>p-val</th>\n",
       "      <th>CI95%</th>\n",
       "      <th>cohen-d</th>\n",
       "      <th>BF10</th>\n",
       "      <th>power</th>\n",
       "    </tr>\n",
       "  </thead>\n",
       "  <tbody>\n",
       "    <tr>\n",
       "      <th>T-test</th>\n",
       "      <td>-5.84854</td>\n",
       "      <td>19</td>\n",
       "      <td>two-sided</td>\n",
       "      <td>0.000012</td>\n",
       "      <td>[-0.72, 0.19]</td>\n",
       "      <td>1.307773</td>\n",
       "      <td>1812.832</td>\n",
       "      <td>0.999824</td>\n",
       "    </tr>\n",
       "  </tbody>\n",
       "</table>\n",
       "</div>"
      ],
      "text/plain": [
       "              T  dof alternative     p-val          CI95%   cohen-d      BF10  \\\n",
       "T-test -5.84854   19   two-sided  0.000012  [-0.72, 0.19]  1.307773  1812.832   \n",
       "\n",
       "           power  \n",
       "T-test  0.999824  "
      ]
     },
     "execution_count": 17,
     "metadata": {},
     "output_type": "execute_result"
    }
   ],
   "source": [
    "pg.ttest(df['B'], 1)"
   ]
  },
  {
   "cell_type": "markdown",
   "id": "67930529",
   "metadata": {},
   "source": [
    "**A vs B, Independent Samples T-Test**: Is the mean of the normally-distributed population that the the dataset `A` is generated from unlikely to be the same as the mean of the normally-distributed population that the the dataset `B` is generated from?"
   ]
  },
  {
   "cell_type": "markdown",
   "id": "288efcf9",
   "metadata": {
    "cell_id": "00009-be297582-bf7a-4931-bf90-cfb3412e9f18",
    "deepnote_cell_type": "code",
    "tags": []
   },
   "source": [
    "with `scipy.stats`:"
   ]
  },
  {
   "cell_type": "code",
   "execution_count": 19,
   "metadata": {
    "cell_id": "00010-a8f4e43c-d3f9-4e70-abb6-f549c9c520f1",
    "deepnote_cell_type": "code",
    "tags": []
   },
   "outputs": [
    {
     "data": {
      "text/plain": [
       "Ttest_indResult(statistic=0.31056072990949674, pvalue=0.757831664080289)"
      ]
     },
     "execution_count": 19,
     "metadata": {},
     "output_type": "execute_result"
    }
   ],
   "source": [
    "stats.ttest_ind(df['A'], df['B'])"
   ]
  },
  {
   "cell_type": "markdown",
   "id": "2e43caea",
   "metadata": {},
   "source": [
    "with `pingouin`:"
   ]
  },
  {
   "cell_type": "code",
   "execution_count": 20,
   "id": "e998e123",
   "metadata": {},
   "outputs": [
    {
     "data": {
      "text/html": [
       "<div>\n",
       "<style scoped>\n",
       "    .dataframe tbody tr th:only-of-type {\n",
       "        vertical-align: middle;\n",
       "    }\n",
       "\n",
       "    .dataframe tbody tr th {\n",
       "        vertical-align: top;\n",
       "    }\n",
       "\n",
       "    .dataframe thead th {\n",
       "        text-align: right;\n",
       "    }\n",
       "</style>\n",
       "<table border=\"1\" class=\"dataframe\">\n",
       "  <thead>\n",
       "    <tr style=\"text-align: right;\">\n",
       "      <th></th>\n",
       "      <th>T</th>\n",
       "      <th>dof</th>\n",
       "      <th>alternative</th>\n",
       "      <th>p-val</th>\n",
       "      <th>CI95%</th>\n",
       "      <th>cohen-d</th>\n",
       "      <th>BF10</th>\n",
       "      <th>power</th>\n",
       "    </tr>\n",
       "  </thead>\n",
       "  <tbody>\n",
       "    <tr>\n",
       "      <th>T-test</th>\n",
       "      <td>0.310561</td>\n",
       "      <td>38</td>\n",
       "      <td>two-sided</td>\n",
       "      <td>0.757832</td>\n",
       "      <td>[-0.52, 0.71]</td>\n",
       "      <td>0.098208</td>\n",
       "      <td>0.321</td>\n",
       "      <td>0.060568</td>\n",
       "    </tr>\n",
       "  </tbody>\n",
       "</table>\n",
       "</div>"
      ],
      "text/plain": [
       "               T  dof alternative     p-val          CI95%   cohen-d   BF10  \\\n",
       "T-test  0.310561   38   two-sided  0.757832  [-0.52, 0.71]  0.098208  0.321   \n",
       "\n",
       "           power  \n",
       "T-test  0.060568  "
      ]
     },
     "execution_count": 20,
     "metadata": {},
     "output_type": "execute_result"
    }
   ],
   "source": [
    "pg.ttest(df.A, df.B)"
   ]
  },
  {
   "cell_type": "markdown",
   "id": "67930529",
   "metadata": {},
   "source": [
    "**A vs C, Independent Samples T-Test**: Is the mean of the normally-distributed population that the the dataset `A` is generated from unlikely to be the same as the mean of the normally-distributed population that the the dataset `C` is generated from?"
   ]
  },
  {
   "cell_type": "markdown",
   "metadata": {
    "cell_id": "00011-d7e194da-4aeb-462a-8d48-78123e48927a",
    "deepnote_cell_type": "markdown",
    "tags": []
   },
   "source": [
    "with `scipy.stats`:"
   ]
  },
  {
   "cell_type": "code",
   "execution_count": 21,
   "metadata": {
    "cell_id": "00012-016e5e09-0b1b-4160-8a49-be6fe6944c0e",
    "deepnote_cell_type": "code",
    "tags": []
   },
   "outputs": [
    {
     "data": {
      "text/plain": [
       "Ttest_indResult(statistic=-2.282284751241357, pvalue=0.028158918415237755)"
      ]
     },
     "execution_count": 21,
     "metadata": {},
     "output_type": "execute_result"
    }
   ],
   "source": [
    "stats.ttest_ind(df.A, df.C)"
   ]
  },
  {
   "cell_type": "markdown",
   "id": "f6429dd8",
   "metadata": {},
   "source": [
    "with `pingouin`:"
   ]
  },
  {
   "cell_type": "code",
   "execution_count": 22,
   "metadata": {
    "cell_id": "00013-7bf57931-725d-490f-86dd-bad0d3481205",
    "deepnote_cell_type": "code",
    "tags": []
   },
   "outputs": [
    {
     "data": {
      "text/html": [
       "<div>\n",
       "<style scoped>\n",
       "    .dataframe tbody tr th:only-of-type {\n",
       "        vertical-align: middle;\n",
       "    }\n",
       "\n",
       "    .dataframe tbody tr th {\n",
       "        vertical-align: top;\n",
       "    }\n",
       "\n",
       "    .dataframe thead th {\n",
       "        text-align: right;\n",
       "    }\n",
       "</style>\n",
       "<table border=\"1\" class=\"dataframe\">\n",
       "  <thead>\n",
       "    <tr style=\"text-align: right;\">\n",
       "      <th></th>\n",
       "      <th>T</th>\n",
       "      <th>dof</th>\n",
       "      <th>alternative</th>\n",
       "      <th>p-val</th>\n",
       "      <th>CI95%</th>\n",
       "      <th>cohen-d</th>\n",
       "      <th>BF10</th>\n",
       "      <th>power</th>\n",
       "    </tr>\n",
       "  </thead>\n",
       "  <tbody>\n",
       "    <tr>\n",
       "      <th>T-test</th>\n",
       "      <td>-2.282285</td>\n",
       "      <td>38</td>\n",
       "      <td>two-sided</td>\n",
       "      <td>0.028159</td>\n",
       "      <td>[-1.22, -0.07]</td>\n",
       "      <td>0.721722</td>\n",
       "      <td>2.28</td>\n",
       "      <td>0.604274</td>\n",
       "    </tr>\n",
       "  </tbody>\n",
       "</table>\n",
       "</div>"
      ],
      "text/plain": [
       "               T  dof alternative     p-val           CI95%   cohen-d  BF10  \\\n",
       "T-test -2.282285   38   two-sided  0.028159  [-1.22, -0.07]  0.721722  2.28   \n",
       "\n",
       "           power  \n",
       "T-test  0.604274  "
      ]
     },
     "execution_count": 22,
     "metadata": {},
     "output_type": "execute_result"
    }
   ],
   "source": [
    "pg.ttest(df.A, df.C)"
   ]
  },
  {
   "cell_type": "markdown",
   "metadata": {
    "cell_id": "00014-1acad45d-9edc-4327-9d4a-a75100f221a6",
    "deepnote_cell_type": "markdown",
    "tags": []
   },
   "source": [
    "**A vs C, Paired Samples T-Test**: Is the mean of the differences between each pair of samples in generated from the two normally-distributed populations `A` and `C`  unlikely to be 0?"
   ]
  },
  {
   "cell_type": "markdown",
   "id": "0f236104",
   "metadata": {
    "cell_id": "00015-54668bdf-7e57-4f4e-8612-131d4565f54d",
    "deepnote_cell_type": "code",
    "tags": []
   },
   "source": [
    "with `scipy.stats`:"
   ]
  },
  {
   "cell_type": "code",
   "execution_count": 23,
   "metadata": {
    "cell_id": "00016-6a05d799-a83b-41f3-a512-49483da423bf",
    "deepnote_cell_type": "code",
    "tags": []
   },
   "outputs": [
    {
     "data": {
      "text/plain": [
       "Ttest_relResult(statistic=-1.962887803520587, pvalue=0.06446923770352178)"
      ]
     },
     "execution_count": 23,
     "metadata": {},
     "output_type": "execute_result"
    }
   ],
   "source": [
    "stats.ttest_rel(df.A, df.C)"
   ]
  },
  {
   "cell_type": "markdown",
   "id": "d0dc1057",
   "metadata": {},
   "source": [
    "with `pingouin`:"
   ]
  },
  {
   "cell_type": "code",
   "execution_count": 24,
   "id": "62a86b72",
   "metadata": {},
   "outputs": [
    {
     "data": {
      "text/html": [
       "<div>\n",
       "<style scoped>\n",
       "    .dataframe tbody tr th:only-of-type {\n",
       "        vertical-align: middle;\n",
       "    }\n",
       "\n",
       "    .dataframe tbody tr th {\n",
       "        vertical-align: top;\n",
       "    }\n",
       "\n",
       "    .dataframe thead th {\n",
       "        text-align: right;\n",
       "    }\n",
       "</style>\n",
       "<table border=\"1\" class=\"dataframe\">\n",
       "  <thead>\n",
       "    <tr style=\"text-align: right;\">\n",
       "      <th></th>\n",
       "      <th>T</th>\n",
       "      <th>dof</th>\n",
       "      <th>alternative</th>\n",
       "      <th>p-val</th>\n",
       "      <th>CI95%</th>\n",
       "      <th>cohen-d</th>\n",
       "      <th>BF10</th>\n",
       "      <th>power</th>\n",
       "    </tr>\n",
       "  </thead>\n",
       "  <tbody>\n",
       "    <tr>\n",
       "      <th>T-test</th>\n",
       "      <td>-1.962888</td>\n",
       "      <td>19</td>\n",
       "      <td>two-sided</td>\n",
       "      <td>0.064469</td>\n",
       "      <td>[-1.33, 0.04]</td>\n",
       "      <td>0.721722</td>\n",
       "      <td>1.141</td>\n",
       "      <td>0.864518</td>\n",
       "    </tr>\n",
       "  </tbody>\n",
       "</table>\n",
       "</div>"
      ],
      "text/plain": [
       "               T  dof alternative     p-val          CI95%   cohen-d   BF10  \\\n",
       "T-test -1.962888   19   two-sided  0.064469  [-1.33, 0.04]  0.721722  1.141   \n",
       "\n",
       "           power  \n",
       "T-test  0.864518  "
      ]
     },
     "execution_count": 24,
     "metadata": {},
     "output_type": "execute_result"
    }
   ],
   "source": [
    "pg.ttest(df.A, df.C, paired=True)"
   ]
  },
  {
   "cell_type": "markdown",
   "metadata": {
    "cell_id": "00017-72ede8ff-a028-4ad9-af67-d9ee5dd2ec58",
    "deepnote_cell_type": "markdown",
    "tags": []
   },
   "source": [
    "**A vs D, Paired Samples T-Test**: Is the mean of the differences between each pair of samples in generated from the two normally-distributed populations `A` and `D`  unlikely to be 0?"
   ]
  },
  {
   "cell_type": "markdown",
   "id": "54836937",
   "metadata": {},
   "source": [
    "with `scipy.stats`:"
   ]
  },
  {
   "cell_type": "code",
   "execution_count": 32,
   "metadata": {
    "cell_id": "00018-2ab8bfa9-071d-40e5-bc18-c18a90223066",
    "deepnote_cell_type": "code",
    "tags": []
   },
   "outputs": [
    {
     "data": {
      "text/plain": [
       "Ttest_relResult(statistic=-0.5277415478664295, pvalue=0.6037879300093334)"
      ]
     },
     "execution_count": 32,
     "metadata": {},
     "output_type": "execute_result"
    }
   ],
   "source": [
    "stats.ttest_rel(df.A, df.D)"
   ]
  },
  {
   "cell_type": "markdown",
   "id": "d507b6ac",
   "metadata": {},
   "source": [
    "with `pingouin`:"
   ]
  },
  {
   "cell_type": "code",
   "execution_count": 33,
   "metadata": {},
   "outputs": [
    {
     "data": {
      "text/html": [
       "<div>\n",
       "<style scoped>\n",
       "    .dataframe tbody tr th:only-of-type {\n",
       "        vertical-align: middle;\n",
       "    }\n",
       "\n",
       "    .dataframe tbody tr th {\n",
       "        vertical-align: top;\n",
       "    }\n",
       "\n",
       "    .dataframe thead th {\n",
       "        text-align: right;\n",
       "    }\n",
       "</style>\n",
       "<table border=\"1\" class=\"dataframe\">\n",
       "  <thead>\n",
       "    <tr style=\"text-align: right;\">\n",
       "      <th></th>\n",
       "      <th>T</th>\n",
       "      <th>dof</th>\n",
       "      <th>alternative</th>\n",
       "      <th>p-val</th>\n",
       "      <th>CI95%</th>\n",
       "      <th>cohen-d</th>\n",
       "      <th>BF10</th>\n",
       "      <th>power</th>\n",
       "    </tr>\n",
       "  </thead>\n",
       "  <tbody>\n",
       "    <tr>\n",
       "      <th>T-test</th>\n",
       "      <td>-0.527742</td>\n",
       "      <td>19</td>\n",
       "      <td>two-sided</td>\n",
       "      <td>0.603788</td>\n",
       "      <td>[-0.52, 0.31]</td>\n",
       "      <td>0.128979</td>\n",
       "      <td>0.263</td>\n",
       "      <td>0.085076</td>\n",
       "    </tr>\n",
       "  </tbody>\n",
       "</table>\n",
       "</div>"
      ],
      "text/plain": [
       "               T  dof alternative     p-val          CI95%   cohen-d   BF10  \\\n",
       "T-test -0.527742   19   two-sided  0.603788  [-0.52, 0.31]  0.128979  0.263   \n",
       "\n",
       "           power  \n",
       "T-test  0.085076  "
      ]
     },
     "execution_count": 33,
     "metadata": {},
     "output_type": "execute_result"
    }
   ],
   "source": [
    "pg.ttest(df.A, df.D, paired=True)"
   ]
  },
  {
   "cell_type": "markdown",
   "id": "b4a83d4e",
   "metadata": {},
   "source": [
    "The paired ttest is equivalent to a one-sample ttest against 0 for some statistics, but not others.  What values are different?  Compare the results below comparing A and D to the ones you generated above:"
   ]
  },
  {
   "cell_type": "code",
   "execution_count": 31,
   "id": "f530c410",
   "metadata": {},
   "outputs": [
    {
     "data": {
      "text/html": [
       "<div>\n",
       "<style scoped>\n",
       "    .dataframe tbody tr th:only-of-type {\n",
       "        vertical-align: middle;\n",
       "    }\n",
       "\n",
       "    .dataframe tbody tr th {\n",
       "        vertical-align: top;\n",
       "    }\n",
       "\n",
       "    .dataframe thead th {\n",
       "        text-align: right;\n",
       "    }\n",
       "</style>\n",
       "<table border=\"1\" class=\"dataframe\">\n",
       "  <thead>\n",
       "    <tr style=\"text-align: right;\">\n",
       "      <th></th>\n",
       "      <th>T</th>\n",
       "      <th>dof</th>\n",
       "      <th>alternative</th>\n",
       "      <th>p-val</th>\n",
       "      <th>CI95%</th>\n",
       "      <th>cohen-d</th>\n",
       "      <th>BF10</th>\n",
       "      <th>power</th>\n",
       "    </tr>\n",
       "  </thead>\n",
       "  <tbody>\n",
       "    <tr>\n",
       "      <th>T-test</th>\n",
       "      <td>-0.527742</td>\n",
       "      <td>19</td>\n",
       "      <td>two-sided</td>\n",
       "      <td>0.603788</td>\n",
       "      <td>[-0.52, 0.31]</td>\n",
       "      <td>0.118007</td>\n",
       "      <td>0.263</td>\n",
       "      <td>0.079282</td>\n",
       "    </tr>\n",
       "  </tbody>\n",
       "</table>\n",
       "</div>"
      ],
      "text/plain": [
       "               T  dof alternative     p-val          CI95%   cohen-d   BF10  \\\n",
       "T-test -0.527742   19   two-sided  0.603788  [-0.52, 0.31]  0.118007  0.263   \n",
       "\n",
       "           power  \n",
       "T-test  0.079282  "
      ]
     },
     "execution_count": 31,
     "metadata": {},
     "output_type": "execute_result"
    }
   ],
   "source": [
    "pg.ttest(df.A - df.D, 0)"
   ]
  },
  {
   "cell_type": "code",
   "execution_count": null,
   "id": "27dbdd56",
   "metadata": {},
   "outputs": [],
   "source": []
  },
  {
   "cell_type": "code",
   "execution_count": null,
   "metadata": {
    "cell_id": "00019-cab56e89-74b1-4cdd-b0ba-7ef9db4a8932",
    "deepnote_cell_type": "code",
    "tags": []
   },
   "outputs": [],
   "source": []
  },
  {
   "cell_type": "code",
   "execution_count": null,
   "metadata": {
    "cell_id": "00028-21398e22-281e-48a1-9689-311fd3547b60",
    "deepnote_cell_type": "code",
    "tags": []
   },
   "outputs": [],
   "source": []
  },
  {
   "cell_type": "markdown",
   "metadata": {
    "cell_id": "00029-a697ca83-e603-48fa-b8ca-78c3b13eec14",
    "deepnote_cell_type": "markdown",
    "tags": []
   },
   "source": [
    "(extra: Google it!)  Are A and C correlated?"
   ]
  },
  {
   "cell_type": "code",
   "execution_count": null,
   "metadata": {
    "cell_id": "00030-f704e370-0813-42d6-a75e-4e86e7c97cf5",
    "deepnote_cell_type": "code",
    "tags": []
   },
   "outputs": [],
   "source": []
  },
  {
   "cell_type": "code",
   "execution_count": null,
   "metadata": {
    "cell_id": "00031-6c8005f5-293d-43dc-b9fa-b0b240380c45",
    "deepnote_cell_type": "code",
    "tags": []
   },
   "outputs": [],
   "source": []
  },
  {
   "cell_type": "markdown",
   "metadata": {
    "cell_id": "00032-8f8e8c7a-174c-4163-ba63-7ab3ba9cd228",
    "deepnote_cell_type": "markdown",
    "tags": []
   },
   "source": [
    "(extra: Google it!) Are A and D correlated?"
   ]
  },
  {
   "cell_type": "code",
   "execution_count": null,
   "metadata": {
    "cell_id": "00033-224af622-a666-4c19-b20f-bf62205cb9ff",
    "deepnote_cell_type": "code",
    "tags": []
   },
   "outputs": [],
   "source": []
  },
  {
   "cell_type": "code",
   "execution_count": null,
   "metadata": {
    "cell_id": "00034-807f6043-435b-45ca-9e19-38adab0803c6",
    "deepnote_cell_type": "code",
    "tags": []
   },
   "outputs": [],
   "source": []
  },
  {
   "cell_type": "markdown",
   "metadata": {
    "cell_id": "00029-15fce046-0e5d-465f-9234-a7da90b0356f",
    "deepnote_cell_type": "markdown",
    "tags": []
   },
   "source": [
    "## More-Complete Analysis: Walking the Frequentist Statistics Decision Tree"
   ]
  },
  {
   "cell_type": "markdown",
   "metadata": {
    "cell_id": "00004-28730072-ac22-43cc-8e90-797287da0ec9",
    "deepnote_cell_type": "markdown",
    "id": "wooden-morocco"
   },
   "source": [
    "### Fertility Dataset"
   ]
  },
  {
   "cell_type": "markdown",
   "metadata": {
    "cell_id": "00005-a72210a0-51bf-4a8b-9f2a-e075796acba2",
    "deepnote_cell_type": "markdown",
    "id": "moved-communication"
   },
   "source": [
    "### Load the Data"
   ]
  },
  {
   "cell_type": "code",
   "execution_count": null,
   "metadata": {
    "cell_id": "00006-b673f191-887c-452d-80b3-572d532bb419",
    "deepnote_cell_type": "code",
    "deepnote_to_be_reexecuted": false,
    "execution_millis": 545,
    "execution_start": 1636617758898,
    "id": "bridal-jaguar",
    "outputId": "102e020d-5564-4d29-eeba-d0b5f3d8ae74",
    "source_hash": "875e09f3"
   },
   "outputs": [
    {
     "data": {
      "application/vnd.deepnote.dataframe.v2+json": {
       "column_count": 58,
       "columns": [
        {
         "dtype": "object",
         "name": "Country Name",
         "stats": {
          "categories": [
           {
            "count": 1,
            "name": "Aruba"
           },
           {
            "count": 1,
            "name": "Andorra"
           },
           {
            "count": 1,
            "name": "Afghanistan"
           }
          ],
          "nan_count": 0,
          "unique_count": 3
         }
        },
        {
         "dtype": "object",
         "name": "Country Code",
         "stats": {
          "categories": [
           {
            "count": 1,
            "name": "ABW"
           },
           {
            "count": 1,
            "name": "AND"
           },
           {
            "count": 1,
            "name": "AFG"
           }
          ],
          "nan_count": 0,
          "unique_count": 3
         }
        },
        {
         "dtype": "object",
         "name": "Indicator Name",
         "stats": {
          "categories": [
           {
            "count": 3,
            "name": "Fertility rate, total (births per woman)"
           }
          ],
          "nan_count": 0,
          "unique_count": 1
         }
        },
        {
         "dtype": "object",
         "name": "Indicator Code",
         "stats": {
          "categories": [
           {
            "count": 3,
            "name": "SP.DYN.TFRT.IN"
           }
          ],
          "nan_count": 0,
          "unique_count": 1
         }
        },
        {
         "dtype": "float64",
         "name": "1960",
         "stats": {
          "histogram": [
           {
            "bin_end": 5.1051,
            "bin_start": 4.82,
            "count": 1
           },
           {
            "bin_end": 5.3902,
            "bin_start": 5.1051,
            "count": 0
           },
           {
            "bin_end": 5.6753,
            "bin_start": 5.3902,
            "count": 0
           },
           {
            "bin_end": 5.9604,
            "bin_start": 5.6753,
            "count": 0
           },
           {
            "bin_end": 6.2455,
            "bin_start": 5.9604,
            "count": 0
           },
           {
            "bin_end": 6.530600000000001,
            "bin_start": 6.2455,
            "count": 0
           },
           {
            "bin_end": 6.8157000000000005,
            "bin_start": 6.530600000000001,
            "count": 0
           },
           {
            "bin_end": 7.1008000000000004,
            "bin_start": 6.8157000000000005,
            "count": 0
           },
           {
            "bin_end": 7.3859,
            "bin_start": 7.1008000000000004,
            "count": 0
           },
           {
            "bin_end": 7.671,
            "bin_start": 7.3859,
            "count": 1
           }
          ],
          "max": "7.671",
          "min": "4.82",
          "nan_count": 1,
          "unique_count": 2
         }
        },
        {
         "dtype": "float64",
         "name": "1961",
         "stats": {
          "histogram": [
           {
            "bin_end": 4.9566,
            "bin_start": 4.655,
            "count": 1
           },
           {
            "bin_end": 5.2582,
            "bin_start": 4.9566,
            "count": 0
           },
           {
            "bin_end": 5.5598,
            "bin_start": 5.2582,
            "count": 0
           },
           {
            "bin_end": 5.8614,
            "bin_start": 5.5598,
            "count": 0
           },
           {
            "bin_end": 6.163,
            "bin_start": 5.8614,
            "count": 0
           },
           {
            "bin_end": 6.4646,
            "bin_start": 6.163,
            "count": 0
           },
           {
            "bin_end": 6.7661999999999995,
            "bin_start": 6.4646,
            "count": 0
           },
           {
            "bin_end": 7.0678,
            "bin_start": 6.7661999999999995,
            "count": 0
           },
           {
            "bin_end": 7.369400000000001,
            "bin_start": 7.0678,
            "count": 0
           },
           {
            "bin_end": 7.671,
            "bin_start": 7.369400000000001,
            "count": 1
           }
          ],
          "max": "7.671",
          "min": "4.655",
          "nan_count": 1,
          "unique_count": 2
         }
        },
        {
         "dtype": "float64",
         "name": "1962",
         "stats": {
          "histogram": [
           {
            "bin_end": 4.791,
            "bin_start": 4.471,
            "count": 1
           },
           {
            "bin_end": 5.111,
            "bin_start": 4.791,
            "count": 0
           },
           {
            "bin_end": 5.431,
            "bin_start": 5.111,
            "count": 0
           },
           {
            "bin_end": 5.751,
            "bin_start": 5.431,
            "count": 0
           },
           {
            "bin_end": 6.071,
            "bin_start": 5.751,
            "count": 0
           },
           {
            "bin_end": 6.391,
            "bin_start": 6.071,
            "count": 0
           },
           {
            "bin_end": 6.711,
            "bin_start": 6.391,
            "count": 0
           },
           {
            "bin_end": 7.031000000000001,
            "bin_start": 6.711,
            "count": 0
           },
           {
            "bin_end": 7.351,
            "bin_start": 7.031000000000001,
            "count": 0
           },
           {
            "bin_end": 7.671,
            "bin_start": 7.351,
            "count": 1
           }
          ],
          "max": "7.671",
          "min": "4.471",
          "nan_count": 1,
          "unique_count": 2
         }
        },
        {
         "dtype": "float64",
         "name": "1963",
         "stats": {
          "histogram": [
           {
            "bin_end": 4.611,
            "bin_start": 4.271,
            "count": 1
           },
           {
            "bin_end": 4.951,
            "bin_start": 4.611,
            "count": 0
           },
           {
            "bin_end": 5.291,
            "bin_start": 4.951,
            "count": 0
           },
           {
            "bin_end": 5.631,
            "bin_start": 5.291,
            "count": 0
           },
           {
            "bin_end": 5.971,
            "bin_start": 5.631,
            "count": 0
           },
           {
            "bin_end": 6.311,
            "bin_start": 5.971,
            "count": 0
           },
           {
            "bin_end": 6.651,
            "bin_start": 6.311,
            "count": 0
           },
           {
            "bin_end": 6.991,
            "bin_start": 6.651,
            "count": 0
           },
           {
            "bin_end": 7.3309999999999995,
            "bin_start": 6.991,
            "count": 0
           },
           {
            "bin_end": 7.671,
            "bin_start": 7.3309999999999995,
            "count": 1
           }
          ],
          "max": "7.671",
          "min": "4.271",
          "nan_count": 1,
          "unique_count": 2
         }
        },
        {
         "dtype": "float64",
         "name": "1964",
         "stats": {
          "histogram": [
           {
            "bin_end": 4.4202,
            "bin_start": 4.059,
            "count": 1
           },
           {
            "bin_end": 4.7814000000000005,
            "bin_start": 4.4202,
            "count": 0
           },
           {
            "bin_end": 5.1426,
            "bin_start": 4.7814000000000005,
            "count": 0
           },
           {
            "bin_end": 5.5038,
            "bin_start": 5.1426,
            "count": 0
           },
           {
            "bin_end": 5.865,
            "bin_start": 5.5038,
            "count": 0
           },
           {
            "bin_end": 6.2262,
            "bin_start": 5.865,
            "count": 0
           },
           {
            "bin_end": 6.587400000000001,
            "bin_start": 6.2262,
            "count": 0
           },
           {
            "bin_end": 6.948600000000001,
            "bin_start": 6.587400000000001,
            "count": 0
           },
           {
            "bin_end": 7.309800000000001,
            "bin_start": 6.948600000000001,
            "count": 0
           },
           {
            "bin_end": 7.671,
            "bin_start": 7.309800000000001,
            "count": 1
           }
          ],
          "max": "7.671",
          "min": "4.059",
          "nan_count": 1,
          "unique_count": 2
         }
        },
        {
         "dtype": "float64",
         "name": "1965",
         "stats": {
          "histogram": [
           {
            "bin_end": 4.2249,
            "bin_start": 3.842,
            "count": 1
           },
           {
            "bin_end": 4.6078,
            "bin_start": 4.2249,
            "count": 0
           },
           {
            "bin_end": 4.9907,
            "bin_start": 4.6078,
            "count": 0
           },
           {
            "bin_end": 5.3736,
            "bin_start": 4.9907,
            "count": 0
           },
           {
            "bin_end": 5.7565,
            "bin_start": 5.3736,
            "count": 0
           },
           {
            "bin_end": 6.1394,
            "bin_start": 5.7565,
            "count": 0
           },
           {
            "bin_end": 6.5222999999999995,
            "bin_start": 6.1394,
            "count": 0
           },
           {
            "bin_end": 6.905200000000001,
            "bin_start": 6.5222999999999995,
            "count": 0
           },
           {
            "bin_end": 7.2881,
            "bin_start": 6.905200000000001,
            "count": 0
           },
           {
            "bin_end": 7.671,
            "bin_start": 7.2881,
            "count": 1
           }
          ],
          "max": "7.671",
          "min": "3.842",
          "nan_count": 1,
          "unique_count": 2
         }
        },
        {
         "dtype": "float64",
         "name": "1966",
         "stats": {
          "histogram": [
           {
            "bin_end": 4.0296,
            "bin_start": 3.625,
            "count": 1
           },
           {
            "bin_end": 4.4342,
            "bin_start": 4.0296,
            "count": 0
           },
           {
            "bin_end": 4.8388,
            "bin_start": 4.4342,
            "count": 0
           },
           {
            "bin_end": 5.2434,
            "bin_start": 4.8388,
            "count": 0
           },
           {
            "bin_end": 5.648,
            "bin_start": 5.2434,
            "count": 0
           },
           {
            "bin_end": 6.0526,
            "bin_start": 5.648,
            "count": 0
           },
           {
            "bin_end": 6.4572,
            "bin_start": 6.0526,
            "count": 0
           },
           {
            "bin_end": 6.861800000000001,
            "bin_start": 6.4572,
            "count": 0
           },
           {
            "bin_end": 7.2664,
            "bin_start": 6.861800000000001,
            "count": 0
           },
           {
            "bin_end": 7.671,
            "bin_start": 7.2664,
            "count": 1
           }
          ],
          "max": "7.671",
          "min": "3.625",
          "nan_count": 1,
          "unique_count": 2
         }
        },
        {
         "dtype": "float64",
         "name": "1967",
         "stats": {
          "histogram": [
           {
            "bin_end": 3.8424,
            "bin_start": 3.417,
            "count": 1
           },
           {
            "bin_end": 4.2678,
            "bin_start": 3.8424,
            "count": 0
           },
           {
            "bin_end": 4.6932,
            "bin_start": 4.2678,
            "count": 0
           },
           {
            "bin_end": 5.1186,
            "bin_start": 4.6932,
            "count": 0
           },
           {
            "bin_end": 5.5440000000000005,
            "bin_start": 5.1186,
            "count": 0
           },
           {
            "bin_end": 5.9694,
            "bin_start": 5.5440000000000005,
            "count": 0
           },
           {
            "bin_end": 6.3948,
            "bin_start": 5.9694,
            "count": 0
           },
           {
            "bin_end": 6.8202,
            "bin_start": 6.3948,
            "count": 0
           },
           {
            "bin_end": 7.2456000000000005,
            "bin_start": 6.8202,
            "count": 0
           },
           {
            "bin_end": 7.671,
            "bin_start": 7.2456000000000005,
            "count": 1
           }
          ],
          "max": "7.671",
          "min": "3.417",
          "nan_count": 1,
          "unique_count": 2
         }
        },
        {
         "dtype": "float64",
         "name": "1968",
         "stats": {
          "histogram": [
           {
            "bin_end": 3.6705000000000005,
            "bin_start": 3.2260000000000004,
            "count": 1
           },
           {
            "bin_end": 4.115,
            "bin_start": 3.6705000000000005,
            "count": 0
           },
           {
            "bin_end": 4.5595,
            "bin_start": 4.115,
            "count": 0
           },
           {
            "bin_end": 5.0040000000000004,
            "bin_start": 4.5595,
            "count": 0
           },
           {
            "bin_end": 5.448500000000001,
            "bin_start": 5.0040000000000004,
            "count": 0
           },
           {
            "bin_end": 5.893000000000001,
            "bin_start": 5.448500000000001,
            "count": 0
           },
           {
            "bin_end": 6.3375,
            "bin_start": 5.893000000000001,
            "count": 0
           },
           {
            "bin_end": 6.782,
            "bin_start": 6.3375,
            "count": 0
           },
           {
            "bin_end": 7.2265,
            "bin_start": 6.782,
            "count": 0
           },
           {
            "bin_end": 7.671,
            "bin_start": 7.2265,
            "count": 1
           }
          ],
          "max": "7.671",
          "min": "3.2260000000000004",
          "nan_count": 1,
          "unique_count": 2
         }
        },
        {
         "dtype": "float64",
         "name": "1969",
         "stats": {
          "histogram": [
           {
            "bin_end": 3.5157,
            "bin_start": 3.054,
            "count": 1
           },
           {
            "bin_end": 3.9774000000000003,
            "bin_start": 3.5157,
            "count": 0
           },
           {
            "bin_end": 4.4391,
            "bin_start": 3.9774000000000003,
            "count": 0
           },
           {
            "bin_end": 4.9008,
            "bin_start": 4.4391,
            "count": 0
           },
           {
            "bin_end": 5.362500000000001,
            "bin_start": 4.9008,
            "count": 0
           },
           {
            "bin_end": 5.824200000000001,
            "bin_start": 5.362500000000001,
            "count": 0
           },
           {
            "bin_end": 6.285900000000001,
            "bin_start": 5.824200000000001,
            "count": 0
           },
           {
            "bin_end": 6.7476,
            "bin_start": 6.285900000000001,
            "count": 0
           },
           {
            "bin_end": 7.209300000000001,
            "bin_start": 6.7476,
            "count": 0
           },
           {
            "bin_end": 7.671,
            "bin_start": 7.209300000000001,
            "count": 1
           }
          ],
          "max": "7.671",
          "min": "3.054",
          "nan_count": 1,
          "unique_count": 2
         }
        },
        {
         "dtype": "float64",
         "name": "1970",
         "stats": {
          "histogram": [
           {
            "bin_end": 3.3843,
            "bin_start": 2.908,
            "count": 1
           },
           {
            "bin_end": 3.8606,
            "bin_start": 3.3843,
            "count": 0
           },
           {
            "bin_end": 4.3369,
            "bin_start": 3.8606,
            "count": 0
           },
           {
            "bin_end": 4.8132,
            "bin_start": 4.3369,
            "count": 0
           },
           {
            "bin_end": 5.2895,
            "bin_start": 4.8132,
            "count": 0
           },
           {
            "bin_end": 5.7658000000000005,
            "bin_start": 5.2895,
            "count": 0
           },
           {
            "bin_end": 6.2421,
            "bin_start": 5.7658000000000005,
            "count": 0
           },
           {
            "bin_end": 6.7184,
            "bin_start": 6.2421,
            "count": 0
           },
           {
            "bin_end": 7.194699999999999,
            "bin_start": 6.7184,
            "count": 0
           },
           {
            "bin_end": 7.671,
            "bin_start": 7.194699999999999,
            "count": 1
           }
          ],
          "max": "7.671",
          "min": "2.908",
          "nan_count": 1,
          "unique_count": 2
         }
        },
        {
         "dtype": "float64",
         "name": "1971",
         "stats": {
          "histogram": [
           {
            "bin_end": 3.2763000000000004,
            "bin_start": 2.7880000000000003,
            "count": 1
           },
           {
            "bin_end": 3.7646,
            "bin_start": 3.2763000000000004,
            "count": 0
           },
           {
            "bin_end": 4.2529,
            "bin_start": 3.7646,
            "count": 0
           },
           {
            "bin_end": 4.7412,
            "bin_start": 4.2529,
            "count": 0
           },
           {
            "bin_end": 5.2295,
            "bin_start": 4.7412,
            "count": 0
           },
           {
            "bin_end": 5.7178,
            "bin_start": 5.2295,
            "count": 0
           },
           {
            "bin_end": 6.2061,
            "bin_start": 5.7178,
            "count": 0
           },
           {
            "bin_end": 6.6944,
            "bin_start": 6.2061,
            "count": 0
           },
           {
            "bin_end": 7.1827000000000005,
            "bin_start": 6.6944,
            "count": 0
           },
           {
            "bin_end": 7.671,
            "bin_start": 7.1827000000000005,
            "count": 1
           }
          ],
          "max": "7.671",
          "min": "2.7880000000000003",
          "nan_count": 1,
          "unique_count": 2
         }
        },
        {
         "dtype": "float64",
         "name": "1972",
         "stats": {
          "histogram": [
           {
            "bin_end": 3.1890000000000005,
            "bin_start": 2.6910000000000003,
            "count": 1
           },
           {
            "bin_end": 3.6870000000000003,
            "bin_start": 3.1890000000000005,
            "count": 0
           },
           {
            "bin_end": 4.1850000000000005,
            "bin_start": 3.6870000000000003,
            "count": 0
           },
           {
            "bin_end": 4.683000000000001,
            "bin_start": 4.1850000000000005,
            "count": 0
           },
           {
            "bin_end": 5.181000000000001,
            "bin_start": 4.683000000000001,
            "count": 0
           },
           {
            "bin_end": 5.679,
            "bin_start": 5.181000000000001,
            "count": 0
           },
           {
            "bin_end": 6.1770000000000005,
            "bin_start": 5.679,
            "count": 0
           },
           {
            "bin_end": 6.675000000000001,
            "bin_start": 6.1770000000000005,
            "count": 0
           },
           {
            "bin_end": 7.173,
            "bin_start": 6.675000000000001,
            "count": 0
           },
           {
            "bin_end": 7.671,
            "bin_start": 7.173,
            "count": 1
           }
          ],
          "max": "7.671",
          "min": "2.6910000000000003",
          "nan_count": 1,
          "unique_count": 2
         }
        },
        {
         "dtype": "float64",
         "name": "1973",
         "stats": {
          "histogram": [
           {
            "bin_end": 3.1188000000000002,
            "bin_start": 2.613,
            "count": 1
           },
           {
            "bin_end": 3.6246,
            "bin_start": 3.1188000000000002,
            "count": 0
           },
           {
            "bin_end": 4.1304,
            "bin_start": 3.6246,
            "count": 0
           },
           {
            "bin_end": 4.6362000000000005,
            "bin_start": 4.1304,
            "count": 0
           },
           {
            "bin_end": 5.1419999999999995,
            "bin_start": 4.6362000000000005,
            "count": 0
           },
           {
            "bin_end": 5.6478,
            "bin_start": 5.1419999999999995,
            "count": 0
           },
           {
            "bin_end": 6.153600000000001,
            "bin_start": 5.6478,
            "count": 0
           },
           {
            "bin_end": 6.6594,
            "bin_start": 6.153600000000001,
            "count": 0
           },
           {
            "bin_end": 7.1652000000000005,
            "bin_start": 6.6594,
            "count": 0
           },
           {
            "bin_end": 7.671,
            "bin_start": 7.1652000000000005,
            "count": 1
           }
          ],
          "max": "7.671",
          "min": "2.613",
          "nan_count": 1,
          "unique_count": 2
         }
        },
        {
         "dtype": "float64",
         "name": "1974",
         "stats": {
          "histogram": [
           {
            "bin_end": 3.0639000000000003,
            "bin_start": 2.552,
            "count": 1
           },
           {
            "bin_end": 3.5758,
            "bin_start": 3.0639000000000003,
            "count": 0
           },
           {
            "bin_end": 4.0877,
            "bin_start": 3.5758,
            "count": 0
           },
           {
            "bin_end": 4.599600000000001,
            "bin_start": 4.0877,
            "count": 0
           },
           {
            "bin_end": 5.1114999999999995,
            "bin_start": 4.599600000000001,
            "count": 0
           },
           {
            "bin_end": 5.6234,
            "bin_start": 5.1114999999999995,
            "count": 0
           },
           {
            "bin_end": 6.135300000000001,
            "bin_start": 5.6234,
            "count": 0
           },
           {
            "bin_end": 6.6472,
            "bin_start": 6.135300000000001,
            "count": 0
           },
           {
            "bin_end": 7.1591000000000005,
            "bin_start": 6.6472,
            "count": 0
           },
           {
            "bin_end": 7.671,
            "bin_start": 7.1591000000000005,
            "count": 1
           }
          ],
          "max": "7.671",
          "min": "2.552",
          "nan_count": 1,
          "unique_count": 2
         }
        },
        {
         "dtype": "float64",
         "name": "1975",
         "stats": {
          "histogram": [
           {
            "bin_end": 3.0225,
            "bin_start": 2.506,
            "count": 1
           },
           {
            "bin_end": 3.5389999999999997,
            "bin_start": 3.0225,
            "count": 0
           },
           {
            "bin_end": 4.0555,
            "bin_start": 3.5389999999999997,
            "count": 0
           },
           {
            "bin_end": 4.572,
            "bin_start": 4.0555,
            "count": 0
           },
           {
            "bin_end": 5.0885,
            "bin_start": 4.572,
            "count": 0
           },
           {
            "bin_end": 5.605,
            "bin_start": 5.0885,
            "count": 0
           },
           {
            "bin_end": 6.1215,
            "bin_start": 5.605,
            "count": 0
           },
           {
            "bin_end": 6.638,
            "bin_start": 6.1215,
            "count": 0
           },
           {
            "bin_end": 7.1545000000000005,
            "bin_start": 6.638,
            "count": 0
           },
           {
            "bin_end": 7.671,
            "bin_start": 7.1545000000000005,
            "count": 1
           }
          ],
          "max": "7.671",
          "min": "2.506",
          "nan_count": 1,
          "unique_count": 2
         }
        },
        {
         "dtype": "float64",
         "name": "1976",
         "stats": {
          "histogram": [
           {
            "bin_end": 2.9918,
            "bin_start": 2.472,
            "count": 1
           },
           {
            "bin_end": 3.5116,
            "bin_start": 2.9918,
            "count": 0
           },
           {
            "bin_end": 4.0314,
            "bin_start": 3.5116,
            "count": 0
           },
           {
            "bin_end": 4.5512,
            "bin_start": 4.0314,
            "count": 0
           },
           {
            "bin_end": 5.071,
            "bin_start": 4.5512,
            "count": 0
           },
           {
            "bin_end": 5.5908,
            "bin_start": 5.071,
            "count": 0
           },
           {
            "bin_end": 6.1106,
            "bin_start": 5.5908,
            "count": 0
           },
           {
            "bin_end": 6.6304,
            "bin_start": 6.1106,
            "count": 0
           },
           {
            "bin_end": 7.1502,
            "bin_start": 6.6304,
            "count": 0
           },
           {
            "bin_end": 7.67,
            "bin_start": 7.1502,
            "count": 1
           }
          ],
          "max": "7.67",
          "min": "2.472",
          "nan_count": 1,
          "unique_count": 2
         }
        },
        {
         "dtype": "float64",
         "name": "1977",
         "stats": {
          "histogram": [
           {
            "bin_end": 2.9684,
            "bin_start": 2.446,
            "count": 1
           },
           {
            "bin_end": 3.4908,
            "bin_start": 2.9684,
            "count": 0
           },
           {
            "bin_end": 4.0132,
            "bin_start": 3.4908,
            "count": 0
           },
           {
            "bin_end": 4.5356000000000005,
            "bin_start": 4.0132,
            "count": 0
           },
           {
            "bin_end": 5.058,
            "bin_start": 4.5356000000000005,
            "count": 0
           },
           {
            "bin_end": 5.5804,
            "bin_start": 5.058,
            "count": 0
           },
           {
            "bin_end": 6.1028,
            "bin_start": 5.5804,
            "count": 0
           },
           {
            "bin_end": 6.6251999999999995,
            "bin_start": 6.1028,
            "count": 0
           },
           {
            "bin_end": 7.147600000000001,
            "bin_start": 6.6251999999999995,
            "count": 0
           },
           {
            "bin_end": 7.67,
            "bin_start": 7.147600000000001,
            "count": 1
           }
          ],
          "max": "7.67",
          "min": "2.446",
          "nan_count": 1,
          "unique_count": 2
         }
        },
        {
         "dtype": "float64",
         "name": "1978",
         "stats": {
          "histogram": [
           {
            "bin_end": 2.9494999999999996,
            "bin_start": 2.425,
            "count": 1
           },
           {
            "bin_end": 3.4739999999999998,
            "bin_start": 2.9494999999999996,
            "count": 0
           },
           {
            "bin_end": 3.9985,
            "bin_start": 3.4739999999999998,
            "count": 0
           },
           {
            "bin_end": 4.523,
            "bin_start": 3.9985,
            "count": 0
           },
           {
            "bin_end": 5.047499999999999,
            "bin_start": 4.523,
            "count": 0
           },
           {
            "bin_end": 5.571999999999999,
            "bin_start": 5.047499999999999,
            "count": 0
           },
           {
            "bin_end": 6.0965,
            "bin_start": 5.571999999999999,
            "count": 0
           },
           {
            "bin_end": 6.6209999999999996,
            "bin_start": 6.0965,
            "count": 0
           },
           {
            "bin_end": 7.145499999999999,
            "bin_start": 6.6209999999999996,
            "count": 0
           },
           {
            "bin_end": 7.67,
            "bin_start": 7.145499999999999,
            "count": 1
           }
          ],
          "max": "7.67",
          "min": "2.425",
          "nan_count": 1,
          "unique_count": 2
         }
        },
        {
         "dtype": "float64",
         "name": "1979",
         "stats": {
          "histogram": [
           {
            "bin_end": 2.9341,
            "bin_start": 2.408,
            "count": 1
           },
           {
            "bin_end": 3.4601999999999995,
            "bin_start": 2.9341,
            "count": 0
           },
           {
            "bin_end": 3.9862999999999995,
            "bin_start": 3.4601999999999995,
            "count": 0
           },
           {
            "bin_end": 4.5123999999999995,
            "bin_start": 3.9862999999999995,
            "count": 0
           },
           {
            "bin_end": 5.038499999999999,
            "bin_start": 4.5123999999999995,
            "count": 0
           },
           {
            "bin_end": 5.564599999999999,
            "bin_start": 5.038499999999999,
            "count": 0
           },
           {
            "bin_end": 6.090699999999999,
            "bin_start": 5.564599999999999,
            "count": 0
           },
           {
            "bin_end": 6.6168,
            "bin_start": 6.090699999999999,
            "count": 0
           },
           {
            "bin_end": 7.142899999999999,
            "bin_start": 6.6168,
            "count": 0
           },
           {
            "bin_end": 7.669,
            "bin_start": 7.142899999999999,
            "count": 1
           }
          ],
          "max": "7.669",
          "min": "2.408",
          "nan_count": 1,
          "unique_count": 2
         }
        },
        {
         "dtype": "float64",
         "name": "1980",
         "stats": {
          "histogram": [
           {
            "bin_end": 2.9196999999999997,
            "bin_start": 2.392,
            "count": 1
           },
           {
            "bin_end": 3.4474,
            "bin_start": 2.9196999999999997,
            "count": 0
           },
           {
            "bin_end": 3.9751,
            "bin_start": 3.4474,
            "count": 0
           },
           {
            "bin_end": 4.5028,
            "bin_start": 3.9751,
            "count": 0
           },
           {
            "bin_end": 5.0305,
            "bin_start": 4.5028,
            "count": 0
           },
           {
            "bin_end": 5.558199999999999,
            "bin_start": 5.0305,
            "count": 0
           },
           {
            "bin_end": 6.0859,
            "bin_start": 5.558199999999999,
            "count": 0
           },
           {
            "bin_end": 6.6136,
            "bin_start": 6.0859,
            "count": 0
           },
           {
            "bin_end": 7.141299999999999,
            "bin_start": 6.6136,
            "count": 0
           },
           {
            "bin_end": 7.669,
            "bin_start": 7.141299999999999,
            "count": 1
           }
          ],
          "max": "7.669",
          "min": "2.392",
          "nan_count": 1,
          "unique_count": 2
         }
        },
        {
         "dtype": "float64",
         "name": "1981",
         "stats": {
          "histogram": [
           {
            "bin_end": 2.9063,
            "bin_start": 2.377,
            "count": 1
           },
           {
            "bin_end": 3.4356,
            "bin_start": 2.9063,
            "count": 0
           },
           {
            "bin_end": 3.9648999999999996,
            "bin_start": 3.4356,
            "count": 0
           },
           {
            "bin_end": 4.494199999999999,
            "bin_start": 3.9648999999999996,
            "count": 0
           },
           {
            "bin_end": 5.0235,
            "bin_start": 4.494199999999999,
            "count": 0
           },
           {
            "bin_end": 5.5527999999999995,
            "bin_start": 5.0235,
            "count": 0
           },
           {
            "bin_end": 6.0821,
            "bin_start": 5.5527999999999995,
            "count": 0
           },
           {
            "bin_end": 6.6114,
            "bin_start": 6.0821,
            "count": 0
           },
           {
            "bin_end": 7.1407,
            "bin_start": 6.6114,
            "count": 0
           },
           {
            "bin_end": 7.67,
            "bin_start": 7.1407,
            "count": 1
           }
          ],
          "max": "7.67",
          "min": "2.377",
          "nan_count": 1,
          "unique_count": 2
         }
        },
        {
         "dtype": "float64",
         "name": "1982",
         "stats": {
          "histogram": [
           {
            "bin_end": 2.8947,
            "bin_start": 2.364,
            "count": 1
           },
           {
            "bin_end": 3.4254,
            "bin_start": 2.8947,
            "count": 0
           },
           {
            "bin_end": 3.9561,
            "bin_start": 3.4254,
            "count": 0
           },
           {
            "bin_end": 4.486800000000001,
            "bin_start": 3.9561,
            "count": 0
           },
           {
            "bin_end": 5.0175,
            "bin_start": 4.486800000000001,
            "count": 0
           },
           {
            "bin_end": 5.5482000000000005,
            "bin_start": 5.0175,
            "count": 0
           },
           {
            "bin_end": 6.078900000000001,
            "bin_start": 5.5482000000000005,
            "count": 0
           },
           {
            "bin_end": 6.6096,
            "bin_start": 6.078900000000001,
            "count": 0
           },
           {
            "bin_end": 7.140300000000001,
            "bin_start": 6.6096,
            "count": 0
           },
           {
            "bin_end": 7.671,
            "bin_start": 7.140300000000001,
            "count": 1
           }
          ],
          "max": "7.671",
          "min": "2.364",
          "nan_count": 1,
          "unique_count": 2
         }
        },
        {
         "dtype": "float64",
         "name": "1983",
         "stats": {
          "histogram": [
           {
            "bin_end": 2.885,
            "bin_start": 2.353,
            "count": 1
           },
           {
            "bin_end": 3.417,
            "bin_start": 2.885,
            "count": 0
           },
           {
            "bin_end": 3.949,
            "bin_start": 3.417,
            "count": 0
           },
           {
            "bin_end": 4.481,
            "bin_start": 3.949,
            "count": 0
           },
           {
            "bin_end": 5.013,
            "bin_start": 4.481,
            "count": 0
           },
           {
            "bin_end": 5.544999999999999,
            "bin_start": 5.013,
            "count": 0
           },
           {
            "bin_end": 6.076999999999998,
            "bin_start": 5.544999999999999,
            "count": 0
           },
           {
            "bin_end": 6.608999999999998,
            "bin_start": 6.076999999999998,
            "count": 0
           },
           {
            "bin_end": 7.140999999999998,
            "bin_start": 6.608999999999998,
            "count": 0
           },
           {
            "bin_end": 7.672999999999999,
            "bin_start": 7.140999999999998,
            "count": 1
           }
          ],
          "max": "7.672999999999999",
          "min": "2.353",
          "nan_count": 1,
          "unique_count": 2
         }
        },
        {
         "dtype": "float64",
         "name": "1984",
         "stats": {
          "histogram": [
           {
            "bin_end": 2.8754,
            "bin_start": 2.342,
            "count": 1
           },
           {
            "bin_end": 3.4088000000000003,
            "bin_start": 2.8754,
            "count": 0
           },
           {
            "bin_end": 3.9422,
            "bin_start": 3.4088000000000003,
            "count": 0
           },
           {
            "bin_end": 4.4756,
            "bin_start": 3.9422,
            "count": 0
           },
           {
            "bin_end": 5.009,
            "bin_start": 4.4756,
            "count": 0
           },
           {
            "bin_end": 5.542400000000001,
            "bin_start": 5.009,
            "count": 0
           },
           {
            "bin_end": 6.0758,
            "bin_start": 5.542400000000001,
            "count": 0
           },
           {
            "bin_end": 6.6091999999999995,
            "bin_start": 6.0758,
            "count": 0
           },
           {
            "bin_end": 7.1426,
            "bin_start": 6.6091999999999995,
            "count": 0
           },
           {
            "bin_end": 7.676,
            "bin_start": 7.1426,
            "count": 1
           }
          ],
          "max": "7.676",
          "min": "2.342",
          "nan_count": 1,
          "unique_count": 2
         }
        },
        {
         "dtype": "float64",
         "name": "1985",
         "stats": {
          "histogram": [
           {
            "bin_end": 2.8667,
            "bin_start": 2.332,
            "count": 1
           },
           {
            "bin_end": 3.4013999999999998,
            "bin_start": 2.8667,
            "count": 0
           },
           {
            "bin_end": 3.9360999999999993,
            "bin_start": 3.4013999999999998,
            "count": 0
           },
           {
            "bin_end": 4.470799999999999,
            "bin_start": 3.9360999999999993,
            "count": 0
           },
           {
            "bin_end": 5.0055,
            "bin_start": 4.470799999999999,
            "count": 0
           },
           {
            "bin_end": 5.540199999999999,
            "bin_start": 5.0055,
            "count": 0
           },
           {
            "bin_end": 6.074899999999999,
            "bin_start": 5.540199999999999,
            "count": 0
           },
           {
            "bin_end": 6.609599999999999,
            "bin_start": 6.074899999999999,
            "count": 0
           },
           {
            "bin_end": 7.1442999999999985,
            "bin_start": 6.609599999999999,
            "count": 0
           },
           {
            "bin_end": 7.6789999999999985,
            "bin_start": 7.1442999999999985,
            "count": 1
           }
          ],
          "max": "7.6789999999999985",
          "min": "2.332",
          "nan_count": 1,
          "unique_count": 2
         }
        },
        {
         "dtype": "float64",
         "name": "1986",
         "stats": {
          "histogram": [
           {
            "bin_end": 2.8560999999999996,
            "bin_start": 2.32,
            "count": 1
           },
           {
            "bin_end": 3.3922,
            "bin_start": 2.8560999999999996,
            "count": 0
           },
           {
            "bin_end": 3.9283,
            "bin_start": 3.3922,
            "count": 0
           },
           {
            "bin_end": 4.4643999999999995,
            "bin_start": 3.9283,
            "count": 0
           },
           {
            "bin_end": 5.000500000000001,
            "bin_start": 4.4643999999999995,
            "count": 0
           },
           {
            "bin_end": 5.5366,
            "bin_start": 5.000500000000001,
            "count": 0
           },
           {
            "bin_end": 6.072699999999999,
            "bin_start": 5.5366,
            "count": 0
           },
           {
            "bin_end": 6.6088000000000005,
            "bin_start": 6.072699999999999,
            "count": 0
           },
           {
            "bin_end": 7.1449,
            "bin_start": 6.6088000000000005,
            "count": 0
           },
           {
            "bin_end": 7.681,
            "bin_start": 7.1449,
            "count": 1
           }
          ],
          "max": "7.681",
          "min": "2.32",
          "nan_count": 1,
          "unique_count": 2
         }
        },
        {
         "dtype": "float64",
         "name": "1987",
         "stats": {
          "histogram": [
           {
            "bin_end": 2.8445,
            "bin_start": 2.307,
            "count": 1
           },
           {
            "bin_end": 3.3819999999999997,
            "bin_start": 2.8445,
            "count": 0
           },
           {
            "bin_end": 3.9194999999999998,
            "bin_start": 3.3819999999999997,
            "count": 0
           },
           {
            "bin_end": 4.457,
            "bin_start": 3.9194999999999998,
            "count": 0
           },
           {
            "bin_end": 4.9945,
            "bin_start": 4.457,
            "count": 0
           },
           {
            "bin_end": 5.532,
            "bin_start": 4.9945,
            "count": 0
           },
           {
            "bin_end": 6.0695,
            "bin_start": 5.532,
            "count": 0
           },
           {
            "bin_end": 6.606999999999999,
            "bin_start": 6.0695,
            "count": 0
           },
           {
            "bin_end": 7.144499999999999,
            "bin_start": 6.606999999999999,
            "count": 0
           },
           {
            "bin_end": 7.682,
            "bin_start": 7.144499999999999,
            "count": 1
           }
          ],
          "max": "7.682",
          "min": "2.307",
          "nan_count": 1,
          "unique_count": 2
         }
        },
        {
         "dtype": "float64",
         "name": "1988",
         "stats": {
          "histogram": [
           {
            "bin_end": 2.8301,
            "bin_start": 2.291,
            "count": 1
           },
           {
            "bin_end": 3.3692,
            "bin_start": 2.8301,
            "count": 0
           },
           {
            "bin_end": 3.9083,
            "bin_start": 3.3692,
            "count": 0
           },
           {
            "bin_end": 4.4474,
            "bin_start": 3.9083,
            "count": 0
           },
           {
            "bin_end": 4.9864999999999995,
            "bin_start": 4.4474,
            "count": 0
           },
           {
            "bin_end": 5.525600000000001,
            "bin_start": 4.9864999999999995,
            "count": 0
           },
           {
            "bin_end": 6.0647,
            "bin_start": 5.525600000000001,
            "count": 0
           },
           {
            "bin_end": 6.6038,
            "bin_start": 6.0647,
            "count": 0
           },
           {
            "bin_end": 7.142900000000001,
            "bin_start": 6.6038,
            "count": 0
           },
           {
            "bin_end": 7.682,
            "bin_start": 7.142900000000001,
            "count": 1
           }
          ],
          "max": "7.682",
          "min": "2.291",
          "nan_count": 1,
          "unique_count": 2
         }
        },
        {
         "dtype": "float64",
         "name": "1989",
         "stats": {
          "histogram": [
           {
            "bin_end": 2.8129999999999997,
            "bin_start": 2.272,
            "count": 1
           },
           {
            "bin_end": 3.354,
            "bin_start": 2.8129999999999997,
            "count": 0
           },
           {
            "bin_end": 3.895,
            "bin_start": 3.354,
            "count": 0
           },
           {
            "bin_end": 4.436,
            "bin_start": 3.895,
            "count": 0
           },
           {
            "bin_end": 4.977,
            "bin_start": 4.436,
            "count": 0
           },
           {
            "bin_end": 5.518000000000001,
            "bin_start": 4.977,
            "count": 0
           },
           {
            "bin_end": 6.059,
            "bin_start": 5.518000000000001,
            "count": 0
           },
           {
            "bin_end": 6.6,
            "bin_start": 6.059,
            "count": 0
           },
           {
            "bin_end": 7.141,
            "bin_start": 6.6,
            "count": 0
           },
           {
            "bin_end": 7.682,
            "bin_start": 7.141,
            "count": 1
           }
          ],
          "max": "7.682",
          "min": "2.272",
          "nan_count": 1,
          "unique_count": 2
         }
        },
        {
         "dtype": "float64",
         "name": "1990",
         "stats": {
          "histogram": [
           {
            "bin_end": 2.7928,
            "bin_start": 2.249,
            "count": 1
           },
           {
            "bin_end": 3.3366000000000002,
            "bin_start": 2.7928,
            "count": 0
           },
           {
            "bin_end": 3.8804000000000003,
            "bin_start": 3.3366000000000002,
            "count": 0
           },
           {
            "bin_end": 4.424200000000001,
            "bin_start": 3.8804000000000003,
            "count": 0
           },
           {
            "bin_end": 4.968,
            "bin_start": 4.424200000000001,
            "count": 0
           },
           {
            "bin_end": 5.511800000000001,
            "bin_start": 4.968,
            "count": 0
           },
           {
            "bin_end": 6.0556,
            "bin_start": 5.511800000000001,
            "count": 0
           },
           {
            "bin_end": 6.599400000000001,
            "bin_start": 6.0556,
            "count": 0
           },
           {
            "bin_end": 7.1432,
            "bin_start": 6.599400000000001,
            "count": 0
           },
           {
            "bin_end": 7.687,
            "bin_start": 7.1432,
            "count": 1
           }
          ],
          "max": "7.687",
          "min": "2.249",
          "nan_count": 1,
          "unique_count": 2
         }
        },
        {
         "dtype": "float64",
         "name": "1991",
         "stats": {
          "histogram": [
           {
            "bin_end": 2.7689000000000004,
            "bin_start": 2.221,
            "count": 1
           },
           {
            "bin_end": 3.3168,
            "bin_start": 2.7689000000000004,
            "count": 0
           },
           {
            "bin_end": 3.8647,
            "bin_start": 3.3168,
            "count": 0
           },
           {
            "bin_end": 4.4126,
            "bin_start": 3.8647,
            "count": 0
           },
           {
            "bin_end": 4.960500000000001,
            "bin_start": 4.4126,
            "count": 0
           },
           {
            "bin_end": 5.5084,
            "bin_start": 4.960500000000001,
            "count": 0
           },
           {
            "bin_end": 6.0563,
            "bin_start": 5.5084,
            "count": 0
           },
           {
            "bin_end": 6.6042000000000005,
            "bin_start": 6.0563,
            "count": 0
           },
           {
            "bin_end": 7.152100000000001,
            "bin_start": 6.6042000000000005,
            "count": 0
           },
           {
            "bin_end": 7.7,
            "bin_start": 7.152100000000001,
            "count": 1
           }
          ],
          "max": "7.7",
          "min": "2.221",
          "nan_count": 1,
          "unique_count": 2
         }
        },
        {
         "dtype": "float64",
         "name": "1992",
         "stats": {
          "histogram": [
           {
            "bin_end": 2.7408,
            "bin_start": 2.187,
            "count": 1
           },
           {
            "bin_end": 3.2946,
            "bin_start": 2.7408,
            "count": 0
           },
           {
            "bin_end": 3.8484,
            "bin_start": 3.2946,
            "count": 0
           },
           {
            "bin_end": 4.402200000000001,
            "bin_start": 3.8484,
            "count": 0
           },
           {
            "bin_end": 4.9559999999999995,
            "bin_start": 4.402200000000001,
            "count": 0
           },
           {
            "bin_end": 5.5098,
            "bin_start": 4.9559999999999995,
            "count": 0
           },
           {
            "bin_end": 6.063600000000001,
            "bin_start": 5.5098,
            "count": 0
           },
           {
            "bin_end": 6.6174,
            "bin_start": 6.063600000000001,
            "count": 0
           },
           {
            "bin_end": 7.171200000000001,
            "bin_start": 6.6174,
            "count": 0
           },
           {
            "bin_end": 7.725,
            "bin_start": 7.171200000000001,
            "count": 1
           }
          ],
          "max": "7.725",
          "min": "2.187",
          "nan_count": 1,
          "unique_count": 2
         }
        },
        {
         "dtype": "float64",
         "name": "1993",
         "stats": {
          "histogram": [
           {
            "bin_end": 2.7099,
            "bin_start": 2.149,
            "count": 1
           },
           {
            "bin_end": 3.2708,
            "bin_start": 2.7099,
            "count": 0
           },
           {
            "bin_end": 3.8316999999999997,
            "bin_start": 3.2708,
            "count": 0
           },
           {
            "bin_end": 4.3926,
            "bin_start": 3.8316999999999997,
            "count": 0
           },
           {
            "bin_end": 4.9535,
            "bin_start": 4.3926,
            "count": 0
           },
           {
            "bin_end": 5.5144,
            "bin_start": 4.9535,
            "count": 0
           },
           {
            "bin_end": 6.0752999999999995,
            "bin_start": 5.5144,
            "count": 0
           },
           {
            "bin_end": 6.6362,
            "bin_start": 6.0752999999999995,
            "count": 0
           },
           {
            "bin_end": 7.1971,
            "bin_start": 6.6362,
            "count": 0
           },
           {
            "bin_end": 7.757999999999999,
            "bin_start": 7.1971,
            "count": 1
           }
          ],
          "max": "7.757999999999999",
          "min": "2.149",
          "nan_count": 1,
          "unique_count": 2
         }
        },
        {
         "dtype": "float64",
         "name": "1994",
         "stats": {
          "histogram": [
           {
            "bin_end": 2.6768,
            "bin_start": 2.108,
            "count": 1
           },
           {
            "bin_end": 3.2456000000000005,
            "bin_start": 2.6768,
            "count": 0
           },
           {
            "bin_end": 3.8144000000000005,
            "bin_start": 3.2456000000000005,
            "count": 0
           },
           {
            "bin_end": 4.3832,
            "bin_start": 3.8144000000000005,
            "count": 0
           },
           {
            "bin_end": 4.952,
            "bin_start": 4.3832,
            "count": 0
           },
           {
            "bin_end": 5.520800000000001,
            "bin_start": 4.952,
            "count": 0
           },
           {
            "bin_end": 6.089600000000001,
            "bin_start": 5.520800000000001,
            "count": 0
           },
           {
            "bin_end": 6.6584,
            "bin_start": 6.089600000000001,
            "count": 0
           },
           {
            "bin_end": 7.227200000000002,
            "bin_start": 6.6584,
            "count": 0
           },
           {
            "bin_end": 7.796,
            "bin_start": 7.227200000000002,
            "count": 1
           }
          ],
          "max": "7.796",
          "min": "2.108",
          "nan_count": 1,
          "unique_count": 2
         }
        },
        {
         "dtype": "float64",
         "name": "1995",
         "stats": {
          "histogram": [
           {
            "bin_end": 2.6408000000000005,
            "bin_start": 2.064,
            "count": 1
           },
           {
            "bin_end": 3.2176000000000005,
            "bin_start": 2.6408000000000005,
            "count": 0
           },
           {
            "bin_end": 3.7944000000000004,
            "bin_start": 3.2176000000000005,
            "count": 0
           },
           {
            "bin_end": 4.371200000000001,
            "bin_start": 3.7944000000000004,
            "count": 0
           },
           {
            "bin_end": 4.948000000000001,
            "bin_start": 4.371200000000001,
            "count": 0
           },
           {
            "bin_end": 5.524800000000001,
            "bin_start": 4.948000000000001,
            "count": 0
           },
           {
            "bin_end": 6.101600000000001,
            "bin_start": 5.524800000000001,
            "count": 0
           },
           {
            "bin_end": 6.678400000000002,
            "bin_start": 6.101600000000001,
            "count": 0
           },
           {
            "bin_end": 7.255200000000002,
            "bin_start": 6.678400000000002,
            "count": 0
           },
           {
            "bin_end": 7.832000000000002,
            "bin_start": 7.255200000000002,
            "count": 1
           }
          ],
          "max": "7.832000000000002",
          "min": "2.064",
          "nan_count": 1,
          "unique_count": 2
         }
        },
        {
         "dtype": "float64",
         "name": "1996",
         "stats": {
          "histogram": [
           {
            "bin_end": 2.6048,
            "bin_start": 2.021,
            "count": 1
           },
           {
            "bin_end": 3.1886,
            "bin_start": 2.6048,
            "count": 0
           },
           {
            "bin_end": 3.7723999999999998,
            "bin_start": 3.1886,
            "count": 0
           },
           {
            "bin_end": 4.356199999999999,
            "bin_start": 3.7723999999999998,
            "count": 0
           },
           {
            "bin_end": 4.9399999999999995,
            "bin_start": 4.356199999999999,
            "count": 0
           },
           {
            "bin_end": 5.5238,
            "bin_start": 4.9399999999999995,
            "count": 0
           },
           {
            "bin_end": 6.1076,
            "bin_start": 5.5238,
            "count": 0
           },
           {
            "bin_end": 6.6914,
            "bin_start": 6.1076,
            "count": 0
           },
           {
            "bin_end": 7.2752,
            "bin_start": 6.6914,
            "count": 0
           },
           {
            "bin_end": 7.859,
            "bin_start": 7.2752,
            "count": 1
           }
          ],
          "max": "7.859",
          "min": "2.021",
          "nan_count": 1,
          "unique_count": 2
         }
        },
        {
         "dtype": "float64",
         "name": "1997",
         "stats": {
          "histogram": [
           {
            "bin_end": 2.568,
            "bin_start": 1.979,
            "count": 1
           },
           {
            "bin_end": 3.157,
            "bin_start": 2.568,
            "count": 0
           },
           {
            "bin_end": 3.746,
            "bin_start": 3.157,
            "count": 0
           },
           {
            "bin_end": 4.335,
            "bin_start": 3.746,
            "count": 0
           },
           {
            "bin_end": 4.9239999999999995,
            "bin_start": 4.335,
            "count": 0
           },
           {
            "bin_end": 5.513,
            "bin_start": 4.9239999999999995,
            "count": 0
           },
           {
            "bin_end": 6.101999999999999,
            "bin_start": 5.513,
            "count": 0
           },
           {
            "bin_end": 6.691,
            "bin_start": 6.101999999999999,
            "count": 0
           },
           {
            "bin_end": 7.28,
            "bin_start": 6.691,
            "count": 0
           },
           {
            "bin_end": 7.869,
            "bin_start": 7.28,
            "count": 1
           }
          ],
          "max": "7.869",
          "min": "1.979",
          "nan_count": 1,
          "unique_count": 2
         }
        },
        {
         "dtype": "float64",
         "name": "1998",
         "stats": {
          "histogram": [
           {
            "bin_end": 2.5313999999999997,
            "bin_start": 1.94,
            "count": 1
           },
           {
            "bin_end": 3.1228,
            "bin_start": 2.5313999999999997,
            "count": 0
           },
           {
            "bin_end": 3.7142,
            "bin_start": 3.1228,
            "count": 0
           },
           {
            "bin_end": 4.3056,
            "bin_start": 3.7142,
            "count": 0
           },
           {
            "bin_end": 4.897,
            "bin_start": 4.3056,
            "count": 0
           },
           {
            "bin_end": 5.4883999999999995,
            "bin_start": 4.897,
            "count": 0
           },
           {
            "bin_end": 6.079799999999999,
            "bin_start": 5.4883999999999995,
            "count": 0
           },
           {
            "bin_end": 6.671199999999999,
            "bin_start": 6.079799999999999,
            "count": 0
           },
           {
            "bin_end": 7.262599999999999,
            "bin_start": 6.671199999999999,
            "count": 0
           },
           {
            "bin_end": 7.854,
            "bin_start": 7.262599999999999,
            "count": 1
           }
          ],
          "max": "7.854",
          "min": "1.94",
          "nan_count": 1,
          "unique_count": 2
         }
        },
        {
         "dtype": "float64",
         "name": "1999",
         "stats": {
          "histogram": [
           {
            "bin_end": 2.4954,
            "bin_start": 1.905,
            "count": 1
           },
           {
            "bin_end": 3.0858,
            "bin_start": 2.4954,
            "count": 0
           },
           {
            "bin_end": 3.6762,
            "bin_start": 3.0858,
            "count": 0
           },
           {
            "bin_end": 4.2666,
            "bin_start": 3.6762,
            "count": 0
           },
           {
            "bin_end": 4.857,
            "bin_start": 4.2666,
            "count": 0
           },
           {
            "bin_end": 5.4474,
            "bin_start": 4.857,
            "count": 0
           },
           {
            "bin_end": 6.037800000000001,
            "bin_start": 5.4474,
            "count": 0
           },
           {
            "bin_end": 6.6282000000000005,
            "bin_start": 6.037800000000001,
            "count": 0
           },
           {
            "bin_end": 7.2186,
            "bin_start": 6.6282000000000005,
            "count": 0
           },
           {
            "bin_end": 7.809,
            "bin_start": 7.2186,
            "count": 1
           }
          ],
          "max": "7.809",
          "min": "1.905",
          "nan_count": 1,
          "unique_count": 2
         }
        },
        {
         "dtype": "float64",
         "name": "2000",
         "stats": {
          "histogram": [
           {
            "bin_end": 2.4599,
            "bin_start": 1.874,
            "count": 1
           },
           {
            "bin_end": 3.0458,
            "bin_start": 2.4599,
            "count": 0
           },
           {
            "bin_end": 3.6317,
            "bin_start": 3.0458,
            "count": 0
           },
           {
            "bin_end": 4.2176,
            "bin_start": 3.6317,
            "count": 0
           },
           {
            "bin_end": 4.8035,
            "bin_start": 4.2176,
            "count": 0
           },
           {
            "bin_end": 5.3894,
            "bin_start": 4.8035,
            "count": 0
           },
           {
            "bin_end": 5.975300000000001,
            "bin_start": 5.3894,
            "count": 0
           },
           {
            "bin_end": 6.5611999999999995,
            "bin_start": 5.975300000000001,
            "count": 0
           },
           {
            "bin_end": 7.1471,
            "bin_start": 6.5611999999999995,
            "count": 0
           },
           {
            "bin_end": 7.733,
            "bin_start": 7.1471,
            "count": 1
           }
          ],
          "max": "7.733",
          "min": "1.874",
          "nan_count": 1,
          "unique_count": 2
         }
        },
        {
         "dtype": "float64",
         "name": "2001",
         "stats": {
          "histogram": [
           {
            "bin_end": 2.4254999999999995,
            "bin_start": 1.848,
            "count": 1
           },
           {
            "bin_end": 3.0029999999999992,
            "bin_start": 2.4254999999999995,
            "count": 0
           },
           {
            "bin_end": 3.580499999999999,
            "bin_start": 3.0029999999999992,
            "count": 0
           },
           {
            "bin_end": 4.157999999999999,
            "bin_start": 3.580499999999999,
            "count": 0
           },
           {
            "bin_end": 4.735499999999998,
            "bin_start": 4.157999999999999,
            "count": 0
           },
           {
            "bin_end": 5.312999999999998,
            "bin_start": 4.735499999999998,
            "count": 0
           },
           {
            "bin_end": 5.890499999999998,
            "bin_start": 5.312999999999998,
            "count": 0
           },
           {
            "bin_end": 6.467999999999997,
            "bin_start": 5.890499999999998,
            "count": 0
           },
           {
            "bin_end": 7.045499999999997,
            "bin_start": 6.467999999999997,
            "count": 0
           },
           {
            "bin_end": 7.622999999999997,
            "bin_start": 7.045499999999997,
            "count": 1
           }
          ],
          "max": "7.622999999999997",
          "min": "1.848",
          "nan_count": 1,
          "unique_count": 2
         }
        },
        {
         "dtype": "float64",
         "name": "2002",
         "stats": {
          "histogram": [
           {
            "bin_end": 2.3909,
            "bin_start": 1.825,
            "count": 1
           },
           {
            "bin_end": 2.9568,
            "bin_start": 2.3909,
            "count": 0
           },
           {
            "bin_end": 3.5226999999999995,
            "bin_start": 2.9568,
            "count": 0
           },
           {
            "bin_end": 4.0886,
            "bin_start": 3.5226999999999995,
            "count": 0
           },
           {
            "bin_end": 4.6545,
            "bin_start": 4.0886,
            "count": 0
           },
           {
            "bin_end": 5.2204,
            "bin_start": 4.6545,
            "count": 0
           },
           {
            "bin_end": 5.7863,
            "bin_start": 5.2204,
            "count": 0
           },
           {
            "bin_end": 6.3522,
            "bin_start": 5.7863,
            "count": 0
           },
           {
            "bin_end": 6.9181,
            "bin_start": 6.3522,
            "count": 0
           },
           {
            "bin_end": 7.484,
            "bin_start": 6.9181,
            "count": 1
           }
          ],
          "max": "7.484",
          "min": "1.825",
          "nan_count": 1,
          "unique_count": 2
         }
        },
        {
         "dtype": "float64",
         "name": "2003",
         "stats": {
          "histogram": [
           {
            "bin_end": 2.3566000000000003,
            "bin_start": 1.805,
            "count": 1
           },
           {
            "bin_end": 2.9082000000000003,
            "bin_start": 2.3566000000000003,
            "count": 0
           },
           {
            "bin_end": 3.4598000000000004,
            "bin_start": 2.9082000000000003,
            "count": 0
           },
           {
            "bin_end": 4.011400000000001,
            "bin_start": 3.4598000000000004,
            "count": 0
           },
           {
            "bin_end": 4.563000000000001,
            "bin_start": 4.011400000000001,
            "count": 0
           },
           {
            "bin_end": 5.114600000000001,
            "bin_start": 4.563000000000001,
            "count": 0
           },
           {
            "bin_end": 5.666200000000002,
            "bin_start": 5.114600000000001,
            "count": 0
           },
           {
            "bin_end": 6.217800000000001,
            "bin_start": 5.666200000000002,
            "count": 0
           },
           {
            "bin_end": 6.769400000000002,
            "bin_start": 6.217800000000001,
            "count": 0
           },
           {
            "bin_end": 7.3210000000000015,
            "bin_start": 6.769400000000002,
            "count": 1
           }
          ],
          "max": "7.3210000000000015",
          "min": "1.805",
          "nan_count": 1,
          "unique_count": 2
         }
        },
        {
         "dtype": "float64",
         "name": "2004",
         "stats": {
          "histogram": [
           {
            "bin_end": 2.3209999999999997,
            "bin_start": 1.786,
            "count": 1
           },
           {
            "bin_end": 2.856,
            "bin_start": 2.3209999999999997,
            "count": 0
           },
           {
            "bin_end": 3.391,
            "bin_start": 2.856,
            "count": 0
           },
           {
            "bin_end": 3.9259999999999997,
            "bin_start": 3.391,
            "count": 0
           },
           {
            "bin_end": 4.461,
            "bin_start": 3.9259999999999997,
            "count": 0
           },
           {
            "bin_end": 4.9959999999999996,
            "bin_start": 4.461,
            "count": 0
           },
           {
            "bin_end": 5.530999999999999,
            "bin_start": 4.9959999999999996,
            "count": 0
           },
           {
            "bin_end": 6.065999999999999,
            "bin_start": 5.530999999999999,
            "count": 0
           },
           {
            "bin_end": 6.600999999999999,
            "bin_start": 6.065999999999999,
            "count": 0
           },
           {
            "bin_end": 7.136,
            "bin_start": 6.600999999999999,
            "count": 1
           }
          ],
          "max": "7.136",
          "min": "1.786",
          "nan_count": 1,
          "unique_count": 2
         }
        },
        {
         "dtype": "float64",
         "name": "2005",
         "stats": {
          "histogram": [
           {
            "bin_end": 2.2851,
            "bin_start": 1.769,
            "count": 1
           },
           {
            "bin_end": 2.8011999999999997,
            "bin_start": 2.2851,
            "count": 0
           },
           {
            "bin_end": 3.3173,
            "bin_start": 2.8011999999999997,
            "count": 0
           },
           {
            "bin_end": 3.8334,
            "bin_start": 3.3173,
            "count": 0
           },
           {
            "bin_end": 4.3495,
            "bin_start": 3.8334,
            "count": 0
           },
           {
            "bin_end": 4.8656,
            "bin_start": 4.3495,
            "count": 0
           },
           {
            "bin_end": 5.3817,
            "bin_start": 4.8656,
            "count": 0
           },
           {
            "bin_end": 5.8978,
            "bin_start": 5.3817,
            "count": 0
           },
           {
            "bin_end": 6.4139,
            "bin_start": 5.8978,
            "count": 0
           },
           {
            "bin_end": 6.93,
            "bin_start": 6.4139,
            "count": 1
           }
          ],
          "max": "6.93",
          "min": "1.769",
          "nan_count": 1,
          "unique_count": 2
         }
        },
        {
         "dtype": "float64",
         "name": "2006",
         "stats": {
          "histogram": [
           {
            "bin_end": 1.7862,
            "bin_start": 1.24,
            "count": 2
           },
           {
            "bin_end": 2.3324,
            "bin_start": 1.7862,
            "count": 0
           },
           {
            "bin_end": 2.8786,
            "bin_start": 2.3324,
            "count": 0
           },
           {
            "bin_end": 3.4248000000000003,
            "bin_start": 2.8786,
            "count": 0
           },
           {
            "bin_end": 3.971,
            "bin_start": 3.4248000000000003,
            "count": 0
           },
           {
            "bin_end": 4.5172,
            "bin_start": 3.971,
            "count": 0
           },
           {
            "bin_end": 5.063400000000001,
            "bin_start": 4.5172,
            "count": 0
           },
           {
            "bin_end": 5.6096,
            "bin_start": 5.063400000000001,
            "count": 0
           },
           {
            "bin_end": 6.1558,
            "bin_start": 5.6096,
            "count": 0
           },
           {
            "bin_end": 6.702000000000001,
            "bin_start": 6.1558,
            "count": 1
           }
          ],
          "max": "6.702000000000001",
          "min": "1.24",
          "nan_count": 0,
          "unique_count": 3
         }
        },
        {
         "dtype": "float64",
         "name": "2007",
         "stats": {
          "histogram": [
           {
            "bin_end": 1.7076,
            "bin_start": 1.18,
            "count": 1
           },
           {
            "bin_end": 2.2352,
            "bin_start": 1.7076,
            "count": 1
           },
           {
            "bin_end": 2.7628000000000004,
            "bin_start": 2.2352,
            "count": 0
           },
           {
            "bin_end": 3.2904,
            "bin_start": 2.7628000000000004,
            "count": 0
           },
           {
            "bin_end": 3.8180000000000005,
            "bin_start": 3.2904,
            "count": 0
           },
           {
            "bin_end": 4.3456,
            "bin_start": 3.8180000000000005,
            "count": 0
           },
           {
            "bin_end": 4.873200000000001,
            "bin_start": 4.3456,
            "count": 0
           },
           {
            "bin_end": 5.4008,
            "bin_start": 4.873200000000001,
            "count": 0
           },
           {
            "bin_end": 5.9284,
            "bin_start": 5.4008,
            "count": 0
           },
           {
            "bin_end": 6.456,
            "bin_start": 5.9284,
            "count": 1
           }
          ],
          "max": "6.456",
          "min": "1.18",
          "nan_count": 0,
          "unique_count": 3
         }
        },
        {
         "dtype": "float64",
         "name": "2008",
         "stats": {
          "histogram": [
           {
            "bin_end": 1.7446000000000002,
            "bin_start": 1.25,
            "count": 2
           },
           {
            "bin_end": 2.2392000000000003,
            "bin_start": 1.7446000000000002,
            "count": 0
           },
           {
            "bin_end": 2.7338000000000005,
            "bin_start": 2.2392000000000003,
            "count": 0
           },
           {
            "bin_end": 3.2284000000000006,
            "bin_start": 2.7338000000000005,
            "count": 0
           },
           {
            "bin_end": 3.7230000000000008,
            "bin_start": 3.2284000000000006,
            "count": 0
           },
           {
            "bin_end": 4.217600000000001,
            "bin_start": 3.7230000000000008,
            "count": 0
           },
           {
            "bin_end": 4.712200000000001,
            "bin_start": 4.217600000000001,
            "count": 0
           },
           {
            "bin_end": 5.206800000000001,
            "bin_start": 4.712200000000001,
            "count": 0
           },
           {
            "bin_end": 5.701400000000001,
            "bin_start": 5.206800000000001,
            "count": 0
           },
           {
            "bin_end": 6.1960000000000015,
            "bin_start": 5.701400000000001,
            "count": 1
           }
          ],
          "max": "6.1960000000000015",
          "min": "1.25",
          "nan_count": 0,
          "unique_count": 3
         }
        },
        {
         "dtype": "float64",
         "name": "2009",
         "stats": {
          "histogram": [
           {
            "bin_end": 1.6638,
            "bin_start": 1.19,
            "count": 1
           },
           {
            "bin_end": 2.1376,
            "bin_start": 1.6638,
            "count": 1
           },
           {
            "bin_end": 2.6113999999999997,
            "bin_start": 2.1376,
            "count": 0
           },
           {
            "bin_end": 3.0851999999999995,
            "bin_start": 2.6113999999999997,
            "count": 0
           },
           {
            "bin_end": 3.5589999999999997,
            "bin_start": 3.0851999999999995,
            "count": 0
           },
           {
            "bin_end": 4.0328,
            "bin_start": 3.5589999999999997,
            "count": 0
           },
           {
            "bin_end": 4.5066,
            "bin_start": 4.0328,
            "count": 0
           },
           {
            "bin_end": 4.9803999999999995,
            "bin_start": 4.5066,
            "count": 0
           },
           {
            "bin_end": 5.4542,
            "bin_start": 4.9803999999999995,
            "count": 0
           },
           {
            "bin_end": 5.928,
            "bin_start": 5.4542,
            "count": 1
           }
          ],
          "max": "5.928",
          "min": "1.19",
          "nan_count": 0,
          "unique_count": 3
         }
        },
        {
         "dtype": "float64",
         "name": "2010",
         "stats": {
          "histogram": [
           {
            "bin_end": 1.6639,
            "bin_start": 1.22,
            "count": 1
           },
           {
            "bin_end": 2.1078,
            "bin_start": 1.6639,
            "count": 1
           },
           {
            "bin_end": 2.5517000000000003,
            "bin_start": 2.1078,
            "count": 0
           },
           {
            "bin_end": 2.9956,
            "bin_start": 2.5517000000000003,
            "count": 0
           },
           {
            "bin_end": 3.4395,
            "bin_start": 2.9956,
            "count": 0
           },
           {
            "bin_end": 3.8834,
            "bin_start": 3.4395,
            "count": 0
           },
           {
            "bin_end": 4.3273,
            "bin_start": 3.8834,
            "count": 0
           },
           {
            "bin_end": 4.7712,
            "bin_start": 4.3273,
            "count": 0
           },
           {
            "bin_end": 5.2151000000000005,
            "bin_start": 4.7712,
            "count": 0
           },
           {
            "bin_end": 5.659,
            "bin_start": 5.2151000000000005,
            "count": 1
           }
          ],
          "max": "5.659",
          "min": "1.22",
          "nan_count": 0,
          "unique_count": 3
         }
        },
        {
         "dtype": "float64",
         "name": "2011",
         "stats": {
          "histogram": [
           {
            "bin_end": 2.0604999999999998,
            "bin_start": 1.69,
            "count": 1
           },
           {
            "bin_end": 2.431,
            "bin_start": 2.0604999999999998,
            "count": 0
           },
           {
            "bin_end": 2.8015,
            "bin_start": 2.431,
            "count": 0
           },
           {
            "bin_end": 3.1719999999999997,
            "bin_start": 2.8015,
            "count": 0
           },
           {
            "bin_end": 3.5424999999999995,
            "bin_start": 3.1719999999999997,
            "count": 0
           },
           {
            "bin_end": 3.913,
            "bin_start": 3.5424999999999995,
            "count": 0
           },
           {
            "bin_end": 4.2835,
            "bin_start": 3.913,
            "count": 0
           },
           {
            "bin_end": 4.654,
            "bin_start": 4.2835,
            "count": 0
           },
           {
            "bin_end": 5.0245,
            "bin_start": 4.654,
            "count": 0
           },
           {
            "bin_end": 5.395,
            "bin_start": 5.0245,
            "count": 1
           }
          ],
          "max": "5.395",
          "min": "1.69",
          "nan_count": 1,
          "unique_count": 2
         }
        },
        {
         "dtype": "float64",
         "name": "2012",
         "stats": {
          "histogram": [
           {
            "bin_end": 0.1,
            "bin_start": 0,
            "count": 0
           },
           {
            "bin_end": 0.2,
            "bin_start": 0.1,
            "count": 0
           },
           {
            "bin_end": 0.30000000000000004,
            "bin_start": 0.2,
            "count": 0
           },
           {
            "bin_end": 0.4,
            "bin_start": 0.30000000000000004,
            "count": 0
           },
           {
            "bin_end": 0.5,
            "bin_start": 0.4,
            "count": 0
           },
           {
            "bin_end": 0.6000000000000001,
            "bin_start": 0.5,
            "count": 0
           },
           {
            "bin_end": 0.7000000000000001,
            "bin_start": 0.6000000000000001,
            "count": 0
           },
           {
            "bin_end": 0.8,
            "bin_start": 0.7000000000000001,
            "count": 0
           },
           {
            "bin_end": 0.9,
            "bin_start": 0.8,
            "count": 0
           },
           {
            "bin_end": 1,
            "bin_start": 0.9,
            "count": 0
           }
          ],
          "max": null,
          "min": null,
          "nan_count": 3,
          "unique_count": 0
         }
        },
        {
         "dtype": "float64",
         "name": "2013",
         "stats": {
          "histogram": [
           {
            "bin_end": 0.1,
            "bin_start": 0,
            "count": 0
           },
           {
            "bin_end": 0.2,
            "bin_start": 0.1,
            "count": 0
           },
           {
            "bin_end": 0.30000000000000004,
            "bin_start": 0.2,
            "count": 0
           },
           {
            "bin_end": 0.4,
            "bin_start": 0.30000000000000004,
            "count": 0
           },
           {
            "bin_end": 0.5,
            "bin_start": 0.4,
            "count": 0
           },
           {
            "bin_end": 0.6000000000000001,
            "bin_start": 0.5,
            "count": 0
           },
           {
            "bin_end": 0.7000000000000001,
            "bin_start": 0.6000000000000001,
            "count": 0
           },
           {
            "bin_end": 0.8,
            "bin_start": 0.7000000000000001,
            "count": 0
           },
           {
            "bin_end": 0.9,
            "bin_start": 0.8,
            "count": 0
           },
           {
            "bin_end": 1,
            "bin_start": 0.9,
            "count": 0
           }
          ],
          "max": null,
          "min": null,
          "nan_count": 3,
          "unique_count": 0
         }
        },
        {
         "dtype": "int64",
         "name": "_deepnote_index_column"
        }
       ],
       "row_count": 3,
       "rows_bottom": null,
       "rows_top": [
        {
         "1960": 4.82,
         "1961": 4.655,
         "1962": 4.471,
         "1963": 4.271,
         "1964": 4.059,
         "1965": 3.842,
         "1966": 3.625,
         "1967": 3.417,
         "1968": 3.2260000000000004,
         "1969": 3.054,
         "1970": 2.908,
         "1971": 2.7880000000000003,
         "1972": 2.6910000000000003,
         "1973": 2.613,
         "1974": 2.552,
         "1975": 2.506,
         "1976": 2.472,
         "1977": 2.446,
         "1978": 2.425,
         "1979": 2.408,
         "1980": 2.392,
         "1981": 2.377,
         "1982": 2.364,
         "1983": 2.353,
         "1984": 2.342,
         "1985": 2.332,
         "1986": 2.32,
         "1987": 2.307,
         "1988": 2.291,
         "1989": 2.272,
         "1990": 2.249,
         "1991": 2.221,
         "1992": 2.187,
         "1993": 2.149,
         "1994": 2.108,
         "1995": 2.064,
         "1996": 2.021,
         "1997": 1.979,
         "1998": 1.94,
         "1999": 1.905,
         "2000": 1.874,
         "2001": 1.848,
         "2002": 1.825,
         "2003": 1.805,
         "2004": 1.786,
         "2005": 1.769,
         "2006": 1.754,
         "2007": 1.739,
         "2008": 1.726,
         "2009": 1.713,
         "2010": 1.7009999999999998,
         "2011": 1.69,
         "2012": "nan",
         "2013": "nan",
         "Country Code": "ABW",
         "Country Name": "Aruba",
         "Indicator Code": "SP.DYN.TFRT.IN",
         "Indicator Name": "Fertility rate, total (births per woman)",
         "_deepnote_index_column": 0
        },
        {
         "1960": "nan",
         "1961": "nan",
         "1962": "nan",
         "1963": "nan",
         "1964": "nan",
         "1965": "nan",
         "1966": "nan",
         "1967": "nan",
         "1968": "nan",
         "1969": "nan",
         "1970": "nan",
         "1971": "nan",
         "1972": "nan",
         "1973": "nan",
         "1974": "nan",
         "1975": "nan",
         "1976": "nan",
         "1977": "nan",
         "1978": "nan",
         "1979": "nan",
         "1980": "nan",
         "1981": "nan",
         "1982": "nan",
         "1983": "nan",
         "1984": "nan",
         "1985": "nan",
         "1986": "nan",
         "1987": "nan",
         "1988": "nan",
         "1989": "nan",
         "1990": "nan",
         "1991": "nan",
         "1992": "nan",
         "1993": "nan",
         "1994": "nan",
         "1995": "nan",
         "1996": "nan",
         "1997": "nan",
         "1998": "nan",
         "1999": "nan",
         "2000": "nan",
         "2001": "nan",
         "2002": "nan",
         "2003": "nan",
         "2004": "nan",
         "2005": "nan",
         "2006": 1.24,
         "2007": 1.18,
         "2008": 1.25,
         "2009": 1.19,
         "2010": 1.22,
         "2011": "nan",
         "2012": "nan",
         "2013": "nan",
         "Country Code": "AND",
         "Country Name": "Andorra",
         "Indicator Code": "SP.DYN.TFRT.IN",
         "Indicator Name": "Fertility rate, total (births per woman)",
         "_deepnote_index_column": 1
        },
        {
         "1960": 7.671,
         "1961": 7.671,
         "1962": 7.671,
         "1963": 7.671,
         "1964": 7.671,
         "1965": 7.671,
         "1966": 7.671,
         "1967": 7.671,
         "1968": 7.671,
         "1969": 7.671,
         "1970": 7.671,
         "1971": 7.671,
         "1972": 7.671,
         "1973": 7.671,
         "1974": 7.671,
         "1975": 7.671,
         "1976": 7.67,
         "1977": 7.67,
         "1978": 7.67,
         "1979": 7.669,
         "1980": 7.669,
         "1981": 7.67,
         "1982": 7.671,
         "1983": 7.672999999999999,
         "1984": 7.676,
         "1985": 7.6789999999999985,
         "1986": 7.681,
         "1987": 7.682,
         "1988": 7.682,
         "1989": 7.682,
         "1990": 7.687,
         "1991": 7.7,
         "1992": 7.725,
         "1993": 7.757999999999999,
         "1994": 7.796,
         "1995": 7.832000000000002,
         "1996": 7.859,
         "1997": 7.869,
         "1998": 7.854,
         "1999": 7.809,
         "2000": 7.733,
         "2001": 7.622999999999997,
         "2002": 7.484,
         "2003": 7.3210000000000015,
         "2004": 7.136,
         "2005": 6.93,
         "2006": 6.702000000000001,
         "2007": 6.456,
         "2008": 6.1960000000000015,
         "2009": 5.928,
         "2010": 5.659,
         "2011": 5.395,
         "2012": "nan",
         "2013": "nan",
         "Country Code": "AFG",
         "Country Name": "Afghanistan",
         "Indicator Code": "SP.DYN.TFRT.IN",
         "Indicator Name": "Fertility rate, total (births per woman)",
         "_deepnote_index_column": 2
        }
       ]
      },
      "text/html": [
       "<div>\n",
       "<style scoped>\n",
       "    .dataframe tbody tr th:only-of-type {\n",
       "        vertical-align: middle;\n",
       "    }\n",
       "\n",
       "    .dataframe tbody tr th {\n",
       "        vertical-align: top;\n",
       "    }\n",
       "\n",
       "    .dataframe thead th {\n",
       "        text-align: right;\n",
       "    }\n",
       "</style>\n",
       "<table border=\"1\" class=\"dataframe\">\n",
       "  <thead>\n",
       "    <tr style=\"text-align: right;\">\n",
       "      <th></th>\n",
       "      <th>Country Name</th>\n",
       "      <th>Country Code</th>\n",
       "      <th>Indicator Name</th>\n",
       "      <th>Indicator Code</th>\n",
       "      <th>1960</th>\n",
       "      <th>1961</th>\n",
       "      <th>1962</th>\n",
       "      <th>1963</th>\n",
       "      <th>1964</th>\n",
       "      <th>1965</th>\n",
       "      <th>...</th>\n",
       "      <th>2004</th>\n",
       "      <th>2005</th>\n",
       "      <th>2006</th>\n",
       "      <th>2007</th>\n",
       "      <th>2008</th>\n",
       "      <th>2009</th>\n",
       "      <th>2010</th>\n",
       "      <th>2011</th>\n",
       "      <th>2012</th>\n",
       "      <th>2013</th>\n",
       "    </tr>\n",
       "  </thead>\n",
       "  <tbody>\n",
       "    <tr>\n",
       "      <th>0</th>\n",
       "      <td>Aruba</td>\n",
       "      <td>ABW</td>\n",
       "      <td>Fertility rate, total (births per woman)</td>\n",
       "      <td>SP.DYN.TFRT.IN</td>\n",
       "      <td>4.820</td>\n",
       "      <td>4.655</td>\n",
       "      <td>4.471</td>\n",
       "      <td>4.271</td>\n",
       "      <td>4.059</td>\n",
       "      <td>3.842</td>\n",
       "      <td>...</td>\n",
       "      <td>1.786</td>\n",
       "      <td>1.769</td>\n",
       "      <td>1.754</td>\n",
       "      <td>1.739</td>\n",
       "      <td>1.726</td>\n",
       "      <td>1.713</td>\n",
       "      <td>1.701</td>\n",
       "      <td>1.690</td>\n",
       "      <td>NaN</td>\n",
       "      <td>NaN</td>\n",
       "    </tr>\n",
       "    <tr>\n",
       "      <th>1</th>\n",
       "      <td>Andorra</td>\n",
       "      <td>AND</td>\n",
       "      <td>Fertility rate, total (births per woman)</td>\n",
       "      <td>SP.DYN.TFRT.IN</td>\n",
       "      <td>NaN</td>\n",
       "      <td>NaN</td>\n",
       "      <td>NaN</td>\n",
       "      <td>NaN</td>\n",
       "      <td>NaN</td>\n",
       "      <td>NaN</td>\n",
       "      <td>...</td>\n",
       "      <td>NaN</td>\n",
       "      <td>NaN</td>\n",
       "      <td>1.240</td>\n",
       "      <td>1.180</td>\n",
       "      <td>1.250</td>\n",
       "      <td>1.190</td>\n",
       "      <td>1.220</td>\n",
       "      <td>NaN</td>\n",
       "      <td>NaN</td>\n",
       "      <td>NaN</td>\n",
       "    </tr>\n",
       "    <tr>\n",
       "      <th>2</th>\n",
       "      <td>Afghanistan</td>\n",
       "      <td>AFG</td>\n",
       "      <td>Fertility rate, total (births per woman)</td>\n",
       "      <td>SP.DYN.TFRT.IN</td>\n",
       "      <td>7.671</td>\n",
       "      <td>7.671</td>\n",
       "      <td>7.671</td>\n",
       "      <td>7.671</td>\n",
       "      <td>7.671</td>\n",
       "      <td>7.671</td>\n",
       "      <td>...</td>\n",
       "      <td>7.136</td>\n",
       "      <td>6.930</td>\n",
       "      <td>6.702</td>\n",
       "      <td>6.456</td>\n",
       "      <td>6.196</td>\n",
       "      <td>5.928</td>\n",
       "      <td>5.659</td>\n",
       "      <td>5.395</td>\n",
       "      <td>NaN</td>\n",
       "      <td>NaN</td>\n",
       "    </tr>\n",
       "  </tbody>\n",
       "</table>\n",
       "<p>3 rows × 58 columns</p>\n",
       "</div>"
      ],
      "text/plain": [
       "  Country Name Country Code                            Indicator Name  \\\n",
       "0        Aruba          ABW  Fertility rate, total (births per woman)   \n",
       "1      Andorra          AND  Fertility rate, total (births per woman)   \n",
       "2  Afghanistan          AFG  Fertility rate, total (births per woman)   \n",
       "\n",
       "   Indicator Code   1960   1961   1962   1963   1964   1965  ...   2004  \\\n",
       "0  SP.DYN.TFRT.IN  4.820  4.655  4.471  4.271  4.059  3.842  ...  1.786   \n",
       "1  SP.DYN.TFRT.IN    NaN    NaN    NaN    NaN    NaN    NaN  ...    NaN   \n",
       "2  SP.DYN.TFRT.IN  7.671  7.671  7.671  7.671  7.671  7.671  ...  7.136   \n",
       "\n",
       "    2005   2006   2007   2008   2009   2010   2011  2012  2013  \n",
       "0  1.769  1.754  1.739  1.726  1.713  1.701  1.690   NaN   NaN  \n",
       "1    NaN  1.240  1.180  1.250  1.190  1.220    NaN   NaN   NaN  \n",
       "2  6.930  6.702  6.456  6.196  5.928  5.659  5.395   NaN   NaN  \n",
       "\n",
       "[3 rows x 58 columns]"
      ]
     },
     "execution_count": 7,
     "metadata": {},
     "output_type": "execute_result"
    }
   ],
   "source": [
    "import statsmodels.api as sm  # !pip install statsmodels\n",
    "df = sm.datasets.fertility.load()['data']\n",
    "df.head(3)"
   ]
  },
  {
   "cell_type": "markdown",
   "metadata": {
    "cell_id": "00007-ab4ddb89-0269-4d8d-9888-857cabeea90f",
    "deepnote_cell_type": "markdown",
    "id": "innovative-notion"
   },
   "source": [
    "### What significant differences are there between the fertility rates in 1990, 2000, and 2010?"
   ]
  },
  {
   "cell_type": "markdown",
   "metadata": {
    "cell_id": "00008-01592516-7ac0-495a-8aa6-d209949bceeb",
    "deepnote_cell_type": "markdown",
    "id": "divided-commercial"
   },
   "source": [
    "### Parametric Tests\n",
    "\n",
    "Follow the flowchart in the **ANOVA** section of the penguoin docs to test for differences in the mean fertility rate between these 3 years.  Even the deta is not homoscedastic, go ahead and do the anova and pairwise tests\n",
    "\n",
    "https://pingouin-stats.org/guidelines.html#id5"
   ]
  },
  {
   "cell_type": "code",
   "execution_count": null,
   "metadata": {
    "cell_id": "00009-28b9d738-baaf-43b9-b84a-f4072cfa8169",
    "deepnote_cell_type": "code",
    "id": "exceptional-prince"
   },
   "outputs": [],
   "source": []
  },
  {
   "cell_type": "code",
   "execution_count": null,
   "metadata": {
    "cell_id": "00010-afe39e64-c8d2-4b59-a62a-3c0b9465753f",
    "deepnote_cell_type": "code",
    "id": "marine-vehicle"
   },
   "outputs": [],
   "source": []
  },
  {
   "cell_type": "code",
   "execution_count": null,
   "metadata": {
    "cell_id": "00011-4abdca30-51ff-471a-9e6b-d41aaf19268b",
    "deepnote_cell_type": "code",
    "id": "rising-letter"
   },
   "outputs": [],
   "source": []
  },
  {
   "cell_type": "code",
   "execution_count": null,
   "metadata": {
    "cell_id": "00012-747d5c26-b9f9-4c55-beb8-4d396e125ce3",
    "deepnote_cell_type": "code",
    "id": "pacific-messenger"
   },
   "outputs": [],
   "source": []
  },
  {
   "cell_type": "markdown",
   "metadata": {
    "cell_id": "00013-1d93d4f9-0bc2-49e4-adf6-bf55a252f590",
    "deepnote_cell_type": "markdown",
    "id": "interesting-mileage"
   },
   "source": [
    "### Nonparametric Tests\n",
    "\n",
    "The data isn't normally distributred!  So let's do the same thing, but with the tests that don't need to make any assumptions about the distribution of our data.  Follow the flowchart in the **Non-Parametric** section of the penguoin docs to test for differences in the mean fertility rate between these 3 years.  \n",
    "\n",
    "https://pingouin-stats.org/guidelines.html#id7"
   ]
  },
  {
   "cell_type": "code",
   "execution_count": null,
   "metadata": {
    "cell_id": "00014-81b08584-0b64-4797-b9ad-f20a8db2b92d",
    "deepnote_cell_type": "code",
    "id": "committed-qatar"
   },
   "outputs": [],
   "source": []
  },
  {
   "cell_type": "markdown",
   "metadata": {
    "cell_id": "00015-175a698f-1c00-47a9-8c57-473dba32c289",
    "deepnote_cell_type": "markdown",
    "id": "elder-trigger"
   },
   "source": [
    "## Correlation Tests\n",
    "\n",
    "Follow the flowchart in the **Non-Parametric** section of the penguoin docs to test for differences in the mean fertility rate between these 3 years.  \n",
    "\n",
    "https://pingouin-stats.org/guidelines.html#id6"
   ]
  },
  {
   "cell_type": "markdown",
   "metadata": {
    "cell_id": "00016-ce948a4d-8d60-4ee1-be39-1184fded7160",
    "deepnote_cell_type": "markdown",
    "id": "lesbian-dictionary"
   },
   "source": []
  },
  {
   "cell_type": "markdown",
   "metadata": {
    "cell_id": "00017-a9bb2243-c30a-4c3e-ad27-b37cbe1a7baa",
    "deepnote_cell_type": "markdown",
    "id": "ranking-administrator"
   },
   "source": [
    "### Is there a significant correlation between time Germany's fertility rate and France's fertility rate?"
   ]
  },
  {
   "cell_type": "code",
   "execution_count": null,
   "metadata": {
    "cell_id": "00018-1ba93011-18af-4509-ad8b-e43413c11322",
    "deepnote_cell_type": "code",
    "id": "velvet-ballot"
   },
   "outputs": [],
   "source": []
  },
  {
   "cell_type": "markdown",
   "metadata": {
    "cell_id": "00019-1ddf953f-5b92-4ee1-92f4-51e173863ef1",
    "deepnote_cell_type": "markdown",
    "id": "professional-receptor"
   },
   "source": [
    "### Is there a significant correlation between time Germany's fertility rate and India's fertility rate?"
   ]
  },
  {
   "cell_type": "code",
   "execution_count": null,
   "metadata": {
    "cell_id": "00020-ad9b2376-2858-4626-9ec6-b1d4d672c502",
    "deepnote_cell_type": "code",
    "id": "exceptional-suspension"
   },
   "outputs": [],
   "source": []
  },
  {
   "cell_type": "markdown",
   "metadata": {
    "cell_id": "00021-ff2b74b8-a547-4908-b641-def81b735228",
    "deepnote_cell_type": "markdown",
    "id": "senior-mountain"
   },
   "source": []
  },
  {
   "cell_type": "markdown",
   "metadata": {
    "cell_id": "00022-377a22fd-decd-4d9a-928e-62531aff2ae8",
    "deepnote_cell_type": "markdown",
    "id": "worst-allen"
   },
   "source": [
    "### Is there a significant correlation between time (Year) fertility rate?\n",
    "\n",
    "Before running the correlation test, Get a new dataframe with just \"Country Name\", \"Year\", and \"Fertility Rate\" columns, and change the Year column to integers using the `DataFrame.melt()` method\n",
    "\n",
    "*Hint*: A list of column names in a DataFrame is at `DataFrame.columns`\n",
    "Get a new dataframe with just \"Country Name\", \"Year\", and \"Fertility Rate\" columns, and change the Year column to integers\n"
   ]
  },
  {
   "cell_type": "markdown",
   "metadata": {
    "cell_id": "00023-0680e92f-3274-4654-bca7-7ebcf277d5eb",
    "deepnote_cell_type": "markdown",
    "id": "daily-weekly"
   },
   "source": []
  },
  {
   "cell_type": "code",
   "execution_count": null,
   "metadata": {
    "cell_id": "00024-79d1124e-dda0-47d3-8da4-2b27985024ac",
    "deepnote_cell_type": "code",
    "id": "beautiful-alexandria"
   },
   "outputs": [],
   "source": []
  },
  {
   "cell_type": "markdown",
   "metadata": {
    "cell_id": "00025-dcb8c893-9197-46c5-9490-d932bb3ac331",
    "deepnote_cell_type": "markdown",
    "id": "catholic-packaging"
   },
   "source": [
    "### Is there a significant correlation between time (Year) and Germany's fertility rate?"
   ]
  },
  {
   "cell_type": "code",
   "execution_count": null,
   "metadata": {
    "cell_id": "00026-8ee5d69e-104f-47f9-a4fe-35cf611de547",
    "deepnote_cell_type": "code",
    "id": "tested-vault"
   },
   "outputs": [],
   "source": []
  },
  {
   "cell_type": "code",
   "execution_count": null,
   "metadata": {
    "cell_id": "00027-0e829c3a-a959-4fd5-9d44-e29d35d84761",
    "deepnote_cell_type": "code",
    "id": "educational-magnet"
   },
   "outputs": [],
   "source": []
  },
  {
   "cell_type": "markdown",
   "metadata": {
    "cell_id": "00028-47e23c09-42f1-4eaa-b027-43c8707fc77b",
    "deepnote_cell_type": "markdown",
    "id": "documentary-effects"
   },
   "source": [
    "## Further Reading\n",
    "\n",
    "Nice article on Pingouin here: https://towardsdatascience.com/the-new-kid-on-the-statistics-in-python-block-pingouin-6b353a1db57c"
   ]
  },
  {
   "cell_type": "code",
   "execution_count": null,
   "metadata": {
    "cell_id": "00029-6dcc2ab9-fb17-4284-ac9c-f08bd2ea31ee",
    "deepnote_cell_type": "code",
    "id": "warming-spelling"
   },
   "outputs": [],
   "source": []
  },
  {
   "cell_type": "markdown",
   "metadata": {
    "created_in_deepnote_cell": true,
    "deepnote_cell_type": "markdown",
    "tags": []
   },
   "source": [
    "<a style='text-decoration:none;line-height:16px;display:flex;color:#5B5B62;padding:10px;justify-content:end;' href='https://deepnote.com?utm_source=created-in-deepnote-cell&projectId=61a4b91b-9261-42f0-a4f5-a139c5d33a06' target=\"_blank\">\n",
    "<img alt='Created in deepnote.com' style='display:inline;max-height:16px;margin:0px;margin-right:7.5px;' src='data:image/svg+xml;base64,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' > </img>\n",
    "Created in <span style='font-weight:600;margin-left:4px;'>Deepnote</span></a>"
   ]
  }
 ],
 "metadata": {
  "colab": {
   "name": "20_Stats_With_Pingouin.ipynb",
   "provenance": []
  },
  "deepnote": {},
  "deepnote_execution_queue": [],
  "deepnote_notebook_id": "2622f8ad-4a8a-45f5-9f7f-6e1d67bd04f0",
  "kernelspec": {
   "display_name": "Python 3.10.4 ('py10')",
   "language": "python",
   "name": "python3"
  },
  "language_info": {
   "codemirror_mode": {
    "name": "ipython",
    "version": 3
   },
   "file_extension": ".py",
   "mimetype": "text/x-python",
   "name": "python",
   "nbconvert_exporter": "python",
   "pygments_lexer": "ipython3",
   "version": "3.10.4"
  },
  "vscode": {
   "interpreter": {
    "hash": "d6852d01271bf8033dbdb7ec364b6f6e89fd52a18c6bf5b4c73e48c86329a8dd"
   }
  }
 },
 "nbformat": 4,
 "nbformat_minor": 5
}
