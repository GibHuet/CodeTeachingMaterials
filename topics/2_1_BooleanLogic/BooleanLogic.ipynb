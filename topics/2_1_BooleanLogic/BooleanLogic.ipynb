{
 "cells": [
  {
   "cell_type": "markdown",
   "metadata": {
    "tags": [],
    "cell_id": "00000-74a52d48-f247-46da-bf63-df2036ac67a1",
    "deepnote_cell_type": "markdown"
   },
   "source": "## Quick Review: Boolean Logic\n\nBoolean logic works with two values: `True` and `False`.  These values are pretty useful!  You can produce these values using logical operators:\n\n| Is Greater, | Is Less,  | Is Equal, | Is Not Equal, | And, | Or, | Is Greator or Equal,  | Is Less or Equal |\n|  :-----:  | :-: |:--: | :----: | :-----: | :--: | :--: | :---: |\n| `>` |  `<`  | `==` | `!=` | `&` | `\\|` | `>=` | `<=` |\n\nFor example:\n\n```python\n>>> 3 > 5\nFalse\n\n>>> 6 == 6\nTrue\n```\n\n**Tip**: Keep in mind the difference between the assigment operator `=` and the equality comparison operator `==`, mixing them up sometimes leads to confusing errors.",
   "execution_count": null
  },
  {
   "cell_type": "markdown",
   "source": "**Exercises**: Use logical operators to have Python answer the following questions:",
   "metadata": {
    "tags": [],
    "cell_id": "00001-04d4fd61-8526-4e96-aca1-8270b2a27a94",
    "deepnote_cell_type": "markdown"
   }
  },
  {
   "cell_type": "markdown",
   "source": "Is five greater than six?",
   "metadata": {
    "tags": [],
    "cell_id": "00002-fe98737b-da24-40f1-bb9e-486d4066365d",
    "deepnote_cell_type": "markdown"
   },
   "outputs": [],
   "execution_count": null
  },
  {
   "outputs": [],
   "execution_count": 0,
   "cell_type": "code",
   "source": "",
   "metadata": {
    "tags": [],
    "cell_id": "00002-a9fcced9-3ad5-45fd-8dc5-179b18a102df",
    "deepnote_to_be_reexecuted": false,
    "source_hash": "b623e53d",
    "execution_start": 1636011833907,
    "deepnote_cell_type": "code"
   }
  },
  {
   "cell_type": "markdown",
   "source": "Is 8 x 4 the same as 32?",
   "metadata": {
    "tags": [],
    "cell_id": "00004-65944321-d347-4758-a3ab-410a89959287",
    "deepnote_cell_type": "markdown"
   },
   "outputs": [],
   "execution_count": null
  },
  {
   "outputs": [],
   "execution_count": null,
   "cell_type": "code",
   "source": "",
   "metadata": {
    "tags": [],
    "cell_id": "00005-746cf8e5-cc39-4aff-89dc-6164ca62dc07",
    "deepnote_cell_type": "code"
   }
  },
  {
   "cell_type": "markdown",
   "source": "Is the square root of 85 less than or equal to 9?",
   "metadata": {
    "tags": [],
    "cell_id": "00006-e7c3b9b3-9323-47e7-abc4-f6cc3aefa8a5",
    "deepnote_cell_type": "markdown"
   },
   "outputs": [],
   "execution_count": null
  },
  {
   "outputs": [],
   "execution_count": null,
   "cell_type": "code",
   "source": "",
   "metadata": {
    "tags": [],
    "cell_id": "00007-1e4d47a3-1e9d-4353-97d9-49faf9ee94bc",
    "deepnote_cell_type": "code"
   }
  },
  {
   "cell_type": "markdown",
   "source": "Is the sum of 1, 2, 3, 4, and 5 equal to 300 divided by 20?",
   "metadata": {
    "tags": [],
    "cell_id": "00008-a11a79e1-522a-42a9-ba7f-24a50a7a3b19",
    "deepnote_cell_type": "markdown"
   },
   "outputs": [],
   "execution_count": null
  },
  {
   "outputs": [],
   "execution_count": null,
   "cell_type": "code",
   "source": "",
   "metadata": {
    "tags": [],
    "cell_id": "00009-8239bf93-833f-4573-a38c-733e5b988430",
    "deepnote_cell_type": "code"
   }
  },
  {
   "cell_type": "markdown",
   "source": "Is the length of list 1 greater than the length of list 2?",
   "metadata": {
    "tags": [],
    "cell_id": "00010-d4e4c53f-d669-4f05-ad78-131d71b2a43d",
    "deepnote_cell_type": "markdown"
   },
   "outputs": [],
   "execution_count": null
  },
  {
   "outputs": [],
   "cell_type": "code",
   "source": "list1 = ['a', 'c', 'b', 'd']\nlist2 = ['ab', 'cd']\n",
   "metadata": {
    "tags": [],
    "cell_id": "00010-316d5097-500b-40ba-9523-a26a7cc85b05",
    "deepnote_to_be_reexecuted": false,
    "source_hash": "adc89bf",
    "execution_start": 1636012999295,
    "execution_millis": 0,
    "deepnote_cell_type": "code"
   },
   "execution_count": null
  },
  {
   "cell_type": "markdown",
   "source": "Is five to the fifth power equal to 5555?",
   "metadata": {
    "tags": [],
    "cell_id": "00012-4f61ed17-20e7-4018-a4a4-a738345d2b3f",
    "deepnote_cell_type": "markdown"
   },
   "outputs": [],
   "execution_count": null
  },
  {
   "cell_type": "markdown",
   "source": "",
   "metadata": {
    "tags": [],
    "cell_id": "00013-55031509-7f8b-422c-949e-447b3c49be7c",
    "deepnote_cell_type": "markdown"
   }
  },
  {
   "cell_type": "markdown",
   "source": "Are both of these statements true?\n  - 2 + 2 = 4\n  - 5 - 2 = 3",
   "metadata": {
    "tags": [],
    "cell_id": "00014-4f9acbd8-8cb9-45b3-a424-2bdd329e5da9",
    "deepnote_cell_type": "markdown"
   },
   "outputs": [],
   "execution_count": null
  },
  {
   "cell_type": "code",
   "source": "",
   "metadata": {
    "tags": [],
    "cell_id": "00015-d5f50ea2-8ef2-4cda-b15d-c51f5bf73b8b",
    "deepnote_cell_type": "code"
   },
   "outputs": [],
   "execution_count": null
  },
  {
   "cell_type": "markdown",
   "source": "Are both of these statements true?\n  - 10 x 2 = 20\n  - 20 x 2 = 200",
   "metadata": {
    "tags": [],
    "cell_id": "00016-d558bdcc-fd59-48bd-9cf9-bba868a29c1a",
    "deepnote_cell_type": "markdown"
   },
   "outputs": [],
   "execution_count": null
  },
  {
   "cell_type": "code",
   "source": "",
   "metadata": {
    "tags": [],
    "cell_id": "00017-fa0d2703-47df-4f8e-acce-c723e32e3311",
    "deepnote_cell_type": "code"
   },
   "outputs": [],
   "execution_count": null
  },
  {
   "cell_type": "markdown",
   "source": "Is at least one of these statements true?\n  - 1 + 1 = 3\n  - 0 + 0 = 0",
   "metadata": {
    "tags": [],
    "cell_id": "00018-bb63c6fc-7ffc-4f90-b312-acb3b73d088e",
    "deepnote_cell_type": "markdown"
   },
   "outputs": [],
   "execution_count": null
  },
  {
   "cell_type": "code",
   "source": "",
   "metadata": {
    "tags": [],
    "cell_id": "00019-32c50e90-078e-4779-9906-b6168a0d0ce2",
    "deepnote_cell_type": "code"
   },
   "outputs": [],
   "execution_count": null
  },
  {
   "cell_type": "markdown",
   "source": "### Experiment: Mixing Bools and Math Operators\n\nWe can also write `True` and `False` ourselves.  What happens when we do non-logical calculations on boolean types?",
   "metadata": {
    "tags": [],
    "cell_id": "00014-730b7843-722b-4450-9802-45a6e520995f",
    "deepnote_cell_type": "markdown"
   },
   "outputs": [],
   "execution_count": null
  },
  {
   "cell_type": "markdown",
   "source": "What is True + False?",
   "metadata": {
    "tags": [],
    "cell_id": "00015-68699d30-e791-418c-9dce-23cabae3b8c9",
    "deepnote_cell_type": "markdown"
   }
  },
  {
   "cell_type": "markdown",
   "source": "",
   "metadata": {
    "tags": [],
    "cell_id": "00022-8d36466c-e406-407c-ac66-4279fd243901",
    "deepnote_cell_type": "markdown"
   }
  },
  {
   "cell_type": "markdown",
   "source": "What is False + False?",
   "metadata": {
    "tags": [],
    "cell_id": "00023-01634d0d-5e5b-4131-b58a-831dfc2eb5bc",
    "deepnote_to_be_reexecuted": false,
    "source_hash": "5f8ed06",
    "execution_start": 1636013303208,
    "execution_millis": 3,
    "deepnote_cell_type": "markdown"
   },
   "outputs": [],
   "execution_count": 2
  },
  {
   "cell_type": "code",
   "source": "",
   "metadata": {
    "tags": [],
    "cell_id": "00024-977fe626-c051-45cc-ae6d-2bd45eac5c4b",
    "deepnote_cell_type": "code"
   },
   "outputs": [],
   "execution_count": null
  },
  {
   "cell_type": "markdown",
   "source": "What is True + True?",
   "metadata": {
    "tags": [],
    "cell_id": "00025-2708eff9-89a9-4a99-820e-825044129b67",
    "deepnote_cell_type": "markdown"
   },
   "outputs": [],
   "execution_count": null
  },
  {
   "cell_type": "markdown",
   "source": "",
   "metadata": {
    "tags": [],
    "cell_id": "00026-71f0cbb9-506d-4b86-8945-a5fe9afba7c3",
    "deepnote_cell_type": "markdown"
   }
  },
  {
   "cell_type": "markdown",
   "source": "What is True + 5?",
   "metadata": {
    "tags": [],
    "cell_id": "00027-c199db1a-3044-44f5-8cd3-0532824ed19a",
    "deepnote_cell_type": "markdown"
   },
   "outputs": [],
   "execution_count": null
  },
  {
   "cell_type": "markdown",
   "source": "",
   "metadata": {
    "tags": [],
    "cell_id": "00028-9d6fb412-c458-44c7-9711-3bef0c20390d",
    "deepnote_cell_type": "markdown"
   }
  },
  {
   "cell_type": "markdown",
   "source": "Discussion: What is happening here?",
   "metadata": {
    "tags": [],
    "cell_id": "00029-867908ee-3934-4a5f-9f57-6234b3cbc314",
    "deepnote_cell_type": "markdown"
   },
   "outputs": [],
   "execution_count": null
  },
  {
   "cell_type": "markdown",
   "source": "Run the following code.  What does this calculation mean?",
   "metadata": {
    "tags": [],
    "cell_id": "00030-7c45773f-b41b-4b2f-8d55-9832734723ad",
    "deepnote_cell_type": "markdown"
   }
  },
  {
   "outputs": [
    {
     "output_type": "execute_result",
     "execution_count": 3,
     "data": {
      "text/plain": "2"
     },
     "metadata": {}
    }
   ],
   "cell_type": "code",
   "source": "sum([True, False, True, False, False, False])",
   "metadata": {
    "tags": [],
    "cell_id": "00031-aad33469-88ce-49be-b446-60f72328fbd7",
    "deepnote_to_be_reexecuted": false,
    "source_hash": "6bd9c700",
    "execution_start": 1636013415824,
    "execution_millis": 8,
    "deepnote_cell_type": "code"
   },
   "execution_count": null
  },
  {
   "cell_type": "markdown",
   "source": "Run the following code. What does this calculation mean?",
   "metadata": {
    "tags": [],
    "cell_id": "00032-5fc1fc4d-40b8-4c93-acc4-c3820f0913e2",
    "deepnote_cell_type": "markdown"
   },
   "outputs": [],
   "execution_count": null
  },
  {
   "outputs": [
    {
     "output_type": "execute_result",
     "execution_count": 4,
     "data": {
      "text/plain": "0.3333333333333333"
     },
     "metadata": {}
    }
   ],
   "cell_type": "code",
   "source": "are_adults = [True, False, True, False, False, False]\nsum(are_adults) / len(are_adults)",
   "metadata": {
    "tags": [],
    "cell_id": "00033-2de1ff64-4898-44c5-b0e3-915a0cadc741",
    "deepnote_to_be_reexecuted": false,
    "source_hash": "678ff4d4",
    "execution_start": 1636013473200,
    "execution_millis": 6,
    "deepnote_cell_type": "code"
   },
   "execution_count": null
  },
  {
   "cell_type": "markdown",
   "source": "Run the following code.  Why does this result get the same answer?",
   "metadata": {
    "tags": [],
    "cell_id": "00034-2d645aae-d1aa-4c13-bfcf-65799cb9a714",
    "deepnote_cell_type": "markdown"
   },
   "outputs": [],
   "execution_count": null
  },
  {
   "outputs": [
    {
     "output_type": "execute_result",
     "execution_count": 5,
     "data": {
      "text/plain": "0.3333333333333333"
     },
     "metadata": {}
    }
   ],
   "cell_type": "code",
   "source": "import numpy as np\nare_adults = [True, False, True, False, False, False]\nnp.mean(are_adults)",
   "metadata": {
    "tags": [],
    "cell_id": "00035-0703fafb-07a0-4299-9d7e-692476546a35",
    "deepnote_to_be_reexecuted": false,
    "source_hash": "5de13700",
    "execution_start": 1636013524335,
    "execution_millis": 1,
    "deepnote_cell_type": "code"
   },
   "execution_count": null
  },
  {
   "cell_type": "markdown",
   "source": "<a style='text-decoration:none;line-height:16px;display:flex;color:#5B5B62;padding:10px;justify-content:end;' href='https://deepnote.com?utm_source=created-in-deepnote-cell&projectId=d703678d-f12c-4453-a422-685f3ee4b709' target=\"_blank\">\n<img alt='Created in deepnote.com' style='display:inline;max-height:16px;margin:0px;margin-right:7.5px;' src='data:image/svg+xml;base64,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' > </img>\nCreated in <span style='font-weight:600;margin-left:4px;'>Deepnote</span></a>",
   "metadata": {
    "tags": [],
    "created_in_deepnote_cell": true,
    "deepnote_cell_type": "markdown"
   }
  }
 ],
 "nbformat": 4,
 "nbformat_minor": 2,
 "metadata": {
  "orig_nbformat": 2,
  "deepnote": {
   "is_reactive": false
  },
  "deepnote_notebook_id": "91ab7fb7-9c6a-46f7-ba56-91ffe69d4c20",
  "deepnote_execution_queue": []
 }
}