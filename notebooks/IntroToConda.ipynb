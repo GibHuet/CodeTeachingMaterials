{
 "cells": [
  {
   "cell_type": "markdown",
   "metadata": {
    "cell_id": "a6fc8d956b7e4d93bf53b8fa92ecd186",
    "deepnote_cell_height": 375.859375,
    "deepnote_cell_type": "markdown",
    "owner_user_id": "c7a9f7f2-eddd-41d5-be7d-5159ad6417bb",
    "tags": []
   },
   "source": [
    "# Installing Python on your Local Machine using the Anaconda Distirubtion and the Conda Package Manager\n",
    "\n",
    "### Python Distributions\n",
    "\n",
    "Python can be downloaded straight from the [python.org](https://www.python.org) website, but it's also possible to get Python distributed from other places: https://wiki.python.org/moin/PythonDistributions.  These distributions often contain extra software, some of which can be helpful.\n",
    "\n",
    "The most popular Python distribution for data analysists is the [Anaconda Distribution](https://www.anaconda.com/products/distribution), which includes the [conda environment manager and package manager](https://docs.conda.io/en/latest/), a great tool for both downloading scientific software and managing projects seperately on your machine."
   ]
  },
  {
   "cell_type": "markdown",
   "metadata": {
    "cell_id": "b3ca4ec6c07e41119d2f8c8282ac76a4",
    "deepnote_cell_height": 1317.578125,
    "deepnote_cell_type": "markdown",
    "tags": []
   },
   "source": [
    "## Downloading and Installing Anaconda\n",
    "\n",
    "\n",
    "#### Checking if Anaconda is installed\n",
    "\n",
    "**Note: If Anaconda is already on your computer, there is no need to install it again!**\n",
    "\n",
    "On windows, if typing \"anaconda\" into the start menu shows items like the \"Anaconda Prompt\" or \"Anaconda Navigator\", then Anaconda is already installed.\n",
    "\n",
    "<img width=280 src=\"imgs/screenshot-anaconda-prompt-startmenu.png\"></img>\n",
    "\n",
    "#### Installing Anaconda\n",
    "\n",
    "##### Download the Anaconda Distribution\n",
    "\n",
    "https://www.anaconda.com/products/distribution\n",
    "\n",
    "[![Download Button](imgs/screenshot-anaconda.png)](https://www.anaconda.com/products/distribution)]\n",
    "\n",
    "\n",
    "##### Install the Anaconda Distribution \n",
    "\n",
    "<strong><p style=\"color: darkred\">Important: If your username has a space in it, install Anaconda \"For All Users\" to avoid some anaconda bugs.</p></strong>\n",
    "\n",
    "check that the Anaconda Prompt is available in the start menu.  If it's there, you're ready to go!\n",
    "\n"
   ]
  },
  {
   "cell_type": "markdown",
   "metadata": {
    "cell_id": "c33d22d3-35fd-4f5e-9d13-da261db917da",
    "deepnote_cell_height": 805.140625,
    "deepnote_cell_type": "markdown",
    "deepnote_to_be_reexecuted": false,
    "execution_millis": 7,
    "execution_start": 1653549385240,
    "source_hash": "ab860c8d",
    "tags": []
   },
   "source": [
    "## The Conda Package Manager\n",
    "\n",
    "The most valuable program that comes with Anaconda is the `conda` package manager; it's used to:\n",
    "\n",
    "  - Download Python, Python Packages, and even Non-Python Software and Packages\n",
    "  - Control where the Download goes, and which installation will be used at any given time.\n",
    "  \n",
    "\n",
    "![conda](imgs/screenshot-conda.png)\n",
    "\n"
   ]
  },
  {
   "cell_type": "markdown",
   "metadata": {
    "cell_id": "2b888edf094e47aba89a8f36d650f2db",
    "deepnote_cell_height": 376.875,
    "deepnote_cell_type": "markdown",
    "tags": []
   },
   "source": [
    "#### Essential Conda commands\n",
    "\n",
    "| Command | What it does | Example |\n",
    "| :------ | :----------- | :------ |\n",
    "| `conda upgrade` | Upgrade `conda` to the latest version | `conda upgrade` |\n",
    "| `conda create --name <envname>` | Create a fresh new environment to install programs into | `conda create --name wshop` |\n",
    "| `conda activate <envname>` | Set an environment to be \"active\", meaning its programs are the default ones | `conda activate wshop` |\n",
    "| `conda install <program>` | Install something into the currently-active environment | `conda install python=3.9` |\n",
    "| `conda install <package>` | Install a package into the currently-active environment | `conda install numpy` |\n",
    "| `conda update <package>` | Update a package to the latest version | `conda update conda` |\n",
    "| `conda list`  | Show a list all the installed packages |  `conda list ` |\n",
    "| `conda deactivate` | Deactivate the current environment, returning to the \"base\" env | `conda deactivate` |\n",
    ".\n",
    "\n"
   ]
  },
  {
   "cell_type": "markdown",
   "metadata": {
    "cell_id": "e34389148c634b22bc595ba2b75d5246",
    "deepnote_cell_height": 464.125,
    "deepnote_cell_type": "markdown",
    "tags": []
   },
   "source": [
    "\n",
    "##### Where do Python Packages Come From?  How do I select it?\n",
    "\n",
    "Python comes with a package manager called `pip` that also downloads packages, leading to some confusion on which package manager to use; `pip` or `conda`.  In general, it doesn't matter so much; both will make sure the software goes in the currently-active environment.  \n",
    "\n",
    "Sometimes packages will only be available on one or the other because of where they connect to download the packages (for example, `pip` only has access to Python packages, while `conda` can also access other software; additionally, conda is very focused on the most popular data science packages, while pip has almost everything in the Python ecosystem).  Below are some examples of how to get software from different places:\n",
    "\n",
    "| Command | Where From | Example |\n",
    "|:------- | :--------  | :------ |\n",
    "| `conda install <package>` | [Anaconda's Package Channel](https://docs.anaconda.com/anaconda/packages/py3.9_win-64/) | `conda install numpy` |\n",
    "| `conda install -c anaconda <package>` | [Anaconda's Package Channel](https://docs.anaconda.com/anaconda/packages/py3.9_win-64/) | `conda install -c anaconda numpy` |\n",
    "| `conda install -c conda-forge <package>` | [The Conda-Forge Channel](https://conda-forge.org/) | `conda install -c conda-forge ffmpeg` |\n",
    "| `pip install <package>` | [The Python Package Index (PyPI)](https://pypi.org/) | `pip install numpy` |\n",
    "| `pip install git+<url>` | A GitHub Repo | `pip install git+https://github.com/numpy/numpy` |"
   ]
  },
  {
   "cell_type": "markdown",
   "metadata": {
    "cell_id": "8c71184ae3ef4ca989e0908943a4c956",
    "deepnote_cell_height": 52.328125,
    "deepnote_cell_type": "markdown",
    "deepnote_to_be_reexecuted": false,
    "execution_millis": 21,
    "execution_start": 1653549406397,
    "source_hash": "dfb63157",
    "tags": []
   },
   "source": [
    "**Exercise Sequence**"
   ]
  },
  {
   "cell_type": "markdown",
   "metadata": {
    "cell_id": "72ce3ca0bfca4672861772cf9b56e034",
    "deepnote_cell_height": 52.328125,
    "deepnote_cell_type": "markdown",
    "tags": []
   },
   "source": [
    "a. List all the conda environments on your machine. Which environment is currently active?"
   ]
  },
  {
   "cell_type": "markdown",
   "metadata": {
    "cell_id": "03de09d9c3264595ade594cf688defd8",
    "deepnote_cell_height": 52.328125,
    "deepnote_cell_type": "markdown",
    "tags": []
   },
   "source": [
    "b. Create a new conda environment that has Python 3.9 installed, giving it a name like \"wshop1\""
   ]
  },
  {
   "cell_type": "markdown",
   "metadata": {
    "cell_id": "f00f463c5bf34b65bf6e24702698d84c",
    "deepnote_cell_height": 52.328125,
    "deepnote_cell_type": "markdown",
    "tags": []
   },
   "source": [
    "c. Activate the new environment you created."
   ]
  },
  {
   "cell_type": "markdown",
   "metadata": {
    "cell_id": "06b9c3cf796949dc85809ee569b433bb",
    "deepnote_cell_height": 74.734375,
    "deepnote_cell_type": "markdown",
    "tags": []
   },
   "source": [
    "d. Start the python interpreter using the `python` command.  Is it Python 3.9?  Try importing numpy.  Is it there?  Once you're satisfied, exit the Python interpreter with the `exit()` function."
   ]
  },
  {
   "cell_type": "markdown",
   "metadata": {
    "cell_id": "dc6383cf8f2b46e5b0235013b6e11e47",
    "deepnote_cell_height": 74.734375,
    "deepnote_cell_type": "markdown",
    "tags": []
   },
   "source": [
    "e. Install numpy using either the `pip install` or `conda install` command.  Check if it was successfully installed by importing numpy from inside Python again.  Did it work?"
   ]
  },
  {
   "cell_type": "markdown",
   "metadata": {
    "cell_id": "7f0af2f67f1c47268e2123abd5efe04c",
    "deepnote_cell_height": 52.328125,
    "deepnote_cell_type": "markdown",
    "tags": []
   },
   "source": [
    "f. Re-activate the base conda environment, then delete the new environment you created."
   ]
  },
  {
   "cell_type": "markdown",
   "metadata": {
    "created_in_deepnote_cell": true,
    "deepnote_cell_type": "markdown",
    "tags": []
   },
   "source": [
    "<a style='text-decoration:none;line-height:16px;display:flex;color:#5B5B62;padding:10px;justify-content:end;' href='https://deepnote.com?utm_source=created-in-deepnote-cell&projectId=079a4dfb-2bc9-4e09-914c-bf214a3b6bb8' target=\"_blank\">\n",
    "<img alt='Created in deepnote.com' style='display:inline;max-height:16px;margin:0px;margin-right:7.5px;' src='data:image/svg+xml;base64,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' > </img>\n",
    "Created in <span style='font-weight:600;margin-left:4px;'>Deepnote</span></a>"
   ]
  }
 ],
 "metadata": {
  "deepnote": {},
  "deepnote_execution_queue": [],
  "deepnote_notebook_id": "d1712f42-d27d-47e9-bd51-21930971af89",
  "kernelspec": {
   "display_name": "base",
   "language": "python",
   "name": "base"
  },
  "language_info": {
   "codemirror_mode": {
    "name": "ipython",
    "version": 3
   },
   "file_extension": ".py",
   "mimetype": "text/x-python",
   "name": "python",
   "nbconvert_exporter": "python",
   "pygments_lexer": "ipython3",
   "version": "3.8.13"
  }
 },
 "nbformat": 4,
 "nbformat_minor": 4
}
