{
 "cells": [
  {
   "cell_type": "markdown",
   "source": "# Data Processing",
   "metadata": {
    "cell_id": "00000-7450b8b2-770c-4f61-88bd-a5bf8cbe7e53",
    "deepnote_cell_type": "markdown"
   }
  },
  {
   "cell_type": "markdown",
   "source": "## Load the Data\n\nRead the data into a Pandas DataFrame.  Before analyzing the data, make sure the columns have real names! This can be done in one of two ways:\n\n*Approach A*: Put the column names in the data file, so Pandas detects the names upon loading.\n\n```\nNum, Name, Time, ...\n1, Nick, 3.1, ...\n2, James, 3.5, ...\n```\n.\n\n*Approach B*: Insert the names in your code, in the read_data step:\n  - `df = df.read_csv('myfile.csv', names=['Num', 'Name', 'Time', ...])`\n.\n\n*Approach C*: Load the data without names, then rename the columns in the file.  There are many ways to do this in Pandas, below are some options:\n  - `df = df.rename(columns={0: 'Num', 1: 'Name', 2: 'Time, ...})`\n  - `df.columns = ['Num', 'Name', 'Time', ...]`\n    \n\n*(5-Min Discussion)*: What are the pros and cons of each option?  When might you go with Approach A?  Approach B?  Approach C?  Which will you go with in this analysis? (Note that later on we'll be trying to merge everyone's data!)",
   "metadata": {
    "tags": [],
    "cell_id": "00001-e8faabbd-7fa3-47b2-952e-dfcfbcf6f27b",
    "deepnote_cell_type": "markdown"
   }
  },
  {
   "cell_type": "code",
   "metadata": {
    "deepnote_to_be_reexecuted": false,
    "execution_millis": 250,
    "execution_start": 1636912418856,
    "source_hash": "bfaa81f2",
    "tags": [],
    "cell_id": "00002-dfa63ecd-a038-4ae3-9b98-4d7c28283382",
    "deepnote_cell_type": "code"
   },
   "source": "import pandas as pd\ndf = pd.read_csv('../data/raw/stroop_nick.txt', sep='\\t', \n    names=['block', 'word', 'color', 'matches', 'tablerow', 'key', 'status', 'rt']\n    )\ndf.head()",
   "outputs": [
    {
     "output_type": "execute_result",
     "execution_count": 3,
     "data": {
      "application/vnd.deepnote.dataframe.v2+json": {
       "row_count": 5,
       "column_count": 8,
       "columns": [
        {
         "name": "block",
         "dtype": "object",
         "stats": {
          "unique_count": 1,
          "nan_count": 0,
          "categories": [
           {
            "name": "training",
            "count": 5
           }
          ]
         }
        },
        {
         "name": "word",
         "dtype": "object",
         "stats": {
          "unique_count": 3,
          "nan_count": 0,
          "categories": [
           {
            "name": "blue",
            "count": 3
           },
           {
            "name": "yellow",
            "count": 1
           },
           {
            "name": "green",
            "count": 1
           }
          ]
         }
        },
        {
         "name": "color",
         "dtype": "object",
         "stats": {
          "unique_count": 3,
          "nan_count": 0,
          "categories": [
           {
            "name": "yellow",
            "count": 2
           },
           {
            "name": "green",
            "count": 2
           },
           {
            "name": "blue",
            "count": 1
           }
          ]
         }
        },
        {
         "name": "matches",
         "dtype": "int64",
         "stats": {
          "unique_count": 2,
          "nan_count": 0,
          "min": "0",
          "max": "1",
          "histogram": [
           {
            "bin_start": 0,
            "bin_end": 0.1,
            "count": 4
           },
           {
            "bin_start": 0.1,
            "bin_end": 0.2,
            "count": 0
           },
           {
            "bin_start": 0.2,
            "bin_end": 0.30000000000000004,
            "count": 0
           },
           {
            "bin_start": 0.30000000000000004,
            "bin_end": 0.4,
            "count": 0
           },
           {
            "bin_start": 0.4,
            "bin_end": 0.5,
            "count": 0
           },
           {
            "bin_start": 0.5,
            "bin_end": 0.6000000000000001,
            "count": 0
           },
           {
            "bin_start": 0.6000000000000001,
            "bin_end": 0.7000000000000001,
            "count": 0
           },
           {
            "bin_start": 0.7000000000000001,
            "bin_end": 0.8,
            "count": 0
           },
           {
            "bin_start": 0.8,
            "bin_end": 0.9,
            "count": 0
           },
           {
            "bin_start": 0.9,
            "bin_end": 1,
            "count": 1
           }
          ]
         }
        },
        {
         "name": "tablerow",
         "dtype": "int64",
         "stats": {
          "unique_count": 4,
          "nan_count": 0,
          "min": "3",
          "max": "14",
          "histogram": [
           {
            "bin_start": 3,
            "bin_end": 4.1,
            "count": 1
           },
           {
            "bin_start": 4.1,
            "bin_end": 5.2,
            "count": 0
           },
           {
            "bin_start": 5.2,
            "bin_end": 6.300000000000001,
            "count": 0
           },
           {
            "bin_start": 6.300000000000001,
            "bin_end": 7.4,
            "count": 0
           },
           {
            "bin_start": 7.4,
            "bin_end": 8.5,
            "count": 0
           },
           {
            "bin_start": 8.5,
            "bin_end": 9.600000000000001,
            "count": 0
           },
           {
            "bin_start": 9.600000000000001,
            "bin_end": 10.700000000000001,
            "count": 1
           },
           {
            "bin_start": 10.700000000000001,
            "bin_end": 11.8,
            "count": 0
           },
           {
            "bin_start": 11.8,
            "bin_end": 12.9,
            "count": 0
           },
           {
            "bin_start": 12.9,
            "bin_end": 14,
            "count": 3
           }
          ]
         }
        },
        {
         "name": "key",
         "dtype": "int64",
         "stats": {
          "unique_count": 3,
          "nan_count": 0,
          "min": "2",
          "max": "4",
          "histogram": [
           {
            "bin_start": 2,
            "bin_end": 2.2,
            "count": 2
           },
           {
            "bin_start": 2.2,
            "bin_end": 2.4,
            "count": 0
           },
           {
            "bin_start": 2.4,
            "bin_end": 2.6,
            "count": 0
           },
           {
            "bin_start": 2.6,
            "bin_end": 2.8,
            "count": 0
           },
           {
            "bin_start": 2.8,
            "bin_end": 3,
            "count": 0
           },
           {
            "bin_start": 3,
            "bin_end": 3.2,
            "count": 1
           },
           {
            "bin_start": 3.2,
            "bin_end": 3.4000000000000004,
            "count": 0
           },
           {
            "bin_start": 3.4000000000000004,
            "bin_end": 3.6,
            "count": 0
           },
           {
            "bin_start": 3.6,
            "bin_end": 3.8,
            "count": 0
           },
           {
            "bin_start": 3.8,
            "bin_end": 4,
            "count": 2
           }
          ]
         }
        },
        {
         "name": "status",
         "dtype": "int64",
         "stats": {
          "unique_count": 1,
          "nan_count": 0,
          "min": "1",
          "max": "1",
          "histogram": [
           {
            "bin_start": 0.5,
            "bin_end": 0.6,
            "count": 0
           },
           {
            "bin_start": 0.6,
            "bin_end": 0.7,
            "count": 0
           },
           {
            "bin_start": 0.7,
            "bin_end": 0.8,
            "count": 0
           },
           {
            "bin_start": 0.8,
            "bin_end": 0.9,
            "count": 0
           },
           {
            "bin_start": 0.9,
            "bin_end": 1,
            "count": 0
           },
           {
            "bin_start": 1,
            "bin_end": 1.1,
            "count": 5
           },
           {
            "bin_start": 1.1,
            "bin_end": 1.2000000000000002,
            "count": 0
           },
           {
            "bin_start": 1.2000000000000002,
            "bin_end": 1.3,
            "count": 0
           },
           {
            "bin_start": 1.3,
            "bin_end": 1.4,
            "count": 0
           },
           {
            "bin_start": 1.4,
            "bin_end": 1.5,
            "count": 0
           }
          ]
         }
        },
        {
         "name": "rt",
         "dtype": "int64",
         "stats": {
          "unique_count": 5,
          "nan_count": 0,
          "min": "686",
          "max": "1038",
          "histogram": [
           {
            "bin_start": 686,
            "bin_end": 721.2,
            "count": 1
           },
           {
            "bin_start": 721.2,
            "bin_end": 756.4,
            "count": 0
           },
           {
            "bin_start": 756.4,
            "bin_end": 791.6,
            "count": 2
           },
           {
            "bin_start": 791.6,
            "bin_end": 826.8,
            "count": 0
           },
           {
            "bin_start": 826.8,
            "bin_end": 862,
            "count": 0
           },
           {
            "bin_start": 862,
            "bin_end": 897.2,
            "count": 1
           },
           {
            "bin_start": 897.2,
            "bin_end": 932.4000000000001,
            "count": 0
           },
           {
            "bin_start": 932.4000000000001,
            "bin_end": 967.6,
            "count": 0
           },
           {
            "bin_start": 967.6,
            "bin_end": 1002.8,
            "count": 0
           },
           {
            "bin_start": 1002.8,
            "bin_end": 1038,
            "count": 1
           }
          ]
         }
        },
        {
         "name": "_deepnote_index_column",
         "dtype": "int64"
        }
       ],
       "rows_top": [
        {
         "block": "training",
         "word": "yellow",
         "color": "blue",
         "matches": 0,
         "tablerow": 3,
         "key": 3,
         "status": 1,
         "rt": 1038,
         "_deepnote_index_column": 0
        },
        {
         "block": "training",
         "word": "blue",
         "color": "yellow",
         "matches": 0,
         "tablerow": 13,
         "key": 4,
         "status": 1,
         "rt": 878,
         "_deepnote_index_column": 1
        },
        {
         "block": "training",
         "word": "blue",
         "color": "green",
         "matches": 0,
         "tablerow": 14,
         "key": 2,
         "status": 1,
         "rt": 786,
         "_deepnote_index_column": 2
        },
        {
         "block": "training",
         "word": "blue",
         "color": "yellow",
         "matches": 0,
         "tablerow": 13,
         "key": 4,
         "status": 1,
         "rt": 762,
         "_deepnote_index_column": 3
        },
        {
         "block": "training",
         "word": "green",
         "color": "green",
         "matches": 1,
         "tablerow": 10,
         "key": 2,
         "status": 1,
         "rt": 686,
         "_deepnote_index_column": 4
        }
       ],
       "rows_bottom": null
      },
      "text/plain": "      block    word   color  matches  tablerow  key  status    rt\n0  training  yellow    blue        0         3    3       1  1038\n1  training    blue  yellow        0        13    4       1   878\n2  training    blue   green        0        14    2       1   786\n3  training    blue  yellow        0        13    4       1   762\n4  training   green   green        1        10    2       1   686",
      "text/html": "<div>\n<style scoped>\n    .dataframe tbody tr th:only-of-type {\n        vertical-align: middle;\n    }\n\n    .dataframe tbody tr th {\n        vertical-align: top;\n    }\n\n    .dataframe thead th {\n        text-align: right;\n    }\n</style>\n<table border=\"1\" class=\"dataframe\">\n  <thead>\n    <tr style=\"text-align: right;\">\n      <th></th>\n      <th>block</th>\n      <th>word</th>\n      <th>color</th>\n      <th>matches</th>\n      <th>tablerow</th>\n      <th>key</th>\n      <th>status</th>\n      <th>rt</th>\n    </tr>\n  </thead>\n  <tbody>\n    <tr>\n      <th>0</th>\n      <td>training</td>\n      <td>yellow</td>\n      <td>blue</td>\n      <td>0</td>\n      <td>3</td>\n      <td>3</td>\n      <td>1</td>\n      <td>1038</td>\n    </tr>\n    <tr>\n      <th>1</th>\n      <td>training</td>\n      <td>blue</td>\n      <td>yellow</td>\n      <td>0</td>\n      <td>13</td>\n      <td>4</td>\n      <td>1</td>\n      <td>878</td>\n    </tr>\n    <tr>\n      <th>2</th>\n      <td>training</td>\n      <td>blue</td>\n      <td>green</td>\n      <td>0</td>\n      <td>14</td>\n      <td>2</td>\n      <td>1</td>\n      <td>786</td>\n    </tr>\n    <tr>\n      <th>3</th>\n      <td>training</td>\n      <td>blue</td>\n      <td>yellow</td>\n      <td>0</td>\n      <td>13</td>\n      <td>4</td>\n      <td>1</td>\n      <td>762</td>\n    </tr>\n    <tr>\n      <th>4</th>\n      <td>training</td>\n      <td>green</td>\n      <td>green</td>\n      <td>1</td>\n      <td>10</td>\n      <td>2</td>\n      <td>1</td>\n      <td>686</td>\n    </tr>\n  </tbody>\n</table>\n</div>"
     },
     "metadata": {}
    }
   ],
   "execution_count": null
  },
  {
   "cell_type": "code",
   "source": "# pg.corr(df.index, df.rt_\npd.DataFrame.corr(method='spearman')\n",
   "metadata": {
    "tags": [],
    "cell_id": "00003-43c0ceec-d407-41e7-955d-671cdb54bd46",
    "deepnote_to_be_reexecuted": false,
    "source_hash": "bf14c428",
    "execution_start": 1636912940383,
    "execution_millis": 2,
    "deepnote_cell_type": "code"
   },
   "outputs": [
    {
     "output_type": "execute_result",
     "execution_count": 12,
     "data": {
      "application/vnd.deepnote.dataframe.v2+json": {
       "row_count": 1,
       "column_count": 1,
       "columns": [
        {
         "name": "rt",
         "dtype": "float64",
         "stats": {
          "unique_count": 1,
          "nan_count": 0,
          "min": "1.0",
          "max": "1.0",
          "histogram": [
           {
            "bin_start": 0.5,
            "bin_end": 0.6,
            "count": 0
           },
           {
            "bin_start": 0.6,
            "bin_end": 0.7,
            "count": 0
           },
           {
            "bin_start": 0.7,
            "bin_end": 0.8,
            "count": 0
           },
           {
            "bin_start": 0.8,
            "bin_end": 0.9,
            "count": 0
           },
           {
            "bin_start": 0.9,
            "bin_end": 1,
            "count": 0
           },
           {
            "bin_start": 1,
            "bin_end": 1.1,
            "count": 1
           },
           {
            "bin_start": 1.1,
            "bin_end": 1.2000000000000002,
            "count": 0
           },
           {
            "bin_start": 1.2000000000000002,
            "bin_end": 1.3,
            "count": 0
           },
           {
            "bin_start": 1.3,
            "bin_end": 1.4,
            "count": 0
           },
           {
            "bin_start": 1.4,
            "bin_end": 1.5,
            "count": 0
           }
          ]
         }
        },
        {
         "name": "_deepnote_index_column",
         "dtype": "object"
        }
       ],
       "rows_top": [
        {
         "rt": 1,
         "_deepnote_index_column": "rt"
        }
       ],
       "rows_bottom": null
      },
      "text/plain": "     rt\nrt  1.0",
      "text/html": "<div>\n<style scoped>\n    .dataframe tbody tr th:only-of-type {\n        vertical-align: middle;\n    }\n\n    .dataframe tbody tr th {\n        vertical-align: top;\n    }\n\n    .dataframe thead th {\n        text-align: right;\n    }\n</style>\n<table border=\"1\" class=\"dataframe\">\n  <thead>\n    <tr style=\"text-align: right;\">\n      <th></th>\n      <th>rt</th>\n    </tr>\n  </thead>\n  <tbody>\n    <tr>\n      <th>rt</th>\n      <td>1.0</td>\n    </tr>\n  </tbody>\n</table>\n</div>"
     },
     "metadata": {}
    }
   ],
   "execution_count": null
  },
  {
   "cell_type": "code",
   "source": "# import numpy as np\nnp.corrcoef(df.index, df['rt'])",
   "metadata": {
    "tags": [],
    "cell_id": "00004-c843c70b-e736-419c-b3c7-56b8677377cd",
    "deepnote_to_be_reexecuted": false,
    "source_hash": "fd67be95",
    "execution_start": 1636913120171,
    "execution_millis": 1,
    "deepnote_cell_type": "code"
   },
   "outputs": [
    {
     "output_type": "execute_result",
     "execution_count": 16,
     "data": {
      "text/plain": "array([[ 1.        , -0.16411847],\n       [-0.16411847,  1.        ]])"
     },
     "metadata": {}
    }
   ],
   "execution_count": null
  },
  {
   "cell_type": "markdown",
   "source": "## Munge Your Data\n\nBefore starting your analysis, we want to make sure that our data analysis tools have the data in a form that's best for your analysis, and that any obvious inconsistencies in the data have been repaired.",
   "metadata": {
    "tags": [],
    "cell_id": "00003-6f4750ba-b27c-480d-b570-e8237c22f7f5",
    "deepnote_cell_type": "markdown"
   }
  },
  {
   "cell_type": "markdown",
   "source": "#### Drop Columns You Won't Analyze\n\nKeep the analysis process focused by getting rid of uninformative / irrelevant columns.\n\n`df = df.drop(columns=['Name', 'Num'])`\n",
   "metadata": {
    "tags": [],
    "cell_id": "00004-9e31fea7-cdf4-4cd3-9689-b2f34dcebb3d",
    "deepnote_cell_type": "markdown"
   }
  },
  {
   "cell_type": "markdown",
   "source": "Get rid of the column that just repeats the word \"training\" over and over (uninformative), and the column that describes the \"table row\" (irrelevant)",
   "metadata": {
    "tags": [],
    "cell_id": "00005-07ea71df-45a1-48c1-9e06-a21bb3932569",
    "deepnote_cell_type": "markdown"
   }
  },
  {
   "cell_type": "code",
   "metadata": {
    "tags": [],
    "cell_id": "00006-9466a447-4d8a-4282-a297-109d3797d2e4",
    "deepnote_cell_type": "code"
   },
   "source": "",
   "execution_count": null,
   "outputs": []
  },
  {
   "cell_type": "markdown",
   "source": "#### Check DTypes\n\nThe `type()` of `df` is `pd.DataFrame`, but what about the types of the individual columns?  In Numpy and Pandas, these types are called \"**dtypes**\".  You can check them with:\n\n  - `df.dtypes`\n  - `df.info()`\n  - `df['col'].dtype`\n\nAnd you can change them with:\n\n  - df2 = `df.astype({'Col1': bool, 'Time': float})`\n",
   "metadata": {
    "tags": [],
    "cell_id": "00007-a5a811f1-e983-4b89-ac76-06e837c49b8a",
    "deepnote_cell_type": "markdown"
   }
  },
  {
   "cell_type": "markdown",
   "source": "What are the `dtypes` in your data?",
   "metadata": {
    "tags": [],
    "cell_id": "00008-e360209e-8a0a-4f75-a8fe-8472e42e0e92",
    "deepnote_cell_type": "markdown"
   }
  },
  {
   "cell_type": "code",
   "metadata": {
    "tags": [],
    "cell_id": "00009-1509eca1-5ee8-40f9-aa01-a9948f7bd200",
    "deepnote_cell_type": "code"
   },
   "source": "",
   "execution_count": null,
   "outputs": []
  },
  {
   "cell_type": "markdown",
   "source": "#### Restrict your Dtypes \n\nChoose a dtype that only supports the values that are actually in your data analysis.  This makes it easier for others to make good assumptions about your data, and helps statistical software to correctly analyze your data",
   "metadata": {
    "tags": [],
    "cell_id": "00010-bb520b4e-2c12-4396-82da-3d09d44b520c",
    "deepnote_cell_type": "markdown"
   }
  },
  {
   "cell_type": "markdown",
   "source": "Make integer/float columns that can only be `1` or `0` into `bool`",
   "metadata": {
    "tags": [],
    "cell_id": "00011-24868f0d-208d-42a0-aa7c-60caada7f037",
    "deepnote_cell_type": "markdown"
   }
  },
  {
   "cell_type": "code",
   "metadata": {
    "deepnote_to_be_reexecuted": false,
    "execution_millis": 0,
    "execution_start": 1636888928778,
    "source_hash": "b623e53d",
    "tags": [],
    "cell_id": "00012-c24e03e1-a509-41f6-9bc3-52fe801994f6",
    "deepnote_cell_type": "code"
   },
   "source": "",
   "execution_count": null,
   "outputs": []
  },
  {
   "cell_type": "markdown",
   "source": "Take the `int` column related to \"status\" of the response (it can only be 1, 2, or 3), and make two new `bool` columns out of it:  `IsCorrect` and `TimedOut`.  After you have the columns, drop the status column.",
   "metadata": {
    "tags": [],
    "cell_id": "00013-70126911-d428-46d2-8f1c-dce9a67800a8",
    "deepnote_cell_type": "markdown"
   }
  },
  {
   "cell_type": "code",
   "metadata": {
    "deepnote_to_be_reexecuted": false,
    "execution_millis": 0,
    "execution_start": 1636889059510,
    "source_hash": "b623e53d",
    "tags": [],
    "cell_id": "00014-b17a47e6-4f69-4f41-9051-e98411a45d68",
    "deepnote_cell_type": "code"
   },
   "source": "",
   "execution_count": null,
   "outputs": []
  },
  {
   "cell_type": "markdown",
   "source": "#### Convert Numeric Codes to Text\n\nLeaving labels as a number can confuse statistical software, and make it hard to remember what the data represents.  Here's a line of code that can do this:\n\n  - `df['newcol'] = df['col'].transform(lambda s: {1: 'a', 2: 'b', 3:'c', 4:'d'}[s])`\n",
   "metadata": {
    "tags": [],
    "cell_id": "00015-68947d45-56d7-4e27-879d-2ed7d95837e9",
    "deepnote_cell_type": "markdown"
   }
  },
  {
   "cell_type": "markdown",
   "source": "Turn the keyboard labels column into text labels, showing which letter key was pressed for a given trial.  \n\n*Note*: you'll have to do some detective work to figure this out; look through your data and reason through it with your groupmates.",
   "metadata": {
    "tags": [],
    "cell_id": "00016-7ea973d7-520e-409b-92d5-4d42323adb35",
    "deepnote_cell_type": "markdown"
   }
  },
  {
   "cell_type": "code",
   "metadata": {
    "tags": [],
    "cell_id": "00017-3c168301-19fd-4b33-b3db-bda5fc2f553b",
    "deepnote_cell_type": "code"
   },
   "source": "",
   "execution_count": null,
   "outputs": []
  },
  {
   "cell_type": "markdown",
   "source": "<a style='text-decoration:none;line-height:16px;display:flex;color:#5B5B62;padding:10px;justify-content:end;' href='https://deepnote.com?utm_source=created-in-deepnote-cell&projectId=c665e050-0883-422f-9ef6-043d968a80b6' target=\"_blank\">\n<img alt='Created in deepnote.com' style='display:inline;max-height:16px;margin:0px;margin-right:7.5px;' src='data:image/svg+xml;base64,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' > </img>\nCreated in <span style='font-weight:600;margin-left:4px;'>Deepnote</span></a>",
   "metadata": {
    "tags": [],
    "created_in_deepnote_cell": true,
    "deepnote_cell_type": "markdown"
   }
  }
 ],
 "nbformat": 4,
 "nbformat_minor": 5,
 "metadata": {
  "kernelspec": {
   "display_name": "Python 3",
   "language": "python",
   "name": "python3"
  },
  "language_info": {
   "codemirror_mode": {
    "name": "ipython",
    "version": 3
   },
   "file_extension": ".py",
   "mimetype": "text/x-python",
   "name": "python",
   "nbconvert_exporter": "python",
   "pygments_lexer": "ipython3",
   "version": "3.8.8"
  },
  "deepnote_notebook_id": "77aa1500-599a-44eb-8892-952c6868d56c",
  "deepnote": {},
  "deepnote_execution_queue": []
 }
}