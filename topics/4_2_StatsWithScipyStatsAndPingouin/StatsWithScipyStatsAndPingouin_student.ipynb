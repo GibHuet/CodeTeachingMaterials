{
    "cells": [
        {
            "cell_type": "markdown",
            "id": "56c3d653",
            "metadata": {
                "cell_id": "00003-44f1e943-1946-4d75-ad48-00950d13809a",
                "deepnote_cell_type": "markdown",
                "id": "athletic-conditioning"
            },
            "source": [
                "# Doing Statistics on Data with the Scipy.Stats and Pingouin Packages\n",
                "\n",
                "**Scipy.Stats** has all the stats functions you know and love from stats class!\n",
                "\n",
                "**Pingouin** is a new statistics package in Python that uses pandas, seaborn, and scipy-stats!  It's main benefit? It's really easy to use and it works great with DataFrames!\n",
                "\n",
                "https://pingouin-stats.org/index.html\n",
                "\n"
            ]
        },
        {
            "cell_type": "markdown",
            "id": "2e4a3547",
            "metadata": {
                "cell_id": "00005-d692b372-f777-4813-9513-6dacdf9d09fc",
                "deepnote_cell_type": "markdown",
                "tags": []
            },
            "source": [
                "## Basic Stats with Pengouin and Scipy-Stats"
            ]
        },
        {
            "cell_type": "markdown",
            "id": "f011e52f",
            "metadata": {
                "cell_id": "00006-7ecfd47a-9742-49cd-ab32-67732ccc818b",
                "deepnote_cell_type": "markdown",
                "tags": []
            },
            "source": [
                "### T-Tests\n",
                "\n",
                "T-tests compare the means of two samples of data generated from a normally-distributed population and compute the probability that they have the same mean. Both packages have functions for t-tests! \n",
                "\n",
                "\n",
                "| Test, | `scipy.stats` Function, | `pengouin` Function |\n",
                "| :---: | :---: | :---: |\n",
                "| One-Sampled T-Test | `stats.ttest_1samp(x, 0)` | `pg.ttest(x, 0)` |\n",
                "| Independent T-Test | `stats.ttest_ind(x, y)` | `pg.ttest(x,y)` |\n",
                "| Paired T-test | `stats.ttest_rel(x, y)` | `pg.ttest(x, y, paired=True)`\n",
                "| Pairwise T-tests |   | `pg.pairwise_ttests(padjust='fdr_bh')`\n"
            ]
        },
        {
            "cell_type": "code",
            "execution_count": 1,
            "id": "050439d6",
            "metadata": {
                "cell_id": "00007-c41041df-aa03-4b5f-808e-68b79b41952b",
                "deepnote_cell_type": "code",
                "deepnote_to_be_reexecuted": false,
                "execution_millis": 4,
                "execution_start": 1636618509664,
                "source_hash": "fb7cc69d",
                "tags": []
            },
            "outputs": [],
            "source": [
                "import numpy as np\n",
                "import pandas as pd\n",
                "from scipy import stats\n",
                "import pingouin as pg"
            ]
        },
        {
            "cell_type": "markdown",
            "id": "8769dd0f",
            "metadata": {
                "cell_id": "00007-cd4f75ec-03f0-4143-a914-e14ba3feff58",
                "deepnote_cell_type": "markdown",
                "tags": []
            },
            "source": [
                "**Exercises** let's do some analysis on some fake data to get a feel for these two statistics tools."
            ]
        },
        {
            "cell_type": "markdown",
            "id": "838e762d",
            "metadata": {
                "cell_id": "00005-d9203f16-7bbf-45ba-88e1-ad09099e7f62",
                "deepnote_cell_type": "markdown",
                "deepnote_to_be_reexecuted": false,
                "execution_millis": 42,
                "execution_start": 1636618898586,
                "source_hash": "8ddf4792",
                "tags": []
            },
            "source": [
                "Generate the Data: Run the code below to create the dataset `df`."
            ]
        },
        {
            "cell_type": "code",
            "execution_count": 118,
            "id": "94ff3c3a",
            "metadata": {
                "cell_id": "00005-3bfe7d22-ac1b-4281-8239-9840b84be665",
                "deepnote_cell_type": "code",
                "deepnote_to_be_reexecuted": false,
                "execution_millis": 157,
                "execution_start": 1636618872868,
                "source_hash": "30d6b9bd",
                "tags": []
            },
            "outputs": [
                {
                    "data": {
                        "text/html": [
                            "<div>\n",
                            "<style scoped>\n",
                            "    .dataframe tbody tr th:only-of-type {\n",
                            "        vertical-align: middle;\n",
                            "    }\n",
                            "\n",
                            "    .dataframe tbody tr th {\n",
                            "        vertical-align: top;\n",
                            "    }\n",
                            "\n",
                            "    .dataframe thead th {\n",
                            "        text-align: right;\n",
                            "    }\n",
                            "</style>\n",
                            "<table border=\"1\" class=\"dataframe\">\n",
                            "  <thead>\n",
                            "    <tr style=\"text-align: right;\">\n",
                            "      <th></th>\n",
                            "      <th>A</th>\n",
                            "      <th>B</th>\n",
                            "      <th>C</th>\n",
                            "      <th>D</th>\n",
                            "    </tr>\n",
                            "  </thead>\n",
                            "  <tbody>\n",
                            "    <tr>\n",
                            "      <th>0</th>\n",
                            "      <td>0.496714</td>\n",
                            "      <td>1.465649</td>\n",
                            "      <td>1.238467</td>\n",
                            "      <td>-0.090573</td>\n",
                            "    </tr>\n",
                            "    <tr>\n",
                            "      <th>1</th>\n",
                            "      <td>-0.138264</td>\n",
                            "      <td>-0.225776</td>\n",
                            "      <td>0.671368</td>\n",
                            "      <td>-0.134309</td>\n",
                            "    </tr>\n",
                            "    <tr>\n",
                            "      <th>2</th>\n",
                            "      <td>0.647689</td>\n",
                            "      <td>0.067528</td>\n",
                            "      <td>0.384352</td>\n",
                            "      <td>-0.358861</td>\n",
                            "    </tr>\n",
                            "    <tr>\n",
                            "      <th>3</th>\n",
                            "      <td>1.523030</td>\n",
                            "      <td>-1.424748</td>\n",
                            "      <td>0.198896</td>\n",
                            "      <td>-0.141194</td>\n",
                            "    </tr>\n",
                            "    <tr>\n",
                            "      <th>4</th>\n",
                            "      <td>-0.234153</td>\n",
                            "      <td>-0.544383</td>\n",
                            "      <td>-0.978522</td>\n",
                            "      <td>0.336017</td>\n",
                            "    </tr>\n",
                            "  </tbody>\n",
                            "</table>\n",
                            "</div>"
                        ],
                        "text/plain": [
                            "          A         B         C         D\n",
                            "0  0.496714  1.465649  1.238467 -0.090573\n",
                            "1 -0.138264 -0.225776  0.671368 -0.134309\n",
                            "2  0.647689  0.067528  0.384352 -0.358861\n",
                            "3  1.523030 -1.424748  0.198896 -0.141194\n",
                            "4 -0.234153 -0.544383 -0.978522  0.336017"
                        ]
                    },
                    "execution_count": 118,
                    "metadata": {},
                    "output_type": "execute_result"
                }
            ],
            "source": [
                "randomizer = np.random.RandomState(seed=42)  # Makes sure the pseudorandom number generators reproduce the same data for us all.\n",
                "df = pd.DataFrame()\n",
                "df['A'] = randomizer.normal(0, 1, size=20)\n",
                "df['B'] = randomizer.normal(0, 1, size=20)\n",
                "df['C'] = randomizer.normal(0.5, 1, size=20)\n",
                "df['D'] = df.A * 0.3 + randomizer.normal(0, 0.5, size=20)\n",
                "df.head()"
            ]
        },
        {
            "cell_type": "markdown",
            "id": "8c5dffd6",
            "metadata": {
                "cell_id": "00008-9788637e-733d-47af-ade1-6b7d088bfd5c",
                "deepnote_cell_type": "markdown",
                "tags": []
            },
            "source": [
                "Analyze the Data with Pairwise Tests\n",
                "\n",
                "**(first do the questions in a section with scipy stats, then do the section with penguoin before moving on to the next section)**. "
            ]
        },
        {
            "cell_type": "markdown",
            "id": "2818f8db",
            "metadata": {},
            "source": [
                "**A vs 0, One-Sampled T-Test**: Is the mean of the normally-distributed population that the the dataset A is generated from unlikely to be zero?"
            ]
        },
        {
            "cell_type": "markdown",
            "id": "32ba344d",
            "metadata": {},
            "source": [
                "**Example**: with `scipy.stats`:"
            ]
        },
        {
            "cell_type": "code",
            "execution_count": 3,
            "id": "38d8a523",
            "metadata": {},
            "outputs": [
                {
                    "data": {
                        "text/plain": [
                            "Ttest_1sampResult(statistic=-0.797966433655592, pvalue=0.43475058842710046)"
                        ]
                    },
                    "execution_count": 3,
                    "metadata": {},
                    "output_type": "execute_result"
                }
            ],
            "source": [
                "stats.ttest_1samp(df['A'], 0)"
            ]
        },
        {
            "cell_type": "markdown",
            "id": "b0d1ea57",
            "metadata": {},
            "source": [
                "**Example:** with `pingouin`:"
            ]
        },
        {
            "cell_type": "code",
            "execution_count": 4,
            "id": "da2e7630",
            "metadata": {},
            "outputs": [
                {
                    "data": {
                        "text/html": [
                            "<div>\n",
                            "<style scoped>\n",
                            "    .dataframe tbody tr th:only-of-type {\n",
                            "        vertical-align: middle;\n",
                            "    }\n",
                            "\n",
                            "    .dataframe tbody tr th {\n",
                            "        vertical-align: top;\n",
                            "    }\n",
                            "\n",
                            "    .dataframe thead th {\n",
                            "        text-align: right;\n",
                            "    }\n",
                            "</style>\n",
                            "<table border=\"1\" class=\"dataframe\">\n",
                            "  <thead>\n",
                            "    <tr style=\"text-align: right;\">\n",
                            "      <th></th>\n",
                            "      <th>T</th>\n",
                            "      <th>dof</th>\n",
                            "      <th>alternative</th>\n",
                            "      <th>p-val</th>\n",
                            "      <th>CI95%</th>\n",
                            "      <th>cohen-d</th>\n",
                            "      <th>BF10</th>\n",
                            "      <th>power</th>\n",
                            "    </tr>\n",
                            "  </thead>\n",
                            "  <tbody>\n",
                            "    <tr>\n",
                            "      <th>T-test</th>\n",
                            "      <td>-0.797966</td>\n",
                            "      <td>19</td>\n",
                            "      <td>two-sided</td>\n",
                            "      <td>0.434751</td>\n",
                            "      <td>[-0.62, 0.28]</td>\n",
                            "      <td>0.178431</td>\n",
                            "      <td>0.309</td>\n",
                            "      <td>0.118021</td>\n",
                            "    </tr>\n",
                            "  </tbody>\n",
                            "</table>\n",
                            "</div>"
                        ],
                        "text/plain": [
                            "               T  dof alternative     p-val          CI95%   cohen-d   BF10  \\\n",
                            "T-test -0.797966   19   two-sided  0.434751  [-0.62, 0.28]  0.178431  0.309   \n",
                            "\n",
                            "           power  \n",
                            "T-test  0.118021  "
                        ]
                    },
                    "execution_count": 4,
                    "metadata": {},
                    "output_type": "execute_result"
                }
            ],
            "source": [
                "pg.ttest(df['A'], 0)"
            ]
        },
        {
            "cell_type": "markdown",
            "id": "1834ea70",
            "metadata": {},
            "source": [
                "**B vs 1, One-Sampled T-Test**: Is the mean of the normally-distributed population that the the dataset B is generated from unlikely to be one?"
            ]
        },
        {
            "cell_type": "markdown",
            "id": "ccf720b7",
            "metadata": {},
            "source": [
                "with `scipy.stats`:"
            ]
        },
        {
            "cell_type": "code",
            "execution_count": 5,
            "id": "dba8de00",
            "metadata": {},
            "outputs": "",
            "source": ""
        },
        {
            "cell_type": "markdown",
            "id": "61ef0570",
            "metadata": {},
            "source": [
                "with `pingouin`:"
            ]
        },
        {
            "cell_type": "code",
            "execution_count": 6,
            "id": "4eb87cc8",
            "metadata": {},
            "outputs": "",
            "source": ""
        },
        {
            "cell_type": "markdown",
            "id": "67930529",
            "metadata": {},
            "source": [
                "**A vs B, Independent Samples T-Test**: Is the mean of the normally-distributed population that the the dataset `A` is generated from unlikely to be the same as the mean of the normally-distributed population that the the dataset `B` is generated from?"
            ]
        },
        {
            "cell_type": "markdown",
            "id": "288efcf9",
            "metadata": {
                "cell_id": "00009-be297582-bf7a-4931-bf90-cfb3412e9f18",
                "deepnote_cell_type": "code",
                "tags": []
            },
            "source": [
                "with `scipy.stats`:"
            ]
        },
        {
            "cell_type": "code",
            "execution_count": 7,
            "id": "6eab913e",
            "metadata": {
                "cell_id": "00010-a8f4e43c-d3f9-4e70-abb6-f549c9c520f1",
                "deepnote_cell_type": "code",
                "tags": []
            },
            "outputs": "",
            "source": ""
        },
        {
            "cell_type": "markdown",
            "id": "2e43caea",
            "metadata": {},
            "source": [
                "with `pingouin`:"
            ]
        },
        {
            "cell_type": "code",
            "execution_count": 8,
            "id": "e998e123",
            "metadata": {},
            "outputs": "",
            "source": ""
        },
        {
            "cell_type": "markdown",
            "id": "21e7c886",
            "metadata": {},
            "source": [
                "**A vs C, Independent Samples T-Test**: Is the mean of the normally-distributed population that the the dataset `A` is generated from unlikely to be the same as the mean of the normally-distributed population that the the dataset `C` is generated from?"
            ]
        },
        {
            "cell_type": "markdown",
            "id": "14448985",
            "metadata": {
                "cell_id": "00011-d7e194da-4aeb-462a-8d48-78123e48927a",
                "deepnote_cell_type": "markdown",
                "tags": []
            },
            "source": [
                "with `scipy.stats`:"
            ]
        },
        {
            "cell_type": "code",
            "execution_count": 9,
            "id": "facc6a4e",
            "metadata": {
                "cell_id": "00012-016e5e09-0b1b-4160-8a49-be6fe6944c0e",
                "deepnote_cell_type": "code",
                "tags": []
            },
            "outputs": "",
            "source": ""
        },
        {
            "cell_type": "markdown",
            "id": "f6429dd8",
            "metadata": {},
            "source": [
                "with `pingouin`:"
            ]
        },
        {
            "cell_type": "code",
            "execution_count": 10,
            "id": "b033e99f",
            "metadata": {
                "cell_id": "00013-7bf57931-725d-490f-86dd-bad0d3481205",
                "deepnote_cell_type": "code",
                "tags": []
            },
            "outputs": "",
            "source": ""
        },
        {
            "cell_type": "markdown",
            "id": "c7f48a4c",
            "metadata": {
                "cell_id": "00014-1acad45d-9edc-4327-9d4a-a75100f221a6",
                "deepnote_cell_type": "markdown",
                "tags": []
            },
            "source": [
                "**A vs C, Paired Samples T-Test**: Is the mean of the differences between each pair of samples in generated from the two normally-distributed populations `A` and `C`  unlikely to be 0?"
            ]
        },
        {
            "cell_type": "markdown",
            "id": "0f236104",
            "metadata": {
                "cell_id": "00015-54668bdf-7e57-4f4e-8612-131d4565f54d",
                "deepnote_cell_type": "code",
                "tags": []
            },
            "source": [
                "with `scipy.stats`:"
            ]
        },
        {
            "cell_type": "code",
            "execution_count": 11,
            "id": "e4d32f58",
            "metadata": {
                "cell_id": "00016-6a05d799-a83b-41f3-a512-49483da423bf",
                "deepnote_cell_type": "code",
                "tags": []
            },
            "outputs": "",
            "source": ""
        },
        {
            "cell_type": "markdown",
            "id": "d0dc1057",
            "metadata": {},
            "source": [
                "with `pingouin`:"
            ]
        },
        {
            "cell_type": "code",
            "execution_count": 12,
            "id": "62a86b72",
            "metadata": {},
            "outputs": "",
            "source": ""
        },
        {
            "cell_type": "markdown",
            "id": "f4d2e3ee",
            "metadata": {
                "cell_id": "00017-72ede8ff-a028-4ad9-af67-d9ee5dd2ec58",
                "deepnote_cell_type": "markdown",
                "tags": []
            },
            "source": [
                "**A vs D, Paired Samples T-Test**: Is the mean of the differences between each pair of samples in generated from the two normally-distributed populations `A` and `D`  unlikely to be 0?"
            ]
        },
        {
            "cell_type": "markdown",
            "id": "54836937",
            "metadata": {},
            "source": [
                "with `scipy.stats`:"
            ]
        },
        {
            "cell_type": "code",
            "execution_count": 13,
            "id": "5ac05915",
            "metadata": {
                "cell_id": "00018-2ab8bfa9-071d-40e5-bc18-c18a90223066",
                "deepnote_cell_type": "code",
                "tags": []
            },
            "outputs": "",
            "source": ""
        },
        {
            "cell_type": "markdown",
            "id": "d507b6ac",
            "metadata": {},
            "source": [
                "with `pingouin`:"
            ]
        },
        {
            "cell_type": "code",
            "execution_count": 14,
            "id": "d4cc4373",
            "metadata": {},
            "outputs": "",
            "source": ""
        },
        {
            "cell_type": "markdown",
            "id": "b4a83d4e",
            "metadata": {},
            "source": [
                "*After doing the above section with `pingouin`: The paired t-test is equivalent to a one-sample ttest against 0 for some statistics, but not others.  What values are different?  Compare the results below comparing A and D to the ones you generated above:"
            ]
        },
        {
            "cell_type": "code",
            "execution_count": 15,
            "id": "f530c410",
            "metadata": {},
            "outputs": [
                {
                    "data": {
                        "text/html": [
                            "<div>\n",
                            "<style scoped>\n",
                            "    .dataframe tbody tr th:only-of-type {\n",
                            "        vertical-align: middle;\n",
                            "    }\n",
                            "\n",
                            "    .dataframe tbody tr th {\n",
                            "        vertical-align: top;\n",
                            "    }\n",
                            "\n",
                            "    .dataframe thead th {\n",
                            "        text-align: right;\n",
                            "    }\n",
                            "</style>\n",
                            "<table border=\"1\" class=\"dataframe\">\n",
                            "  <thead>\n",
                            "    <tr style=\"text-align: right;\">\n",
                            "      <th></th>\n",
                            "      <th>T</th>\n",
                            "      <th>dof</th>\n",
                            "      <th>alternative</th>\n",
                            "      <th>p-val</th>\n",
                            "      <th>CI95%</th>\n",
                            "      <th>cohen-d</th>\n",
                            "      <th>BF10</th>\n",
                            "      <th>power</th>\n",
                            "    </tr>\n",
                            "  </thead>\n",
                            "  <tbody>\n",
                            "    <tr>\n",
                            "      <th>T-test</th>\n",
                            "      <td>-0.527742</td>\n",
                            "      <td>19</td>\n",
                            "      <td>two-sided</td>\n",
                            "      <td>0.603788</td>\n",
                            "      <td>[-0.52, 0.31]</td>\n",
                            "      <td>0.118007</td>\n",
                            "      <td>0.263</td>\n",
                            "      <td>0.079282</td>\n",
                            "    </tr>\n",
                            "  </tbody>\n",
                            "</table>\n",
                            "</div>"
                        ],
                        "text/plain": [
                            "               T  dof alternative     p-val          CI95%   cohen-d   BF10  \\\n",
                            "T-test -0.527742   19   two-sided  0.603788  [-0.52, 0.31]  0.118007  0.263   \n",
                            "\n",
                            "           power  \n",
                            "T-test  0.079282  "
                        ]
                    },
                    "execution_count": 15,
                    "metadata": {},
                    "output_type": "execute_result"
                }
            ],
            "source": [
                "pg.ttest(df.A - df.D, 0)"
            ]
        },
        {
            "cell_type": "markdown",
            "id": "3c5c7fd1",
            "metadata": {},
            "source": [
                "It is also possible to have `pingouin` simply do all the comparisons between the groups.  Below is a demo.  Notice that for this, the data has to be reorganized a bit first.  We will be exploring this reorganization in the future...it is very useful!"
            ]
        },
        {
            "cell_type": "code",
            "execution_count": 149,
            "id": "e5d4df20",
            "metadata": {},
            "outputs": [
                {
                    "data": {
                        "text/html": [
                            "<div>\n",
                            "<style scoped>\n",
                            "    .dataframe tbody tr th:only-of-type {\n",
                            "        vertical-align: middle;\n",
                            "    }\n",
                            "\n",
                            "    .dataframe tbody tr th {\n",
                            "        vertical-align: top;\n",
                            "    }\n",
                            "\n",
                            "    .dataframe thead th {\n",
                            "        text-align: right;\n",
                            "    }\n",
                            "</style>\n",
                            "<table border=\"1\" class=\"dataframe\">\n",
                            "  <thead>\n",
                            "    <tr style=\"text-align: right;\">\n",
                            "      <th></th>\n",
                            "      <th>index</th>\n",
                            "      <th>variable</th>\n",
                            "      <th>value</th>\n",
                            "    </tr>\n",
                            "  </thead>\n",
                            "  <tbody>\n",
                            "    <tr>\n",
                            "      <th>0</th>\n",
                            "      <td>0</td>\n",
                            "      <td>A</td>\n",
                            "      <td>0.496714</td>\n",
                            "    </tr>\n",
                            "    <tr>\n",
                            "      <th>1</th>\n",
                            "      <td>1</td>\n",
                            "      <td>A</td>\n",
                            "      <td>-0.138264</td>\n",
                            "    </tr>\n",
                            "    <tr>\n",
                            "      <th>2</th>\n",
                            "      <td>2</td>\n",
                            "      <td>A</td>\n",
                            "      <td>0.647689</td>\n",
                            "    </tr>\n",
                            "    <tr>\n",
                            "      <th>3</th>\n",
                            "      <td>3</td>\n",
                            "      <td>A</td>\n",
                            "      <td>1.523030</td>\n",
                            "    </tr>\n",
                            "    <tr>\n",
                            "      <th>4</th>\n",
                            "      <td>4</td>\n",
                            "      <td>A</td>\n",
                            "      <td>-0.234153</td>\n",
                            "    </tr>\n",
                            "    <tr>\n",
                            "      <th>...</th>\n",
                            "      <td>...</td>\n",
                            "      <td>...</td>\n",
                            "      <td>...</td>\n",
                            "    </tr>\n",
                            "    <tr>\n",
                            "      <th>75</th>\n",
                            "      <td>15</td>\n",
                            "      <td>D</td>\n",
                            "      <td>0.242265</td>\n",
                            "    </tr>\n",
                            "    <tr>\n",
                            "      <th>76</th>\n",
                            "      <td>16</td>\n",
                            "      <td>D</td>\n",
                            "      <td>-0.260326</td>\n",
                            "    </tr>\n",
                            "    <tr>\n",
                            "      <th>77</th>\n",
                            "      <td>17</td>\n",
                            "      <td>D</td>\n",
                            "      <td>-0.055229</td>\n",
                            "    </tr>\n",
                            "    <tr>\n",
                            "      <th>78</th>\n",
                            "      <td>18</td>\n",
                            "      <td>D</td>\n",
                            "      <td>-0.226527</td>\n",
                            "    </tr>\n",
                            "    <tr>\n",
                            "      <th>79</th>\n",
                            "      <td>19</td>\n",
                            "      <td>D</td>\n",
                            "      <td>-1.417476</td>\n",
                            "    </tr>\n",
                            "  </tbody>\n",
                            "</table>\n",
                            "<p>80 rows \u00d7 3 columns</p>\n",
                            "</div>"
                        ],
                        "text/plain": [
                            "    index variable     value\n",
                            "0       0        A  0.496714\n",
                            "1       1        A -0.138264\n",
                            "2       2        A  0.647689\n",
                            "3       3        A  1.523030\n",
                            "4       4        A -0.234153\n",
                            "..    ...      ...       ...\n",
                            "75     15        D  0.242265\n",
                            "76     16        D -0.260326\n",
                            "77     17        D -0.055229\n",
                            "78     18        D -0.226527\n",
                            "79     19        D -1.417476\n",
                            "\n",
                            "[80 rows x 3 columns]"
                        ]
                    },
                    "execution_count": 149,
                    "metadata": {},
                    "output_type": "execute_result"
                }
            ],
            "source": [
                "dfl = df.rename_axis(index='index').melt(ignore_index=False).reset_index()\n",
                "dfl"
            ]
        },
        {
            "cell_type": "markdown",
            "id": "3acbacf4",
            "metadata": {},
            "source": [
                "**Example**: A table of All pairwise comparisons, both paired and unpaired, with different p-value corrections:"
            ]
        },
        {
            "cell_type": "code",
            "execution_count": 150,
            "id": "5cea7477",
            "metadata": {},
            "outputs": [
                {
                    "data": {
                        "text/html": [
                            "<div>\n",
                            "<style scoped>\n",
                            "    .dataframe tbody tr th:only-of-type {\n",
                            "        vertical-align: middle;\n",
                            "    }\n",
                            "\n",
                            "    .dataframe tbody tr th {\n",
                            "        vertical-align: top;\n",
                            "    }\n",
                            "\n",
                            "    .dataframe thead th {\n",
                            "        text-align: right;\n",
                            "    }\n",
                            "</style>\n",
                            "<table border=\"1\" class=\"dataframe\">\n",
                            "  <thead>\n",
                            "    <tr style=\"text-align: right;\">\n",
                            "      <th></th>\n",
                            "      <th>Contrast</th>\n",
                            "      <th>A</th>\n",
                            "      <th>B</th>\n",
                            "      <th>Paired</th>\n",
                            "      <th>Parametric</th>\n",
                            "      <th>T</th>\n",
                            "      <th>dof</th>\n",
                            "      <th>alternative</th>\n",
                            "      <th>p-unc</th>\n",
                            "      <th>p-corr</th>\n",
                            "      <th>p-adjust</th>\n",
                            "      <th>BF10</th>\n",
                            "      <th>hedges</th>\n",
                            "    </tr>\n",
                            "  </thead>\n",
                            "  <tbody>\n",
                            "    <tr>\n",
                            "      <th>0</th>\n",
                            "      <td>variable</td>\n",
                            "      <td>A</td>\n",
                            "      <td>B</td>\n",
                            "      <td>False</td>\n",
                            "      <td>True</td>\n",
                            "      <td>0.310561</td>\n",
                            "      <td>38.0</td>\n",
                            "      <td>two-sided</td>\n",
                            "      <td>0.757832</td>\n",
                            "      <td>1.000000</td>\n",
                            "      <td>bonf</td>\n",
                            "      <td>0.321</td>\n",
                            "      <td>0.096257</td>\n",
                            "    </tr>\n",
                            "    <tr>\n",
                            "      <th>1</th>\n",
                            "      <td>variable</td>\n",
                            "      <td>A</td>\n",
                            "      <td>C</td>\n",
                            "      <td>False</td>\n",
                            "      <td>True</td>\n",
                            "      <td>-2.282285</td>\n",
                            "      <td>38.0</td>\n",
                            "      <td>two-sided</td>\n",
                            "      <td>0.028159</td>\n",
                            "      <td>0.168954</td>\n",
                            "      <td>bonf</td>\n",
                            "      <td>2.28</td>\n",
                            "      <td>-0.707383</td>\n",
                            "    </tr>\n",
                            "    <tr>\n",
                            "      <th>2</th>\n",
                            "      <td>variable</td>\n",
                            "      <td>A</td>\n",
                            "      <td>D</td>\n",
                            "      <td>False</td>\n",
                            "      <td>True</td>\n",
                            "      <td>-0.407867</td>\n",
                            "      <td>38.0</td>\n",
                            "      <td>two-sided</td>\n",
                            "      <td>0.685660</td>\n",
                            "      <td>1.000000</td>\n",
                            "      <td>bonf</td>\n",
                            "      <td>0.33</td>\n",
                            "      <td>-0.126416</td>\n",
                            "    </tr>\n",
                            "    <tr>\n",
                            "      <th>3</th>\n",
                            "      <td>variable</td>\n",
                            "      <td>B</td>\n",
                            "      <td>C</td>\n",
                            "      <td>False</td>\n",
                            "      <td>True</td>\n",
                            "      <td>-2.604917</td>\n",
                            "      <td>38.0</td>\n",
                            "      <td>two-sided</td>\n",
                            "      <td>0.013045</td>\n",
                            "      <td>0.078273</td>\n",
                            "      <td>bonf</td>\n",
                            "      <td>4.051</td>\n",
                            "      <td>-0.807381</td>\n",
                            "    </tr>\n",
                            "    <tr>\n",
                            "      <th>4</th>\n",
                            "      <td>variable</td>\n",
                            "      <td>B</td>\n",
                            "      <td>D</td>\n",
                            "      <td>False</td>\n",
                            "      <td>True</td>\n",
                            "      <td>-0.773855</td>\n",
                            "      <td>38.0</td>\n",
                            "      <td>two-sided</td>\n",
                            "      <td>0.443804</td>\n",
                            "      <td>1.000000</td>\n",
                            "      <td>bonf</td>\n",
                            "      <td>0.392</td>\n",
                            "      <td>-0.239853</td>\n",
                            "    </tr>\n",
                            "    <tr>\n",
                            "      <th>5</th>\n",
                            "      <td>variable</td>\n",
                            "      <td>C</td>\n",
                            "      <td>D</td>\n",
                            "      <td>False</td>\n",
                            "      <td>True</td>\n",
                            "      <td>2.349824</td>\n",
                            "      <td>38.0</td>\n",
                            "      <td>two-sided</td>\n",
                            "      <td>0.024079</td>\n",
                            "      <td>0.144473</td>\n",
                            "      <td>bonf</td>\n",
                            "      <td>2.559</td>\n",
                            "      <td>0.728316</td>\n",
                            "    </tr>\n",
                            "    <tr>\n",
                            "      <th>0</th>\n",
                            "      <td>variable</td>\n",
                            "      <td>A</td>\n",
                            "      <td>B</td>\n",
                            "      <td>True</td>\n",
                            "      <td>True</td>\n",
                            "      <td>0.288686</td>\n",
                            "      <td>19.0</td>\n",
                            "      <td>two-sided</td>\n",
                            "      <td>0.775948</td>\n",
                            "      <td>0.775948</td>\n",
                            "      <td>fdr_bh</td>\n",
                            "      <td>0.241</td>\n",
                            "      <td>0.096257</td>\n",
                            "    </tr>\n",
                            "    <tr>\n",
                            "      <th>1</th>\n",
                            "      <td>variable</td>\n",
                            "      <td>A</td>\n",
                            "      <td>C</td>\n",
                            "      <td>True</td>\n",
                            "      <td>True</td>\n",
                            "      <td>-1.962888</td>\n",
                            "      <td>19.0</td>\n",
                            "      <td>two-sided</td>\n",
                            "      <td>0.064469</td>\n",
                            "      <td>0.128938</td>\n",
                            "      <td>fdr_bh</td>\n",
                            "      <td>1.141</td>\n",
                            "      <td>-0.707383</td>\n",
                            "    </tr>\n",
                            "    <tr>\n",
                            "      <th>2</th>\n",
                            "      <td>variable</td>\n",
                            "      <td>A</td>\n",
                            "      <td>D</td>\n",
                            "      <td>True</td>\n",
                            "      <td>True</td>\n",
                            "      <td>-0.527742</td>\n",
                            "      <td>19.0</td>\n",
                            "      <td>two-sided</td>\n",
                            "      <td>0.603788</td>\n",
                            "      <td>0.724546</td>\n",
                            "      <td>fdr_bh</td>\n",
                            "      <td>0.263</td>\n",
                            "      <td>-0.126416</td>\n",
                            "    </tr>\n",
                            "    <tr>\n",
                            "      <th>3</th>\n",
                            "      <td>variable</td>\n",
                            "      <td>B</td>\n",
                            "      <td>C</td>\n",
                            "      <td>True</td>\n",
                            "      <td>True</td>\n",
                            "      <td>-2.755894</td>\n",
                            "      <td>19.0</td>\n",
                            "      <td>two-sided</td>\n",
                            "      <td>0.012573</td>\n",
                            "      <td>0.075439</td>\n",
                            "      <td>fdr_bh</td>\n",
                            "      <td>4.236</td>\n",
                            "      <td>-0.807381</td>\n",
                            "    </tr>\n",
                            "    <tr>\n",
                            "      <th>4</th>\n",
                            "      <td>variable</td>\n",
                            "      <td>B</td>\n",
                            "      <td>D</td>\n",
                            "      <td>True</td>\n",
                            "      <td>True</td>\n",
                            "      <td>-0.733793</td>\n",
                            "      <td>19.0</td>\n",
                            "      <td>two-sided</td>\n",
                            "      <td>0.472034</td>\n",
                            "      <td>0.708051</td>\n",
                            "      <td>fdr_bh</td>\n",
                            "      <td>0.296</td>\n",
                            "      <td>-0.239853</td>\n",
                            "    </tr>\n",
                            "    <tr>\n",
                            "      <th>5</th>\n",
                            "      <td>variable</td>\n",
                            "      <td>C</td>\n",
                            "      <td>D</td>\n",
                            "      <td>True</td>\n",
                            "      <td>True</td>\n",
                            "      <td>2.052080</td>\n",
                            "      <td>19.0</td>\n",
                            "      <td>two-sided</td>\n",
                            "      <td>0.054201</td>\n",
                            "      <td>0.128938</td>\n",
                            "      <td>fdr_bh</td>\n",
                            "      <td>1.305</td>\n",
                            "      <td>0.728316</td>\n",
                            "    </tr>\n",
                            "  </tbody>\n",
                            "</table>\n",
                            "</div>"
                        ],
                        "text/plain": [
                            "   Contrast  A  B  Paired  Parametric         T   dof alternative     p-unc  \\\n",
                            "0  variable  A  B   False        True  0.310561  38.0   two-sided  0.757832   \n",
                            "1  variable  A  C   False        True -2.282285  38.0   two-sided  0.028159   \n",
                            "2  variable  A  D   False        True -0.407867  38.0   two-sided  0.685660   \n",
                            "3  variable  B  C   False        True -2.604917  38.0   two-sided  0.013045   \n",
                            "4  variable  B  D   False        True -0.773855  38.0   two-sided  0.443804   \n",
                            "5  variable  C  D   False        True  2.349824  38.0   two-sided  0.024079   \n",
                            "0  variable  A  B    True        True  0.288686  19.0   two-sided  0.775948   \n",
                            "1  variable  A  C    True        True -1.962888  19.0   two-sided  0.064469   \n",
                            "2  variable  A  D    True        True -0.527742  19.0   two-sided  0.603788   \n",
                            "3  variable  B  C    True        True -2.755894  19.0   two-sided  0.012573   \n",
                            "4  variable  B  D    True        True -0.733793  19.0   two-sided  0.472034   \n",
                            "5  variable  C  D    True        True  2.052080  19.0   two-sided  0.054201   \n",
                            "\n",
                            "     p-corr p-adjust   BF10    hedges  \n",
                            "0  1.000000     bonf  0.321  0.096257  \n",
                            "1  0.168954     bonf   2.28 -0.707383  \n",
                            "2  1.000000     bonf   0.33 -0.126416  \n",
                            "3  0.078273     bonf  4.051 -0.807381  \n",
                            "4  1.000000     bonf  0.392 -0.239853  \n",
                            "5  0.144473     bonf  2.559  0.728316  \n",
                            "0  0.775948   fdr_bh  0.241  0.096257  \n",
                            "1  0.128938   fdr_bh  1.141 -0.707383  \n",
                            "2  0.724546   fdr_bh  0.263 -0.126416  \n",
                            "3  0.075439   fdr_bh  4.236 -0.807381  \n",
                            "4  0.708051   fdr_bh  0.296 -0.239853  \n",
                            "5  0.128938   fdr_bh  1.305  0.728316  "
                        ]
                    },
                    "execution_count": 150,
                    "metadata": {},
                    "output_type": "execute_result"
                }
            ],
            "source": [
                "pd.concat([\n",
                "    pg.pairwise_tests(dfl, dv='value', between='variable', subject='index', padjust='bonf'),\n",
                "    pg.pairwise_tests(dfl, dv='value', within='variable', subject='index', padjust='fdr_bh'),  \n",
                "])"
            ]
        },
        {
            "cell_type": "markdown",
            "id": "c44898ca",
            "metadata": {},
            "source": [
                "**Example**: A table of all pairwise correlations, with three different correlation methods used:"
            ]
        },
        {
            "cell_type": "code",
            "execution_count": 151,
            "id": "ae3f8a1e",
            "metadata": {},
            "outputs": [
                {
                    "data": {
                        "text/html": [
                            "<div>\n",
                            "<style scoped>\n",
                            "    .dataframe tbody tr th:only-of-type {\n",
                            "        vertical-align: middle;\n",
                            "    }\n",
                            "\n",
                            "    .dataframe tbody tr th {\n",
                            "        vertical-align: top;\n",
                            "    }\n",
                            "\n",
                            "    .dataframe thead th {\n",
                            "        text-align: right;\n",
                            "    }\n",
                            "</style>\n",
                            "<table border=\"1\" class=\"dataframe\">\n",
                            "  <thead>\n",
                            "    <tr style=\"text-align: right;\">\n",
                            "      <th></th>\n",
                            "      <th>X</th>\n",
                            "      <th>Y</th>\n",
                            "      <th>method</th>\n",
                            "      <th>alternative</th>\n",
                            "      <th>n</th>\n",
                            "      <th>r</th>\n",
                            "      <th>CI95%</th>\n",
                            "      <th>p-unc</th>\n",
                            "      <th>BF10</th>\n",
                            "      <th>power</th>\n",
                            "    </tr>\n",
                            "  </thead>\n",
                            "  <tbody>\n",
                            "    <tr>\n",
                            "      <th>0</th>\n",
                            "      <td>A</td>\n",
                            "      <td>B</td>\n",
                            "      <td>pearson</td>\n",
                            "      <td>two-sided</td>\n",
                            "      <td>20</td>\n",
                            "      <td>-0.157294</td>\n",
                            "      <td>[-0.56, 0.31]</td>\n",
                            "      <td>0.507787</td>\n",
                            "      <td>0.34</td>\n",
                            "      <td>0.101785</td>\n",
                            "    </tr>\n",
                            "    <tr>\n",
                            "      <th>0</th>\n",
                            "      <td>A</td>\n",
                            "      <td>B</td>\n",
                            "      <td>spearman</td>\n",
                            "      <td>two-sided</td>\n",
                            "      <td>20</td>\n",
                            "      <td>-0.120301</td>\n",
                            "      <td>[-0.53, 0.34]</td>\n",
                            "      <td>0.613418</td>\n",
                            "      <td>NaN</td>\n",
                            "      <td>0.079463</td>\n",
                            "    </tr>\n",
                            "    <tr>\n",
                            "      <th>0</th>\n",
                            "      <td>A</td>\n",
                            "      <td>B</td>\n",
                            "      <td>kendall</td>\n",
                            "      <td>two-sided</td>\n",
                            "      <td>20</td>\n",
                            "      <td>-0.042105</td>\n",
                            "      <td>[-0.48, 0.41]</td>\n",
                            "      <td>0.822683</td>\n",
                            "      <td>NaN</td>\n",
                            "      <td>0.052875</td>\n",
                            "    </tr>\n",
                            "    <tr>\n",
                            "      <th>1</th>\n",
                            "      <td>A</td>\n",
                            "      <td>C</td>\n",
                            "      <td>pearson</td>\n",
                            "      <td>two-sided</td>\n",
                            "      <td>20</td>\n",
                            "      <td>-0.356238</td>\n",
                            "      <td>[-0.69, 0.1]</td>\n",
                            "      <td>0.123158</td>\n",
                            "      <td>0.842</td>\n",
                            "      <td>0.347899</td>\n",
                            "    </tr>\n",
                            "    <tr>\n",
                            "      <th>1</th>\n",
                            "      <td>A</td>\n",
                            "      <td>C</td>\n",
                            "      <td>spearman</td>\n",
                            "      <td>two-sided</td>\n",
                            "      <td>20</td>\n",
                            "      <td>-0.311278</td>\n",
                            "      <td>[-0.66, 0.15]</td>\n",
                            "      <td>0.181576</td>\n",
                            "      <td>NaN</td>\n",
                            "      <td>0.272998</td>\n",
                            "    </tr>\n",
                            "    <tr>\n",
                            "      <th>1</th>\n",
                            "      <td>A</td>\n",
                            "      <td>C</td>\n",
                            "      <td>kendall</td>\n",
                            "      <td>two-sided</td>\n",
                            "      <td>20</td>\n",
                            "      <td>-0.242105</td>\n",
                            "      <td>[-0.62, 0.22]</td>\n",
                            "      <td>0.145844</td>\n",
                            "      <td>NaN</td>\n",
                            "      <td>0.179664</td>\n",
                            "    </tr>\n",
                            "    <tr>\n",
                            "      <th>2</th>\n",
                            "      <td>A</td>\n",
                            "      <td>D</td>\n",
                            "      <td>pearson</td>\n",
                            "      <td>two-sided</td>\n",
                            "      <td>20</td>\n",
                            "      <td>0.441910</td>\n",
                            "      <td>[-0.0, 0.74]</td>\n",
                            "      <td>0.051079</td>\n",
                            "      <td>1.64</td>\n",
                            "      <td>0.515369</td>\n",
                            "    </tr>\n",
                            "    <tr>\n",
                            "      <th>2</th>\n",
                            "      <td>A</td>\n",
                            "      <td>D</td>\n",
                            "      <td>spearman</td>\n",
                            "      <td>two-sided</td>\n",
                            "      <td>20</td>\n",
                            "      <td>0.245113</td>\n",
                            "      <td>[-0.22, 0.62]</td>\n",
                            "      <td>0.297601</td>\n",
                            "      <td>NaN</td>\n",
                            "      <td>0.183153</td>\n",
                            "    </tr>\n",
                            "    <tr>\n",
                            "      <th>2</th>\n",
                            "      <td>A</td>\n",
                            "      <td>D</td>\n",
                            "      <td>kendall</td>\n",
                            "      <td>two-sided</td>\n",
                            "      <td>20</td>\n",
                            "      <td>0.157895</td>\n",
                            "      <td>[-0.31, 0.56]</td>\n",
                            "      <td>0.351395</td>\n",
                            "      <td>NaN</td>\n",
                            "      <td>0.102203</td>\n",
                            "    </tr>\n",
                            "    <tr>\n",
                            "      <th>3</th>\n",
                            "      <td>B</td>\n",
                            "      <td>C</td>\n",
                            "      <td>pearson</td>\n",
                            "      <td>two-sided</td>\n",
                            "      <td>20</td>\n",
                            "      <td>0.108019</td>\n",
                            "      <td>[-0.35, 0.53]</td>\n",
                            "      <td>0.650333</td>\n",
                            "      <td>0.305</td>\n",
                            "      <td>0.073491</td>\n",
                            "    </tr>\n",
                            "    <tr>\n",
                            "      <th>3</th>\n",
                            "      <td>B</td>\n",
                            "      <td>C</td>\n",
                            "      <td>spearman</td>\n",
                            "      <td>two-sided</td>\n",
                            "      <td>20</td>\n",
                            "      <td>0.124812</td>\n",
                            "      <td>[-0.34, 0.54]</td>\n",
                            "      <td>0.600074</td>\n",
                            "      <td>NaN</td>\n",
                            "      <td>0.081833</td>\n",
                            "    </tr>\n",
                            "    <tr>\n",
                            "      <th>3</th>\n",
                            "      <td>B</td>\n",
                            "      <td>C</td>\n",
                            "      <td>kendall</td>\n",
                            "      <td>two-sided</td>\n",
                            "      <td>20</td>\n",
                            "      <td>0.063158</td>\n",
                            "      <td>[-0.39, 0.49]</td>\n",
                            "      <td>0.724636</td>\n",
                            "      <td>NaN</td>\n",
                            "      <td>0.057428</td>\n",
                            "    </tr>\n",
                            "    <tr>\n",
                            "      <th>4</th>\n",
                            "      <td>B</td>\n",
                            "      <td>D</td>\n",
                            "      <td>pearson</td>\n",
                            "      <td>two-sided</td>\n",
                            "      <td>20</td>\n",
                            "      <td>-0.123523</td>\n",
                            "      <td>[-0.54, 0.34]</td>\n",
                            "      <td>0.603873</td>\n",
                            "      <td>0.314</td>\n",
                            "      <td>0.081147</td>\n",
                            "    </tr>\n",
                            "    <tr>\n",
                            "      <th>4</th>\n",
                            "      <td>B</td>\n",
                            "      <td>D</td>\n",
                            "      <td>spearman</td>\n",
                            "      <td>two-sided</td>\n",
                            "      <td>20</td>\n",
                            "      <td>-0.034586</td>\n",
                            "      <td>[-0.47, 0.41]</td>\n",
                            "      <td>0.884902</td>\n",
                            "      <td>NaN</td>\n",
                            "      <td>0.051696</td>\n",
                            "    </tr>\n",
                            "    <tr>\n",
                            "      <th>4</th>\n",
                            "      <td>B</td>\n",
                            "      <td>D</td>\n",
                            "      <td>kendall</td>\n",
                            "      <td>two-sided</td>\n",
                            "      <td>20</td>\n",
                            "      <td>-0.042105</td>\n",
                            "      <td>[-0.48, 0.41]</td>\n",
                            "      <td>0.822683</td>\n",
                            "      <td>NaN</td>\n",
                            "      <td>0.052875</td>\n",
                            "    </tr>\n",
                            "    <tr>\n",
                            "      <th>5</th>\n",
                            "      <td>C</td>\n",
                            "      <td>D</td>\n",
                            "      <td>pearson</td>\n",
                            "      <td>two-sided</td>\n",
                            "      <td>20</td>\n",
                            "      <td>-0.323625</td>\n",
                            "      <td>[-0.67, 0.14]</td>\n",
                            "      <td>0.163953</td>\n",
                            "      <td>0.685</td>\n",
                            "      <td>0.292497</td>\n",
                            "    </tr>\n",
                            "    <tr>\n",
                            "      <th>5</th>\n",
                            "      <td>C</td>\n",
                            "      <td>D</td>\n",
                            "      <td>spearman</td>\n",
                            "      <td>two-sided</td>\n",
                            "      <td>20</td>\n",
                            "      <td>-0.142857</td>\n",
                            "      <td>[-0.55, 0.32]</td>\n",
                            "      <td>0.547950</td>\n",
                            "      <td>NaN</td>\n",
                            "      <td>0.092282</td>\n",
                            "    </tr>\n",
                            "    <tr>\n",
                            "      <th>5</th>\n",
                            "      <td>C</td>\n",
                            "      <td>D</td>\n",
                            "      <td>kendall</td>\n",
                            "      <td>two-sided</td>\n",
                            "      <td>20</td>\n",
                            "      <td>-0.094737</td>\n",
                            "      <td>[-0.52, 0.36]</td>\n",
                            "      <td>0.585858</td>\n",
                            "      <td>NaN</td>\n",
                            "      <td>0.067809</td>\n",
                            "    </tr>\n",
                            "  </tbody>\n",
                            "</table>\n",
                            "</div>"
                        ],
                        "text/plain": [
                            "   X  Y    method alternative   n         r          CI95%     p-unc   BF10  \\\n",
                            "0  A  B   pearson   two-sided  20 -0.157294  [-0.56, 0.31]  0.507787   0.34   \n",
                            "0  A  B  spearman   two-sided  20 -0.120301  [-0.53, 0.34]  0.613418    NaN   \n",
                            "0  A  B   kendall   two-sided  20 -0.042105  [-0.48, 0.41]  0.822683    NaN   \n",
                            "1  A  C   pearson   two-sided  20 -0.356238   [-0.69, 0.1]  0.123158  0.842   \n",
                            "1  A  C  spearman   two-sided  20 -0.311278  [-0.66, 0.15]  0.181576    NaN   \n",
                            "1  A  C   kendall   two-sided  20 -0.242105  [-0.62, 0.22]  0.145844    NaN   \n",
                            "2  A  D   pearson   two-sided  20  0.441910   [-0.0, 0.74]  0.051079   1.64   \n",
                            "2  A  D  spearman   two-sided  20  0.245113  [-0.22, 0.62]  0.297601    NaN   \n",
                            "2  A  D   kendall   two-sided  20  0.157895  [-0.31, 0.56]  0.351395    NaN   \n",
                            "3  B  C   pearson   two-sided  20  0.108019  [-0.35, 0.53]  0.650333  0.305   \n",
                            "3  B  C  spearman   two-sided  20  0.124812  [-0.34, 0.54]  0.600074    NaN   \n",
                            "3  B  C   kendall   two-sided  20  0.063158  [-0.39, 0.49]  0.724636    NaN   \n",
                            "4  B  D   pearson   two-sided  20 -0.123523  [-0.54, 0.34]  0.603873  0.314   \n",
                            "4  B  D  spearman   two-sided  20 -0.034586  [-0.47, 0.41]  0.884902    NaN   \n",
                            "4  B  D   kendall   two-sided  20 -0.042105  [-0.48, 0.41]  0.822683    NaN   \n",
                            "5  C  D   pearson   two-sided  20 -0.323625  [-0.67, 0.14]  0.163953  0.685   \n",
                            "5  C  D  spearman   two-sided  20 -0.142857  [-0.55, 0.32]  0.547950    NaN   \n",
                            "5  C  D   kendall   two-sided  20 -0.094737  [-0.52, 0.36]  0.585858    NaN   \n",
                            "\n",
                            "      power  \n",
                            "0  0.101785  \n",
                            "0  0.079463  \n",
                            "0  0.052875  \n",
                            "1  0.347899  \n",
                            "1  0.272998  \n",
                            "1  0.179664  \n",
                            "2  0.515369  \n",
                            "2  0.183153  \n",
                            "2  0.102203  \n",
                            "3  0.073491  \n",
                            "3  0.081833  \n",
                            "3  0.057428  \n",
                            "4  0.081147  \n",
                            "4  0.051696  \n",
                            "4  0.052875  \n",
                            "5  0.292497  \n",
                            "5  0.092282  \n",
                            "5  0.067809  "
                        ]
                    },
                    "execution_count": 151,
                    "metadata": {},
                    "output_type": "execute_result"
                }
            ],
            "source": [
                "pd.concat([\n",
                "    pg.pairwise_corr(df),\n",
                "    pg.pairwise_corr(df, method='spearman'),\n",
                "    pg.pairwise_corr(df, method='kendall'),\n",
                "]).sort_values(['X', 'Y'])"
            ]
        },
        {
            "cell_type": "markdown",
            "id": "50dfadae",
            "metadata": {},
            "source": [
                "**Example**: ANOVA"
            ]
        },
        {
            "cell_type": "code",
            "execution_count": 152,
            "id": "89f50d01",
            "metadata": {},
            "outputs": [
                {
                    "name": "stderr",
                    "output_type": "stream",
                    "text": [
                        "/home/nickdg/miniconda3/envs/py10/lib/python3.10/site-packages/pingouin/parametric.py:992: FutureWarning: Not prepending group keys to the result index of transform-like apply. In the future, the group keys will be included in the index, regardless of whether the applied function returns a like-indexed object.\n",
                        "To preserve the previous behavior, use\n",
                        "\n",
                        "\t>>> .groupby(..., group_keys=False)\n",
                        "\n",
                        "To adopt the future behavior and silence this warning, use \n",
                        "\n",
                        "\t>>> .groupby(..., group_keys=True)\n",
                        "  sserror = grp.apply(lambda x: (x - x.mean()) ** 2).sum()\n"
                    ]
                },
                {
                    "data": {
                        "text/html": [
                            "<div>\n",
                            "<style scoped>\n",
                            "    .dataframe tbody tr th:only-of-type {\n",
                            "        vertical-align: middle;\n",
                            "    }\n",
                            "\n",
                            "    .dataframe tbody tr th {\n",
                            "        vertical-align: top;\n",
                            "    }\n",
                            "\n",
                            "    .dataframe thead th {\n",
                            "        text-align: right;\n",
                            "    }\n",
                            "</style>\n",
                            "<table border=\"1\" class=\"dataframe\">\n",
                            "  <thead>\n",
                            "    <tr style=\"text-align: right;\">\n",
                            "      <th></th>\n",
                            "      <th>Source</th>\n",
                            "      <th>SS</th>\n",
                            "      <th>DF</th>\n",
                            "      <th>MS</th>\n",
                            "      <th>F</th>\n",
                            "      <th>p-unc</th>\n",
                            "      <th>np2</th>\n",
                            "    </tr>\n",
                            "  </thead>\n",
                            "  <tbody>\n",
                            "    <tr>\n",
                            "      <th>0</th>\n",
                            "      <td>variable</td>\n",
                            "      <td>6.567354</td>\n",
                            "      <td>3</td>\n",
                            "      <td>2.189118</td>\n",
                            "      <td>3.002379</td>\n",
                            "      <td>0.035633</td>\n",
                            "      <td>0.105957</td>\n",
                            "    </tr>\n",
                            "    <tr>\n",
                            "      <th>1</th>\n",
                            "      <td>Within</td>\n",
                            "      <td>55.413708</td>\n",
                            "      <td>76</td>\n",
                            "      <td>0.729128</td>\n",
                            "      <td>NaN</td>\n",
                            "      <td>NaN</td>\n",
                            "      <td>NaN</td>\n",
                            "    </tr>\n",
                            "  </tbody>\n",
                            "</table>\n",
                            "</div>"
                        ],
                        "text/plain": [
                            "     Source         SS  DF        MS         F     p-unc       np2\n",
                            "0  variable   6.567354   3  2.189118  3.002379  0.035633  0.105957\n",
                            "1    Within  55.413708  76  0.729128       NaN       NaN       NaN"
                        ]
                    },
                    "execution_count": 152,
                    "metadata": {},
                    "output_type": "execute_result"
                }
            ],
            "source": [
                "pg.anova(dfl, dv='value', between='variable', detailed=True)"
            ]
        },
        {
            "cell_type": "markdown",
            "id": "0a7a601c",
            "metadata": {
                "cell_id": "00028-47e23c09-42f1-4eaa-b027-43c8707fc77b",
                "deepnote_cell_type": "markdown",
                "id": "documentary-effects"
            },
            "source": [
                "## Further Reading\n",
                "\n",
                "Nice article on Pingouin here: https://towardsdatascience.com/the-new-kid-on-the-statistics-in-python-block-pingouin-6b353a1db57c"
            ]
        },
        {
            "cell_type": "markdown",
            "id": "7243166a",
            "metadata": {
                "created_in_deepnote_cell": true,
                "deepnote_cell_type": "markdown",
                "tags": []
            },
            "source": [
                "<a style='text-decoration:none;line-height:16px;display:flex;color:#5B5B62;padding:10px;justify-content:end;' href='https://deepnote.com?utm_source=created-in-deepnote-cell&projectId=61a4b91b-9261-42f0-a4f5-a139c5d33a06' target=\"_blank\">\n",
                "<img alt='Created in deepnote.com' style='display:inline;max-height:16px;margin:0px;margin-right:7.5px;' src='data:image/svg+xml;base64,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' > </img>\n",
                "Created in <span style='font-weight:600;margin-left:4px;'>Deepnote</span></a>"
            ]
        }
    ],
    "metadata": {
        "colab": {
            "name": "20_Stats_With_Pingouin.ipynb",
            "provenance": []
        },
        "deepnote": {},
        "deepnote_execution_queue": [],
        "deepnote_notebook_id": "2622f8ad-4a8a-45f5-9f7f-6e1d67bd04f0",
        "kernelspec": {
            "display_name": "Python 3 (ipykernel)",
            "language": "python",
            "name": "python3"
        },
        "language_info": {
            "codemirror_mode": {
                "name": "ipython",
                "version": 3
            },
            "file_extension": ".py",
            "mimetype": "text/x-python",
            "name": "python",
            "nbconvert_exporter": "python",
            "pygments_lexer": "ipython3",
            "version": "3.10.4"
        },
        "vscode": {
            "interpreter": {
                "hash": "d6852d01271bf8033dbdb7ec364b6f6e89fd52a18c6bf5b4c73e48c86329a8dd"
            }
        }
    },
    "nbformat": 4,
    "nbformat_minor": 5
}