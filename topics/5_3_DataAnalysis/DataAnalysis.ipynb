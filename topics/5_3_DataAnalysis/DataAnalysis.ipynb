{
 "cells": [
  {
   "cell_type": "markdown",
   "source": "## Data Analysis",
   "metadata": {
    "cell_id": "00000-d5d05db5-ade3-41f4-b9e5-5599644db44c",
    "deepnote_cell_type": "markdown"
   }
  },
  {
   "cell_type": "markdown",
   "source": "### Load the Processed Data",
   "metadata": {
    "tags": [],
    "cell_id": "00001-1d629ea0-1dfc-4575-87dc-221a812d41fa",
    "deepnote_cell_type": "markdown"
   },
   "outputs": [],
   "execution_count": null
  },
  {
   "cell_type": "code",
   "source": "",
   "metadata": {
    "tags": [],
    "cell_id": "00002-6bada8fd-c599-4ef9-be17-ae87af10580e",
    "deepnote_cell_type": "code"
   },
   "outputs": [],
   "execution_count": null
  },
  {
   "cell_type": "markdown",
   "source": "### Describe Your Independent Variables\n\nFirst off, it's good to understand the context the data was collected in (without worrying about the measurements temselves).  Let's analyze the implementation of experiment itself, the parts that the subjects in the study couldn't influence: the independent variables.  ",
   "metadata": {
    "tags": [],
    "cell_id": "00001-f62a2aec-b506-4b45-b59b-5c18ae00a12e",
    "deepnote_cell_type": "markdown"
   }
  },
  {
   "cell_type": "markdown",
   "source": "How much missing data is there? \n\n  - `df.isna().value_counts()`\n  - `df.info()`\n\n",
   "metadata": {
    "tags": [],
    "cell_id": "00002-9798c15f-10fd-40ca-9056-37b00fd10a1d",
    "deepnote_cell_type": "markdown"
   }
  },
  {
   "cell_type": "code",
   "metadata": {
    "tags": [],
    "cell_id": "00003-78751f31-57d6-4221-826f-541dbe7227f5",
    "deepnote_cell_type": "code"
   },
   "source": "",
   "execution_count": null,
   "outputs": []
  },
  {
   "cell_type": "markdown",
   "source": "What are the counts of the conditions? \n\n  - In text: `df['col'].value_counts()`\n  - Visually: \n    - `df['col'].value_counts().plot.bar()`\n    - [`sns.countplot()`](https://seaborn.pydata.org/generated/seaborn.countplot.html)\n",
   "metadata": {
    "tags": [],
    "cell_id": "00004-a7fcda90-8f36-435a-9171-25e35d904cc3",
    "deepnote_cell_type": "markdown"
   }
  },
  {
   "cell_type": "markdown",
   "source": "**Exercise**: Were there roughly the same number of matching / not-matching trials?",
   "metadata": {
    "tags": [],
    "cell_id": "00005-545fc78d-b976-4692-8a58-31cdb155b9dd",
    "deepnote_cell_type": "markdown"
   }
  },
  {
   "cell_type": "markdown",
   "source": "Show via text:",
   "metadata": {
    "tags": [],
    "cell_id": "00006-2249ed68-45b8-48f9-ae0f-88943bf27be0",
    "deepnote_cell_type": "markdown"
   }
  },
  {
   "cell_type": "code",
   "metadata": {
    "deepnote_to_be_reexecuted": false,
    "execution_millis": 2,
    "execution_start": 1636890291831,
    "source_hash": "b623e53d",
    "tags": [],
    "cell_id": "00007-9071cb8a-10fc-432a-ae1f-46ae4332a87c",
    "deepnote_cell_type": "code"
   },
   "source": "",
   "execution_count": null,
   "outputs": []
  },
  {
   "cell_type": "markdown",
   "source": "Show visually:",
   "metadata": {
    "tags": [],
    "cell_id": "00008-048dec08-6700-4586-8cc9-05487887e65a",
    "deepnote_cell_type": "markdown"
   }
  },
  {
   "cell_type": "code",
   "metadata": {
    "deepnote_to_be_reexecuted": false,
    "execution_millis": 0,
    "execution_start": 1636889882098,
    "source_hash": "b623e53d",
    "tags": [],
    "cell_id": "00009-ccd55f42-a560-4a5f-97bf-f05edc322f52",
    "deepnote_cell_type": "code"
   },
   "source": "",
   "execution_count": null,
   "outputs": []
  },
  {
   "cell_type": "markdown",
   "source": "**Exercise**: Did a certain color appear much more often than the others?",
   "metadata": {
    "tags": [],
    "cell_id": "00010-a962c5ea-2b70-4ce6-ab64-55077ba94ae2",
    "deepnote_cell_type": "markdown"
   }
  },
  {
   "cell_type": "markdown",
   "source": "With text:",
   "metadata": {
    "tags": [],
    "cell_id": "00011-d90d836a-7137-4e4d-9d85-c7df07646e03",
    "deepnote_cell_type": "markdown"
   }
  },
  {
   "cell_type": "code",
   "metadata": {
    "deepnote_to_be_reexecuted": false,
    "execution_millis": 1,
    "execution_start": 1636889908495,
    "source_hash": "b623e53d",
    "tags": [],
    "cell_id": "00012-138b83db-5361-4496-a16f-481ba21fe189",
    "deepnote_cell_type": "code"
   },
   "source": "",
   "execution_count": null,
   "outputs": []
  },
  {
   "cell_type": "markdown",
   "source": "**Exercise**: Did some colors only appear in the \"Not Matched\" condition, and other colors only in the \"Matched\" condition?\n\n  - `df[['col1', 'col2']].value_counts().unstack()`\n  - `pd.crosstab(df['col1'], df['col2'])`\n  - `sns.countplot()`",
   "metadata": {
    "tags": [],
    "cell_id": "00013-56a9165f-6a5f-4128-9316-7a0f31319228",
    "deepnote_cell_type": "markdown"
   }
  },
  {
   "cell_type": "markdown",
   "source": "In a table:",
   "metadata": {
    "tags": [],
    "cell_id": "00014-54525ac1-9e2d-4120-a372-2bf182264502",
    "deepnote_cell_type": "markdown"
   }
  },
  {
   "cell_type": "code",
   "metadata": {
    "deepnote_to_be_reexecuted": false,
    "execution_millis": 2,
    "execution_start": 1636889950991,
    "source_hash": "b623e53d",
    "tags": [],
    "cell_id": "00015-061187a4-281c-47d4-9371-c22334f4b19b",
    "deepnote_cell_type": "code"
   },
   "source": "",
   "execution_count": null,
   "outputs": []
  },
  {
   "cell_type": "markdown",
   "source": "Visually:",
   "metadata": {
    "tags": [],
    "cell_id": "00016-e4d87352-1708-455c-bdf2-47189445c3f2",
    "deepnote_cell_type": "markdown"
   }
  },
  {
   "cell_type": "code",
   "metadata": {
    "deepnote_to_be_reexecuted": false,
    "execution_millis": 0,
    "execution_start": 1636890085034,
    "source_hash": "b623e53d",
    "tags": [],
    "cell_id": "00017-1ef02b22-adf5-48c0-8c14-33c7594216e6",
    "deepnote_cell_type": "code"
   },
   "source": "",
   "execution_count": null,
   "outputs": []
  },
  {
   "cell_type": "markdown",
   "source": "### Describe Your Dependent Variables (i.e. your Measurements)\n\nNext, try to understand the nature of the data you collected; how do the subjects act, regardless of the experiment?  In a good experimental design, this will be seperated from the experimental manipulations in a clear way.",
   "metadata": {
    "tags": [],
    "cell_id": "00018-18208dd3-9cd2-473c-9dcc-bf0f3e90610d",
    "deepnote_cell_type": "markdown"
   }
  },
  {
   "cell_type": "markdown",
   "source": "#### Understand the Patterns Relating your Measurements\n\nAre your measurmeents correlated?  Can you easily predict the value of one measurement from another?  In this experiment, we two measurements: the response time, and their keyboard press",
   "metadata": {
    "tags": [],
    "cell_id": "00019-3b107969-4ca4-4b99-ad18-9d06210f667c",
    "deepnote_cell_type": "markdown"
   }
  },
  {
   "cell_type": "markdown",
   "source": "##### Response Time\n\nWhat was the distribution of their response times?\n\n  - `df['col'].plot.hist()`\n  - `sns.displot()`",
   "metadata": {
    "tags": [],
    "cell_id": "00020-3bbc2853-c8a2-4e58-8298-96d6f62f7515",
    "deepnote_cell_type": "markdown"
   }
  },
  {
   "cell_type": "code",
   "metadata": {
    "tags": [],
    "cell_id": "00021-1bd3c59d-358d-4279-8c20-f1cab89db6fe",
    "deepnote_cell_type": "code"
   },
   "source": "",
   "execution_count": null,
   "outputs": []
  },
  {
   "cell_type": "markdown",
   "source": "##### Keyboard Presses\n\nHow often did they press each key?",
   "metadata": {
    "tags": [],
    "cell_id": "00022-72e47d7c-7b21-4f4c-81b4-94af8c62c271",
    "deepnote_cell_type": "markdown"
   }
  },
  {
   "cell_type": "code",
   "metadata": {
    "deepnote_to_be_reexecuted": false,
    "execution_millis": 0,
    "execution_start": 1636891567310,
    "source_hash": "b623e53d",
    "tags": [],
    "cell_id": "00023-6ac0cf2c-ef66-4640-879d-c161698b55b4",
    "deepnote_cell_type": "code"
   },
   "source": "",
   "execution_count": null,
   "outputs": []
  },
  {
   "cell_type": "markdown",
   "source": "##### Response Time vs Keyboard Press\n\nWas their a relationship between which key was pressed and their response time?\n\n  - `pd.crosstab()`\n  - `pd.groupby('Col1')['Col2'].mean()`\n  - `pd.groupby('Col1')['Col2'].mean().plot.bar()`\n  - `sns.catplot()`",
   "metadata": {
    "tags": [],
    "cell_id": "00024-a457644c-740f-4abf-a389-e488281b9501",
    "deepnote_cell_type": "markdown"
   }
  },
  {
   "cell_type": "code",
   "metadata": {
    "tags": [],
    "cell_id": "00025-fb7eb4f5-9e43-4a9e-b3e8-8977f385f602",
    "deepnote_cell_type": "code"
   },
   "source": "",
   "execution_count": null,
   "outputs": []
  },
  {
   "cell_type": "markdown",
   "source": "##### Response Time with Practice\n\nDid participants get faster or slower as the session went on (i.e. a \"practice effect\"?), or was it about the same?\n\n`pg.corr(df.index, df['col'], kind='spearman')`\n\n`df[['col1', 'col2']].corr(method='spearman')`\n\n`scipy.stats.spearmanr(df.index, df['col'])`\n\n`np.corrcoef(df.index, df['col'])  # pearson-only`\n\n`plt.scatter(df.index, df['col'])`\n\n`plt.plot(df['col'], '.')`\n\n`sns.relplot(kind='line')`\n\nTest it 3 different ways:  ",
   "metadata": {
    "tags": [],
    "cell_id": "00028-68e10445-fa86-409b-a119-5e37a2b7c0a4",
    "deepnote_cell_type": "markdown"
   },
   "outputs": [],
   "execution_count": null
  },
  {
   "cell_type": "code",
   "source": "",
   "metadata": {
    "tags": [],
    "cell_id": "00029-926a3929-9e8c-4bef-b25d-7199ac925d9c",
    "deepnote_cell_type": "code"
   },
   "outputs": [],
   "execution_count": null
  },
  {
   "outputs": [],
   "execution_count": null,
   "cell_type": "code",
   "source": "",
   "metadata": {
    "tags": [],
    "cell_id": "00030-8be8d7d0-3fc5-4f03-9628-60d4e34f85f5",
    "deepnote_cell_type": "code"
   }
  },
  {
   "cell_type": "code",
   "source": "",
   "metadata": {
    "tags": [],
    "cell_id": "00031-a173b600-c1b2-402b-8279-0b9e1c0231ab",
    "deepnote_to_be_reexecuted": false,
    "source_hash": "b623e53d",
    "execution_start": 1636913420470,
    "execution_millis": 1,
    "deepnote_cell_type": "code"
   },
   "outputs": [],
   "execution_count": 0
  },
  {
   "cell_type": "markdown",
   "source": "### Analyze the Research Question",
   "metadata": {
    "tags": [],
    "cell_id": "00028-f9db8d63-3ffe-435f-810c-e699c6405533",
    "deepnote_cell_type": "markdown"
   },
   "outputs": [],
   "execution_count": null
  },
  {
   "cell_type": "markdown",
   "metadata": {
    "tags": [],
    "cell_id": "00026-3d5f117e-59a8-4e86-b1b9-9eda4b8024cc",
    "deepnote_cell_type": "markdown"
   },
   "source": "### Was there a difference in average reaction time between matching and non-matching trials?",
   "execution_count": null
  },
  {
   "cell_type": "markdown",
   "source": "Visualize the Difference:\n\n`sns.catplot(kind='bar', estimator=np.mean)` \n\n`sns.catplot(kind='point', estimator=np.mean)`\n\n`df.groupby('col1')['col2'].mean().plot.bar()`",
   "metadata": {
    "tags": [],
    "cell_id": "00034-21453559-0101-410a-b83f-c202d7ee7170",
    "deepnote_cell_type": "markdown"
   }
  },
  {
   "outputs": [],
   "execution_count": null,
   "cell_type": "code",
   "source": "",
   "metadata": {
    "tags": [],
    "cell_id": "00035-14f94770-cbb3-43f7-b673-e7af8da1aefb",
    "deepnote_cell_type": "code"
   }
  },
  {
   "cell_type": "markdown",
   "source": "Statistical Analysis with Pingouin:\n\n`pg.anova()` if only one subject, `pg.rm_anova()` for multiple subjects\n\n`pg.pairwise_ttests()` if anova is significant",
   "metadata": {
    "tags": [],
    "cell_id": "00036-259577b9-b369-4b68-b581-5972ad251a45",
    "deepnote_cell_type": "markdown"
   },
   "outputs": [],
   "execution_count": null
  },
  {
   "outputs": [],
   "execution_count": null,
   "cell_type": "code",
   "source": "",
   "metadata": {
    "tags": [],
    "cell_id": "00037-39754bd8-09bc-4415-a191-a5b8539e3a08",
    "deepnote_cell_type": "code"
   }
  },
  {
   "cell_type": "code",
   "source": "",
   "metadata": {
    "tags": [],
    "cell_id": "00038-6984de53-c4b7-4c4e-b2cc-134402b223a2",
    "deepnote_cell_type": "code"
   },
   "outputs": [],
   "execution_count": null
  },
  {
   "cell_type": "markdown",
   "source": "<a style='text-decoration:none;line-height:16px;display:flex;color:#5B5B62;padding:10px;justify-content:end;' href='https://deepnote.com?utm_source=created-in-deepnote-cell&projectId=c665e050-0883-422f-9ef6-043d968a80b6' target=\"_blank\">\n<img alt='Created in deepnote.com' style='display:inline;max-height:16px;margin:0px;margin-right:7.5px;' src='data:image/svg+xml;base64,PD94bWwgdmVyc2lvbj0iMS4wIiBlbmNvZGluZz0iVVRGLTgiPz4KPHN2ZyB3aWR0aD0iODBweCIgaGVpZ2h0PSI4MHB4IiB2aWV3Qm94PSIwIDAgODAgODAiIHZlcnNpb249IjEuMSIgeG1sbnM9Imh0dHA6Ly93d3cudzMub3JnLzIwMDAvc3ZnIiB4bWxuczp4bGluaz0iaHR0cDovL3d3dy53My5vcmcvMTk5OS94bGluayI+CiAgICA8IS0tIEdlbmVyYXRvcjogU2tldGNoIDU0LjEgKDc2NDkwKSAtIGh0dHBzOi8vc2tldGNoYXBwLmNvbSAtLT4KICAgIDx0aXRsZT5Hcm91cCAzPC90aXRsZT4KICAgIDxkZXNjPkNyZWF0ZWQgd2l0aCBTa2V0Y2guPC9kZXNjPgogICAgPGcgaWQ9IkxhbmRpbmciIHN0cm9rZT0ibm9uZSIgc3Ryb2tlLXdpZHRoPSIxIiBmaWxsPSJub25lIiBmaWxsLXJ1bGU9ImV2ZW5vZGQiPgogICAgICAgIDxnIGlkPSJBcnRib2FyZCIgdHJhbnNmb3JtPSJ0cmFuc2xhdGUoLTEyMzUuMDAwMDAwLCAtNzkuMDAwMDAwKSI+CiAgICAgICAgICAgIDxnIGlkPSJHcm91cC0zIiB0cmFuc2Zvcm09InRyYW5zbGF0ZSgxMjM1LjAwMDAwMCwgNzkuMDAwMDAwKSI+CiAgICAgICAgICAgICAgICA8cG9seWdvbiBpZD0iUGF0aC0yMCIgZmlsbD0iIzAyNjVCNCIgcG9pbnRzPSIyLjM3NjIzNzYyIDgwIDM4LjA0NzY2NjcgODAgNTcuODIxNzgyMiA3My44MDU3NTkyIDU3LjgyMTc4MjIgMzIuNzU5MjczOSAzOS4xNDAyMjc4IDMxLjY4MzE2ODMiPjwvcG9seWdvbj4KICAgICAgICAgICAgICAgIDxwYXRoIGQ9Ik0zNS4wMDc3MTgsODAgQzQyLjkwNjIwMDcsNzYuNDU0OTM1OCA0Ny41NjQ5MTY3LDcxLjU0MjI2NzEgNDguOTgzODY2LDY1LjI2MTk5MzkgQzUxLjExMjI4OTksNTUuODQxNTg0MiA0MS42NzcxNzk1LDQ5LjIxMjIyODQgMjUuNjIzOTg0Niw0OS4yMTIyMjg0IEMyNS40ODQ5Mjg5LDQ5LjEyNjg0NDggMjkuODI2MTI5Niw0My4yODM4MjQ4IDM4LjY0NzU4NjksMzEuNjgzMTY4MyBMNzIuODcxMjg3MSwzMi41NTQ0MjUgTDY1LjI4MDk3Myw2Ny42NzYzNDIxIEw1MS4xMTIyODk5LDc3LjM3NjE0NCBMMzUuMDA3NzE4LDgwIFoiIGlkPSJQYXRoLTIyIiBmaWxsPSIjMDAyODY4Ij48L3BhdGg+CiAgICAgICAgICAgICAgICA8cGF0aCBkPSJNMCwzNy43MzA0NDA1IEwyNy4xMTQ1MzcsMC4yNTcxMTE0MzYgQzYyLjM3MTUxMjMsLTEuOTkwNzE3MDEgODAsMTAuNTAwMzkyNyA4MCwzNy43MzA0NDA1IEM4MCw2NC45NjA0ODgyIDY0Ljc3NjUwMzgsNzkuMDUwMzQxNCAzNC4zMjk1MTEzLDgwIEM0Ny4wNTUzNDg5LDc3LjU2NzA4MDggNTMuNDE4MjY3Nyw3MC4zMTM2MTAzIDUzLjQxODI2NzcsNTguMjM5NTg4NSBDNTMuNDE4MjY3Nyw0MC4xMjg1NTU3IDM2LjMwMzk1NDQsMzcuNzMwNDQwNSAyNS4yMjc0MTcsMzcuNzMwNDQwNSBDMTcuODQzMDU4NiwzNy43MzA0NDA1IDkuNDMzOTE5NjYsMzcuNzMwNDQwNSAwLDM3LjczMDQ0MDUgWiIgaWQ9IlBhdGgtMTkiIGZpbGw9IiMzNzkzRUYiPjwvcGF0aD4KICAgICAgICAgICAgPC9nPgogICAgICAgIDwvZz4KICAgIDwvZz4KPC9zdmc+' > </img>\nCreated in <span style='font-weight:600;margin-left:4px;'>Deepnote</span></a>",
   "metadata": {
    "tags": [],
    "created_in_deepnote_cell": true,
    "deepnote_cell_type": "markdown"
   }
  }
 ],
 "nbformat": 4,
 "nbformat_minor": 5,
 "metadata": {
  "kernelspec": {
   "display_name": "Python 3",
   "language": "python",
   "name": "python3"
  },
  "language_info": {
   "codemirror_mode": {
    "name": "ipython",
    "version": 3
   },
   "file_extension": ".py",
   "mimetype": "text/x-python",
   "name": "python",
   "nbconvert_exporter": "python",
   "pygments_lexer": "ipython3",
   "version": "3.8.8"
  },
  "deepnote_notebook_id": "c36e8c6e-e761-486b-b47b-60a23e209dc0",
  "deepnote": {},
  "deepnote_execution_queue": []
 }
}