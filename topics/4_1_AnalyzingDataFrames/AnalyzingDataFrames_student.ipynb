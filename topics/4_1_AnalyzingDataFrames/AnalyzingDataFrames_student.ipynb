{
    "cells": [
        {
            "cell_type": "code",
            "metadata": {
                "id": "DSaWnDKbVNLb",
                "cell_id": "00000-4c6e354d-ac3a-4999-9b97-66fc8103c165",
                "deepnote_to_be_reexecuted": false,
                "source_hash": "9b82ee11",
                "execution_start": 1636621174814,
                "execution_millis": 1,
                "deepnote_cell_type": "code"
            },
            "source": "import pandas as pd",
            "outputs": [],
            "execution_count": null
        },
        {
            "cell_type": "markdown",
            "source": "## DataFrame vs 2D Array, Rows and Columns\n\nA key difference between Numpy and Pandas are in what index information they assume you'll use to query and organize the data in their data structures:\n\n|           |        | Ordered | Named |\n| :--:      | :--:   | :--:    | :-:   |\n| Array     | Rows   | \u2714\ufe0f       |       |\n| Array     | Columns| \u2714\ufe0f       |       |\n| DataFrame | Rows   | \u2714\ufe0f       | \u2714\ufe0f     |\n| DataFrame | Columns|         | \u2714\ufe0f     |\n\nThis reliance on named indices makes it straightforward to work with Pandas data **relationally**, thinking of each row as a specific Record with named Fields. ",
            "metadata": {
                "id": "zOhmpg5tVNLd",
                "cell_id": "00001-70dcdbbd-ec22-4f42-8598-a79e023be470",
                "deepnote_cell_type": "markdown"
            }
        },
        {
            "cell_type": "markdown",
            "source": "### Indexing Rows",
            "metadata": {
                "id": "obJY9jPyVNLg",
                "cell_id": "00002-081de098-b42d-4464-b909-29b176b632b2",
                "deepnote_cell_type": "markdown"
            }
        },
        {
            "cell_type": "markdown",
            "source": "Because DataFrame rows are both ordered and named, they can be indexed using either approach, and even both!  Column operations tend to be name-specific:\n\n| Axis        | Ordered Index | Named Index    | Ordered Slice    | Named Slice              |  NamedOrdered Slice     |\n| :--:        | :--:          | :--:           | :--:             | :--:                     | :--:                    |\n| **Rows**    | df.iloc\\[0\\]    | df.loc\\['John'\\] | df.iloc\\[0:2\\]     | df.loc\\[\\['Jim', 'John'\\]\\]  |  df.loc\\['Jim':'Jenny'\\]  |\n| **Columns** |               |  df\\['Q1'\\]      |                  |  df\\[\\['Q1', 'Q4'\\]\\]        |                         |\n\n\nTo reduce total typing, Pandas also has alternate interfaces for the same operations:\n\n| Axis        | Ordered Index | Named Index    | Ordered Slice    | Named Slice              |  NamedOrdered Slice     |\n| :--:        | :--:          | :--:           | :--:             | :--:                     | :--:                    |\n| **Rows**    |               |                | df\\[0:2\\]          |                          |  df\\['Jim':'Jenny'\\]      |\n| **Columns** |               |  df.Q1         |                  |  df\\[\\['Q1', 'Q4'\\]\\]        |                         |\n.\n\n**Note**: Notice that square brackets, not round brackets (a.k.a parenthesis) are used after `df.loc` and `df.iloc`.",
            "metadata": {
                "id": "QdO6D3o8VNLh",
                "cell_id": "00003-102e1a8c-7319-406f-b4df-53730258b102",
                "deepnote_cell_type": "markdown"
            }
        },
        {
            "cell_type": "markdown",
            "source": "### The Titanic Dataset",
            "metadata": {
                "id": "iwH2hd-eVNLi",
                "cell_id": "00004-4d7a3640-9d16-4167-9599-7bcb7629ba84",
                "deepnote_cell_type": "markdown"
            }
        },
        {
            "cell_type": "code",
            "metadata": {
                "id": "b0FEHRxRVNLi",
                "outputId": "c35d301c-6546-40c7-aaf9-0d0c51a17aba",
                "cell_id": "00005-f7d1eb5f-c2e9-4885-9289-f6659ce3183c",
                "deepnote_to_be_reexecuted": false,
                "source_hash": "eafaeb76",
                "execution_start": 1636621180385,
                "execution_millis": 401,
                "deepnote_cell_type": "code"
            },
            "source": "url = 'https://raw.githubusercontent.com/mwaskom/seaborn-data/master/titanic.csv'\ndf = pd.read_csv(url)\ndf.head()",
            "outputs": [
                {
                    "output_type": "execute_result",
                    "execution_count": 3,
                    "data": {
                        "application/vnd.deepnote.dataframe.v2+json": {
                            "row_count": 5,
                            "column_count": 15,
                            "columns": [
                                {
                                    "name": "survived",
                                    "dtype": "int64",
                                    "stats": {
                                        "unique_count": 2,
                                        "nan_count": 0,
                                        "min": "0",
                                        "max": "1",
                                        "histogram": [
                                            {
                                                "bin_start": 0,
                                                "bin_end": 0.1,
                                                "count": 2
                                            },
                                            {
                                                "bin_start": 0.1,
                                                "bin_end": 0.2,
                                                "count": 0
                                            },
                                            {
                                                "bin_start": 0.2,
                                                "bin_end": 0.30000000000000004,
                                                "count": 0
                                            },
                                            {
                                                "bin_start": 0.30000000000000004,
                                                "bin_end": 0.4,
                                                "count": 0
                                            },
                                            {
                                                "bin_start": 0.4,
                                                "bin_end": 0.5,
                                                "count": 0
                                            },
                                            {
                                                "bin_start": 0.5,
                                                "bin_end": 0.6000000000000001,
                                                "count": 0
                                            },
                                            {
                                                "bin_start": 0.6000000000000001,
                                                "bin_end": 0.7000000000000001,
                                                "count": 0
                                            },
                                            {
                                                "bin_start": 0.7000000000000001,
                                                "bin_end": 0.8,
                                                "count": 0
                                            },
                                            {
                                                "bin_start": 0.8,
                                                "bin_end": 0.9,
                                                "count": 0
                                            },
                                            {
                                                "bin_start": 0.9,
                                                "bin_end": 1,
                                                "count": 3
                                            }
                                        ]
                                    }
                                },
                                {
                                    "name": "pclass",
                                    "dtype": "int64",
                                    "stats": {
                                        "unique_count": 2,
                                        "nan_count": 0,
                                        "min": "1",
                                        "max": "3",
                                        "histogram": [
                                            {
                                                "bin_start": 1,
                                                "bin_end": 1.2,
                                                "count": 2
                                            },
                                            {
                                                "bin_start": 1.2,
                                                "bin_end": 1.4,
                                                "count": 0
                                            },
                                            {
                                                "bin_start": 1.4,
                                                "bin_end": 1.6,
                                                "count": 0
                                            },
                                            {
                                                "bin_start": 1.6,
                                                "bin_end": 1.8,
                                                "count": 0
                                            },
                                            {
                                                "bin_start": 1.8,
                                                "bin_end": 2,
                                                "count": 0
                                            },
                                            {
                                                "bin_start": 2,
                                                "bin_end": 2.2,
                                                "count": 0
                                            },
                                            {
                                                "bin_start": 2.2,
                                                "bin_end": 2.4000000000000004,
                                                "count": 0
                                            },
                                            {
                                                "bin_start": 2.4000000000000004,
                                                "bin_end": 2.6,
                                                "count": 0
                                            },
                                            {
                                                "bin_start": 2.6,
                                                "bin_end": 2.8,
                                                "count": 0
                                            },
                                            {
                                                "bin_start": 2.8,
                                                "bin_end": 3,
                                                "count": 3
                                            }
                                        ]
                                    }
                                },
                                {
                                    "name": "sex",
                                    "dtype": "object",
                                    "stats": {
                                        "unique_count": 2,
                                        "nan_count": 0,
                                        "categories": [
                                            {
                                                "name": "female",
                                                "count": 3
                                            },
                                            {
                                                "name": "male",
                                                "count": 2
                                            }
                                        ]
                                    }
                                },
                                {
                                    "name": "age",
                                    "dtype": "float64",
                                    "stats": {
                                        "unique_count": 4,
                                        "nan_count": 0,
                                        "min": "22.0",
                                        "max": "38.0",
                                        "histogram": [
                                            {
                                                "bin_start": 22,
                                                "bin_end": 23.6,
                                                "count": 1
                                            },
                                            {
                                                "bin_start": 23.6,
                                                "bin_end": 25.2,
                                                "count": 0
                                            },
                                            {
                                                "bin_start": 25.2,
                                                "bin_end": 26.8,
                                                "count": 1
                                            },
                                            {
                                                "bin_start": 26.8,
                                                "bin_end": 28.4,
                                                "count": 0
                                            },
                                            {
                                                "bin_start": 28.4,
                                                "bin_end": 30,
                                                "count": 0
                                            },
                                            {
                                                "bin_start": 30,
                                                "bin_end": 31.6,
                                                "count": 0
                                            },
                                            {
                                                "bin_start": 31.6,
                                                "bin_end": 33.2,
                                                "count": 0
                                            },
                                            {
                                                "bin_start": 33.2,
                                                "bin_end": 34.8,
                                                "count": 0
                                            },
                                            {
                                                "bin_start": 34.8,
                                                "bin_end": 36.4,
                                                "count": 2
                                            },
                                            {
                                                "bin_start": 36.4,
                                                "bin_end": 38,
                                                "count": 1
                                            }
                                        ]
                                    }
                                },
                                {
                                    "name": "sibsp",
                                    "dtype": "int64",
                                    "stats": {
                                        "unique_count": 2,
                                        "nan_count": 0,
                                        "min": "0",
                                        "max": "1",
                                        "histogram": [
                                            {
                                                "bin_start": 0,
                                                "bin_end": 0.1,
                                                "count": 2
                                            },
                                            {
                                                "bin_start": 0.1,
                                                "bin_end": 0.2,
                                                "count": 0
                                            },
                                            {
                                                "bin_start": 0.2,
                                                "bin_end": 0.30000000000000004,
                                                "count": 0
                                            },
                                            {
                                                "bin_start": 0.30000000000000004,
                                                "bin_end": 0.4,
                                                "count": 0
                                            },
                                            {
                                                "bin_start": 0.4,
                                                "bin_end": 0.5,
                                                "count": 0
                                            },
                                            {
                                                "bin_start": 0.5,
                                                "bin_end": 0.6000000000000001,
                                                "count": 0
                                            },
                                            {
                                                "bin_start": 0.6000000000000001,
                                                "bin_end": 0.7000000000000001,
                                                "count": 0
                                            },
                                            {
                                                "bin_start": 0.7000000000000001,
                                                "bin_end": 0.8,
                                                "count": 0
                                            },
                                            {
                                                "bin_start": 0.8,
                                                "bin_end": 0.9,
                                                "count": 0
                                            },
                                            {
                                                "bin_start": 0.9,
                                                "bin_end": 1,
                                                "count": 3
                                            }
                                        ]
                                    }
                                },
                                {
                                    "name": "parch",
                                    "dtype": "int64",
                                    "stats": {
                                        "unique_count": 1,
                                        "nan_count": 0,
                                        "min": "0",
                                        "max": "0",
                                        "histogram": [
                                            {
                                                "bin_start": -0.5,
                                                "bin_end": -0.4,
                                                "count": 0
                                            },
                                            {
                                                "bin_start": -0.4,
                                                "bin_end": -0.3,
                                                "count": 0
                                            },
                                            {
                                                "bin_start": -0.3,
                                                "bin_end": -0.19999999999999996,
                                                "count": 0
                                            },
                                            {
                                                "bin_start": -0.19999999999999996,
                                                "bin_end": -0.09999999999999998,
                                                "count": 0
                                            },
                                            {
                                                "bin_start": -0.09999999999999998,
                                                "bin_end": 0,
                                                "count": 0
                                            },
                                            {
                                                "bin_start": 0,
                                                "bin_end": 0.10000000000000009,
                                                "count": 5
                                            },
                                            {
                                                "bin_start": 0.10000000000000009,
                                                "bin_end": 0.20000000000000007,
                                                "count": 0
                                            },
                                            {
                                                "bin_start": 0.20000000000000007,
                                                "bin_end": 0.30000000000000004,
                                                "count": 0
                                            },
                                            {
                                                "bin_start": 0.30000000000000004,
                                                "bin_end": 0.4,
                                                "count": 0
                                            },
                                            {
                                                "bin_start": 0.4,
                                                "bin_end": 0.5,
                                                "count": 0
                                            }
                                        ]
                                    }
                                },
                                {
                                    "name": "fare",
                                    "dtype": "float64",
                                    "stats": {
                                        "unique_count": 5,
                                        "nan_count": 0,
                                        "min": "7.25",
                                        "max": "71.2833",
                                        "histogram": [
                                            {
                                                "bin_start": 7.25,
                                                "bin_end": 13.65333,
                                                "count": 3
                                            },
                                            {
                                                "bin_start": 13.65333,
                                                "bin_end": 20.05666,
                                                "count": 0
                                            },
                                            {
                                                "bin_start": 20.05666,
                                                "bin_end": 26.459989999999998,
                                                "count": 0
                                            },
                                            {
                                                "bin_start": 26.459989999999998,
                                                "bin_end": 32.86332,
                                                "count": 0
                                            },
                                            {
                                                "bin_start": 32.86332,
                                                "bin_end": 39.26665,
                                                "count": 0
                                            },
                                            {
                                                "bin_start": 39.26665,
                                                "bin_end": 45.669979999999995,
                                                "count": 0
                                            },
                                            {
                                                "bin_start": 45.669979999999995,
                                                "bin_end": 52.07331,
                                                "count": 0
                                            },
                                            {
                                                "bin_start": 52.07331,
                                                "bin_end": 58.476639999999996,
                                                "count": 1
                                            },
                                            {
                                                "bin_start": 58.476639999999996,
                                                "bin_end": 64.87996999999999,
                                                "count": 0
                                            },
                                            {
                                                "bin_start": 64.87996999999999,
                                                "bin_end": 71.2833,
                                                "count": 1
                                            }
                                        ]
                                    }
                                },
                                {
                                    "name": "embarked",
                                    "dtype": "object",
                                    "stats": {
                                        "unique_count": 2,
                                        "nan_count": 0,
                                        "categories": [
                                            {
                                                "name": "S",
                                                "count": 4
                                            },
                                            {
                                                "name": "C",
                                                "count": 1
                                            }
                                        ]
                                    }
                                },
                                {
                                    "name": "class",
                                    "dtype": "object",
                                    "stats": {
                                        "unique_count": 2,
                                        "nan_count": 0,
                                        "categories": [
                                            {
                                                "name": "Third",
                                                "count": 3
                                            },
                                            {
                                                "name": "First",
                                                "count": 2
                                            }
                                        ]
                                    }
                                },
                                {
                                    "name": "who",
                                    "dtype": "object",
                                    "stats": {
                                        "unique_count": 2,
                                        "nan_count": 0,
                                        "categories": [
                                            {
                                                "name": "woman",
                                                "count": 3
                                            },
                                            {
                                                "name": "man",
                                                "count": 2
                                            }
                                        ]
                                    }
                                },
                                {
                                    "name": "adult_male",
                                    "dtype": "bool",
                                    "stats": {
                                        "unique_count": 2,
                                        "nan_count": 0,
                                        "categories": [
                                            {
                                                "name": "False",
                                                "count": 3
                                            },
                                            {
                                                "name": "True",
                                                "count": 2
                                            }
                                        ]
                                    }
                                },
                                {
                                    "name": "deck",
                                    "dtype": "object",
                                    "stats": {
                                        "unique_count": 1,
                                        "nan_count": 3,
                                        "categories": [
                                            {
                                                "name": "C",
                                                "count": 2
                                            },
                                            {
                                                "name": "Missing",
                                                "count": 3
                                            }
                                        ]
                                    }
                                },
                                {
                                    "name": "embark_town",
                                    "dtype": "object",
                                    "stats": {
                                        "unique_count": 2,
                                        "nan_count": 0,
                                        "categories": [
                                            {
                                                "name": "Southampton",
                                                "count": 4
                                            },
                                            {
                                                "name": "Cherbourg",
                                                "count": 1
                                            }
                                        ]
                                    }
                                },
                                {
                                    "name": "alive",
                                    "dtype": "object",
                                    "stats": {
                                        "unique_count": 2,
                                        "nan_count": 0,
                                        "categories": [
                                            {
                                                "name": "yes",
                                                "count": 3
                                            },
                                            {
                                                "name": "no",
                                                "count": 2
                                            }
                                        ]
                                    }
                                },
                                {
                                    "name": "alone",
                                    "dtype": "bool",
                                    "stats": {
                                        "unique_count": 2,
                                        "nan_count": 0,
                                        "categories": [
                                            {
                                                "name": "False",
                                                "count": 3
                                            },
                                            {
                                                "name": "True",
                                                "count": 2
                                            }
                                        ]
                                    }
                                },
                                {
                                    "name": "_deepnote_index_column",
                                    "dtype": "int64"
                                }
                            ],
                            "rows_top": [
                                {
                                    "survived": 0,
                                    "pclass": 3,
                                    "sex": "male",
                                    "age": 22,
                                    "sibsp": 1,
                                    "parch": 0,
                                    "fare": 7.25,
                                    "embarked": "S",
                                    "class": "Third",
                                    "who": "man",
                                    "adult_male": "True",
                                    "deck": "nan",
                                    "embark_town": "Southampton",
                                    "alive": "no",
                                    "alone": "False",
                                    "_deepnote_index_column": 0
                                },
                                {
                                    "survived": 1,
                                    "pclass": 1,
                                    "sex": "female",
                                    "age": 38,
                                    "sibsp": 1,
                                    "parch": 0,
                                    "fare": 71.2833,
                                    "embarked": "C",
                                    "class": "First",
                                    "who": "woman",
                                    "adult_male": "False",
                                    "deck": "C",
                                    "embark_town": "Cherbourg",
                                    "alive": "yes",
                                    "alone": "False",
                                    "_deepnote_index_column": 1
                                },
                                {
                                    "survived": 1,
                                    "pclass": 3,
                                    "sex": "female",
                                    "age": 26,
                                    "sibsp": 0,
                                    "parch": 0,
                                    "fare": 7.925,
                                    "embarked": "S",
                                    "class": "Third",
                                    "who": "woman",
                                    "adult_male": "False",
                                    "deck": "nan",
                                    "embark_town": "Southampton",
                                    "alive": "yes",
                                    "alone": "True",
                                    "_deepnote_index_column": 2
                                },
                                {
                                    "survived": 1,
                                    "pclass": 1,
                                    "sex": "female",
                                    "age": 35,
                                    "sibsp": 1,
                                    "parch": 0,
                                    "fare": 53.1,
                                    "embarked": "S",
                                    "class": "First",
                                    "who": "woman",
                                    "adult_male": "False",
                                    "deck": "C",
                                    "embark_town": "Southampton",
                                    "alive": "yes",
                                    "alone": "False",
                                    "_deepnote_index_column": 3
                                },
                                {
                                    "survived": 0,
                                    "pclass": 3,
                                    "sex": "male",
                                    "age": 35,
                                    "sibsp": 0,
                                    "parch": 0,
                                    "fare": 8.05,
                                    "embarked": "S",
                                    "class": "Third",
                                    "who": "man",
                                    "adult_male": "True",
                                    "deck": "nan",
                                    "embark_town": "Southampton",
                                    "alive": "no",
                                    "alone": "True",
                                    "_deepnote_index_column": 4
                                }
                            ],
                            "rows_bottom": null
                        },
                        "text/plain": "   survived  pclass     sex   age  sibsp  parch     fare embarked  class  \\\n0         0       3    male  22.0      1      0   7.2500        S  Third   \n1         1       1  female  38.0      1      0  71.2833        C  First   \n2         1       3  female  26.0      0      0   7.9250        S  Third   \n3         1       1  female  35.0      1      0  53.1000        S  First   \n4         0       3    male  35.0      0      0   8.0500        S  Third   \n\n     who  adult_male deck  embark_town alive  alone  \n0    man        True  NaN  Southampton    no  False  \n1  woman       False    C    Cherbourg   yes  False  \n2  woman       False  NaN  Southampton   yes   True  \n3  woman       False    C  Southampton   yes  False  \n4    man        True  NaN  Southampton    no   True  ",
                        "text/html": "<div>\n<style scoped>\n    .dataframe tbody tr th:only-of-type {\n        vertical-align: middle;\n    }\n\n    .dataframe tbody tr th {\n        vertical-align: top;\n    }\n\n    .dataframe thead th {\n        text-align: right;\n    }\n</style>\n<table border=\"1\" class=\"dataframe\">\n  <thead>\n    <tr style=\"text-align: right;\">\n      <th></th>\n      <th>survived</th>\n      <th>pclass</th>\n      <th>sex</th>\n      <th>age</th>\n      <th>sibsp</th>\n      <th>parch</th>\n      <th>fare</th>\n      <th>embarked</th>\n      <th>class</th>\n      <th>who</th>\n      <th>adult_male</th>\n      <th>deck</th>\n      <th>embark_town</th>\n      <th>alive</th>\n      <th>alone</th>\n    </tr>\n  </thead>\n  <tbody>\n    <tr>\n      <th>0</th>\n      <td>0</td>\n      <td>3</td>\n      <td>male</td>\n      <td>22.0</td>\n      <td>1</td>\n      <td>0</td>\n      <td>7.2500</td>\n      <td>S</td>\n      <td>Third</td>\n      <td>man</td>\n      <td>True</td>\n      <td>NaN</td>\n      <td>Southampton</td>\n      <td>no</td>\n      <td>False</td>\n    </tr>\n    <tr>\n      <th>1</th>\n      <td>1</td>\n      <td>1</td>\n      <td>female</td>\n      <td>38.0</td>\n      <td>1</td>\n      <td>0</td>\n      <td>71.2833</td>\n      <td>C</td>\n      <td>First</td>\n      <td>woman</td>\n      <td>False</td>\n      <td>C</td>\n      <td>Cherbourg</td>\n      <td>yes</td>\n      <td>False</td>\n    </tr>\n    <tr>\n      <th>2</th>\n      <td>1</td>\n      <td>3</td>\n      <td>female</td>\n      <td>26.0</td>\n      <td>0</td>\n      <td>0</td>\n      <td>7.9250</td>\n      <td>S</td>\n      <td>Third</td>\n      <td>woman</td>\n      <td>False</td>\n      <td>NaN</td>\n      <td>Southampton</td>\n      <td>yes</td>\n      <td>True</td>\n    </tr>\n    <tr>\n      <th>3</th>\n      <td>1</td>\n      <td>1</td>\n      <td>female</td>\n      <td>35.0</td>\n      <td>1</td>\n      <td>0</td>\n      <td>53.1000</td>\n      <td>S</td>\n      <td>First</td>\n      <td>woman</td>\n      <td>False</td>\n      <td>C</td>\n      <td>Southampton</td>\n      <td>yes</td>\n      <td>False</td>\n    </tr>\n    <tr>\n      <th>4</th>\n      <td>0</td>\n      <td>3</td>\n      <td>male</td>\n      <td>35.0</td>\n      <td>0</td>\n      <td>0</td>\n      <td>8.0500</td>\n      <td>S</td>\n      <td>Third</td>\n      <td>man</td>\n      <td>True</td>\n      <td>NaN</td>\n      <td>Southampton</td>\n      <td>no</td>\n      <td>True</td>\n    </tr>\n  </tbody>\n</table>\n</div>"
                    },
                    "metadata": {}
                }
            ],
            "execution_count": null
        },
        {
            "cell_type": "markdown",
            "source": "## Exercises",
            "metadata": {
                "id": "0ZXsP9evVNLn",
                "cell_id": "00008-62d57341-5aaf-4314-b62d-c4e26c8deefe",
                "deepnote_cell_type": "markdown"
            }
        },
        {
            "cell_type": "markdown",
            "source": "Select the \"age\" column",
            "metadata": {
                "id": "6b520EzfVNLo",
                "cell_id": "00009-9b9e0945-2053-4436-b8df-6197d2bcca3c",
                "deepnote_cell_type": "markdown"
            }
        },
        {
            "cell_type": "code",
            "metadata": {
                "id": "G1SfhsBJVNLo",
                "cell_id": "00010-2db13e02-ed9d-4195-a996-5287cabdb2b6",
                "deepnote_cell_type": "code"
            },
            "source": "",
            "execution_count": null,
            "outputs": []
        },
        {
            "cell_type": "markdown",
            "source": "Get rows 10-16",
            "metadata": {
                "id": "QoIF6vHBVNLp",
                "cell_id": "00011-264d660f-acbf-4c73-a5dd-5925caaef1c6",
                "deepnote_cell_type": "markdown"
            }
        },
        {
            "cell_type": "code",
            "metadata": {
                "id": "ALCI1zlFVNLp",
                "cell_id": "00012-c459fdfd-22df-4aca-9ffd-fa2dca197043",
                "deepnote_cell_type": "code"
            },
            "source": "",
            "execution_count": null,
            "outputs": []
        },
        {
            "cell_type": "markdown",
            "source": "Select the first 5 rows of the \"sex\" column",
            "metadata": {
                "id": "jeTNNGFNVNLp",
                "cell_id": "00013-a5ab2322-13c5-4780-9c0d-fa4c4acc687e",
                "deepnote_cell_type": "markdown"
            }
        },
        {
            "cell_type": "code",
            "metadata": {
                "id": "wqakB5mYVNLq",
                "cell_id": "00014-f41d4c28-a4fe-4067-af68-05097fb25cdf",
                "deepnote_cell_type": "code"
            },
            "source": "",
            "execution_count": null,
            "outputs": []
        },
        {
            "cell_type": "markdown",
            "source": "Select the \"fare\" column",
            "metadata": {
                "id": "zBJrv5HAVNLq",
                "cell_id": "00015-be269f21-dcd1-4d09-8dc3-46a53047e7d9",
                "deepnote_cell_type": "markdown"
            }
        },
        {
            "cell_type": "code",
            "metadata": {
                "id": "mFHxf41ZVNLq",
                "cell_id": "00016-237bef14-0084-4630-b535-bdfc41496457",
                "deepnote_cell_type": "code"
            },
            "source": "",
            "execution_count": null,
            "outputs": []
        },
        {
            "cell_type": "markdown",
            "source": "Select the \"embark_town\" column",
            "metadata": {
                "id": "UPpz1ILeVNLq",
                "cell_id": "00017-7b5b5fb9-8d9b-46f6-981f-5afe57af037c",
                "deepnote_cell_type": "markdown"
            }
        },
        {
            "cell_type": "code",
            "metadata": {
                "id": "YH7aDjm6VNLr",
                "cell_id": "00018-2d75b009-24b3-4cc3-baf6-b9c18480c42d",
                "deepnote_cell_type": "code"
            },
            "source": "",
            "execution_count": null,
            "outputs": []
        },
        {
            "cell_type": "markdown",
            "source": "Select the \"survived\" and \"age\" columns:",
            "metadata": {
                "id": "60O1o5_XVNLr",
                "cell_id": "00019-e29c760c-1345-440b-867a-1ef92249e028",
                "deepnote_cell_type": "markdown"
            }
        },
        {
            "cell_type": "code",
            "metadata": {
                "id": "gwj0xZG3VNLr",
                "cell_id": "00020-2e5d6436-5272-463d-80fc-e2807bdebf0e",
                "deepnote_cell_type": "code"
            },
            "source": "",
            "execution_count": null,
            "outputs": []
        },
        {
            "cell_type": "markdown",
            "source": "Select the last 3 rows of the \"alive\" column",
            "metadata": {
                "id": "NEZqY4WGVNLr",
                "cell_id": "00021-72827c90-977d-4bf1-9366-168d7abe25e1",
                "deepnote_cell_type": "markdown"
            }
        },
        {
            "cell_type": "code",
            "metadata": {
                "id": "jWeteI0MVNLr",
                "cell_id": "00022-2ece1b6c-176c-40d3-92db-f7ee806d6017",
                "deepnote_cell_type": "code"
            },
            "source": "",
            "execution_count": null,
            "outputs": []
        },
        {
            "cell_type": "markdown",
            "source": "Select rows 5-10 of the \"class\" column",
            "metadata": {
                "id": "jVBhLEjOVNLs",
                "cell_id": "00023-212fd4fe-8f23-459e-a184-8f3db0c96ec4",
                "deepnote_cell_type": "markdown"
            }
        },
        {
            "cell_type": "code",
            "metadata": {
                "id": "nzInh-krVNLs",
                "cell_id": "00024-eeb73b41-35f5-48ae-91bb-a048ac949913",
                "deepnote_cell_type": "code"
            },
            "source": "",
            "execution_count": null,
            "outputs": []
        },
        {
            "cell_type": "markdown",
            "source": "## Summarizing / Aggregating Data in DataFrames\n\nPandas also supplies many different aggregation functions as methods:\n\n```python\ndf.mean()\ndf['Column'].mean()\n```\n\n**Examples**:  mean, median, max, min, count, value_counts, unique",
            "metadata": {
                "id": "dHlYw6ZWVNLs",
                "cell_id": "00025-ada6585e-1395-4fb4-b904-6274bee060ae",
                "deepnote_cell_type": "markdown"
            }
        },
        {
            "cell_type": "markdown",
            "source": "#### Exercises",
            "metadata": {
                "id": "o1iO7lzuVNLs",
                "cell_id": "00026-23056ade-0371-4506-ab3c-a60bd0e42c65",
                "deepnote_cell_type": "markdown"
            }
        },
        {
            "cell_type": "markdown",
            "source": "What is the mean ticket fare that the passengers paid on the titanic?",
            "metadata": {
                "id": "0VBQev7hVNLs",
                "cell_id": "00027-de4a0caf-9470-4c2d-a276-dde01afb97a3",
                "deepnote_cell_type": "markdown"
            }
        },
        {
            "cell_type": "code",
            "metadata": {
                "id": "unagaEqUVNLs",
                "cell_id": "00028-e6d026fa-5079-40e8-95d6-bbd5a4d6f840",
                "deepnote_cell_type": "code"
            },
            "source": "",
            "execution_count": null,
            "outputs": []
        },
        {
            "cell_type": "markdown",
            "source": "What is the median ticket fare that the passengers paid on the titanic? ",
            "metadata": {
                "id": "vTI8ITsjVNLs",
                "cell_id": "00029-d7457913-c6e6-42e5-8188-93e85ee9983a",
                "deepnote_cell_type": "markdown"
            }
        },
        {
            "cell_type": "code",
            "metadata": {
                "id": "ZnXNgY7mVNLt",
                "cell_id": "00030-d05542e0-68d7-48eb-b190-d5ac86071709",
                "deepnote_cell_type": "code"
            },
            "source": "",
            "execution_count": null,
            "outputs": []
        },
        {
            "cell_type": "markdown",
            "source": "How many passengers does this dataset contain? ",
            "metadata": {
                "id": "NJ_KNJXXVNLt",
                "cell_id": "00031-3f734c3c-829b-4c45-b904-4dd535a57e6c",
                "deepnote_cell_type": "markdown"
            }
        },
        {
            "cell_type": "code",
            "metadata": {
                "id": "-gaMdAYAVNLt",
                "cell_id": "00032-66f02d32-35d6-48ec-b11b-a6a5802f07c6",
                "deepnote_cell_type": "code"
            },
            "source": "",
            "execution_count": null,
            "outputs": []
        },
        {
            "cell_type": "markdown",
            "source": "What class ticket did the 10th (index = 9) passenger in this dataset buy?",
            "metadata": {
                "id": "cqkR_LTEVNLt",
                "cell_id": "00033-594c77c4-c36b-443f-85bf-f97838d8ba32",
                "deepnote_cell_type": "markdown"
            }
        },
        {
            "cell_type": "code",
            "metadata": {
                "id": "a6XFgEfWVNLt",
                "cell_id": "00034-2af36d0c-f73f-43d5-8d4e-1bfdb05bdb52",
                "deepnote_cell_type": "code"
            },
            "source": "",
            "execution_count": null,
            "outputs": []
        },
        {
            "cell_type": "markdown",
            "source": "What proportion of the passengers were alone on the titanic?",
            "metadata": {
                "id": "ClFIf2d1VNLt",
                "cell_id": "00035-d242263c-f975-4de8-8e9f-98864aad3991",
                "deepnote_cell_type": "markdown"
            }
        },
        {
            "cell_type": "code",
            "metadata": {
                "tags": [],
                "cell_id": "00037-e7bb720e-5af8-4aab-b66d-23bbf2c20cc3",
                "deepnote_to_be_reexecuted": false,
                "source_hash": "b623e53d",
                "execution_start": 1636322243919,
                "execution_millis": 0,
                "deepnote_cell_type": "code"
            },
            "source": "",
            "execution_count": 0,
            "outputs": []
        },
        {
            "cell_type": "markdown",
            "source": "How many different classes were on the titanic?",
            "metadata": {
                "id": "N31AcQmZVNLt",
                "cell_id": "00037-3344c69a-137d-4770-980d-8b21ca2ed744",
                "deepnote_cell_type": "markdown"
            }
        },
        {
            "cell_type": "code",
            "metadata": {
                "id": "HwY9KWMBVNLu",
                "cell_id": "00038-b876fbc7-583d-4767-aec2-cbd1bb18e770",
                "deepnote_cell_type": "code"
            },
            "source": "",
            "execution_count": null,
            "outputs": []
        },
        {
            "cell_type": "markdown",
            "source": "How many men and women are in this dataset? (value_counts())",
            "metadata": {
                "id": "uiqQbVwKVNLu",
                "cell_id": "00039-bdcdc2c1-2094-4662-a667-da4426789afc",
                "deepnote_cell_type": "markdown"
            }
        },
        {
            "cell_type": "code",
            "metadata": {
                "id": "6lmvbvSJVNLu",
                "cell_id": "00040-ee846c18-a077-4241-a3ad-fa2c9628e7a6",
                "deepnote_cell_type": "code"
            },
            "source": "",
            "execution_count": null,
            "outputs": []
        },
        {
            "cell_type": "markdown",
            "source": "How many passengers are sitting in each class?",
            "metadata": {
                "id": "wHsrJEvGVNLu",
                "cell_id": "00041-9428d0f5-e1a7-499c-9507-d57027aa934d",
                "deepnote_cell_type": "markdown"
            }
        },
        {
            "cell_type": "code",
            "metadata": {
                "id": "0rR9HN0fVNLu",
                "cell_id": "00042-e5b963a3-dc64-456e-9d6d-2133d6ff4986",
                "deepnote_cell_type": "code"
            },
            "source": "",
            "execution_count": null,
            "outputs": []
        },
        {
            "cell_type": "markdown",
            "source": "How many passengers of each sex are sitting in each class?",
            "metadata": {
                "id": "L9LHdQC6VNLx",
                "cell_id": "00043-5be3dcb9-4ab7-4072-b23d-7817b40ea1f0",
                "deepnote_cell_type": "markdown"
            }
        },
        {
            "cell_type": "code",
            "metadata": {
                "id": "Mu0QxhvQVNLy",
                "cell_id": "00044-75207e53-6c3d-4b6c-b0d3-82c4de0deaf8",
                "deepnote_cell_type": "code"
            },
            "source": "",
            "execution_count": null,
            "outputs": []
        },
        {
            "cell_type": "markdown",
            "source": "## Transforming Data: Broadcasting Element-Wise Operations\n\nAny transformation function can be performed on each element of a column, or even all columns of a DataFrame.  Here are several options for this approach:\n\nNumpy-like Operator syntax with Broadcasting:\n```python\ndf['Column1'] * 100\n```\n\nFunctions-style syntax:\n```python\nnp.sqrt(df['Column1'])\n```\n\nSpecial broadcasted-version of different classes' Methods:\n```python\ndf['Column1'].str.upper()\n```\n",
            "metadata": {
                "id": "dGEymFo-VNLy",
                "cell_id": "00045-4ebe62a2-a091-413d-a71b-aa4e57fa8d30",
                "deepnote_cell_type": "markdown"
            }
        },
        {
            "cell_type": "markdown",
            "source": "****Exercises****: Let's try some of these on the data:",
            "metadata": {
                "id": "crs8LwRGVNLy",
                "cell_id": "00046-aaf19b4d-600c-4662-bcd7-a23b0a29b6c3",
                "deepnote_cell_type": "markdown"
            }
        },
        {
            "cell_type": "code",
            "metadata": {
                "id": "NEBqph7PVNLy",
                "outputId": "587238c1-9ecf-415d-8384-dcf729433a41",
                "cell_id": "00047-bd5ef253-17a9-4ba5-9d8c-c6cd66270744",
                "deepnote_cell_type": "code"
            },
            "source": "df.head()",
            "execution_count": null,
            "outputs": [
                {
                    "output_type": "execute_result",
                    "data": {
                        "text/html": "<div>\n<style scoped>\n    .dataframe tbody tr th:only-of-type {\n        vertical-align: middle;\n    }\n\n    .dataframe tbody tr th {\n        vertical-align: top;\n    }\n\n    .dataframe thead th {\n        text-align: right;\n    }\n</style>\n<table border=\"1\" class=\"dataframe\">\n  <thead>\n    <tr style=\"text-align: right;\">\n      <th></th>\n      <th>survived</th>\n      <th>pclass</th>\n      <th>sex</th>\n      <th>age</th>\n      <th>sibsp</th>\n      <th>parch</th>\n      <th>fare</th>\n      <th>embarked</th>\n      <th>class</th>\n      <th>who</th>\n      <th>adult_male</th>\n      <th>deck</th>\n      <th>embark_town</th>\n      <th>alive</th>\n      <th>alone</th>\n    </tr>\n  </thead>\n  <tbody>\n    <tr>\n      <th>0</th>\n      <td>0</td>\n      <td>3</td>\n      <td>male</td>\n      <td>22.0</td>\n      <td>1</td>\n      <td>0</td>\n      <td>7.2500</td>\n      <td>S</td>\n      <td>Third</td>\n      <td>man</td>\n      <td>True</td>\n      <td>NaN</td>\n      <td>Southampton</td>\n      <td>no</td>\n      <td>False</td>\n    </tr>\n    <tr>\n      <th>1</th>\n      <td>1</td>\n      <td>1</td>\n      <td>female</td>\n      <td>38.0</td>\n      <td>1</td>\n      <td>0</td>\n      <td>71.2833</td>\n      <td>C</td>\n      <td>First</td>\n      <td>woman</td>\n      <td>False</td>\n      <td>C</td>\n      <td>Cherbourg</td>\n      <td>yes</td>\n      <td>False</td>\n    </tr>\n    <tr>\n      <th>2</th>\n      <td>1</td>\n      <td>3</td>\n      <td>female</td>\n      <td>26.0</td>\n      <td>0</td>\n      <td>0</td>\n      <td>7.9250</td>\n      <td>S</td>\n      <td>Third</td>\n      <td>woman</td>\n      <td>False</td>\n      <td>NaN</td>\n      <td>Southampton</td>\n      <td>yes</td>\n      <td>True</td>\n    </tr>\n    <tr>\n      <th>3</th>\n      <td>1</td>\n      <td>1</td>\n      <td>female</td>\n      <td>35.0</td>\n      <td>1</td>\n      <td>0</td>\n      <td>53.1000</td>\n      <td>S</td>\n      <td>First</td>\n      <td>woman</td>\n      <td>False</td>\n      <td>C</td>\n      <td>Southampton</td>\n      <td>yes</td>\n      <td>False</td>\n    </tr>\n    <tr>\n      <th>4</th>\n      <td>0</td>\n      <td>3</td>\n      <td>male</td>\n      <td>35.0</td>\n      <td>0</td>\n      <td>0</td>\n      <td>8.0500</td>\n      <td>S</td>\n      <td>Third</td>\n      <td>man</td>\n      <td>True</td>\n      <td>NaN</td>\n      <td>Southampton</td>\n      <td>no</td>\n      <td>True</td>\n    </tr>\n  </tbody>\n</table>\n</div>",
                        "text/plain": "   survived  pclass     sex   age  sibsp  parch     fare embarked  class  \\\n0         0       3    male  22.0      1      0   7.2500        S  Third   \n1         1       1  female  38.0      1      0  71.2833        C  First   \n2         1       3  female  26.0      0      0   7.9250        S  Third   \n3         1       1  female  35.0      1      0  53.1000        S  First   \n4         0       3    male  35.0      0      0   8.0500        S  Third   \n\n     who  adult_male deck  embark_town alive  alone  \n0    man        True  NaN  Southampton    no  False  \n1  woman       False    C    Cherbourg   yes  False  \n2  woman       False  NaN  Southampton   yes   True  \n3  woman       False    C  Southampton   yes  False  \n4    man        True  NaN  Southampton    no   True  "
                    },
                    "metadata": {
                        "tags": []
                    },
                    "execution_count": 18
                }
            ]
        },
        {
            "cell_type": "markdown",
            "source": "Make a new column called \"OnTitanic\", with all of the values set to True",
            "metadata": {
                "tags": [],
                "cell_id": "00048-f3ce37d2-9a99-42b8-b70b-05e348abd0a0",
                "deepnote_cell_type": "markdown"
            }
        },
        {
            "cell_type": "code",
            "metadata": {
                "tags": [],
                "cell_id": "00049-7c703c41-1c01-4761-ae7c-734cd6d9b675",
                "deepnote_cell_type": "code"
            },
            "source": "",
            "execution_count": null,
            "outputs": ""
        },
        {
            "cell_type": "markdown",
            "source": "Make a new column called \"isAdult\", with True values if they were 18 or older and False if not.",
            "metadata": {
                "id": "VZ_B7wqjVNLy",
                "cell_id": "00048-f5c942f7-1c73-4e07-88a1-68a2c5c7907c",
                "deepnote_cell_type": "markdown"
            }
        },
        {
            "cell_type": "code",
            "metadata": {
                "id": "qXBtIKy6VNLz",
                "cell_id": "00049-07e082b9-a4d8-441b-b64e-95ebd6e4b153",
                "deepnote_cell_type": "code"
            },
            "source": "",
            "execution_count": null,
            "outputs": ""
        },
        {
            "cell_type": "markdown",
            "source": "Get everyone's age if they were still alive today (hint: Titanic sunk in 1912)",
            "metadata": {
                "id": "Fht6mBybVNLz",
                "cell_id": "00050-9f18383c-0746-4200-9e58-46ae295d4152",
                "deepnote_cell_type": "markdown"
            }
        },
        {
            "cell_type": "code",
            "metadata": {
                "id": "gpUzRRW7VNLz",
                "cell_id": "00051-1e0fd7a5-3df1-4249-afc5-c223184a5499",
                "deepnote_cell_type": "code"
            },
            "source": "",
            "execution_count": null,
            "outputs": ""
        },
        {
            "cell_type": "markdown",
            "source": "Make a column called \"not_survived\", the opposite of the \"survived\" column.\n",
            "metadata": {
                "id": "ftDGzqP6VNLz",
                "cell_id": "00052-1bc12004-c767-4e3d-990d-7b4af5f3317a",
                "deepnote_cell_type": "markdown"
            }
        },
        {
            "cell_type": "code",
            "metadata": {
                "id": "4nOITBAFVNLz",
                "cell_id": "00053-25996c14-4332-4cdf-a193-77aeceaa6aca",
                "deepnote_cell_type": "code"
            },
            "source": "",
            "execution_count": null,
            "outputs": ""
        },
        {
            "cell_type": "markdown",
            "source": "Make a Column called \"Adjusted Fare\", with the cost of a ticket in today's money:  (See https://www.in2013dollars.com/uk/inflation/1912?amount=1 for the conversion rate)",
            "metadata": {
                "id": "Cp1w_dXzVNLz",
                "cell_id": "00054-b8fb8ade-11ac-472a-a582-26a9fb2bd836",
                "deepnote_cell_type": "markdown"
            }
        },
        {
            "cell_type": "code",
            "metadata": {
                "id": "WULrCYWeVNLz",
                "cell_id": "00055-d77bbb8e-9d28-4306-8547-402586d82295",
                "deepnote_cell_type": "code"
            },
            "source": "",
            "execution_count": null,
            "outputs": ""
        },
        {
            "cell_type": "markdown",
            "source": "## Querying/Filtering Data\n\nTo get rows based on their value, Pandas supports both Numpy's logical indexing for filtering rows and an SQL-like query string.  For example, to get all the rows of a dataframe that is positive for Column1:\n\n```python\npositive_rows = df['Column1'] > 0\ndf[positive_rows]\n```\n\nOften, this is done in a single line:\n\n```python\ndf[df['Column1'] > 0]\n```\n",
            "metadata": {
                "id": "HI970hW6VNLz",
                "cell_id": "00056-5e44558b-e854-4e28-8bf9-c91e91fe06e6",
                "deepnote_cell_type": "markdown"
            }
        },
        {
            "cell_type": "markdown",
            "source": "#### Exercises\nLet's go back to the Titanic dataset and do some data querying:",
            "metadata": {
                "id": "Dm3kXTRjVNL0",
                "cell_id": "00057-b6a58b53-d512-42cd-a2b2-9b8f524e2dff",
                "deepnote_cell_type": "markdown"
            }
        },
        {
            "cell_type": "code",
            "metadata": {
                "id": "rC8PjhQbVNL0",
                "outputId": "2922ab86-5752-413f-ba17-69ae77fe63c2",
                "cell_id": "00059-aec01a3c-a787-42c4-bb37-ff96ba61d04b",
                "deepnote_cell_type": "code"
            },
            "source": "df.head()",
            "execution_count": null,
            "outputs": [
                {
                    "output_type": "execute_result",
                    "data": {
                        "text/html": "<div>\n<style scoped>\n    .dataframe tbody tr th:only-of-type {\n        vertical-align: middle;\n    }\n\n    .dataframe tbody tr th {\n        vertical-align: top;\n    }\n\n    .dataframe thead th {\n        text-align: right;\n    }\n</style>\n<table border=\"1\" class=\"dataframe\">\n  <thead>\n    <tr style=\"text-align: right;\">\n      <th></th>\n      <th>survived</th>\n      <th>pclass</th>\n      <th>sex</th>\n      <th>age</th>\n      <th>sibsp</th>\n      <th>parch</th>\n      <th>fare</th>\n      <th>embarked</th>\n      <th>class</th>\n      <th>who</th>\n      <th>adult_male</th>\n      <th>deck</th>\n      <th>embark_town</th>\n      <th>alive</th>\n      <th>alone</th>\n    </tr>\n  </thead>\n  <tbody>\n    <tr>\n      <th>0</th>\n      <td>0</td>\n      <td>3</td>\n      <td>male</td>\n      <td>22.0</td>\n      <td>1</td>\n      <td>0</td>\n      <td>7.2500</td>\n      <td>S</td>\n      <td>Third</td>\n      <td>man</td>\n      <td>True</td>\n      <td>NaN</td>\n      <td>Southampton</td>\n      <td>no</td>\n      <td>False</td>\n    </tr>\n    <tr>\n      <th>1</th>\n      <td>1</td>\n      <td>1</td>\n      <td>female</td>\n      <td>38.0</td>\n      <td>1</td>\n      <td>0</td>\n      <td>71.2833</td>\n      <td>C</td>\n      <td>First</td>\n      <td>woman</td>\n      <td>False</td>\n      <td>C</td>\n      <td>Cherbourg</td>\n      <td>yes</td>\n      <td>False</td>\n    </tr>\n    <tr>\n      <th>2</th>\n      <td>1</td>\n      <td>3</td>\n      <td>female</td>\n      <td>26.0</td>\n      <td>0</td>\n      <td>0</td>\n      <td>7.9250</td>\n      <td>S</td>\n      <td>Third</td>\n      <td>woman</td>\n      <td>False</td>\n      <td>NaN</td>\n      <td>Southampton</td>\n      <td>yes</td>\n      <td>True</td>\n    </tr>\n    <tr>\n      <th>3</th>\n      <td>1</td>\n      <td>1</td>\n      <td>female</td>\n      <td>35.0</td>\n      <td>1</td>\n      <td>0</td>\n      <td>53.1000</td>\n      <td>S</td>\n      <td>First</td>\n      <td>woman</td>\n      <td>False</td>\n      <td>C</td>\n      <td>Southampton</td>\n      <td>yes</td>\n      <td>False</td>\n    </tr>\n    <tr>\n      <th>4</th>\n      <td>0</td>\n      <td>3</td>\n      <td>male</td>\n      <td>35.0</td>\n      <td>0</td>\n      <td>0</td>\n      <td>8.0500</td>\n      <td>S</td>\n      <td>Third</td>\n      <td>man</td>\n      <td>True</td>\n      <td>NaN</td>\n      <td>Southampton</td>\n      <td>no</td>\n      <td>True</td>\n    </tr>\n  </tbody>\n</table>\n</div>",
                        "text/plain": "   survived  pclass     sex   age  sibsp  parch     fare embarked  class  \\\n0         0       3    male  22.0      1      0   7.2500        S  Third   \n1         1       1  female  38.0      1      0  71.2833        C  First   \n2         1       3  female  26.0      0      0   7.9250        S  Third   \n3         1       1  female  35.0      1      0  53.1000        S  First   \n4         0       3    male  35.0      0      0   8.0500        S  Third   \n\n     who  adult_male deck  embark_town alive  alone  \n0    man        True  NaN  Southampton    no  False  \n1  woman       False    C    Cherbourg   yes  False  \n2  woman       False  NaN  Southampton   yes   True  \n3  woman       False    C  Southampton   yes  False  \n4    man        True  NaN  Southampton    no   True  "
                    },
                    "metadata": {
                        "tags": []
                    },
                    "execution_count": 117
                }
            ]
        },
        {
            "cell_type": "markdown",
            "source": "Did the oldest passenger on the Titanic survive?",
            "metadata": {
                "id": "0t-L239fVNL0",
                "cell_id": "00060-b8e40ce7-0158-478a-b16b-29a33116a19d",
                "deepnote_cell_type": "markdown"
            }
        },
        {
            "cell_type": "code",
            "metadata": {
                "id": "yU_ikQTEVNL0",
                "cell_id": "00061-39c430ac-b04a-4853-bc68-6beefd530572",
                "deepnote_cell_type": "code"
            },
            "source": "",
            "execution_count": null,
            "outputs": []
        },
        {
            "cell_type": "markdown",
            "source": "Where did the youngest passenger on the Titanic embark from?",
            "metadata": {
                "id": "lp5aJHN1VNL0",
                "cell_id": "00062-54094d7e-3a77-4055-a77c-f917cb77d115",
                "deepnote_cell_type": "markdown"
            }
        },
        {
            "cell_type": "code",
            "metadata": {
                "id": "wsrbrn9eVNL0",
                "cell_id": "00063-c059612b-686e-4069-9557-ea44acff0f95",
                "deepnote_cell_type": "code"
            },
            "source": "",
            "execution_count": null,
            "outputs": []
        },
        {
            "cell_type": "markdown",
            "source": "How many passengers on the Titanic embarked from Cherbourg?",
            "metadata": {
                "id": "ooDOh-Y7VNL0",
                "cell_id": "00064-c35a805b-6a02-438a-8508-ec69e2ff37d8",
                "deepnote_cell_type": "markdown"
            }
        },
        {
            "cell_type": "code",
            "metadata": {
                "tags": [],
                "cell_id": "00064-40675dc5-33ee-4178-a61b-6a027b57b891",
                "deepnote_to_be_reexecuted": false,
                "source_hash": "b623e53d",
                "execution_start": 1628721072727,
                "execution_millis": 2,
                "deepnote_cell_type": "code"
            },
            "source": "",
            "execution_count": 0,
            "outputs": []
        },
        {
            "cell_type": "markdown",
            "source": "What is mean ticket fare for the 1st class?",
            "metadata": {
                "id": "CBFNsBbIVNL0",
                "cell_id": "00065-43e6a2e1-0889-4fe4-9627-cd1916fde87d",
                "deepnote_cell_type": "markdown"
            }
        },
        {
            "cell_type": "code",
            "metadata": {
                "id": "-IvOaLEHVNL1",
                "outputId": "c9814d62-0221-45af-dc0a-e7fd0c254224",
                "cell_id": "00066-ac202154-8537-4031-a211-660909100c88",
                "deepnote_to_be_reexecuted": false,
                "source_hash": "b623e53d",
                "execution_start": 1628721075442,
                "execution_millis": 3,
                "deepnote_cell_type": "code"
            },
            "source": "",
            "execution_count": 0,
            "outputs": []
        },
        {
            "cell_type": "markdown",
            "source": " The 2nd?",
            "metadata": {
                "id": "CmSMwI2FVNL1",
                "cell_id": "00067-0f0b4792-a77f-4e7e-8aac-4762489a1c81",
                "deepnote_cell_type": "markdown"
            }
        },
        {
            "cell_type": "code",
            "metadata": {
                "id": "jfr0864LVNL1",
                "outputId": "8cfe76bf-d93f-432e-e91a-6de1565131af",
                "cell_id": "00068-90f70d96-ccc4-4342-b063-808ec2653a47",
                "deepnote_to_be_reexecuted": false,
                "source_hash": "b623e53d",
                "execution_start": 1628721082196,
                "execution_millis": 2,
                "deepnote_cell_type": "code"
            },
            "source": "",
            "execution_count": 0,
            "outputs": []
        },
        {
            "cell_type": "markdown",
            "source": "The 3rd?",
            "metadata": {
                "id": "EKN21bdoVNL1",
                "cell_id": "00069-09f2c441-4044-4081-be11-f36c1a165671",
                "deepnote_cell_type": "markdown"
            }
        },
        {
            "cell_type": "code",
            "metadata": {
                "id": "PKdF3IeOVNL1",
                "outputId": "093aea27-99ba-4b98-cfe5-f64ff9e863ab",
                "cell_id": "00070-11f5c2ca-b37c-4547-a2de-b95f81f5085a",
                "deepnote_to_be_reexecuted": false,
                "source_hash": "b623e53d",
                "execution_start": 1628721157401,
                "execution_millis": 1,
                "deepnote_cell_type": "code"
            },
            "source": "",
            "execution_count": 0,
            "outputs": []
        },
        {
            "cell_type": "markdown",
            "source": "How many total people survived from Southampton?",
            "metadata": {
                "id": "DP8FEKyZVNL3",
                "cell_id": "00078-ad59b4bc-c6fd-4bdc-bb97-4ce875d6d6f5",
                "deepnote_cell_type": "markdown"
            }
        },
        {
            "cell_type": "code",
            "metadata": {
                "id": "9zzgkz2YVNL3",
                "cell_id": "00079-28272ab5-2933-4041-b260-bbb8d0864e24",
                "deepnote_cell_type": "code"
            },
            "source": "",
            "execution_count": null,
            "outputs": []
        },
        {
            "cell_type": "markdown",
            "source": "From Cherbourg?",
            "metadata": {
                "id": "Hw5QdqLoVNL3",
                "cell_id": "00080-27368171-51f3-4f91-8c36-e6a77ca8f616",
                "deepnote_cell_type": "markdown"
            }
        },
        {
            "cell_type": "code",
            "metadata": {
                "id": "VxOYWpbfVNL3",
                "cell_id": "00081-cf4c7a89-ac89-4e73-a753-07c800ef93f8",
                "deepnote_cell_type": "code"
            },
            "source": "",
            "execution_count": null,
            "outputs": []
        },
        {
            "cell_type": "markdown",
            "source": "How many people from Southampton had first class tickets?",
            "metadata": {
                "id": "52-3Z99_VNL3",
                "cell_id": "00082-47096120-b54d-4a61-beaf-12b671258c63",
                "deepnote_cell_type": "markdown"
            }
        },
        {
            "cell_type": "code",
            "metadata": {
                "id": "EDbryKr6VNL3",
                "cell_id": "00083-94d6d5b1-d317-4b4d-9e28-7d2ab44b0bc0",
                "deepnote_cell_type": "code"
            },
            "source": "",
            "execution_count": null,
            "outputs": []
        },
        {
            "cell_type": "markdown",
            "source": "<a style='text-decoration:none;line-height:16px;display:flex;color:#5B5B62;padding:10px;justify-content:end;' href='https://deepnote.com?utm_source=created-in-deepnote-cell&projectId=61a4b91b-9261-42f0-a4f5-a139c5d33a06' target=\"_blank\">\n<img alt='Created in deepnote.com' style='display:inline;max-height:16px;margin:0px;margin-right:7.5px;' src='data:image/svg+xml;base64,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' > </img>\nCreated in <span style='font-weight:600;margin-left:4px;'>Deepnote</span></a>",
            "metadata": {
                "tags": [],
                "created_in_deepnote_cell": true,
                "deepnote_cell_type": "markdown"
            }
        }
    ],
    "nbformat": 4,
    "nbformat_minor": 0,
    "metadata": {
        "anaconda-cloud": {},
        "kernelspec": {
            "display_name": "Python 3",
            "language": "python",
            "name": "python3"
        },
        "language_info": {
            "codemirror_mode": {
                "name": "ipython",
                "version": 3
            },
            "file_extension": ".py",
            "mimetype": "text/x-python",
            "name": "python",
            "nbconvert_exporter": "python",
            "pygments_lexer": "ipython3",
            "version": "3.8.3"
        },
        "metadata": {
            "interpreter": {
                "hash": "96aaef06ee4620efb4426efa9d33cf4f7340991f4df94558c663a28125b37508"
            }
        },
        "colab": {
            "name": "13_Indexing_DataFrames.ipynb",
            "provenance": []
        },
        "deepnote_notebook_id": "9b56c80f-b2f4-4d62-be72-3d41ccebf960",
        "deepnote": {},
        "deepnote_execution_queue": []
    }
}