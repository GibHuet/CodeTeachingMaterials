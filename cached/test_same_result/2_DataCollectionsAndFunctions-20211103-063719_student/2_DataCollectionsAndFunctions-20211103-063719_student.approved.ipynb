{
    "cells": [
        {
            "cell_type": "markdown",
            "source": "## Grouping Together Your Data into a Collection\nPython also has operators for collecting related data together.  Most of this course will revolve around the pros and cons of different ways of collecting data, but let's take a look at them:\n\n| \"tuple\" (fixed sequence) | \"list\" (changeable sequence) | \"str\" (sequence of text characters) |  \"set\" {mathematical set) \n| :---------:| :----:    | :--------:    | :--------:    |\n|  (1, 2, 3) | [1, 2, 3] | \"123\" or '123' | {1, 2, 3} |",
            "metadata": {
                "cell_id": "00000-0d09d641-92a2-4753-b2a8-1effebf00480",
                "id": "opening-gross",
                "deepnote_cell_type": "markdown"
            }
        },
        {
            "cell_type": "markdown",
            "source": "#### Group Exercises: Making Collections",
            "metadata": {
                "cell_id": "00001-126457cc-58dd-438a-9663-a13a66b4d715",
                "id": "precise-language",
                "deepnote_cell_type": "markdown"
            }
        },
        {
            "cell_type": "markdown",
            "source": "Make a list of your three favorite numbers",
            "metadata": {
                "cell_id": "00002-1da4deee-0ccd-4b09-a4bb-e969b72cbbbc",
                "tags": [],
                "deepnote_cell_type": "markdown"
            }
        },
        {
            "cell_type": "code",
            "metadata": {
                "cell_id": "00003-f9c94ddf-acc7-405d-a99f-b10573b74288",
                "tags": [],
                "deepnote_cell_type": "code"
            },
            "source": "",
            "execution_count": null,
            "outputs": []
        },
        {
            "cell_type": "markdown",
            "source": "Set x equal to your first name",
            "metadata": {
                "cell_id": "00004-52bdb546-a3d0-4dcc-ac99-8de5d776fa45",
                "tags": [],
                "deepnote_cell_type": "markdown"
            }
        },
        {
            "cell_type": "code",
            "metadata": {
                "cell_id": "00005-51fca984-fe30-4c3a-b2a8-bea82cf34ca5",
                "deepnote_to_be_reexecuted": false,
                "execution_millis": 2,
                "execution_start": 1628637174388,
                "source_hash": "4c9a33b5",
                "tags": [],
                "deepnote_cell_type": "code"
            },
            "source": "x = ... ",
            "execution_count": null,
            "outputs": []
        },
        {
            "cell_type": "markdown",
            "source": "Make a tuple containing 3 names of people in your group.",
            "metadata": {
                "cell_id": "00008-b8e395e4-eecd-4ea9-a0cc-22e3ce0b8c21",
                "id": "transparent-phone",
                "deepnote_cell_type": "markdown"
            }
        },
        {
            "cell_type": "code",
            "metadata": {
                "cell_id": "00009-7805e73d-b53a-4fe9-8c19-4cc5120e1945",
                "id": "chinese-manual",
                "deepnote_cell_type": "code"
            },
            "source": "",
            "execution_count": null,
            "outputs": []
        },
        {
            "cell_type": "markdown",
            "source": "Make a list of four animals, ordering them by size.",
            "metadata": {
                "cell_id": "00010-e80f9562-135c-421c-86dd-6edbbf6b8565",
                "id": "facial-triumph",
                "deepnote_cell_type": "markdown"
            }
        },
        {
            "cell_type": "code",
            "metadata": {
                "cell_id": "00011-c4292922-728b-48e5-b526-f1ca1f7583e8",
                "id": "according-homework",
                "deepnote_cell_type": "code"
            },
            "source": "",
            "execution_count": null,
            "outputs": []
        },
        {
            "cell_type": "markdown",
            "source": "Collect the set of all letters in your first name.",
            "metadata": {
                "cell_id": "00012-67d204e4-e78a-4e95-883b-b48f8ba4c787",
                "id": "western-gardening",
                "deepnote_cell_type": "markdown"
            }
        },
        {
            "cell_type": "code",
            "metadata": {
                "cell_id": "00013-2b5bf28a-d118-4c1b-8d57-c89e942424df",
                "id": "younger-playlist",
                "deepnote_cell_type": "code"
            },
            "source": "",
            "execution_count": null,
            "outputs": []
        },
        {
            "cell_type": "markdown",
            "source": "## Statistics Functions from Numpy\n\n**Numpy** is a Python package that, among other things, has many useful statistics **functions**.  These take any array-like object as an input and can be found inside the **np** library.  Sometimes, the same functionality can be found both as a Numpy function  and an array method, giving you the choice of how you'd like to use it.  \n\n\n```python\n>>> np.mean([1, 2, 3, 4])\n2.5\n\n>>> np.ptp([1, 2, 3, 4])\n3\n```\n\nA couple lists of functions in Numpy can be found here:\n  - Math:  https://docs.scipy.org/doc/numpy-1.13.0/reference/routines.math.html\n  - Statistics: https://docs.scipy.org/doc/numpy-1.13.0/reference/routines.statistics.html\n\n\nSome useful function names: mean, min, sum, max, var, std, p2p, median, nanmedian, nanmax, nanmean, nanmin\n\nWe'll see more later.",
            "metadata": {
                "cell_id": "00019-05fe77b5-7f9a-4d76-9a0d-331e064bab6c",
                "id": "modern-looking",
                "deepnote_cell_type": "markdown"
            }
        },
        {
            "cell_type": "markdown",
            "source": "**Exercise**: Using only Numpy functions, calculate the statistics on the following numbers:",
            "metadata": {
                "cell_id": "00020-4d7b06d3-6261-4efc-b7fe-b880c8430f68",
                "id": "decent-plaza",
                "deepnote_cell_type": "markdown"
            }
        },
        {
            "cell_type": "code",
            "metadata": {
                "cell_id": "00021-a3c4c364-8682-4130-a39c-7db20ef3e27d",
                "colab": {
                    "base_uri": "https://localhost:8080/",
                    "height": 34
                },
                "id": "associate-banana",
                "outputId": "5298642f-ebaa-49e1-b231-58bd624e5706",
                "deepnote_cell_type": "code"
            },
            "source": "data = [2, 8, 5, 9, 2, 4, 6]\ndata",
            "execution_count": null,
            "outputs": [
                {
                    "output_type": "execute_result",
                    "data": {
                        "text/plain": "[2, 8, 5, 9, 2, 4, 6]"
                    },
                    "metadata": {
                        "tags": []
                    },
                    "execution_count": 4
                }
            ]
        },
        {
            "cell_type": "markdown",
            "source": "What is the mean of the data?",
            "metadata": {
                "cell_id": "00022-ee7ff207-0545-4eeb-ad5e-db153f7ba426",
                "id": "residential-international",
                "deepnote_cell_type": "markdown"
            }
        },
        {
            "cell_type": "code",
            "metadata": {
                "cell_id": "00023-ec610c5e-cfe0-4942-a65f-a96ef7f520c6",
                "id": "running-thought",
                "deepnote_cell_type": "code"
            },
            "source": "",
            "execution_count": null,
            "outputs": ""
        },
        {
            "cell_type": "markdown",
            "source": "What is the sum of the data?",
            "metadata": {
                "cell_id": "00024-8b3f149b-5f05-4e2d-b4cc-d721f7766d0c",
                "id": "wrong-brooklyn",
                "deepnote_cell_type": "markdown"
            }
        },
        {
            "cell_type": "code",
            "metadata": {
                "cell_id": "00025-f737f1e8-12ad-401d-b38e-93338340dc2f",
                "id": "impressive-robertson",
                "deepnote_cell_type": "code"
            },
            "source": "",
            "execution_count": null,
            "outputs": ""
        },
        {
            "cell_type": "markdown",
            "source": "What is the minimum of the data?",
            "metadata": {
                "cell_id": "00026-7d263187-ae2d-41e8-8f47-bb6f4e8430ec",
                "id": "alternative-consequence",
                "deepnote_cell_type": "markdown"
            }
        },
        {
            "cell_type": "code",
            "metadata": {
                "cell_id": "00027-28c338ea-01be-4eba-acd6-ee4697122ba4",
                "id": "arabic-account",
                "deepnote_cell_type": "code"
            },
            "source": "",
            "execution_count": null,
            "outputs": ""
        },
        {
            "cell_type": "markdown",
            "source": "The variance?",
            "metadata": {
                "cell_id": "00028-74e78c20-be93-4831-b35e-d20c36c8a893",
                "id": "laden-congress",
                "deepnote_cell_type": "markdown"
            }
        },
        {
            "cell_type": "code",
            "metadata": {
                "cell_id": "00029-59c9a974-ee56-45f2-a22b-3139e3032436",
                "id": "fossil-repeat",
                "deepnote_cell_type": "code"
            },
            "source": "",
            "execution_count": null,
            "outputs": ""
        },
        {
            "cell_type": "markdown",
            "source": "The standard deviation?",
            "metadata": {
                "cell_id": "00030-12cf5b1d-803d-45f1-936c-a99001aa50c5",
                "id": "ruled-electron",
                "deepnote_cell_type": "markdown"
            }
        },
        {
            "cell_type": "code",
            "metadata": {
                "cell_id": "00031-05c9ffff-4f32-4157-881d-ca67a4f5505c",
                "id": "latin-packet",
                "deepnote_cell_type": "code"
            },
            "source": "",
            "execution_count": null,
            "outputs": ""
        },
        {
            "cell_type": "markdown",
            "source": "The difference between the data's maximum and minimum? (\"peak-to-peak\")",
            "metadata": {
                "cell_id": "00032-edd59ff2-fc88-4007-98d5-c573b0beb12f",
                "id": "worthy-arctic",
                "deepnote_cell_type": "markdown"
            }
        },
        {
            "cell_type": "code",
            "metadata": {
                "cell_id": "00033-21fffdd0-1a1b-4f43-aeff-343db420bbe2",
                "id": "indirect-wilson",
                "deepnote_cell_type": "code"
            },
            "source": "",
            "execution_count": null,
            "outputs": ""
        },
        {
            "cell_type": "markdown",
            "source": "The data's median?",
            "metadata": {
                "cell_id": "00034-c66751fc-3473-44c2-94bf-3f82dba35126",
                "id": "smoking-deadline",
                "deepnote_cell_type": "markdown"
            }
        },
        {
            "cell_type": "code",
            "metadata": {
                "cell_id": "00035-182bd439-ff2f-4dec-bee3-1774ac0b8b40",
                "id": "knowing-polls",
                "deepnote_cell_type": "code"
            },
            "source": "",
            "execution_count": null,
            "outputs": ""
        },
        {
            "cell_type": "markdown",
            "source": "(*Time Limit Exercise: 5 Minutes*) This data's median?  ",
            "metadata": {
                "cell_id": "00036-154b2a8e-dbc4-4842-ac2d-e61fa4c8f0e8",
                "id": "broke-murray",
                "deepnote_cell_type": "markdown"
            }
        },
        {
            "cell_type": "code",
            "metadata": {
                "cell_id": "00037-c7f7c8b1-4799-451f-9e99-ce2d41b1b054",
                "id": "essential-keeping",
                "deepnote_cell_type": "code"
            },
            "source": "data2 = [2, 6, 7, np.nan, 9, 4, np.nan]",
            "execution_count": null,
            "outputs": []
        },
        {
            "cell_type": "markdown",
            "source": "# Arrays in Numpy\n\n**Numpy** has a very useful data collection: the **array**.  Arrays are very similar to lists, with one exception:\n  - **all elements in the array must be of the same data type (e.g. int, float, bool)**\n  \nDespite that limitation, arrays are extremely useful for data analysis, and we'll be taking advantage of its many features throughout the course.  So let's start by learning how to easily generate different patterns of data with arrays!",
            "metadata": {
                "cell_id": "00022-99c77c15-d279-42d7-82b3-eea2f3f34a77",
                "deepnote_cell_type": "markdown"
            }
        },
        {
            "cell_type": "markdown",
            "source": "### Building Arrays\n\nLet's generate some arrays using Numpy functions!  Some commonly-used are examples are **arange()**, **linspace()**, **zeros()**, and the random number generation functions in **random**.\n\n| function | Purpose |  Example |\n| :-----------: | :-------------: | :-------------: |\n| **np.array()**  | Turns a list into an array |   np.array([2, 5, 3]) |\n| **np.arange()**                  | Makes an array with all the integers between two values | np.arange(2, 7) |\n| **np.linspace()**               | Makes a specific-length array |  np.linspace(2, 3, 10) |\n| **np.zeros()**                    | Makes an array of all zeros | np.zeros(5) |\n| **np.ones()**                     | Makes an array of all ones | np.ones(3) |\n| **np.random.random()** | Makes an array of random numbers | np.random.random(100) |\n| **np.random.randn()**     | Makes an array of normally-distributed random numbers | np.random.randn(100) |\n",
            "metadata": {
                "cell_id": "00023-a285c979-7223-466b-b106-91e62d3c17eb",
                "colab_type": "text",
                "id": "TiadUOo7Z8Y9",
                "deepnote_cell_type": "markdown"
            }
        },
        {
            "cell_type": "markdown",
            "source": "#### Exercises",
            "metadata": {
                "cell_id": "00024-08c4cebc-45c8-46b0-a6a6-92216b98ba66",
                "deepnote_cell_type": "markdown"
            }
        },
        {
            "cell_type": "markdown",
            "source": "Import the numpy package as `np`:",
            "metadata": {
                "cell_id": "00025-e80cc5a4-30fe-4865-9f2e-a25b5b8f7296",
                "deepnote_cell_type": "markdown"
            }
        },
        {
            "cell_type": "code",
            "metadata": {
                "cell_id": "00026-293917c4-be75-4b8f-b2ea-3deea85e1513",
                "deepnote_to_be_reexecuted": false,
                "execution_millis": 3,
                "execution_start": 1635926346808,
                "source_hash": "b623e53d",
                "deepnote_cell_type": "code"
            },
            "source": "",
            "execution_count": 0,
            "outputs": []
        },
        {
            "cell_type": "markdown",
            "source": "Turn this list into an array:",
            "metadata": {
                "cell_id": "00027-6d422651-6d50-4c05-96a3-0870f9849414",
                "deepnote_cell_type": "markdown"
            }
        },
        {
            "cell_type": "code",
            "metadata": {
                "cell_id": "00028-3be8e884-3465-44fb-8c40-f68b4ad6ec5e",
                "deepnote_to_be_reexecuted": false,
                "execution_millis": 11,
                "execution_start": 1628638573556,
                "source_hash": "78a15f0d",
                "deepnote_cell_type": "code"
            },
            "source": "[4, 7, 6, 1]",
            "execution_count": null,
            "outputs": [
                {
                    "output_type": "execute_result",
                    "execution_count": 3,
                    "data": {
                        "text/plain": "[4, 7, 6, 1]"
                    },
                    "metadata": {}
                }
            ]
        },
        {
            "cell_type": "markdown",
            "source": "Make an array containing the integers from 1 to 15.",
            "metadata": {
                "cell_id": "00029-e5092358-c76e-406d-ad6c-5a431dba0310",
                "colab_type": "text",
                "id": "yhtqOOlKZ8ZC",
                "deepnote_cell_type": "markdown"
            }
        },
        {
            "cell_type": "code",
            "metadata": {
                "cell_id": "00030-6c3db986-2958-465d-bdb1-11070acb209b",
                "colab": {},
                "colab_type": "code",
                "id": "lzwPrnZcZ8ZE",
                "deepnote_cell_type": "code"
            },
            "source": "",
            "execution_count": null,
            "outputs": []
        },
        {
            "cell_type": "markdown",
            "source": "Make an array of only 6 numbers between 1 and 10, evenly-spaced between them.",
            "metadata": {
                "cell_id": "00031-52ee635f-f1d5-454a-bd28-d7c51053188c",
                "deepnote_cell_type": "markdown"
            }
        },
        {
            "cell_type": "markdown",
            "source": "",
            "metadata": {
                "cell_id": "00032-b4f8251f-e83d-4a01-b012-735f63123e82",
                "deepnote_cell_type": "markdown"
            }
        },
        {
            "cell_type": "markdown",
            "source": "Make an array of the values from 2 and 6, spaced 0.5 from each other.",
            "metadata": {
                "tags": [],
                "cell_id": "00042-21a02a66-5405-41d0-b039-a81e9476392a",
                "deepnote_cell_type": "markdown"
            }
        },
        {
            "cell_type": "code",
            "metadata": {
                "tags": [],
                "cell_id": "00043-a7d7e5bd-3ccd-4300-bc9a-1603b0ca48e1",
                "deepnote_cell_type": "code"
            },
            "source": "",
            "execution_count": null,
            "outputs": []
        },
        {
            "cell_type": "markdown",
            "source": "Turn this list into a an array...",
            "metadata": {
                "cell_id": "00033-57810e2c-6331-4992-aad5-cc15c9a531fa",
                "deepnote_cell_type": "markdown"
            }
        },
        {
            "cell_type": "code",
            "metadata": {
                "cell_id": "00034-1d9926f3-790b-4bf4-bedb-d433a6d96073",
                "deepnote_cell_type": "code"
            },
            "source": "a = [True, False, False, True]",
            "execution_count": null,
            "outputs": []
        },
        {
            "cell_type": "markdown",
            "source": "Make an array containing 20 zeros.",
            "metadata": {
                "cell_id": "00035-68363c24-99ad-49c6-ac49-ea0b5cd52222",
                "colab_type": "text",
                "id": "15ZzOLSPZ8ZI",
                "deepnote_cell_type": "markdown"
            }
        },
        {
            "cell_type": "code",
            "metadata": {
                "cell_id": "00036-eac2d039-e46b-4a8a-8eb6-6936e8e762a3",
                "colab": {},
                "colab_type": "code",
                "id": "eNGUx1K0Z8ZI",
                "deepnote_cell_type": "code"
            },
            "source": "",
            "execution_count": null,
            "outputs": []
        },
        {
            "cell_type": "markdown",
            "source": "Make an array contain 20 ones!",
            "metadata": {
                "cell_id": "00037-3ddedebe-298f-4305-aed4-c0ba6499cf9d",
                "colab_type": "text",
                "id": "TjRMDeh1Z8ZL",
                "deepnote_cell_type": "markdown"
            }
        },
        {
            "cell_type": "code",
            "metadata": {
                "cell_id": "00038-8ad22f48-7022-4067-b158-5134164e04aa",
                "colab": {},
                "colab_type": "code",
                "id": "J3Y7BeuYZ8ZM",
                "deepnote_cell_type": "code"
            },
            "source": "",
            "execution_count": null,
            "outputs": []
        },
        {
            "cell_type": "markdown",
            "source": "How about an array of the 10 values between 100 and 1000?",
            "metadata": {
                "cell_id": "00039-80ae3ba1-ea0a-4811-ad25-3f37c5b5fbcf",
                "deepnote_cell_type": "markdown"
            }
        },
        {
            "cell_type": "code",
            "metadata": {
                "cell_id": "00040-bd3ac645-1581-46df-b77a-26b746b08b46",
                "deepnote_cell_type": "code"
            },
            "source": "",
            "execution_count": null,
            "outputs": []
        },
        {
            "cell_type": "markdown",
            "source": "Generate an array of 10 random numbers",
            "metadata": {
                "cell_id": "00041-49edd086-6d0c-4d30-b0f6-8455f08ea0ad",
                "colab_type": "text",
                "id": "dvzWUJS_Z8ZO",
                "deepnote_cell_type": "markdown"
            }
        },
        {
            "cell_type": "code",
            "metadata": {
                "cell_id": "00042-7524becf-99c3-4b66-8bbe-e4f81e3aae63",
                "colab": {},
                "colab_type": "code",
                "id": "_W3Xjv_BZ8ZP",
                "deepnote_cell_type": "code"
            },
            "source": "",
            "execution_count": null,
            "outputs": []
        },
        {
            "cell_type": "markdown",
            "source": "### Combining array generation with statistics functions\n\nThese exercises all involve two steps:\n  1. Make the data\n  2. Calculate something on the data\n\nfor example:\n```python\nnp.mean(np.arange(1, 10))  # the mean of the integers from 1 to 9\n```",
            "metadata": {
                "cell_id": "00043-b8b1c62b-86db-44e3-9ebf-4fa8a5b4211a",
                "deepnote_cell_type": "markdown"
            }
        },
        {
            "cell_type": "markdown",
            "source": "#### Exercises",
            "metadata": {
                "cell_id": "00044-da49bd14-9918-4879-8201-21fa09190814",
                "deepnote_cell_type": "markdown"
            }
        },
        {
            "cell_type": "markdown",
            "source": "What is the standard deviation of the integers between 2 and 20?",
            "metadata": {
                "cell_id": "00045-1de88239-5c67-44ff-a64a-82882d87d6fb",
                "deepnote_cell_type": "markdown"
            }
        },
        {
            "cell_type": "code",
            "metadata": {
                "cell_id": "00046-070a112b-f48a-4afb-ad7c-1dccce3cf66f",
                "deepnote_cell_type": "code"
            },
            "source": "",
            "execution_count": null,
            "outputs": []
        },
        {
            "cell_type": "markdown",
            "source": "What is the standard deviation of the numbers generated from the np.random.randn() function?  ",
            "metadata": {
                "cell_id": "00047-2a8ac491-a0e2-4b2f-adbd-7f1999d7b24b",
                "deepnote_cell_type": "markdown"
            }
        },
        {
            "cell_type": "code",
            "metadata": {
                "cell_id": "00048-a3dbc532-6bea-4cd7-b75a-a9cc517ba463",
                "deepnote_cell_type": "code"
            },
            "source": "",
            "execution_count": null,
            "outputs": []
        },
        {
            "cell_type": "markdown",
            "source": "What is the sum of an array of 100 ones?",
            "metadata": {
                "cell_id": "00049-50e9ef97-b422-4c37-ac22-785a1b1f719a",
                "deepnote_cell_type": "markdown"
            }
        },
        {
            "cell_type": "code",
            "metadata": {
                "cell_id": "00050-6766af38-1c0a-43a2-983c-d420c3eec973",
                "deepnote_cell_type": "code"
            },
            "source": "",
            "execution_count": null,
            "outputs": []
        },
        {
            "cell_type": "markdown",
            "source": "What is the sum of an array of 100 zeros?",
            "metadata": {
                "cell_id": "00051-b10aaab1-79d7-42ce-ac05-3b1a54d11a53",
                "deepnote_cell_type": "markdown"
            }
        },
        {
            "cell_type": "code",
            "metadata": {
                "cell_id": "00052-771ec6ac-a47c-41ac-8043-09e0a356228f",
                "deepnote_cell_type": "code"
            },
            "source": "",
            "execution_count": null,
            "outputs": []
        },
        {
            "cell_type": "markdown",
            "source": "### Array Broadcasting: Combing Arrays with Operators\n\nRemember our math operators?  We can use them on arrays, too!\n\n|Assign to a Variable, | | Add,  | Subract, | Multiply, | Divide, | Power, | Integer Divide, | Remainder after Division | \n|  :---------------:  | :-: |:---:| :-----: | :------: | :----: | :---: | :------------: | :----------------------: |\n|         =           | | +   |    -    |    *     |   /    |   **  |       //       |           %              |\n\nNumpy also has functions that can transform each value in an array using a math operation.  For example: `np.log()`, `np.abs()`, `np.sin()`, `np.cos()`, `np.tan()`, `np.sqrt()`",
            "metadata": {
                "tags": [],
                "cell_id": "00064-a115fb36-fc79-434f-973a-ab79438ed4a7",
                "deepnote_cell_type": "markdown"
            }
        },
        {
            "cell_type": "markdown",
            "source": "**Exercises**",
            "metadata": {
                "tags": [],
                "cell_id": "00065-d6303712-f2ac-41d9-a170-fccdab1b21ff",
                "deepnote_cell_type": "markdown"
            }
        },
        {
            "cell_type": "markdown",
            "source": "Add 10 to all of the numbers below",
            "metadata": {
                "tags": [],
                "cell_id": "00066-19e165c2-ab50-42fc-8c51-0729d3adb3eb",
                "deepnote_cell_type": "markdown"
            }
        },
        {
            "cell_type": "code",
            "metadata": {
                "tags": [],
                "cell_id": "00067-49e6713b-5151-4335-a485-a810d8e13ec0",
                "deepnote_cell_type": "code"
            },
            "source": "",
            "execution_count": null,
            "outputs": ""
        },
        {
            "cell_type": "markdown",
            "source": "Multiply everything in the array below by 10",
            "metadata": {
                "tags": [],
                "cell_id": "00068-a139d719-bc2b-4ddb-bfc3-ca4abee1d21e",
                "deepnote_cell_type": "markdown"
            }
        },
        {
            "cell_type": "code",
            "metadata": {
                "tags": [],
                "cell_id": "00068-768889a0-12a8-4a10-8dac-19fa1cf275a2",
                "deepnote_cell_type": "code"
            },
            "source": "",
            "execution_count": null,
            "outputs": ""
        },
        {
            "cell_type": "markdown",
            "source": "Multiply all the numbers from 1 to 100 by 1000",
            "metadata": {
                "tags": [],
                "cell_id": "00070-ee856bf5-4c82-476f-af9c-0cd7cf65cdf8",
                "deepnote_cell_type": "markdown"
            }
        },
        {
            "cell_type": "code",
            "metadata": {
                "tags": [],
                "cell_id": "00071-6a611368-9e05-4c38-a0fa-2c529b5d4878",
                "deepnote_cell_type": "code"
            },
            "source": "",
            "execution_count": null,
            "outputs": ""
        },
        {
            "cell_type": "markdown",
            "source": "Calculate the absolute value of the following data",
            "metadata": {
                "tags": [],
                "cell_id": "00072-88f9ebdd-537b-4ccf-834e-4112b683c7a7",
                "deepnote_cell_type": "markdown"
            }
        },
        {
            "cell_type": "code",
            "metadata": {
                "tags": [],
                "cell_id": "00073-a0a636ef-6d63-4dde-b5f7-ebb6f484fa37",
                "deepnote_cell_type": "code"
            },
            "source": "np.array([-5, 7, -2, 4, -10])",
            "execution_count": null,
            "outputs": []
        },
        {
            "cell_type": "markdown",
            "source": "Calculate the cosine of all integers between 0 and 6",
            "metadata": {
                "tags": [],
                "cell_id": "00072-a29d31d8-2e5d-4910-822b-63712254dca5",
                "deepnote_to_be_reexecuted": false,
                "source_hash": "a258c5fb",
                "execution_start": 1635926796787,
                "execution_millis": 19,
                "deepnote_cell_type": "markdown"
            }
        },
        {
            "cell_type": "code",
            "metadata": {
                "tags": [],
                "cell_id": "00073-420ea26d-8f8e-46a0-8a9d-3860e7281424",
                "deepnote_cell_type": "code"
            },
            "source": "",
            "execution_count": null,
            "outputs": ""
        },
        {
            "cell_type": "markdown",
            "source": "Calculate the square root of 100 normally-distributed random numbers",
            "metadata": {
                "tags": [],
                "cell_id": "00074-44e2f406-b661-4c81-8d0e-f67a08c16de1",
                "deepnote_cell_type": "markdown"
            }
        },
        {
            "cell_type": "code",
            "metadata": {
                "tags": [],
                "cell_id": "00075-1d931b59-9045-4bbf-b51d-05729b2c2335",
                "deepnote_cell_type": "code"
            },
            "source": "",
            "execution_count": null,
            "outputs": ""
        },
        {
            "cell_type": "markdown",
            "source": "<a style='text-decoration:none;line-height:16px;display:flex;color:#5B5B62;padding:10px;justify-content:end;' href='https://deepnote.com?utm_source=created-in-deepnote-cell&projectId=5f82c9ae-724d-4175-af3a-f3de86574cfe' target=\"_blank\">\n<img alt='Created in deepnote.com' style='display:inline;max-height:16px;margin:0px;margin-right:7.5px;' src='data:image/svg+xml;base64,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' > </img>\nCreated in <span style='font-weight:600;margin-left:4px;'>Deepnote</span></a>",
            "metadata": {
                "tags": [],
                "created_in_deepnote_cell": true,
                "deepnote_cell_type": "markdown"
            }
        }
    ],
    "nbformat": 4,
    "nbformat_minor": 5,
    "metadata": {
        "colab": {
            "name": "2 Numpy Stats.ipynb",
            "provenance": []
        },
        "deepnote": {},
        "deepnote_execution_queue": [],
        "deepnote_notebook_id": "6c2c8942-2c7c-4ec3-8ced-61fa0f3602f8",
        "kernelspec": {
            "display_name": "Python 3",
            "language": "python",
            "name": "python3"
        },
        "language_info": {
            "codemirror_mode": {
                "name": "ipython",
                "version": 3
            },
            "file_extension": ".py",
            "mimetype": "text/x-python",
            "name": "python",
            "nbconvert_exporter": "python",
            "pygments_lexer": "ipython3",
            "version": "3.8.8"
        }
    }
}